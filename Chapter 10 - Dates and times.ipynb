{
 "cells": [
  {
   "cell_type": "markdown",
   "id": "b90d0808-d671-43c6-88b9-709ae23b18e6",
   "metadata": {},
   "source": [
    "# 10. Dates and times"
   ]
  },
  {
   "cell_type": "markdown",
   "id": "c9d07d20-ba80-4eb6-98d9-ff24dde0e5e6",
   "metadata": {},
   "source": [
    "## Exercise 39 - Short, medium, and long taxi rides"
   ]
  },
  {
   "cell_type": "code",
   "execution_count": 519,
   "id": "726ce8ec-a36c-4a49-8c16-0ba159c5a4ea",
   "metadata": {},
   "outputs": [
    {
     "data": {
      "text/html": [
       "<div>\n",
       "<style scoped>\n",
       "    .dataframe tbody tr th:only-of-type {\n",
       "        vertical-align: middle;\n",
       "    }\n",
       "\n",
       "    .dataframe tbody tr th {\n",
       "        vertical-align: top;\n",
       "    }\n",
       "\n",
       "    .dataframe thead th {\n",
       "        text-align: right;\n",
       "    }\n",
       "</style>\n",
       "<table border=\"1\" class=\"dataframe\">\n",
       "  <thead>\n",
       "    <tr style=\"text-align: right;\">\n",
       "      <th></th>\n",
       "      <th>tpep_pickup_datetime</th>\n",
       "      <th>tpep_dropoff_datetime</th>\n",
       "      <th>passenger_count</th>\n",
       "      <th>trip_distance</th>\n",
       "      <th>total_amount</th>\n",
       "    </tr>\n",
       "  </thead>\n",
       "  <tbody>\n",
       "    <tr>\n",
       "      <th>0</th>\n",
       "      <td>2019-07-01 00:51:04</td>\n",
       "      <td>2019-07-01 00:51:33</td>\n",
       "      <td>1.00</td>\n",
       "      <td>0.00</td>\n",
       "      <td>4.94</td>\n",
       "    </tr>\n",
       "    <tr>\n",
       "      <th>1</th>\n",
       "      <td>2019-07-01 00:46:04</td>\n",
       "      <td>2019-07-01 01:05:46</td>\n",
       "      <td>1.00</td>\n",
       "      <td>4.16</td>\n",
       "      <td>20.30</td>\n",
       "    </tr>\n",
       "    <tr>\n",
       "      <th>2</th>\n",
       "      <td>2019-07-01 00:25:09</td>\n",
       "      <td>2019-07-01 01:00:56</td>\n",
       "      <td>1.00</td>\n",
       "      <td>18.80</td>\n",
       "      <td>70.67</td>\n",
       "    </tr>\n",
       "    <tr>\n",
       "      <th>3</th>\n",
       "      <td>2019-07-01 00:33:32</td>\n",
       "      <td>2019-07-01 01:15:27</td>\n",
       "      <td>1.00</td>\n",
       "      <td>18.46</td>\n",
       "      <td>66.36</td>\n",
       "    </tr>\n",
       "    <tr>\n",
       "      <th>4</th>\n",
       "      <td>2019-07-01 00:00:55</td>\n",
       "      <td>2019-07-01 00:13:05</td>\n",
       "      <td>0.00</td>\n",
       "      <td>1.70</td>\n",
       "      <td>15.30</td>\n",
       "    </tr>\n",
       "  </tbody>\n",
       "</table>\n",
       "</div>"
      ],
      "text/plain": [
       "  tpep_pickup_datetime tpep_dropoff_datetime  passenger_count  trip_distance  \\\n",
       "0  2019-07-01 00:51:04   2019-07-01 00:51:33             1.00           0.00   \n",
       "1  2019-07-01 00:46:04   2019-07-01 01:05:46             1.00           4.16   \n",
       "2  2019-07-01 00:25:09   2019-07-01 01:00:56             1.00          18.80   \n",
       "3  2019-07-01 00:33:32   2019-07-01 01:15:27             1.00          18.46   \n",
       "4  2019-07-01 00:00:55   2019-07-01 00:13:05             0.00           1.70   \n",
       "\n",
       "   total_amount  \n",
       "0          4.94  \n",
       "1         20.30  \n",
       "2         70.67  \n",
       "3         66.36  \n",
       "4         15.30  "
      ]
     },
     "execution_count": 519,
     "metadata": {},
     "output_type": "execute_result"
    }
   ],
   "source": [
    "# read in CSV, specify columns, parse date columns\n",
    "july_19 = pd.read_csv(root_path + 'nyc_taxi_2019-07.csv',\n",
    "                     usecols=['tpep_pickup_datetime', 'tpep_dropoff_datetime', 'passenger_count', 'trip_distance', 'total_amount'],\n",
    "                     parse_dates = ['tpep_pickup_datetime', 'tpep_dropoff_datetime',])\n",
    "\n",
    "july_19.head()"
   ]
  },
  {
   "cell_type": "code",
   "execution_count": 520,
   "id": "b649da97-d136-4b30-9d3d-bec44b1fb50d",
   "metadata": {},
   "outputs": [
    {
     "data": {
      "text/html": [
       "<div>\n",
       "<style scoped>\n",
       "    .dataframe tbody tr th:only-of-type {\n",
       "        vertical-align: middle;\n",
       "    }\n",
       "\n",
       "    .dataframe tbody tr th {\n",
       "        vertical-align: top;\n",
       "    }\n",
       "\n",
       "    .dataframe thead th {\n",
       "        text-align: right;\n",
       "    }\n",
       "</style>\n",
       "<table border=\"1\" class=\"dataframe\">\n",
       "  <thead>\n",
       "    <tr style=\"text-align: right;\">\n",
       "      <th></th>\n",
       "      <th>tpep_pickup_datetime</th>\n",
       "      <th>tpep_dropoff_datetime</th>\n",
       "      <th>passenger_count</th>\n",
       "      <th>trip_distance</th>\n",
       "      <th>total_amount</th>\n",
       "      <th>trip_time</th>\n",
       "    </tr>\n",
       "  </thead>\n",
       "  <tbody>\n",
       "    <tr>\n",
       "      <th>0</th>\n",
       "      <td>2019-07-01 00:51:04</td>\n",
       "      <td>2019-07-01 00:51:33</td>\n",
       "      <td>1.00</td>\n",
       "      <td>0.00</td>\n",
       "      <td>4.94</td>\n",
       "      <td>0 days 00:00:29</td>\n",
       "    </tr>\n",
       "    <tr>\n",
       "      <th>1</th>\n",
       "      <td>2019-07-01 00:46:04</td>\n",
       "      <td>2019-07-01 01:05:46</td>\n",
       "      <td>1.00</td>\n",
       "      <td>4.16</td>\n",
       "      <td>20.30</td>\n",
       "      <td>0 days 00:19:42</td>\n",
       "    </tr>\n",
       "    <tr>\n",
       "      <th>2</th>\n",
       "      <td>2019-07-01 00:25:09</td>\n",
       "      <td>2019-07-01 01:00:56</td>\n",
       "      <td>1.00</td>\n",
       "      <td>18.80</td>\n",
       "      <td>70.67</td>\n",
       "      <td>0 days 00:35:47</td>\n",
       "    </tr>\n",
       "    <tr>\n",
       "      <th>3</th>\n",
       "      <td>2019-07-01 00:33:32</td>\n",
       "      <td>2019-07-01 01:15:27</td>\n",
       "      <td>1.00</td>\n",
       "      <td>18.46</td>\n",
       "      <td>66.36</td>\n",
       "      <td>0 days 00:41:55</td>\n",
       "    </tr>\n",
       "    <tr>\n",
       "      <th>4</th>\n",
       "      <td>2019-07-01 00:00:55</td>\n",
       "      <td>2019-07-01 00:13:05</td>\n",
       "      <td>0.00</td>\n",
       "      <td>1.70</td>\n",
       "      <td>15.30</td>\n",
       "      <td>0 days 00:12:10</td>\n",
       "    </tr>\n",
       "  </tbody>\n",
       "</table>\n",
       "</div>"
      ],
      "text/plain": [
       "  tpep_pickup_datetime tpep_dropoff_datetime  passenger_count  trip_distance  \\\n",
       "0  2019-07-01 00:51:04   2019-07-01 00:51:33             1.00           0.00   \n",
       "1  2019-07-01 00:46:04   2019-07-01 01:05:46             1.00           4.16   \n",
       "2  2019-07-01 00:25:09   2019-07-01 01:00:56             1.00          18.80   \n",
       "3  2019-07-01 00:33:32   2019-07-01 01:15:27             1.00          18.46   \n",
       "4  2019-07-01 00:00:55   2019-07-01 00:13:05             0.00           1.70   \n",
       "\n",
       "   total_amount       trip_time  \n",
       "0          4.94 0 days 00:00:29  \n",
       "1         20.30 0 days 00:19:42  \n",
       "2         70.67 0 days 00:35:47  \n",
       "3         66.36 0 days 00:41:55  \n",
       "4         15.30 0 days 00:12:10  "
      ]
     },
     "execution_count": 520,
     "metadata": {},
     "output_type": "execute_result"
    }
   ],
   "source": [
    "# create \"trip_time\", amount of time each taxi ride took as timedelta\n",
    "july_19['trip_time'] = july_19['tpep_dropoff_datetime'] - july_19['tpep_pickup_datetime']\n",
    "\n",
    "july_19.head()"
   ]
  },
  {
   "cell_type": "code",
   "execution_count": 521,
   "id": "fe25cd37-c6cf-44e6-aa74-5dab09deed46",
   "metadata": {},
   "outputs": [
    {
     "data": {
      "text/plain": [
       "70212"
      ]
     },
     "execution_count": 521,
     "metadata": {},
     "output_type": "execute_result"
    }
   ],
   "source": [
    "# number and % of rides taking less than 1 minute\n",
    "july_19.loc[july_19['trip_time'] < '1 minute', 'trip_time'].count()"
   ]
  },
  {
   "cell_type": "code",
   "execution_count": 522,
   "id": "9c629e6e-e06b-4b1e-948f-41d12d0058b0",
   "metadata": {},
   "outputs": [
    {
     "data": {
      "text/plain": [
       "1.1126361022936828"
      ]
     },
     "execution_count": 522,
     "metadata": {},
     "output_type": "execute_result"
    }
   ],
   "source": [
    "# % less than 1 minute\n",
    "july_19.loc[july_19['trip_time'] < '1 minute', 'trip_time'].count() * 100 / len(july_19)"
   ]
  },
  {
   "cell_type": "code",
   "execution_count": 523,
   "id": "c3660c50-183e-4514-adab-b0d5afb4b7aa",
   "metadata": {},
   "outputs": [
    {
     "data": {
      "text/plain": [
       "30.245995073198202"
      ]
     },
     "execution_count": 523,
     "metadata": {},
     "output_type": "execute_result"
    }
   ],
   "source": [
    "# average fare for such short trips\n",
    "july_19.loc[july_19['trip_time'] <= '1 minute', 'total_amount'].mean()"
   ]
  },
  {
   "cell_type": "code",
   "execution_count": 524,
   "id": "b812875a-7701-4ee1-ae34-39f0e2faf528",
   "metadata": {},
   "outputs": [
    {
     "data": {
      "text/plain": [
       "16698"
      ]
     },
     "execution_count": 524,
     "metadata": {},
     "output_type": "execute_result"
    }
   ],
   "source": [
    "# number and percentage of rides taking more than 10 hours\n",
    "july_19.loc[july_19['trip_time'] >= '10 hours', 'trip_time'].count()"
   ]
  },
  {
   "cell_type": "code",
   "execution_count": 525,
   "id": "c29626e6-c5b4-4e6b-b5e3-cb4e1d248197",
   "metadata": {},
   "outputs": [
    {
     "data": {
      "text/plain": [
       "0.2646100045020782"
      ]
     },
     "execution_count": 525,
     "metadata": {},
     "output_type": "execute_result"
    }
   ],
   "source": [
    "# % more than 10 hours\n",
    "july_19.loc[july_19['trip_time'] >= '10 hours', 'trip_time'].count() * 100 / len(july_19)"
   ]
  },
  {
   "cell_type": "code",
   "execution_count": 526,
   "id": "d32d23c6-ac68-44eb-a387-156f70d9a04b",
   "metadata": {},
   "outputs": [
    {
     "data": {
      "text/html": [
       "<div>\n",
       "<style scoped>\n",
       "    .dataframe tbody tr th:only-of-type {\n",
       "        vertical-align: middle;\n",
       "    }\n",
       "\n",
       "    .dataframe tbody tr th {\n",
       "        vertical-align: top;\n",
       "    }\n",
       "\n",
       "    .dataframe thead th {\n",
       "        text-align: right;\n",
       "    }\n",
       "</style>\n",
       "<table border=\"1\" class=\"dataframe\">\n",
       "  <thead>\n",
       "    <tr style=\"text-align: right;\">\n",
       "      <th></th>\n",
       "      <th>tpep_pickup_datetime</th>\n",
       "      <th>tpep_dropoff_datetime</th>\n",
       "      <th>passenger_count</th>\n",
       "      <th>trip_distance</th>\n",
       "      <th>total_amount</th>\n",
       "      <th>trip_time</th>\n",
       "      <th>trip_time_group</th>\n",
       "    </tr>\n",
       "  </thead>\n",
       "  <tbody>\n",
       "    <tr>\n",
       "      <th>0</th>\n",
       "      <td>2019-07-01 00:51:04</td>\n",
       "      <td>2019-07-01 00:51:33</td>\n",
       "      <td>1.00</td>\n",
       "      <td>0.00</td>\n",
       "      <td>4.94</td>\n",
       "      <td>0 days 00:00:29</td>\n",
       "      <td>short</td>\n",
       "    </tr>\n",
       "    <tr>\n",
       "      <th>1</th>\n",
       "      <td>2019-07-01 00:46:04</td>\n",
       "      <td>2019-07-01 01:05:46</td>\n",
       "      <td>1.00</td>\n",
       "      <td>4.16</td>\n",
       "      <td>20.30</td>\n",
       "      <td>0 days 00:19:42</td>\n",
       "      <td>medium</td>\n",
       "    </tr>\n",
       "    <tr>\n",
       "      <th>2</th>\n",
       "      <td>2019-07-01 00:25:09</td>\n",
       "      <td>2019-07-01 01:00:56</td>\n",
       "      <td>1.00</td>\n",
       "      <td>18.80</td>\n",
       "      <td>70.67</td>\n",
       "      <td>0 days 00:35:47</td>\n",
       "      <td>medium</td>\n",
       "    </tr>\n",
       "    <tr>\n",
       "      <th>3</th>\n",
       "      <td>2019-07-01 00:33:32</td>\n",
       "      <td>2019-07-01 01:15:27</td>\n",
       "      <td>1.00</td>\n",
       "      <td>18.46</td>\n",
       "      <td>66.36</td>\n",
       "      <td>0 days 00:41:55</td>\n",
       "      <td>medium</td>\n",
       "    </tr>\n",
       "    <tr>\n",
       "      <th>4</th>\n",
       "      <td>2019-07-01 00:00:55</td>\n",
       "      <td>2019-07-01 00:13:05</td>\n",
       "      <td>0.00</td>\n",
       "      <td>1.70</td>\n",
       "      <td>15.30</td>\n",
       "      <td>0 days 00:12:10</td>\n",
       "      <td>medium</td>\n",
       "    </tr>\n",
       "  </tbody>\n",
       "</table>\n",
       "</div>"
      ],
      "text/plain": [
       "  tpep_pickup_datetime tpep_dropoff_datetime  passenger_count  trip_distance  \\\n",
       "0  2019-07-01 00:51:04   2019-07-01 00:51:33             1.00           0.00   \n",
       "1  2019-07-01 00:46:04   2019-07-01 01:05:46             1.00           4.16   \n",
       "2  2019-07-01 00:25:09   2019-07-01 01:00:56             1.00          18.80   \n",
       "3  2019-07-01 00:33:32   2019-07-01 01:15:27             1.00          18.46   \n",
       "4  2019-07-01 00:00:55   2019-07-01 00:13:05             0.00           1.70   \n",
       "\n",
       "   total_amount       trip_time trip_time_group  \n",
       "0          4.94 0 days 00:00:29           short  \n",
       "1         20.30 0 days 00:19:42          medium  \n",
       "2         70.67 0 days 00:35:47          medium  \n",
       "3         66.36 0 days 00:41:55          medium  \n",
       "4         15.30 0 days 00:12:10          medium  "
      ]
     },
     "execution_count": 526,
     "metadata": {},
     "output_type": "execute_result"
    }
   ],
   "source": [
    "# create new column, \"trip_time_group\" with categories\n",
    "# short (< 10 minutes)\n",
    "# medium (>= 10 minutes and 1 hour)\n",
    "# long (> 1 hours)\n",
    "\n",
    "short_seconds = 10 * 60\n",
    "medium_seconds = 60 * 60\n",
    "\n",
    "def trip_category(s):\n",
    "    if s.seconds < short_seconds:\n",
    "        return 'short'\n",
    "    elif s.seconds >= short_seconds and s.seconds < medium_seconds:\n",
    "        return 'medium'\n",
    "    else:\n",
    "        return 'long'\n",
    "\n",
    "july_19['trip_time_group'] = july_19['trip_time'].apply(trip_category)\n",
    "july_19.head()"
   ]
  },
  {
   "cell_type": "code",
   "execution_count": 527,
   "id": "217b5ec9-2300-4e38-8751-59b085e42864",
   "metadata": {},
   "outputs": [
    {
     "data": {
      "text/plain": [
       "trip_time_group\n",
       "medium   0.55\n",
       "short    0.43\n",
       "long     0.01\n",
       "Name: proportion, dtype: float64"
      ]
     },
     "execution_count": 527,
     "metadata": {},
     "output_type": "execute_result"
    }
   ],
   "source": [
    "# proportion of rides in each group\n",
    "july_19['trip_time_group'].value_counts(normalize=True)"
   ]
  },
  {
   "cell_type": "code",
   "execution_count": 528,
   "id": "b01ba9f2-3e6e-4b5a-b60d-0fb5a44ee361",
   "metadata": {},
   "outputs": [
    {
     "data": {
      "text/plain": [
       "trip_time_group\n",
       "long     1.70\n",
       "medium   1.59\n",
       "short    1.55\n",
       "Name: passenger_count, dtype: float64"
      ]
     },
     "execution_count": 528,
     "metadata": {},
     "output_type": "execute_result"
    }
   ],
   "source": [
    "# average num passengers for each group\n",
    "july_19.groupby('trip_time_group')['passenger_count'].mean()"
   ]
  },
  {
   "cell_type": "markdown",
   "id": "180c3391-a94e-4c6b-a09f-3374e0f8d664",
   "metadata": {},
   "source": [
    "### Exercise 39b"
   ]
  },
  {
   "cell_type": "code",
   "execution_count": 530,
   "id": "e01077a8-ce31-473f-ac1d-e42d7f1cecfb",
   "metadata": {},
   "outputs": [
    {
     "data": {
      "text/html": [
       "<div>\n",
       "<style scoped>\n",
       "    .dataframe tbody tr th:only-of-type {\n",
       "        vertical-align: middle;\n",
       "    }\n",
       "\n",
       "    .dataframe tbody tr th {\n",
       "        vertical-align: top;\n",
       "    }\n",
       "\n",
       "    .dataframe thead th {\n",
       "        text-align: right;\n",
       "    }\n",
       "</style>\n",
       "<table border=\"1\" class=\"dataframe\">\n",
       "  <thead>\n",
       "    <tr style=\"text-align: right;\">\n",
       "      <th></th>\n",
       "      <th>tpep_pickup_datetime</th>\n",
       "      <th>tpep_dropoff_datetime</th>\n",
       "      <th>passenger_count</th>\n",
       "      <th>trip_distance</th>\n",
       "      <th>total_amount</th>\n",
       "      <th>trip_time</th>\n",
       "      <th>trip_time_group</th>\n",
       "    </tr>\n",
       "  </thead>\n",
       "  <tbody>\n",
       "    <tr>\n",
       "      <th>184</th>\n",
       "      <td>2019-06-30 14:54:49</td>\n",
       "      <td>2019-06-30 15:04:50</td>\n",
       "      <td>1.00</td>\n",
       "      <td>1.71</td>\n",
       "      <td>13.30</td>\n",
       "      <td>0 days 00:10:01</td>\n",
       "      <td>medium</td>\n",
       "    </tr>\n",
       "    <tr>\n",
       "      <th>185</th>\n",
       "      <td>2019-06-30 15:19:34</td>\n",
       "      <td>2019-06-30 15:37:32</td>\n",
       "      <td>1.00</td>\n",
       "      <td>7.05</td>\n",
       "      <td>26.30</td>\n",
       "      <td>0 days 00:17:58</td>\n",
       "      <td>medium</td>\n",
       "    </tr>\n",
       "    <tr>\n",
       "      <th>206</th>\n",
       "      <td>2019-06-30 23:41:12</td>\n",
       "      <td>2019-06-30 23:48:54</td>\n",
       "      <td>1.00</td>\n",
       "      <td>1.00</td>\n",
       "      <td>10.30</td>\n",
       "      <td>0 days 00:07:42</td>\n",
       "      <td>short</td>\n",
       "    </tr>\n",
       "    <tr>\n",
       "      <th>274</th>\n",
       "      <td>2019-06-30 23:52:06</td>\n",
       "      <td>2019-07-01 00:26:02</td>\n",
       "      <td>1.00</td>\n",
       "      <td>10.83</td>\n",
       "      <td>39.90</td>\n",
       "      <td>0 days 00:33:56</td>\n",
       "      <td>medium</td>\n",
       "    </tr>\n",
       "    <tr>\n",
       "      <th>421</th>\n",
       "      <td>2019-06-30 23:56:48</td>\n",
       "      <td>2019-07-01 00:03:34</td>\n",
       "      <td>1.00</td>\n",
       "      <td>1.57</td>\n",
       "      <td>10.30</td>\n",
       "      <td>0 days 00:06:46</td>\n",
       "      <td>short</td>\n",
       "    </tr>\n",
       "    <tr>\n",
       "      <th>...</th>\n",
       "      <td>...</td>\n",
       "      <td>...</td>\n",
       "      <td>...</td>\n",
       "      <td>...</td>\n",
       "      <td>...</td>\n",
       "      <td>...</td>\n",
       "      <td>...</td>\n",
       "    </tr>\n",
       "    <tr>\n",
       "      <th>6276049</th>\n",
       "      <td>2019-07-31 23:59:22</td>\n",
       "      <td>2019-08-01 00:04:29</td>\n",
       "      <td>4.00</td>\n",
       "      <td>0.82</td>\n",
       "      <td>9.30</td>\n",
       "      <td>0 days 00:05:07</td>\n",
       "      <td>short</td>\n",
       "    </tr>\n",
       "    <tr>\n",
       "      <th>6276069</th>\n",
       "      <td>2019-08-01 00:04:50</td>\n",
       "      <td>2019-08-01 00:13:48</td>\n",
       "      <td>1.00</td>\n",
       "      <td>2.46</td>\n",
       "      <td>12.80</td>\n",
       "      <td>0 days 00:08:58</td>\n",
       "      <td>short</td>\n",
       "    </tr>\n",
       "    <tr>\n",
       "      <th>6276128</th>\n",
       "      <td>2019-07-31 23:59:22</td>\n",
       "      <td>2019-08-01 00:05:27</td>\n",
       "      <td>1.00</td>\n",
       "      <td>0.80</td>\n",
       "      <td>9.80</td>\n",
       "      <td>0 days 00:06:05</td>\n",
       "      <td>short</td>\n",
       "    </tr>\n",
       "    <tr>\n",
       "      <th>6276258</th>\n",
       "      <td>2019-07-31 23:59:05</td>\n",
       "      <td>2019-08-01 00:07:34</td>\n",
       "      <td>1.00</td>\n",
       "      <td>1.90</td>\n",
       "      <td>14.75</td>\n",
       "      <td>0 days 00:08:29</td>\n",
       "      <td>short</td>\n",
       "    </tr>\n",
       "    <tr>\n",
       "      <th>6276300</th>\n",
       "      <td>2019-08-01 00:00:34</td>\n",
       "      <td>2019-08-02 00:00:00</td>\n",
       "      <td>2.00</td>\n",
       "      <td>9.40</td>\n",
       "      <td>31.68</td>\n",
       "      <td>0 days 23:59:26</td>\n",
       "      <td>long</td>\n",
       "    </tr>\n",
       "  </tbody>\n",
       "</table>\n",
       "<p>387 rows × 7 columns</p>\n",
       "</div>"
      ],
      "text/plain": [
       "        tpep_pickup_datetime tpep_dropoff_datetime  passenger_count  \\\n",
       "184      2019-06-30 14:54:49   2019-06-30 15:04:50             1.00   \n",
       "185      2019-06-30 15:19:34   2019-06-30 15:37:32             1.00   \n",
       "206      2019-06-30 23:41:12   2019-06-30 23:48:54             1.00   \n",
       "274      2019-06-30 23:52:06   2019-07-01 00:26:02             1.00   \n",
       "421      2019-06-30 23:56:48   2019-07-01 00:03:34             1.00   \n",
       "...                      ...                   ...              ...   \n",
       "6276049  2019-07-31 23:59:22   2019-08-01 00:04:29             4.00   \n",
       "6276069  2019-08-01 00:04:50   2019-08-01 00:13:48             1.00   \n",
       "6276128  2019-07-31 23:59:22   2019-08-01 00:05:27             1.00   \n",
       "6276258  2019-07-31 23:59:05   2019-08-01 00:07:34             1.00   \n",
       "6276300  2019-08-01 00:00:34   2019-08-02 00:00:00             2.00   \n",
       "\n",
       "         trip_distance  total_amount       trip_time trip_time_group  \n",
       "184               1.71         13.30 0 days 00:10:01          medium  \n",
       "185               7.05         26.30 0 days 00:17:58          medium  \n",
       "206               1.00         10.30 0 days 00:07:42           short  \n",
       "274              10.83         39.90 0 days 00:33:56          medium  \n",
       "421               1.57         10.30 0 days 00:06:46           short  \n",
       "...                ...           ...             ...             ...  \n",
       "6276049           0.82          9.30 0 days 00:05:07           short  \n",
       "6276069           2.46         12.80 0 days 00:08:58           short  \n",
       "6276128           0.80          9.80 0 days 00:06:05           short  \n",
       "6276258           1.90         14.75 0 days 00:08:29           short  \n",
       "6276300           9.40         31.68 0 days 23:59:26            long  \n",
       "\n",
       "[387 rows x 7 columns]"
      ]
     },
     "execution_count": 530,
     "metadata": {},
     "output_type": "execute_result"
    }
   ],
   "source": [
    "# how many trips are not from july 2019?\n",
    "july_19.loc[(july_19['tpep_pickup_datetime'] < '2019-07-01') | (july_19['tpep_pickup_datetime'] > '2019-07-31 23:59'), :]"
   ]
  },
  {
   "cell_type": "code",
   "execution_count": 531,
   "id": "dd16b522-e0ca-41eb-bdb6-ba2ebd499dcf",
   "metadata": {},
   "outputs": [
    {
     "data": {
      "text/plain": [
       "passenger_count\n",
       "0.00   0 days 00:14:18.929810752\n",
       "1.00   0 days 00:17:46.148103924\n",
       "2.00   0 days 00:18:34.024342704\n",
       "3.00   0 days 00:19:02.079604271\n",
       "4.00   0 days 00:20:10.057290100\n",
       "5.00   0 days 00:22:29.870464324\n",
       "6.00   0 days 00:20:54.109564300\n",
       "7.00   0 days 00:16:38.206896551\n",
       "8.00      0 days 00:11:00.500000\n",
       "9.00      0 days 00:49:16.125000\n",
       "Name: trip_time, dtype: timedelta64[ns]"
      ]
     },
     "execution_count": 531,
     "metadata": {},
     "output_type": "execute_result"
    }
   ],
   "source": [
    "# mean trip time for each number of passengers\n",
    "july_19.groupby('passenger_count')['trip_time'].mean()"
   ]
  },
  {
   "cell_type": "code",
   "execution_count": 532,
   "id": "e626bcf1-8d28-4caf-9bbf-ed08c463ac5c",
   "metadata": {},
   "outputs": [
    {
     "data": {
      "text/plain": [
       "year  passenger_count\n",
       "2019  0.00              18.98\n",
       "      1.00              19.28\n",
       "      2.00              20.10\n",
       "      3.00              20.21\n",
       "      4.00              21.06\n",
       "      5.00              19.42\n",
       "      6.00              19.39\n",
       "      7.00              70.08\n",
       "      8.00              74.76\n",
       "      9.00              93.51\n",
       "2020  0.00              16.54\n",
       "      1.00              16.86\n",
       "      2.00              17.19\n",
       "      3.00              17.10\n",
       "      4.00              17.96\n",
       "      5.00              16.73\n",
       "      6.00              16.81\n",
       "      7.00              22.46\n",
       "      8.00              10.30\n",
       "      9.00              11.76\n",
       "Name: total_amount, dtype: float64"
      ]
     },
     "execution_count": 532,
     "metadata": {},
     "output_type": "execute_result"
    }
   ],
   "source": [
    "# load taxi data from july 2019 and 2020, for each year, and then for each num passengers, what was mean amount paid?\n",
    "july_19 = pd.read_csv(root_path + 'nyc_taxi_2019-07.csv',\n",
    "                     usecols=['passenger_count','total_amount'])\n",
    "\n",
    "july_19['year'] = 2019\n",
    "\n",
    "july_20 = pd.read_csv(root_path + 'nyc_taxi_2020-07.csv',\n",
    "                     usecols=['passenger_count','total_amount'])\n",
    "\n",
    "july_20['year'] = 2020\n",
    "\n",
    "comparison_df = pd.concat([july_19, july_20])\n",
    "\n",
    "comparison_df.groupby(['year', 'passenger_count'])['total_amount'].mean()"
   ]
  },
  {
   "cell_type": "markdown",
   "id": "2ebc92ed-5e75-4250-8420-6fa3c6da2280",
   "metadata": {},
   "source": [
    "## Exercise 40 - Writing dates, reading dates"
   ]
  },
  {
   "cell_type": "code",
   "execution_count": 534,
   "id": "39c8321b-046a-4abb-bd68-2c14ab056b3e",
   "metadata": {},
   "outputs": [
    {
     "data": {
      "text/html": [
       "<div>\n",
       "<style scoped>\n",
       "    .dataframe tbody tr th:only-of-type {\n",
       "        vertical-align: middle;\n",
       "    }\n",
       "\n",
       "    .dataframe tbody tr th {\n",
       "        vertical-align: top;\n",
       "    }\n",
       "\n",
       "    .dataframe thead th {\n",
       "        text-align: right;\n",
       "    }\n",
       "</style>\n",
       "<table border=\"1\" class=\"dataframe\">\n",
       "  <thead>\n",
       "    <tr style=\"text-align: right;\">\n",
       "      <th></th>\n",
       "      <th>tpep_pickup_datetime</th>\n",
       "      <th>passenger_count</th>\n",
       "      <th>trip_distance</th>\n",
       "      <th>total_amount</th>\n",
       "    </tr>\n",
       "  </thead>\n",
       "  <tbody>\n",
       "    <tr>\n",
       "      <th>0</th>\n",
       "      <td>2019-07-01 00:51:04</td>\n",
       "      <td>1.00</td>\n",
       "      <td>0.00</td>\n",
       "      <td>4.94</td>\n",
       "    </tr>\n",
       "    <tr>\n",
       "      <th>1</th>\n",
       "      <td>2019-07-01 00:46:04</td>\n",
       "      <td>1.00</td>\n",
       "      <td>4.16</td>\n",
       "      <td>20.30</td>\n",
       "    </tr>\n",
       "    <tr>\n",
       "      <th>2</th>\n",
       "      <td>2019-07-01 00:25:09</td>\n",
       "      <td>1.00</td>\n",
       "      <td>18.80</td>\n",
       "      <td>70.67</td>\n",
       "    </tr>\n",
       "    <tr>\n",
       "      <th>3</th>\n",
       "      <td>2019-07-01 00:33:32</td>\n",
       "      <td>1.00</td>\n",
       "      <td>18.46</td>\n",
       "      <td>66.36</td>\n",
       "    </tr>\n",
       "    <tr>\n",
       "      <th>4</th>\n",
       "      <td>2019-07-01 00:00:55</td>\n",
       "      <td>0.00</td>\n",
       "      <td>1.70</td>\n",
       "      <td>15.30</td>\n",
       "    </tr>\n",
       "  </tbody>\n",
       "</table>\n",
       "</div>"
      ],
      "text/plain": [
       "  tpep_pickup_datetime  passenger_count  trip_distance  total_amount\n",
       "0  2019-07-01 00:51:04             1.00           0.00          4.94\n",
       "1  2019-07-01 00:46:04             1.00           4.16         20.30\n",
       "2  2019-07-01 00:25:09             1.00          18.80         70.67\n",
       "3  2019-07-01 00:33:32             1.00          18.46         66.36\n",
       "4  2019-07-01 00:00:55             0.00           1.70         15.30"
      ]
     },
     "execution_count": 534,
     "metadata": {},
     "output_type": "execute_result"
    }
   ],
   "source": [
    "# load in CSV, specify columns, parse dates\n",
    "july_19 = pd.read_csv(root_path + 'nyc_taxi_2019-07.csv',\n",
    "                      usecols=['tpep_pickup_datetime', 'passenger_count', 'trip_distance', 'total_amount'],\n",
    "                      parse_dates=['tpep_pickup_datetime'])\n",
    "july_19.head()"
   ]
  },
  {
   "cell_type": "code",
   "execution_count": 535,
   "id": "be7b94c4-0c45-4f8b-bc55-098c482cb919",
   "metadata": {},
   "outputs": [],
   "source": [
    "# convert to CSV, specify columns, tab-separator, and specified date format\n",
    "july_19.to_csv('new_taxi.csv',\n",
    "               columns=['tpep_pickup_datetime', 'passenger_count', 'trip_distance', 'total_amount'],\n",
    "               sep='\\t',\n",
    "               date_format='%d/%m/%Y %Hh:%Mm:%Ss')"
   ]
  },
  {
   "cell_type": "code",
   "execution_count": 536,
   "id": "f76720a7-3c0c-4ac5-abb4-392bfef5e076",
   "metadata": {},
   "outputs": [
    {
     "data": {
      "text/html": [
       "<div>\n",
       "<style scoped>\n",
       "    .dataframe tbody tr th:only-of-type {\n",
       "        vertical-align: middle;\n",
       "    }\n",
       "\n",
       "    .dataframe tbody tr th {\n",
       "        vertical-align: top;\n",
       "    }\n",
       "\n",
       "    .dataframe thead th {\n",
       "        text-align: right;\n",
       "    }\n",
       "</style>\n",
       "<table border=\"1\" class=\"dataframe\">\n",
       "  <thead>\n",
       "    <tr style=\"text-align: right;\">\n",
       "      <th></th>\n",
       "      <th>tpep_pickup_datetime</th>\n",
       "      <th>passenger_count</th>\n",
       "      <th>trip_distance</th>\n",
       "      <th>total_amount</th>\n",
       "    </tr>\n",
       "  </thead>\n",
       "  <tbody>\n",
       "    <tr>\n",
       "      <th>0</th>\n",
       "      <td>2019-07-01 00:51:04</td>\n",
       "      <td>1.00</td>\n",
       "      <td>0.00</td>\n",
       "      <td>4.94</td>\n",
       "    </tr>\n",
       "    <tr>\n",
       "      <th>1</th>\n",
       "      <td>2019-07-01 00:46:04</td>\n",
       "      <td>1.00</td>\n",
       "      <td>4.16</td>\n",
       "      <td>20.30</td>\n",
       "    </tr>\n",
       "    <tr>\n",
       "      <th>2</th>\n",
       "      <td>2019-07-01 00:25:09</td>\n",
       "      <td>1.00</td>\n",
       "      <td>18.80</td>\n",
       "      <td>70.67</td>\n",
       "    </tr>\n",
       "    <tr>\n",
       "      <th>3</th>\n",
       "      <td>2019-07-01 00:33:32</td>\n",
       "      <td>1.00</td>\n",
       "      <td>18.46</td>\n",
       "      <td>66.36</td>\n",
       "    </tr>\n",
       "    <tr>\n",
       "      <th>4</th>\n",
       "      <td>2019-07-01 00:00:55</td>\n",
       "      <td>0.00</td>\n",
       "      <td>1.70</td>\n",
       "      <td>15.30</td>\n",
       "    </tr>\n",
       "  </tbody>\n",
       "</table>\n",
       "</div>"
      ],
      "text/plain": [
       "  tpep_pickup_datetime  passenger_count  trip_distance  total_amount\n",
       "0  2019-07-01 00:51:04             1.00           0.00          4.94\n",
       "1  2019-07-01 00:46:04             1.00           4.16         20.30\n",
       "2  2019-07-01 00:25:09             1.00          18.80         70.67\n",
       "3  2019-07-01 00:33:32             1.00          18.46         66.36\n",
       "4  2019-07-01 00:00:55             0.00           1.70         15.30"
      ]
     },
     "execution_count": 536,
     "metadata": {},
     "output_type": "execute_result"
    }
   ],
   "source": [
    "# read back in the CSV with an odd date format\n",
    "weird_dates = pd.read_csv('new_taxi.csv',\n",
    "                          sep='\\t',\n",
    "                          usecols=['tpep_pickup_datetime', 'passenger_count', 'trip_distance', 'total_amount'],\n",
    "                          parse_dates=['tpep_pickup_datetime'],\n",
    "                          date_format = '%d/%m/%Y %Hh:%Mm:%Ss')\n",
    "weird_dates.head()"
   ]
  },
  {
   "cell_type": "code",
   "execution_count": 537,
   "id": "ea710e68-e247-4afe-979d-948a6298120b",
   "metadata": {},
   "outputs": [
    {
     "data": {
      "text/plain": [
       "tpep_pickup_datetime    datetime64[ns]\n",
       "passenger_count                float64\n",
       "trip_distance                  float64\n",
       "total_amount                   float64\n",
       "dtype: object"
      ]
     },
     "execution_count": 537,
     "metadata": {},
     "output_type": "execute_result"
    }
   ],
   "source": [
    "# display data types\n",
    "weird_dates.dtypes"
   ]
  },
  {
   "cell_type": "markdown",
   "id": "279ea30f-0657-4a97-9cb8-16b7a831af61",
   "metadata": {},
   "source": [
    "### Exercise 40b"
   ]
  },
  {
   "cell_type": "code",
   "execution_count": 539,
   "id": "bc2d7902-8ded-4499-8e3c-ce497d09721e",
   "metadata": {},
   "outputs": [
    {
     "data": {
      "text/plain": [
       "0          1561942264\n",
       "1          1561941964\n",
       "2          1561940709\n",
       "3          1561941212\n",
       "4          1561939255\n",
       "              ...    \n",
       "6310414    1564418093\n",
       "6310415    1564416477\n",
       "6310416    1564416091\n",
       "6310417    1564419480\n",
       "6310418    1564416960\n",
       "Name: unix_time, Length: 6310419, dtype: int64"
      ]
     },
     "execution_count": 539,
     "metadata": {},
     "output_type": "execute_result"
    }
   ],
   "source": [
    "# export \"tpep_pickup_datetime\" as Unix time\n",
    "\n",
    "july_19['unix_time'] = (july_19['tpep_pickup_datetime'] - pd.Timestamp('1970-01-01')) // pd.Timedelta('1s')\n",
    "\n",
    "july_19['unix_time']"
   ]
  },
  {
   "cell_type": "code",
   "execution_count": 540,
   "id": "103c1192-a396-4950-accd-c0b55b8471fb",
   "metadata": {},
   "outputs": [],
   "source": [
    "# convert to CSV\n",
    "july_19.to_csv('unix_taxi.csv',\n",
    "               columns=['unix_time'])"
   ]
  },
  {
   "cell_type": "code",
   "execution_count": 541,
   "id": "d8c3a607-0cdd-46f3-8033-d2f4cfb8346c",
   "metadata": {},
   "outputs": [
    {
     "data": {
      "text/html": [
       "<div>\n",
       "<style scoped>\n",
       "    .dataframe tbody tr th:only-of-type {\n",
       "        vertical-align: middle;\n",
       "    }\n",
       "\n",
       "    .dataframe tbody tr th {\n",
       "        vertical-align: top;\n",
       "    }\n",
       "\n",
       "    .dataframe thead th {\n",
       "        text-align: right;\n",
       "    }\n",
       "</style>\n",
       "<table border=\"1\" class=\"dataframe\">\n",
       "  <thead>\n",
       "    <tr style=\"text-align: right;\">\n",
       "      <th></th>\n",
       "      <th>unix_time</th>\n",
       "    </tr>\n",
       "  </thead>\n",
       "  <tbody>\n",
       "    <tr>\n",
       "      <th>0</th>\n",
       "      <td>1561942264</td>\n",
       "    </tr>\n",
       "    <tr>\n",
       "      <th>1</th>\n",
       "      <td>1561941964</td>\n",
       "    </tr>\n",
       "    <tr>\n",
       "      <th>2</th>\n",
       "      <td>1561940709</td>\n",
       "    </tr>\n",
       "    <tr>\n",
       "      <th>3</th>\n",
       "      <td>1561941212</td>\n",
       "    </tr>\n",
       "    <tr>\n",
       "      <th>4</th>\n",
       "      <td>1561939255</td>\n",
       "    </tr>\n",
       "    <tr>\n",
       "      <th>...</th>\n",
       "      <td>...</td>\n",
       "    </tr>\n",
       "    <tr>\n",
       "      <th>6310414</th>\n",
       "      <td>1564418093</td>\n",
       "    </tr>\n",
       "    <tr>\n",
       "      <th>6310415</th>\n",
       "      <td>1564416477</td>\n",
       "    </tr>\n",
       "    <tr>\n",
       "      <th>6310416</th>\n",
       "      <td>1564416091</td>\n",
       "    </tr>\n",
       "    <tr>\n",
       "      <th>6310417</th>\n",
       "      <td>1564419480</td>\n",
       "    </tr>\n",
       "    <tr>\n",
       "      <th>6310418</th>\n",
       "      <td>1564416960</td>\n",
       "    </tr>\n",
       "  </tbody>\n",
       "</table>\n",
       "<p>6310419 rows × 1 columns</p>\n",
       "</div>"
      ],
      "text/plain": [
       "          unix_time\n",
       "0        1561942264\n",
       "1        1561941964\n",
       "2        1561940709\n",
       "3        1561941212\n",
       "4        1561939255\n",
       "...             ...\n",
       "6310414  1564418093\n",
       "6310415  1564416477\n",
       "6310416  1564416091\n",
       "6310417  1564419480\n",
       "6310418  1564416960\n",
       "\n",
       "[6310419 rows x 1 columns]"
      ]
     },
     "execution_count": 541,
     "metadata": {},
     "output_type": "execute_result"
    }
   ],
   "source": [
    "# read back in CSV\n",
    "unix_df = pd.read_csv('unix_taxi.csv',\n",
    "                      usecols=['unix_time'])\n",
    "unix_df"
   ]
  },
  {
   "cell_type": "code",
   "execution_count": 542,
   "id": "f45a0557-b72c-43ab-86b3-a5faa7d1f479",
   "metadata": {},
   "outputs": [
    {
     "data": {
      "text/plain": [
       "0         2019-07-01 00:51:04\n",
       "1         2019-07-01 00:46:04\n",
       "2         2019-07-01 00:25:09\n",
       "3         2019-07-01 00:33:32\n",
       "4         2019-07-01 00:00:55\n",
       "                  ...        \n",
       "6310414   2019-07-29 16:34:53\n",
       "6310415   2019-07-29 16:07:57\n",
       "6310416   2019-07-29 16:01:31\n",
       "6310417   2019-07-29 16:58:00\n",
       "6310418   2019-07-29 16:16:00\n",
       "Name: unix_time, Length: 6310419, dtype: datetime64[ns]"
      ]
     },
     "execution_count": 542,
     "metadata": {},
     "output_type": "execute_result"
    }
   ],
   "source": [
    "# convert back to datetime column\n",
    "pd.to_datetime(unix_df['unix_time'], unit='s', origin='unix')"
   ]
  },
  {
   "cell_type": "code",
   "execution_count": 543,
   "id": "85243a40-9148-43db-a90b-a41ae9c2d548",
   "metadata": {},
   "outputs": [],
   "source": [
    "# how long to read in read_csv vs in separate to_datetime step?"
   ]
  },
  {
   "cell_type": "code",
   "execution_count": 544,
   "id": "90f145cb-7550-48f9-885d-2254876ae338",
   "metadata": {},
   "outputs": [
    {
     "data": {
      "text/plain": [
       "\"\\nt0 = time.time()\\n\\nunix_df = pd.read_csv('unix_taxi.csv',\\n                      usecols=['unix_time'],\\n                      parse_dates=['unix_time'])\\n\\nt1 = time.time()\\ntotal_n = t1-t0\\ntotal_n\\n\""
      ]
     },
     "execution_count": 544,
     "metadata": {},
     "output_type": "execute_result"
    }
   ],
   "source": [
    "# it appears read_csv cannot read unix and author does not have a solution either\n",
    "\n",
    "\"\"\"\n",
    "t0 = time.time()\n",
    "\n",
    "unix_df = pd.read_csv('unix_taxi.csv',\n",
    "                      usecols=['unix_time'],\n",
    "                      parse_dates=['unix_time'])\n",
    "\n",
    "t1 = time.time()\n",
    "total_n = t1-t0\n",
    "total_n\n",
    "\"\"\""
   ]
  },
  {
   "cell_type": "markdown",
   "id": "080c18a7-6393-41e6-9844-a65a0c2b0577",
   "metadata": {},
   "source": [
    "## Exercise 41 - Oil prices"
   ]
  },
  {
   "cell_type": "code",
   "execution_count": 546,
   "id": "818cdac8-f91b-428e-9848-b88fb360532e",
   "metadata": {},
   "outputs": [
    {
     "data": {
      "text/html": [
       "<div>\n",
       "<style scoped>\n",
       "    .dataframe tbody tr th:only-of-type {\n",
       "        vertical-align: middle;\n",
       "    }\n",
       "\n",
       "    .dataframe tbody tr th {\n",
       "        vertical-align: top;\n",
       "    }\n",
       "\n",
       "    .dataframe thead th {\n",
       "        text-align: right;\n",
       "    }\n",
       "</style>\n",
       "<table border=\"1\" class=\"dataframe\">\n",
       "  <thead>\n",
       "    <tr style=\"text-align: right;\">\n",
       "      <th></th>\n",
       "      <th>Price</th>\n",
       "    </tr>\n",
       "    <tr>\n",
       "      <th>Date</th>\n",
       "      <th></th>\n",
       "    </tr>\n",
       "  </thead>\n",
       "  <tbody>\n",
       "    <tr>\n",
       "      <th>1986-01-02</th>\n",
       "      <td>25.56</td>\n",
       "    </tr>\n",
       "    <tr>\n",
       "      <th>1986-01-03</th>\n",
       "      <td>26.00</td>\n",
       "    </tr>\n",
       "    <tr>\n",
       "      <th>1986-01-06</th>\n",
       "      <td>26.53</td>\n",
       "    </tr>\n",
       "    <tr>\n",
       "      <th>1986-01-07</th>\n",
       "      <td>25.85</td>\n",
       "    </tr>\n",
       "    <tr>\n",
       "      <th>1986-01-08</th>\n",
       "      <td>25.87</td>\n",
       "    </tr>\n",
       "  </tbody>\n",
       "</table>\n",
       "</div>"
      ],
      "text/plain": [
       "            Price\n",
       "Date             \n",
       "1986-01-02  25.56\n",
       "1986-01-03  26.00\n",
       "1986-01-06  26.53\n",
       "1986-01-07  25.85\n",
       "1986-01-08  25.87"
      ]
     },
     "execution_count": 546,
     "metadata": {},
     "output_type": "execute_result"
    }
   ],
   "source": [
    "# read in CSV, parse dates, set 'Date' as index\n",
    "oil = pd.read_csv(root_path + 'wti-daily.csv',\n",
    "                  parse_dates=['Date'],\n",
    "                  index_col=['Date'])\n",
    "oil.head()"
   ]
  },
  {
   "cell_type": "code",
   "execution_count": 547,
   "id": "08fb4e3f-cd38-44e0-b70d-af80b6baba24",
   "metadata": {},
   "outputs": [
    {
     "data": {
      "text/plain": [
       "Price   22.38\n",
       "dtype: float64"
      ]
     },
     "execution_count": 547,
     "metadata": {},
     "output_type": "execute_result"
    }
   ],
   "source": [
    "# average price of barrel of oil in June 1992?\n",
    "oil.loc['1992-06'].mean()"
   ]
  },
  {
   "cell_type": "code",
   "execution_count": 548,
   "id": "b05e8ec8-ec31-4a65-86ca-82157df85f9d",
   "metadata": {},
   "outputs": [
    {
     "data": {
      "text/plain": [
       "Price   19.20\n",
       "dtype: float64"
      ]
     },
     "execution_count": 548,
     "metadata": {},
     "output_type": "execute_result"
    }
   ],
   "source": [
    "# average price of barrel of oil in all of 1987?\n",
    "oil.loc['1987'].mean()"
   ]
  },
  {
   "cell_type": "code",
   "execution_count": 549,
   "id": "69add529-984d-4363-9af8-1cdf9144d125",
   "metadata": {},
   "outputs": [
    {
     "data": {
      "text/plain": [
       "Price   76.46\n",
       "dtype: float64"
      ]
     },
     "execution_count": 549,
     "metadata": {},
     "output_type": "execute_result"
    }
   ],
   "source": [
    "# average price from September 2003 through July 2014\n",
    "oil.loc['2003-09':'2014-07'].mean()"
   ]
  },
  {
   "cell_type": "code",
   "execution_count": 550,
   "id": "6d66e662-b0a5-467f-aee2-1e5e7b4a2ce3",
   "metadata": {},
   "outputs": [
    {
     "data": {
      "text/html": [
       "<div>\n",
       "<style scoped>\n",
       "    .dataframe tbody tr th:only-of-type {\n",
       "        vertical-align: middle;\n",
       "    }\n",
       "\n",
       "    .dataframe tbody tr th {\n",
       "        vertical-align: top;\n",
       "    }\n",
       "\n",
       "    .dataframe thead th {\n",
       "        text-align: right;\n",
       "    }\n",
       "</style>\n",
       "<table border=\"1\" class=\"dataframe\">\n",
       "  <thead>\n",
       "    <tr style=\"text-align: right;\">\n",
       "      <th></th>\n",
       "      <th>Price</th>\n",
       "    </tr>\n",
       "    <tr>\n",
       "      <th>Date</th>\n",
       "      <th></th>\n",
       "    </tr>\n",
       "  </thead>\n",
       "  <tbody>\n",
       "    <tr>\n",
       "      <th>1986-03-31</th>\n",
       "      <td>10.25</td>\n",
       "    </tr>\n",
       "    <tr>\n",
       "      <th>1986-06-30</th>\n",
       "      <td>12.80</td>\n",
       "    </tr>\n",
       "    <tr>\n",
       "      <th>1986-09-30</th>\n",
       "      <td>14.70</td>\n",
       "    </tr>\n",
       "    <tr>\n",
       "      <th>1986-12-31</th>\n",
       "      <td>17.93</td>\n",
       "    </tr>\n",
       "    <tr>\n",
       "      <th>1987-03-31</th>\n",
       "      <td>18.82</td>\n",
       "    </tr>\n",
       "    <tr>\n",
       "      <th>...</th>\n",
       "      <td>...</td>\n",
       "    </tr>\n",
       "    <tr>\n",
       "      <th>2020-09-30</th>\n",
       "      <td>40.05</td>\n",
       "    </tr>\n",
       "    <tr>\n",
       "      <th>2020-12-31</th>\n",
       "      <td>48.35</td>\n",
       "    </tr>\n",
       "    <tr>\n",
       "      <th>2021-03-31</th>\n",
       "      <td>59.19</td>\n",
       "    </tr>\n",
       "    <tr>\n",
       "      <th>2021-06-30</th>\n",
       "      <td>73.52</td>\n",
       "    </tr>\n",
       "    <tr>\n",
       "      <th>2021-09-30</th>\n",
       "      <td>75.22</td>\n",
       "    </tr>\n",
       "  </tbody>\n",
       "</table>\n",
       "<p>99 rows × 1 columns</p>\n",
       "</div>"
      ],
      "text/plain": [
       "            Price\n",
       "Date             \n",
       "1986-03-31  10.25\n",
       "1986-06-30  12.80\n",
       "1986-09-30  14.70\n",
       "1986-12-31  17.93\n",
       "1987-03-31  18.82\n",
       "...           ...\n",
       "2020-09-30  40.05\n",
       "2020-12-31  48.35\n",
       "2021-03-31  59.19\n",
       "2021-06-30  73.52\n",
       "2021-09-30  75.22\n",
       "\n",
       "[99 rows x 1 columns]"
      ]
     },
     "execution_count": 550,
     "metadata": {},
     "output_type": "execute_result"
    }
   ],
   "source": [
    "# price of oil at end of each quarter in data set\n",
    "oil.loc[oil.index.is_quarter_end]"
   ]
  },
  {
   "cell_type": "code",
   "execution_count": 551,
   "id": "2032329c-4394-4a08-b5cb-7c12e85659e4",
   "metadata": {},
   "outputs": [
    {
     "data": {
      "text/html": [
       "<div>\n",
       "<style scoped>\n",
       "    .dataframe tbody tr th:only-of-type {\n",
       "        vertical-align: middle;\n",
       "    }\n",
       "\n",
       "    .dataframe tbody tr th {\n",
       "        vertical-align: top;\n",
       "    }\n",
       "\n",
       "    .dataframe thead th {\n",
       "        text-align: right;\n",
       "    }\n",
       "</style>\n",
       "<table border=\"1\" class=\"dataframe\">\n",
       "  <thead>\n",
       "    <tr style=\"text-align: right;\">\n",
       "      <th></th>\n",
       "      <th>Price</th>\n",
       "    </tr>\n",
       "    <tr>\n",
       "      <th>Date</th>\n",
       "      <th></th>\n",
       "    </tr>\n",
       "  </thead>\n",
       "  <tbody>\n",
       "    <tr>\n",
       "      <th>1986-12-31</th>\n",
       "      <td>15.05</td>\n",
       "    </tr>\n",
       "    <tr>\n",
       "      <th>1987-12-31</th>\n",
       "      <td>19.20</td>\n",
       "    </tr>\n",
       "    <tr>\n",
       "      <th>1988-12-31</th>\n",
       "      <td>15.97</td>\n",
       "    </tr>\n",
       "    <tr>\n",
       "      <th>1989-12-31</th>\n",
       "      <td>19.64</td>\n",
       "    </tr>\n",
       "    <tr>\n",
       "      <th>1990-12-31</th>\n",
       "      <td>24.53</td>\n",
       "    </tr>\n",
       "    <tr>\n",
       "      <th>1991-12-31</th>\n",
       "      <td>21.54</td>\n",
       "    </tr>\n",
       "    <tr>\n",
       "      <th>1992-12-31</th>\n",
       "      <td>20.58</td>\n",
       "    </tr>\n",
       "    <tr>\n",
       "      <th>1993-12-31</th>\n",
       "      <td>18.43</td>\n",
       "    </tr>\n",
       "    <tr>\n",
       "      <th>1994-12-31</th>\n",
       "      <td>17.20</td>\n",
       "    </tr>\n",
       "    <tr>\n",
       "      <th>1995-12-31</th>\n",
       "      <td>18.43</td>\n",
       "    </tr>\n",
       "    <tr>\n",
       "      <th>1996-12-31</th>\n",
       "      <td>22.12</td>\n",
       "    </tr>\n",
       "    <tr>\n",
       "      <th>1997-12-31</th>\n",
       "      <td>20.61</td>\n",
       "    </tr>\n",
       "    <tr>\n",
       "      <th>1998-12-31</th>\n",
       "      <td>14.42</td>\n",
       "    </tr>\n",
       "    <tr>\n",
       "      <th>1999-12-31</th>\n",
       "      <td>19.34</td>\n",
       "    </tr>\n",
       "    <tr>\n",
       "      <th>2000-12-31</th>\n",
       "      <td>30.38</td>\n",
       "    </tr>\n",
       "    <tr>\n",
       "      <th>2001-12-31</th>\n",
       "      <td>25.98</td>\n",
       "    </tr>\n",
       "    <tr>\n",
       "      <th>2002-12-31</th>\n",
       "      <td>26.18</td>\n",
       "    </tr>\n",
       "    <tr>\n",
       "      <th>2003-12-31</th>\n",
       "      <td>31.08</td>\n",
       "    </tr>\n",
       "    <tr>\n",
       "      <th>2004-12-31</th>\n",
       "      <td>41.51</td>\n",
       "    </tr>\n",
       "    <tr>\n",
       "      <th>2005-12-31</th>\n",
       "      <td>56.64</td>\n",
       "    </tr>\n",
       "    <tr>\n",
       "      <th>2006-12-31</th>\n",
       "      <td>66.05</td>\n",
       "    </tr>\n",
       "    <tr>\n",
       "      <th>2007-12-31</th>\n",
       "      <td>72.34</td>\n",
       "    </tr>\n",
       "    <tr>\n",
       "      <th>2008-12-31</th>\n",
       "      <td>99.67</td>\n",
       "    </tr>\n",
       "    <tr>\n",
       "      <th>2009-12-31</th>\n",
       "      <td>61.95</td>\n",
       "    </tr>\n",
       "    <tr>\n",
       "      <th>2010-12-31</th>\n",
       "      <td>79.48</td>\n",
       "    </tr>\n",
       "    <tr>\n",
       "      <th>2011-12-31</th>\n",
       "      <td>94.88</td>\n",
       "    </tr>\n",
       "    <tr>\n",
       "      <th>2012-12-31</th>\n",
       "      <td>94.05</td>\n",
       "    </tr>\n",
       "    <tr>\n",
       "      <th>2013-12-31</th>\n",
       "      <td>97.98</td>\n",
       "    </tr>\n",
       "    <tr>\n",
       "      <th>2014-12-31</th>\n",
       "      <td>93.17</td>\n",
       "    </tr>\n",
       "    <tr>\n",
       "      <th>2015-12-31</th>\n",
       "      <td>48.66</td>\n",
       "    </tr>\n",
       "    <tr>\n",
       "      <th>2016-12-31</th>\n",
       "      <td>43.29</td>\n",
       "    </tr>\n",
       "    <tr>\n",
       "      <th>2017-12-31</th>\n",
       "      <td>50.80</td>\n",
       "    </tr>\n",
       "    <tr>\n",
       "      <th>2018-12-31</th>\n",
       "      <td>65.23</td>\n",
       "    </tr>\n",
       "    <tr>\n",
       "      <th>2019-12-31</th>\n",
       "      <td>56.99</td>\n",
       "    </tr>\n",
       "    <tr>\n",
       "      <th>2020-12-31</th>\n",
       "      <td>39.16</td>\n",
       "    </tr>\n",
       "    <tr>\n",
       "      <th>2021-12-31</th>\n",
       "      <td>67.92</td>\n",
       "    </tr>\n",
       "  </tbody>\n",
       "</table>\n",
       "</div>"
      ],
      "text/plain": [
       "            Price\n",
       "Date             \n",
       "1986-12-31  15.05\n",
       "1987-12-31  19.20\n",
       "1988-12-31  15.97\n",
       "1989-12-31  19.64\n",
       "1990-12-31  24.53\n",
       "1991-12-31  21.54\n",
       "1992-12-31  20.58\n",
       "1993-12-31  18.43\n",
       "1994-12-31  17.20\n",
       "1995-12-31  18.43\n",
       "1996-12-31  22.12\n",
       "1997-12-31  20.61\n",
       "1998-12-31  14.42\n",
       "1999-12-31  19.34\n",
       "2000-12-31  30.38\n",
       "2001-12-31  25.98\n",
       "2002-12-31  26.18\n",
       "2003-12-31  31.08\n",
       "2004-12-31  41.51\n",
       "2005-12-31  56.64\n",
       "2006-12-31  66.05\n",
       "2007-12-31  72.34\n",
       "2008-12-31  99.67\n",
       "2009-12-31  61.95\n",
       "2010-12-31  79.48\n",
       "2011-12-31  94.88\n",
       "2012-12-31  94.05\n",
       "2013-12-31  97.98\n",
       "2014-12-31  93.17\n",
       "2015-12-31  48.66\n",
       "2016-12-31  43.29\n",
       "2017-12-31  50.80\n",
       "2018-12-31  65.23\n",
       "2019-12-31  56.99\n",
       "2020-12-31  39.16\n",
       "2021-12-31  67.92"
      ]
     },
     "execution_count": 551,
     "metadata": {},
     "output_type": "execute_result"
    }
   ],
   "source": [
    "# for each year, show average price\n",
    "oil.resample('A').mean()"
   ]
  },
  {
   "cell_type": "code",
   "execution_count": 552,
   "id": "4e191bc2-9c33-4b98-aea7-1f59b83b0b62",
   "metadata": {},
   "outputs": [
    {
     "data": {
      "text/html": [
       "<div>\n",
       "<style scoped>\n",
       "    .dataframe tbody tr th:only-of-type {\n",
       "        vertical-align: middle;\n",
       "    }\n",
       "\n",
       "    .dataframe tbody tr th {\n",
       "        vertical-align: top;\n",
       "    }\n",
       "\n",
       "    .dataframe thead th {\n",
       "        text-align: right;\n",
       "    }\n",
       "</style>\n",
       "<table border=\"1\" class=\"dataframe\">\n",
       "  <thead>\n",
       "    <tr style=\"text-align: right;\">\n",
       "      <th></th>\n",
       "      <th>Price</th>\n",
       "    </tr>\n",
       "    <tr>\n",
       "      <th>Date</th>\n",
       "      <th></th>\n",
       "    </tr>\n",
       "  </thead>\n",
       "  <tbody>\n",
       "    <tr>\n",
       "      <th>2008-07-03</th>\n",
       "      <td>145.31</td>\n",
       "    </tr>\n",
       "  </tbody>\n",
       "</table>\n",
       "</div>"
      ],
      "text/plain": [
       "            Price\n",
       "Date             \n",
       "2008-07-03 145.31"
      ]
     },
     "execution_count": 552,
     "metadata": {},
     "output_type": "execute_result"
    }
   ],
   "source": [
    "# on which date were oil prices the highest?\n",
    "oil.loc[oil['Price'] == oil['Price'].max()]"
   ]
  },
  {
   "cell_type": "code",
   "execution_count": 553,
   "id": "77a0bb7b-2c43-42bf-bbb8-589c01a23110",
   "metadata": {},
   "outputs": [
    {
     "data": {
      "text/html": [
       "<div>\n",
       "<style scoped>\n",
       "    .dataframe tbody tr th:only-of-type {\n",
       "        vertical-align: middle;\n",
       "    }\n",
       "\n",
       "    .dataframe tbody tr th {\n",
       "        vertical-align: top;\n",
       "    }\n",
       "\n",
       "    .dataframe thead th {\n",
       "        text-align: right;\n",
       "    }\n",
       "</style>\n",
       "<table border=\"1\" class=\"dataframe\">\n",
       "  <thead>\n",
       "    <tr style=\"text-align: right;\">\n",
       "      <th></th>\n",
       "      <th>Price</th>\n",
       "    </tr>\n",
       "    <tr>\n",
       "      <th>Date</th>\n",
       "      <th></th>\n",
       "    </tr>\n",
       "  </thead>\n",
       "  <tbody>\n",
       "    <tr>\n",
       "      <th>2008-07-03</th>\n",
       "      <td>145.31</td>\n",
       "    </tr>\n",
       "    <tr>\n",
       "      <th>2008-07-14</th>\n",
       "      <td>145.16</td>\n",
       "    </tr>\n",
       "    <tr>\n",
       "      <th>2008-07-11</th>\n",
       "      <td>144.96</td>\n",
       "    </tr>\n",
       "    <tr>\n",
       "      <th>2008-07-02</th>\n",
       "      <td>143.74</td>\n",
       "    </tr>\n",
       "    <tr>\n",
       "      <th>2008-07-10</th>\n",
       "      <td>141.47</td>\n",
       "    </tr>\n",
       "  </tbody>\n",
       "</table>\n",
       "</div>"
      ],
      "text/plain": [
       "            Price\n",
       "Date             \n",
       "2008-07-03 145.31\n",
       "2008-07-14 145.16\n",
       "2008-07-11 144.96\n",
       "2008-07-02 143.74\n",
       "2008-07-10 141.47"
      ]
     },
     "execution_count": 553,
     "metadata": {},
     "output_type": "execute_result"
    }
   ],
   "source": [
    "# sort values by 'Price', top 5 highest prices\n",
    "oil.sort_values('Price', ascending=False).head()"
   ]
  },
  {
   "cell_type": "code",
   "execution_count": 554,
   "id": "ccdb36d1-21f7-4cc0-ae5d-f5ec050dcd30",
   "metadata": {},
   "outputs": [
    {
     "data": {
      "text/html": [
       "<div>\n",
       "<style scoped>\n",
       "    .dataframe tbody tr th:only-of-type {\n",
       "        vertical-align: middle;\n",
       "    }\n",
       "\n",
       "    .dataframe tbody tr th {\n",
       "        vertical-align: top;\n",
       "    }\n",
       "\n",
       "    .dataframe thead th {\n",
       "        text-align: right;\n",
       "    }\n",
       "</style>\n",
       "<table border=\"1\" class=\"dataframe\">\n",
       "  <thead>\n",
       "    <tr style=\"text-align: right;\">\n",
       "      <th></th>\n",
       "      <th>Price</th>\n",
       "    </tr>\n",
       "    <tr>\n",
       "      <th>Date</th>\n",
       "      <th></th>\n",
       "    </tr>\n",
       "  </thead>\n",
       "  <tbody>\n",
       "    <tr>\n",
       "      <th>2020-04-20</th>\n",
       "      <td>-36.98</td>\n",
       "    </tr>\n",
       "  </tbody>\n",
       "</table>\n",
       "</div>"
      ],
      "text/plain": [
       "            Price\n",
       "Date             \n",
       "2020-04-20 -36.98"
      ]
     },
     "execution_count": 554,
     "metadata": {},
     "output_type": "execute_result"
    }
   ],
   "source": [
    "# on which date were oil prices the lowest?\n",
    "oil.loc[oil['Price'] == oil['Price'].min()]"
   ]
  },
  {
   "cell_type": "code",
   "execution_count": 555,
   "id": "dd9b9fad-8cd4-4a48-a127-f267e9d39c0f",
   "metadata": {},
   "outputs": [
    {
     "data": {
      "text/html": [
       "<div>\n",
       "<style scoped>\n",
       "    .dataframe tbody tr th:only-of-type {\n",
       "        vertical-align: middle;\n",
       "    }\n",
       "\n",
       "    .dataframe tbody tr th {\n",
       "        vertical-align: top;\n",
       "    }\n",
       "\n",
       "    .dataframe thead th {\n",
       "        text-align: right;\n",
       "    }\n",
       "</style>\n",
       "<table border=\"1\" class=\"dataframe\">\n",
       "  <thead>\n",
       "    <tr style=\"text-align: right;\">\n",
       "      <th></th>\n",
       "      <th>Price</th>\n",
       "    </tr>\n",
       "    <tr>\n",
       "      <th>Date</th>\n",
       "      <th></th>\n",
       "    </tr>\n",
       "  </thead>\n",
       "  <tbody>\n",
       "    <tr>\n",
       "      <th>2020-04-20</th>\n",
       "      <td>-36.98</td>\n",
       "    </tr>\n",
       "    <tr>\n",
       "      <th>2020-04-21</th>\n",
       "      <td>8.91</td>\n",
       "    </tr>\n",
       "    <tr>\n",
       "      <th>1986-03-31</th>\n",
       "      <td>10.25</td>\n",
       "    </tr>\n",
       "    <tr>\n",
       "      <th>1998-12-10</th>\n",
       "      <td>10.82</td>\n",
       "    </tr>\n",
       "    <tr>\n",
       "      <th>1986-07-25</th>\n",
       "      <td>10.83</td>\n",
       "    </tr>\n",
       "  </tbody>\n",
       "</table>\n",
       "</div>"
      ],
      "text/plain": [
       "            Price\n",
       "Date             \n",
       "2020-04-20 -36.98\n",
       "2020-04-21   8.91\n",
       "1986-03-31  10.25\n",
       "1998-12-10  10.82\n",
       "1986-07-25  10.83"
      ]
     },
     "execution_count": 555,
     "metadata": {},
     "output_type": "execute_result"
    }
   ],
   "source": [
    "# sort by 'Price' ascending, 5 lowest prices\n",
    "oil.sort_values('Price', ascending=True).head()"
   ]
  },
  {
   "cell_type": "markdown",
   "id": "2e73b813-7c63-4724-b45d-1dfd44b6578e",
   "metadata": {},
   "source": [
    "### Exercise 41b"
   ]
  },
  {
   "cell_type": "code",
   "execution_count": 557,
   "id": "483be616-7d4b-471b-bf2d-190bf51b4e9c",
   "metadata": {},
   "outputs": [
    {
     "data": {
      "text/html": [
       "<div>\n",
       "<style scoped>\n",
       "    .dataframe tbody tr th:only-of-type {\n",
       "        vertical-align: middle;\n",
       "    }\n",
       "\n",
       "    .dataframe tbody tr th {\n",
       "        vertical-align: top;\n",
       "    }\n",
       "\n",
       "    .dataframe thead tr th {\n",
       "        text-align: left;\n",
       "    }\n",
       "\n",
       "    .dataframe thead tr:last-of-type th {\n",
       "        text-align: right;\n",
       "    }\n",
       "</style>\n",
       "<table border=\"1\" class=\"dataframe\">\n",
       "  <thead>\n",
       "    <tr>\n",
       "      <th></th>\n",
       "      <th colspan=\"2\" halign=\"left\">Price</th>\n",
       "    </tr>\n",
       "    <tr>\n",
       "      <th></th>\n",
       "      <th>mean</th>\n",
       "      <th>std</th>\n",
       "    </tr>\n",
       "    <tr>\n",
       "      <th>Date</th>\n",
       "      <th></th>\n",
       "      <th></th>\n",
       "    </tr>\n",
       "  </thead>\n",
       "  <tbody>\n",
       "    <tr>\n",
       "      <th>1986-03-31</th>\n",
       "      <td>17.22</td>\n",
       "      <td>4.86</td>\n",
       "    </tr>\n",
       "    <tr>\n",
       "      <th>1986-06-30</th>\n",
       "      <td>13.87</td>\n",
       "      <td>1.35</td>\n",
       "    </tr>\n",
       "    <tr>\n",
       "      <th>1986-09-30</th>\n",
       "      <td>13.81</td>\n",
       "      <td>1.81</td>\n",
       "    </tr>\n",
       "    <tr>\n",
       "      <th>1986-12-31</th>\n",
       "      <td>15.41</td>\n",
       "      <td>0.82</td>\n",
       "    </tr>\n",
       "    <tr>\n",
       "      <th>1987-03-31</th>\n",
       "      <td>18.25</td>\n",
       "      <td>0.66</td>\n",
       "    </tr>\n",
       "    <tr>\n",
       "      <th>...</th>\n",
       "      <td>...</td>\n",
       "      <td>...</td>\n",
       "    </tr>\n",
       "    <tr>\n",
       "      <th>2020-12-31</th>\n",
       "      <td>42.52</td>\n",
       "      <td>3.84</td>\n",
       "    </tr>\n",
       "    <tr>\n",
       "      <th>2021-03-31</th>\n",
       "      <td>58.09</td>\n",
       "      <td>4.93</td>\n",
       "    </tr>\n",
       "    <tr>\n",
       "      <th>2021-06-30</th>\n",
       "      <td>66.19</td>\n",
       "      <td>4.40</td>\n",
       "    </tr>\n",
       "    <tr>\n",
       "      <th>2021-09-30</th>\n",
       "      <td>70.58</td>\n",
       "      <td>3.08</td>\n",
       "    </tr>\n",
       "    <tr>\n",
       "      <th>2021-12-31</th>\n",
       "      <td>77.70</td>\n",
       "      <td>5.71</td>\n",
       "    </tr>\n",
       "  </tbody>\n",
       "</table>\n",
       "<p>144 rows × 2 columns</p>\n",
       "</div>"
      ],
      "text/plain": [
       "           Price     \n",
       "            mean  std\n",
       "Date                 \n",
       "1986-03-31 17.22 4.86\n",
       "1986-06-30 13.87 1.35\n",
       "1986-09-30 13.81 1.81\n",
       "1986-12-31 15.41 0.82\n",
       "1987-03-31 18.25 0.66\n",
       "...          ...  ...\n",
       "2020-12-31 42.52 3.84\n",
       "2021-03-31 58.09 4.93\n",
       "2021-06-30 66.19 4.40\n",
       "2021-09-30 70.58 3.08\n",
       "2021-12-31 77.70 5.71\n",
       "\n",
       "[144 rows x 2 columns]"
      ]
     },
     "execution_count": 557,
     "metadata": {},
     "output_type": "execute_result"
    }
   ],
   "source": [
    "# use resample to find, for each quarter, mean and SD in price\n",
    "oil.resample('Q').agg(['mean','std'])"
   ]
  },
  {
   "cell_type": "code",
   "execution_count": 558,
   "id": "849c3438-5aea-4793-91d7-dfb1934cab26",
   "metadata": {},
   "outputs": [
    {
     "data": {
      "text/html": [
       "<div>\n",
       "<style scoped>\n",
       "    .dataframe tbody tr th:only-of-type {\n",
       "        vertical-align: middle;\n",
       "    }\n",
       "\n",
       "    .dataframe tbody tr th {\n",
       "        vertical-align: top;\n",
       "    }\n",
       "\n",
       "    .dataframe thead th {\n",
       "        text-align: right;\n",
       "    }\n",
       "</style>\n",
       "<table border=\"1\" class=\"dataframe\">\n",
       "  <thead>\n",
       "    <tr style=\"text-align: right;\">\n",
       "      <th></th>\n",
       "      <th>Price</th>\n",
       "    </tr>\n",
       "    <tr>\n",
       "      <th>Date</th>\n",
       "      <th></th>\n",
       "    </tr>\n",
       "  </thead>\n",
       "  <tbody>\n",
       "    <tr>\n",
       "      <th>2008-06-30</th>\n",
       "      <td>25.92</td>\n",
       "    </tr>\n",
       "    <tr>\n",
       "      <th>2009-06-30</th>\n",
       "      <td>16.47</td>\n",
       "    </tr>\n",
       "    <tr>\n",
       "      <th>2021-03-31</th>\n",
       "      <td>15.57</td>\n",
       "    </tr>\n",
       "    <tr>\n",
       "      <th>2007-12-31</th>\n",
       "      <td>15.36</td>\n",
       "    </tr>\n",
       "    <tr>\n",
       "      <th>2020-09-30</th>\n",
       "      <td>12.93</td>\n",
       "    </tr>\n",
       "    <tr>\n",
       "      <th>...</th>\n",
       "      <td>...</td>\n",
       "    </tr>\n",
       "    <tr>\n",
       "      <th>2020-06-30</th>\n",
       "      <td>-17.37</td>\n",
       "    </tr>\n",
       "    <tr>\n",
       "      <th>2014-12-31</th>\n",
       "      <td>-24.66</td>\n",
       "    </tr>\n",
       "    <tr>\n",
       "      <th>2015-03-31</th>\n",
       "      <td>-24.73</td>\n",
       "    </tr>\n",
       "    <tr>\n",
       "      <th>2008-12-31</th>\n",
       "      <td>-59.61</td>\n",
       "    </tr>\n",
       "    <tr>\n",
       "      <th>1986-03-31</th>\n",
       "      <td>NaN</td>\n",
       "    </tr>\n",
       "  </tbody>\n",
       "</table>\n",
       "<p>144 rows × 1 columns</p>\n",
       "</div>"
      ],
      "text/plain": [
       "            Price\n",
       "Date             \n",
       "2008-06-30  25.92\n",
       "2009-06-30  16.47\n",
       "2021-03-31  15.57\n",
       "2007-12-31  15.36\n",
       "2020-09-30  12.93\n",
       "...           ...\n",
       "2020-06-30 -17.37\n",
       "2014-12-31 -24.66\n",
       "2015-03-31 -24.73\n",
       "2008-12-31 -59.61\n",
       "1986-03-31    NaN\n",
       "\n",
       "[144 rows x 1 columns]"
      ]
     },
     "execution_count": 558,
     "metadata": {},
     "output_type": "execute_result"
    }
   ],
   "source": [
    "# in which quarter was biggest increase in mean price from previous quarter?\n",
    "oil.resample('Q').mean().diff().sort_values('Price', ascending=False)"
   ]
  },
  {
   "cell_type": "code",
   "execution_count": 559,
   "id": "44140c42-5680-442a-9468-dfef1c3a045c",
   "metadata": {},
   "outputs": [
    {
     "data": {
      "text/html": [
       "<div>\n",
       "<style scoped>\n",
       "    .dataframe tbody tr th:only-of-type {\n",
       "        vertical-align: middle;\n",
       "    }\n",
       "\n",
       "    .dataframe tbody tr th {\n",
       "        vertical-align: top;\n",
       "    }\n",
       "\n",
       "    .dataframe thead th {\n",
       "        text-align: right;\n",
       "    }\n",
       "</style>\n",
       "<table border=\"1\" class=\"dataframe\">\n",
       "  <thead>\n",
       "    <tr style=\"text-align: right;\">\n",
       "      <th></th>\n",
       "      <th>Price</th>\n",
       "    </tr>\n",
       "    <tr>\n",
       "      <th>Date</th>\n",
       "      <th></th>\n",
       "    </tr>\n",
       "  </thead>\n",
       "  <tbody>\n",
       "    <tr>\n",
       "      <th>1990-09-30</th>\n",
       "      <td>0.48</td>\n",
       "    </tr>\n",
       "    <tr>\n",
       "      <th>2020-09-30</th>\n",
       "      <td>0.46</td>\n",
       "    </tr>\n",
       "    <tr>\n",
       "      <th>2009-06-30</th>\n",
       "      <td>0.38</td>\n",
       "    </tr>\n",
       "    <tr>\n",
       "      <th>2021-03-31</th>\n",
       "      <td>0.37</td>\n",
       "    </tr>\n",
       "    <tr>\n",
       "      <th>2016-06-30</th>\n",
       "      <td>0.36</td>\n",
       "    </tr>\n",
       "    <tr>\n",
       "      <th>...</th>\n",
       "      <td>...</td>\n",
       "    </tr>\n",
       "    <tr>\n",
       "      <th>1991-03-31</th>\n",
       "      <td>-0.32</td>\n",
       "    </tr>\n",
       "    <tr>\n",
       "      <th>2015-03-31</th>\n",
       "      <td>-0.34</td>\n",
       "    </tr>\n",
       "    <tr>\n",
       "      <th>2020-06-30</th>\n",
       "      <td>-0.38</td>\n",
       "    </tr>\n",
       "    <tr>\n",
       "      <th>2008-12-31</th>\n",
       "      <td>-0.50</td>\n",
       "    </tr>\n",
       "    <tr>\n",
       "      <th>1986-03-31</th>\n",
       "      <td>NaN</td>\n",
       "    </tr>\n",
       "  </tbody>\n",
       "</table>\n",
       "<p>144 rows × 1 columns</p>\n",
       "</div>"
      ],
      "text/plain": [
       "            Price\n",
       "Date             \n",
       "1990-09-30   0.48\n",
       "2020-09-30   0.46\n",
       "2009-06-30   0.38\n",
       "2021-03-31   0.37\n",
       "2016-06-30   0.36\n",
       "...           ...\n",
       "1991-03-31  -0.32\n",
       "2015-03-31  -0.34\n",
       "2020-06-30  -0.38\n",
       "2008-12-31  -0.50\n",
       "1986-03-31    NaN\n",
       "\n",
       "[144 rows x 1 columns]"
      ]
     },
     "execution_count": 559,
     "metadata": {},
     "output_type": "execute_result"
    }
   ],
   "source": [
    "# what was the biggest percentage increase in oil prices across quarters?\n",
    "oil.resample('Q').mean().pct_change().sort_values('Price', ascending=False)"
   ]
  },
  {
   "cell_type": "markdown",
   "id": "95d0952e-c4b0-4012-b042-0cbcbbde4039",
   "metadata": {},
   "source": [
    "## Exercise 42 - Best tippers"
   ]
  },
  {
   "cell_type": "code",
   "execution_count": 561,
   "id": "347dee3d-faf4-4334-96a2-2c677bba6fab",
   "metadata": {},
   "outputs": [
    {
     "data": {
      "text/html": [
       "<div>\n",
       "<style scoped>\n",
       "    .dataframe tbody tr th:only-of-type {\n",
       "        vertical-align: middle;\n",
       "    }\n",
       "\n",
       "    .dataframe tbody tr th {\n",
       "        vertical-align: top;\n",
       "    }\n",
       "\n",
       "    .dataframe thead th {\n",
       "        text-align: right;\n",
       "    }\n",
       "</style>\n",
       "<table border=\"1\" class=\"dataframe\">\n",
       "  <thead>\n",
       "    <tr style=\"text-align: right;\">\n",
       "      <th></th>\n",
       "      <th>tpep_pickup_datetime</th>\n",
       "      <th>passenger_count</th>\n",
       "      <th>trip_distance</th>\n",
       "      <th>fare_amount</th>\n",
       "      <th>extra</th>\n",
       "      <th>mta_tax</th>\n",
       "      <th>tip_amount</th>\n",
       "      <th>tolls_amount</th>\n",
       "      <th>improvement_surcharge</th>\n",
       "      <th>total_amount</th>\n",
       "      <th>congestion_surcharge</th>\n",
       "    </tr>\n",
       "  </thead>\n",
       "  <tbody>\n",
       "    <tr>\n",
       "      <th>0</th>\n",
       "      <td>2019-01-01 00:46:40</td>\n",
       "      <td>1</td>\n",
       "      <td>1.50</td>\n",
       "      <td>7.00</td>\n",
       "      <td>0.50</td>\n",
       "      <td>0.50</td>\n",
       "      <td>1.65</td>\n",
       "      <td>0.00</td>\n",
       "      <td>0.30</td>\n",
       "      <td>9.95</td>\n",
       "      <td>NaN</td>\n",
       "    </tr>\n",
       "    <tr>\n",
       "      <th>1</th>\n",
       "      <td>2019-01-01 00:59:47</td>\n",
       "      <td>1</td>\n",
       "      <td>2.60</td>\n",
       "      <td>14.00</td>\n",
       "      <td>0.50</td>\n",
       "      <td>0.50</td>\n",
       "      <td>1.00</td>\n",
       "      <td>0.00</td>\n",
       "      <td>0.30</td>\n",
       "      <td>16.30</td>\n",
       "      <td>NaN</td>\n",
       "    </tr>\n",
       "    <tr>\n",
       "      <th>2</th>\n",
       "      <td>2018-12-21 13:48:30</td>\n",
       "      <td>3</td>\n",
       "      <td>0.00</td>\n",
       "      <td>4.50</td>\n",
       "      <td>0.50</td>\n",
       "      <td>0.50</td>\n",
       "      <td>0.00</td>\n",
       "      <td>0.00</td>\n",
       "      <td>0.30</td>\n",
       "      <td>5.80</td>\n",
       "      <td>NaN</td>\n",
       "    </tr>\n",
       "    <tr>\n",
       "      <th>3</th>\n",
       "      <td>2018-11-28 15:52:25</td>\n",
       "      <td>5</td>\n",
       "      <td>0.00</td>\n",
       "      <td>3.50</td>\n",
       "      <td>0.50</td>\n",
       "      <td>0.50</td>\n",
       "      <td>0.00</td>\n",
       "      <td>0.00</td>\n",
       "      <td>0.30</td>\n",
       "      <td>7.55</td>\n",
       "      <td>NaN</td>\n",
       "    </tr>\n",
       "    <tr>\n",
       "      <th>4</th>\n",
       "      <td>2018-11-28 15:56:57</td>\n",
       "      <td>5</td>\n",
       "      <td>0.00</td>\n",
       "      <td>52.00</td>\n",
       "      <td>0.00</td>\n",
       "      <td>0.50</td>\n",
       "      <td>0.00</td>\n",
       "      <td>0.00</td>\n",
       "      <td>0.30</td>\n",
       "      <td>55.55</td>\n",
       "      <td>NaN</td>\n",
       "    </tr>\n",
       "  </tbody>\n",
       "</table>\n",
       "</div>"
      ],
      "text/plain": [
       "  tpep_pickup_datetime  passenger_count  trip_distance  fare_amount  extra  \\\n",
       "0  2019-01-01 00:46:40                1           1.50         7.00   0.50   \n",
       "1  2019-01-01 00:59:47                1           2.60        14.00   0.50   \n",
       "2  2018-12-21 13:48:30                3           0.00         4.50   0.50   \n",
       "3  2018-11-28 15:52:25                5           0.00         3.50   0.50   \n",
       "4  2018-11-28 15:56:57                5           0.00        52.00   0.00   \n",
       "\n",
       "   mta_tax  tip_amount  tolls_amount  improvement_surcharge  total_amount  \\\n",
       "0     0.50        1.65          0.00                   0.30          9.95   \n",
       "1     0.50        1.00          0.00                   0.30         16.30   \n",
       "2     0.50        0.00          0.00                   0.30          5.80   \n",
       "3     0.50        0.00          0.00                   0.30          7.55   \n",
       "4     0.50        0.00          0.00                   0.30         55.55   \n",
       "\n",
       "   congestion_surcharge  \n",
       "0                   NaN  \n",
       "1                   NaN  \n",
       "2                   NaN  \n",
       "3                   NaN  \n",
       "4                   NaN  "
      ]
     },
     "execution_count": 561,
     "metadata": {},
     "output_type": "execute_result"
    }
   ],
   "source": [
    "# read in CSV, specify columns, parse dates\n",
    "jan_19 = pd.read_csv(root_path + 'nyc_taxi_2019-01.csv',\n",
    "                     usecols=['tpep_pickup_datetime',\n",
    "                              'passenger_count',\n",
    "                              'trip_distance',\n",
    "                              'fare_amount',\n",
    "                              'extra',\n",
    "                              'mta_tax',\n",
    "                              'tip_amount',\n",
    "                              'tolls_amount',\n",
    "                              'improvement_surcharge',\n",
    "                              'total_amount',\n",
    "                              'congestion_surcharge'],\n",
    "                     parse_dates=['tpep_pickup_datetime'])\n",
    "\n",
    "jan_19.head()"
   ]
  },
  {
   "cell_type": "code",
   "execution_count": 562,
   "id": "d399152d-85ac-4f5d-be0b-857ee14d4237",
   "metadata": {},
   "outputs": [
    {
     "data": {
      "text/html": [
       "<div>\n",
       "<style scoped>\n",
       "    .dataframe tbody tr th:only-of-type {\n",
       "        vertical-align: middle;\n",
       "    }\n",
       "\n",
       "    .dataframe tbody tr th {\n",
       "        vertical-align: top;\n",
       "    }\n",
       "\n",
       "    .dataframe thead th {\n",
       "        text-align: right;\n",
       "    }\n",
       "</style>\n",
       "<table border=\"1\" class=\"dataframe\">\n",
       "  <thead>\n",
       "    <tr style=\"text-align: right;\">\n",
       "      <th></th>\n",
       "      <th>tpep_pickup_datetime</th>\n",
       "      <th>passenger_count</th>\n",
       "      <th>trip_distance</th>\n",
       "      <th>fare_amount</th>\n",
       "      <th>extra</th>\n",
       "      <th>mta_tax</th>\n",
       "      <th>tip_amount</th>\n",
       "      <th>tolls_amount</th>\n",
       "      <th>improvement_surcharge</th>\n",
       "      <th>total_amount</th>\n",
       "      <th>congestion_surcharge</th>\n",
       "    </tr>\n",
       "  </thead>\n",
       "  <tbody>\n",
       "    <tr>\n",
       "      <th>0</th>\n",
       "      <td>2019-07-01 00:51:04</td>\n",
       "      <td>1.00</td>\n",
       "      <td>0.00</td>\n",
       "      <td>2.50</td>\n",
       "      <td>0.50</td>\n",
       "      <td>0.50</td>\n",
       "      <td>1.14</td>\n",
       "      <td>0.00</td>\n",
       "      <td>0.30</td>\n",
       "      <td>4.94</td>\n",
       "      <td>0.00</td>\n",
       "    </tr>\n",
       "    <tr>\n",
       "      <th>1</th>\n",
       "      <td>2019-07-01 00:46:04</td>\n",
       "      <td>1.00</td>\n",
       "      <td>4.16</td>\n",
       "      <td>16.50</td>\n",
       "      <td>0.50</td>\n",
       "      <td>0.50</td>\n",
       "      <td>0.00</td>\n",
       "      <td>0.00</td>\n",
       "      <td>0.30</td>\n",
       "      <td>20.30</td>\n",
       "      <td>2.50</td>\n",
       "    </tr>\n",
       "    <tr>\n",
       "      <th>2</th>\n",
       "      <td>2019-07-01 00:25:09</td>\n",
       "      <td>1.00</td>\n",
       "      <td>18.80</td>\n",
       "      <td>52.00</td>\n",
       "      <td>0.00</td>\n",
       "      <td>0.50</td>\n",
       "      <td>11.75</td>\n",
       "      <td>6.12</td>\n",
       "      <td>0.30</td>\n",
       "      <td>70.67</td>\n",
       "      <td>0.00</td>\n",
       "    </tr>\n",
       "    <tr>\n",
       "      <th>3</th>\n",
       "      <td>2019-07-01 00:33:32</td>\n",
       "      <td>1.00</td>\n",
       "      <td>18.46</td>\n",
       "      <td>52.00</td>\n",
       "      <td>0.00</td>\n",
       "      <td>0.50</td>\n",
       "      <td>11.06</td>\n",
       "      <td>0.00</td>\n",
       "      <td>0.30</td>\n",
       "      <td>66.36</td>\n",
       "      <td>2.50</td>\n",
       "    </tr>\n",
       "    <tr>\n",
       "      <th>4</th>\n",
       "      <td>2019-07-01 00:00:55</td>\n",
       "      <td>0.00</td>\n",
       "      <td>1.70</td>\n",
       "      <td>9.50</td>\n",
       "      <td>3.00</td>\n",
       "      <td>0.50</td>\n",
       "      <td>2.00</td>\n",
       "      <td>0.00</td>\n",
       "      <td>0.30</td>\n",
       "      <td>15.30</td>\n",
       "      <td>2.50</td>\n",
       "    </tr>\n",
       "  </tbody>\n",
       "</table>\n",
       "</div>"
      ],
      "text/plain": [
       "  tpep_pickup_datetime  passenger_count  trip_distance  fare_amount  extra  \\\n",
       "0  2019-07-01 00:51:04             1.00           0.00         2.50   0.50   \n",
       "1  2019-07-01 00:46:04             1.00           4.16        16.50   0.50   \n",
       "2  2019-07-01 00:25:09             1.00          18.80        52.00   0.00   \n",
       "3  2019-07-01 00:33:32             1.00          18.46        52.00   0.00   \n",
       "4  2019-07-01 00:00:55             0.00           1.70         9.50   3.00   \n",
       "\n",
       "   mta_tax  tip_amount  tolls_amount  improvement_surcharge  total_amount  \\\n",
       "0     0.50        1.14          0.00                   0.30          4.94   \n",
       "1     0.50        0.00          0.00                   0.30         20.30   \n",
       "2     0.50       11.75          6.12                   0.30         70.67   \n",
       "3     0.50       11.06          0.00                   0.30         66.36   \n",
       "4     0.50        2.00          0.00                   0.30         15.30   \n",
       "\n",
       "   congestion_surcharge  \n",
       "0                  0.00  \n",
       "1                  2.50  \n",
       "2                  0.00  \n",
       "3                  2.50  \n",
       "4                  2.50  "
      ]
     },
     "execution_count": 562,
     "metadata": {},
     "output_type": "execute_result"
    }
   ],
   "source": [
    "# ibid for july instead\n",
    "jul_19 = pd.read_csv(root_path + 'nyc_taxi_2019-07.csv',\n",
    "                     usecols=['tpep_pickup_datetime',\n",
    "                              'passenger_count',\n",
    "                              'trip_distance',\n",
    "                              'fare_amount',\n",
    "                              'extra',\n",
    "                              'mta_tax',\n",
    "                              'tip_amount',\n",
    "                              'tolls_amount',\n",
    "                              'improvement_surcharge',\n",
    "                              'total_amount',\n",
    "                              'congestion_surcharge'],\n",
    "                     parse_dates=['tpep_pickup_datetime'])\n",
    "\n",
    "jul_19.head()"
   ]
  },
  {
   "cell_type": "code",
   "execution_count": 563,
   "id": "bf16b007-9823-41c4-94bd-20373da18a18",
   "metadata": {},
   "outputs": [],
   "source": [
    "# combine dataframes\n",
    "taxi_tips = pd.concat([jan_19, jul_19])"
   ]
  },
  {
   "cell_type": "code",
   "execution_count": 564,
   "id": "240eb150-64d4-4a98-af61-952d0e0baaba",
   "metadata": {},
   "outputs": [
    {
     "data": {
      "text/plain": [
       "tpep_pickup_datetime     datetime64[ns]\n",
       "passenger_count                  object\n",
       "trip_distance                   float64\n",
       "fare_amount                     float64\n",
       "extra                           float64\n",
       "mta_tax                         float64\n",
       "tip_amount                      float64\n",
       "tolls_amount                    float64\n",
       "improvement_surcharge           float64\n",
       "total_amount                    float64\n",
       "congestion_surcharge             object\n",
       "dtype: object"
      ]
     },
     "execution_count": 564,
     "metadata": {},
     "output_type": "execute_result"
    }
   ],
   "source": [
    "# fill NA with 0\n",
    "taxi_tips = taxi_tips.fillna('0.00')\n",
    "taxi_tips.dtypes"
   ]
  },
  {
   "cell_type": "code",
   "execution_count": 565,
   "id": "733e6cd6-c302-46fd-b925-dbf3f44294cd",
   "metadata": {},
   "outputs": [
    {
     "data": {
      "text/plain": [
       "tpep_pickup_datetime     datetime64[ns]\n",
       "passenger_count                 float64\n",
       "trip_distance                   float64\n",
       "fare_amount                     float64\n",
       "extra                           float64\n",
       "mta_tax                         float64\n",
       "tip_amount                      float64\n",
       "tolls_amount                    float64\n",
       "improvement_surcharge           float64\n",
       "total_amount                    float64\n",
       "congestion_surcharge            float64\n",
       "dtype: object"
      ]
     },
     "execution_count": 565,
     "metadata": {},
     "output_type": "execute_result"
    }
   ],
   "source": [
    "# change dtypes to float\n",
    "taxi_tips['passenger_count'] = taxi_tips['passenger_count'].astype(float)\n",
    "taxi_tips['congestion_surcharge'] = taxi_tips['congestion_surcharge'].astype(float)\n",
    "taxi_tips.dtypes"
   ]
  },
  {
   "cell_type": "code",
   "execution_count": 566,
   "id": "efb71417-0e2b-4093-b6b4-a2e1b212daf0",
   "metadata": {},
   "outputs": [
    {
     "data": {
      "text/plain": [
       "0          8.30\n",
       "1         15.30\n",
       "2          5.80\n",
       "3          4.80\n",
       "4         52.80\n",
       "           ... \n",
       "6310414   29.00\n",
       "6310415   54.43\n",
       "6310416   65.40\n",
       "6310417   43.00\n",
       "6310418   22.15\n",
       "Name: pre_tip_amount, Length: 13978211, dtype: float64"
      ]
     },
     "execution_count": 566,
     "metadata": {},
     "output_type": "execute_result"
    }
   ],
   "source": [
    "# create column, 'pre_tip_amount' with all payments except total_amount and tip_amount\n",
    "taxi_tips['pre_tip_amount'] = taxi_tips['fare_amount'] + taxi_tips['extra'] + taxi_tips['mta_tax'] + taxi_tips['tolls_amount'] + taxi_tips['improvement_surcharge'] + taxi_tips['congestion_surcharge']\n",
    "\n",
    "taxi_tips['pre_tip_amount']"
   ]
  },
  {
   "cell_type": "code",
   "execution_count": 567,
   "id": "0211f006-395c-4ab7-8495-d3beb6827d10",
   "metadata": {},
   "outputs": [
    {
     "data": {
      "text/plain": [
       "0          8.30\n",
       "1         15.30\n",
       "2          5.80\n",
       "3          7.55\n",
       "4         55.55\n",
       "           ... \n",
       "6310414   29.00\n",
       "6310415   54.43\n",
       "6310416   65.40\n",
       "6310417   43.00\n",
       "6310418   22.15\n",
       "Length: 13978211, dtype: float64"
      ]
     },
     "execution_count": 567,
     "metadata": {},
     "output_type": "execute_result"
    }
   ],
   "source": [
    "# (total amount - tip amount) should match\n",
    "taxi_tips['total_amount'] - taxi_tips['tip_amount']"
   ]
  },
  {
   "cell_type": "code",
   "execution_count": 568,
   "id": "74ba6014-fa78-4749-97e2-43908dc45410",
   "metadata": {},
   "outputs": [
    {
     "data": {
      "text/html": [
       "<div>\n",
       "<style scoped>\n",
       "    .dataframe tbody tr th:only-of-type {\n",
       "        vertical-align: middle;\n",
       "    }\n",
       "\n",
       "    .dataframe tbody tr th {\n",
       "        vertical-align: top;\n",
       "    }\n",
       "\n",
       "    .dataframe thead th {\n",
       "        text-align: right;\n",
       "    }\n",
       "</style>\n",
       "<table border=\"1\" class=\"dataframe\">\n",
       "  <thead>\n",
       "    <tr style=\"text-align: right;\">\n",
       "      <th></th>\n",
       "      <th>tpep_pickup_datetime</th>\n",
       "      <th>passenger_count</th>\n",
       "      <th>trip_distance</th>\n",
       "      <th>fare_amount</th>\n",
       "      <th>extra</th>\n",
       "      <th>mta_tax</th>\n",
       "      <th>tip_amount</th>\n",
       "      <th>tolls_amount</th>\n",
       "      <th>improvement_surcharge</th>\n",
       "      <th>total_amount</th>\n",
       "      <th>congestion_surcharge</th>\n",
       "      <th>pre_tip_amount</th>\n",
       "      <th>tip_percentage</th>\n",
       "    </tr>\n",
       "  </thead>\n",
       "  <tbody>\n",
       "    <tr>\n",
       "      <th>0</th>\n",
       "      <td>2019-01-01 00:46:40</td>\n",
       "      <td>1.00</td>\n",
       "      <td>1.50</td>\n",
       "      <td>7.00</td>\n",
       "      <td>0.50</td>\n",
       "      <td>0.50</td>\n",
       "      <td>1.65</td>\n",
       "      <td>0.00</td>\n",
       "      <td>0.30</td>\n",
       "      <td>9.95</td>\n",
       "      <td>0.00</td>\n",
       "      <td>8.30</td>\n",
       "      <td>0.20</td>\n",
       "    </tr>\n",
       "    <tr>\n",
       "      <th>1</th>\n",
       "      <td>2019-01-01 00:59:47</td>\n",
       "      <td>1.00</td>\n",
       "      <td>2.60</td>\n",
       "      <td>14.00</td>\n",
       "      <td>0.50</td>\n",
       "      <td>0.50</td>\n",
       "      <td>1.00</td>\n",
       "      <td>0.00</td>\n",
       "      <td>0.30</td>\n",
       "      <td>16.30</td>\n",
       "      <td>0.00</td>\n",
       "      <td>15.30</td>\n",
       "      <td>0.07</td>\n",
       "    </tr>\n",
       "    <tr>\n",
       "      <th>2</th>\n",
       "      <td>2018-12-21 13:48:30</td>\n",
       "      <td>3.00</td>\n",
       "      <td>0.00</td>\n",
       "      <td>4.50</td>\n",
       "      <td>0.50</td>\n",
       "      <td>0.50</td>\n",
       "      <td>0.00</td>\n",
       "      <td>0.00</td>\n",
       "      <td>0.30</td>\n",
       "      <td>5.80</td>\n",
       "      <td>0.00</td>\n",
       "      <td>5.80</td>\n",
       "      <td>0.00</td>\n",
       "    </tr>\n",
       "    <tr>\n",
       "      <th>3</th>\n",
       "      <td>2018-11-28 15:52:25</td>\n",
       "      <td>5.00</td>\n",
       "      <td>0.00</td>\n",
       "      <td>3.50</td>\n",
       "      <td>0.50</td>\n",
       "      <td>0.50</td>\n",
       "      <td>0.00</td>\n",
       "      <td>0.00</td>\n",
       "      <td>0.30</td>\n",
       "      <td>7.55</td>\n",
       "      <td>0.00</td>\n",
       "      <td>4.80</td>\n",
       "      <td>0.00</td>\n",
       "    </tr>\n",
       "    <tr>\n",
       "      <th>4</th>\n",
       "      <td>2018-11-28 15:56:57</td>\n",
       "      <td>5.00</td>\n",
       "      <td>0.00</td>\n",
       "      <td>52.00</td>\n",
       "      <td>0.00</td>\n",
       "      <td>0.50</td>\n",
       "      <td>0.00</td>\n",
       "      <td>0.00</td>\n",
       "      <td>0.30</td>\n",
       "      <td>55.55</td>\n",
       "      <td>0.00</td>\n",
       "      <td>52.80</td>\n",
       "      <td>0.00</td>\n",
       "    </tr>\n",
       "  </tbody>\n",
       "</table>\n",
       "</div>"
      ],
      "text/plain": [
       "  tpep_pickup_datetime  passenger_count  trip_distance  fare_amount  extra  \\\n",
       "0  2019-01-01 00:46:40             1.00           1.50         7.00   0.50   \n",
       "1  2019-01-01 00:59:47             1.00           2.60        14.00   0.50   \n",
       "2  2018-12-21 13:48:30             3.00           0.00         4.50   0.50   \n",
       "3  2018-11-28 15:52:25             5.00           0.00         3.50   0.50   \n",
       "4  2018-11-28 15:56:57             5.00           0.00        52.00   0.00   \n",
       "\n",
       "   mta_tax  tip_amount  tolls_amount  improvement_surcharge  total_amount  \\\n",
       "0     0.50        1.65          0.00                   0.30          9.95   \n",
       "1     0.50        1.00          0.00                   0.30         16.30   \n",
       "2     0.50        0.00          0.00                   0.30          5.80   \n",
       "3     0.50        0.00          0.00                   0.30          7.55   \n",
       "4     0.50        0.00          0.00                   0.30         55.55   \n",
       "\n",
       "   congestion_surcharge  pre_tip_amount  tip_percentage  \n",
       "0                  0.00            8.30            0.20  \n",
       "1                  0.00           15.30            0.07  \n",
       "2                  0.00            5.80            0.00  \n",
       "3                  0.00            4.80            0.00  \n",
       "4                  0.00           52.80            0.00  "
      ]
     },
     "execution_count": 568,
     "metadata": {},
     "output_type": "execute_result"
    }
   ],
   "source": [
    "# create new column, 'tip_percentage', showing percentage of pre_tip_amount that the tip was\n",
    "taxi_tips['tip_percentage'] = taxi_tips['tip_amount'] / taxi_tips['pre_tip_amount']\n",
    "taxi_tips.head()"
   ]
  },
  {
   "cell_type": "code",
   "execution_count": 569,
   "id": "276c8b26-5dcc-40fd-8f5f-8bcc5d3b6efa",
   "metadata": {},
   "outputs": [
    {
     "data": {
      "text/plain": [
       "0.13003974566357937"
      ]
     },
     "execution_count": 569,
     "metadata": {},
     "output_type": "execute_result"
    }
   ],
   "source": [
    "# mean tip percentage across all tips in data set?\n",
    "taxi_tips['tip_percentage'].mean()"
   ]
  },
  {
   "cell_type": "code",
   "execution_count": 570,
   "id": "6c8be267-f7a2-4af0-9613-29ec0a690b45",
   "metadata": {},
   "outputs": [
    {
     "data": {
      "text/plain": [
       "28232"
      ]
     },
     "execution_count": 570,
     "metadata": {},
     "output_type": "execute_result"
    }
   ],
   "source": [
    "# how many times did people tip more than the pretip amount?\n",
    "len(taxi_tips.loc[taxi_tips['tip_amount'] > taxi_tips['pre_tip_amount'], 'tip_amount'])"
   ]
  },
  {
   "cell_type": "code",
   "execution_count": 571,
   "id": "6a203b46-2a45-44a7-869e-161150d11b18",
   "metadata": {},
   "outputs": [
    {
     "data": {
      "text/plain": [
       "tip_percentage\n",
       "False    13970379\n",
       "True         7832\n",
       "Name: count, dtype: int64"
      ]
     },
     "execution_count": 571,
     "metadata": {},
     "output_type": "execute_result"
    }
   ],
   "source": [
    "# this is correct, as sometimes \"pre_tip_amount\" was negative and \"tip_amount\" was 0\n",
    "(taxi_tips['tip_percentage'] > 1).value_counts()"
   ]
  },
  {
   "cell_type": "code",
   "execution_count": 572,
   "id": "10e61b0b-295f-4b64-a4b6-0c78e13a0086",
   "metadata": {},
   "outputs": [],
   "source": [
    "# which day of the week do people tip the greatest percentage of fare, on average?\n",
    "\n",
    "# set index\n",
    "taxi_tips = taxi_tips.set_index('tpep_pickup_datetime')"
   ]
  },
  {
   "cell_type": "code",
   "execution_count": 573,
   "id": "d3bf5222-c166-400b-bbd1-4c2bb1402329",
   "metadata": {},
   "outputs": [],
   "source": [
    "# reset index in place\n",
    "taxi_tips.reset_index(inplace=True)"
   ]
  },
  {
   "cell_type": "code",
   "execution_count": 574,
   "id": "ebaae7ae-9948-4347-9beb-6af75cd9f014",
   "metadata": {},
   "outputs": [
    {
     "data": {
      "text/plain": [
       "tpep_pickup_datetime\n",
       "3   0.13\n",
       "2   0.13\n",
       "1   0.13\n",
       "4   0.13\n",
       "0   0.13\n",
       "6   0.13\n",
       "5   0.13\n",
       "Name: tip_percentage, dtype: float64"
      ]
     },
     "execution_count": 574,
     "metadata": {},
     "output_type": "execute_result"
    }
   ],
   "source": [
    "# perform groupby and calculations\n",
    "taxi_tips.groupby(taxi_tips['tpep_pickup_datetime'].dt.weekday)['tip_percentage'].mean().sort_values(ascending=False)"
   ]
  },
  {
   "cell_type": "code",
   "execution_count": 575,
   "id": "2b7094a5-7e3c-4613-a05a-42f0d29c4211",
   "metadata": {},
   "outputs": [],
   "source": [
    "# 3 = Thursday"
   ]
  },
  {
   "cell_type": "code",
   "execution_count": 576,
   "id": "5c8ee757-e2ce-461d-8731-7e3fb70422ad",
   "metadata": {},
   "outputs": [
    {
     "data": {
      "text/plain": [
       "tpep_pickup_datetime\n",
       "22   0.14\n",
       "20   0.14\n",
       "21   0.14\n",
       "8    0.14\n",
       "19   0.14\n",
       "23   0.13\n",
       "18   0.13\n",
       "9    0.13\n",
       "7    0.13\n",
       "0    0.13\n",
       "2    0.13\n",
       "1    0.13\n",
       "17   0.13\n",
       "10   0.13\n",
       "11   0.13\n",
       "16   0.12\n",
       "13   0.12\n",
       "12   0.12\n",
       "14   0.12\n",
       "15   0.12\n",
       "3    0.12\n",
       "6    0.12\n",
       "4    0.12\n",
       "5    0.11\n",
       "Name: tip_percentage, dtype: float64"
      ]
     },
     "execution_count": 576,
     "metadata": {},
     "output_type": "execute_result"
    }
   ],
   "source": [
    "# at which hour do people tip the greatest percentage?\n",
    "taxi_tips.groupby(taxi_tips['tpep_pickup_datetime'].dt.hour)['tip_percentage'].mean().sort_values(ascending=False)"
   ]
  },
  {
   "cell_type": "code",
   "execution_count": 577,
   "id": "5042fda2-ed12-4b4a-977d-6a959f28fbe4",
   "metadata": {},
   "outputs": [],
   "source": [
    "# set index\n",
    "taxi_tips = taxi_tips.set_index('tpep_pickup_datetime')"
   ]
  },
  {
   "cell_type": "code",
   "execution_count": 578,
   "id": "a239e8be-77b3-4dcf-8e28-a3d29a3a6baa",
   "metadata": {},
   "outputs": [],
   "source": [
    "# reset index in place\n",
    "taxi_tips.reset_index(inplace=True)"
   ]
  },
  {
   "cell_type": "code",
   "execution_count": 579,
   "id": "54b24db6-2de9-4d77-893c-d61d6db32ee6",
   "metadata": {},
   "outputs": [
    {
     "data": {
      "text/plain": [
       "0.13701104824387902"
      ]
     },
     "execution_count": 579,
     "metadata": {},
     "output_type": "execute_result"
    }
   ],
   "source": [
    "# do people typically tip more in January or July?\n",
    "jan_mean = taxi_tips.loc[taxi_tips['tpep_pickup_datetime'].dt.month == 1, 'tip_percentage'].mean()\n",
    "\n",
    "# january mean\n",
    "jan_mean"
   ]
  },
  {
   "cell_type": "code",
   "execution_count": 580,
   "id": "81429dfa-3776-498d-a7e3-355c55486708",
   "metadata": {},
   "outputs": [
    {
     "data": {
      "text/plain": [
       "0.12157035841573742"
      ]
     },
     "execution_count": 580,
     "metadata": {},
     "output_type": "execute_result"
    }
   ],
   "source": [
    "jul_mean = taxi_tips.loc[taxi_tips['tpep_pickup_datetime'].dt.month == 7, 'tip_percentage'].mean()\n",
    "\n",
    "# july mean\n",
    "jul_mean"
   ]
  },
  {
   "cell_type": "code",
   "execution_count": 581,
   "id": "f57ed06c-4352-40d5-83e2-5f598343ea71",
   "metadata": {},
   "outputs": [
    {
     "data": {
      "text/plain": [
       "tpep_pickup_datetime\n",
       "5    0.20\n",
       "8    0.16\n",
       "3    0.15\n",
       "9    0.14\n",
       "1    0.14\n",
       "2    0.13\n",
       "7    0.12\n",
       "12   0.11\n",
       "6    0.11\n",
       "10   0.10\n",
       "4    0.07\n",
       "11   0.05\n",
       "Name: tip_percentage, dtype: float64"
      ]
     },
     "execution_count": 581,
     "metadata": {},
     "output_type": "execute_result"
    }
   ],
   "source": [
    "# can also group by month to get stats of all\n",
    "taxi_tips.groupby(taxi_tips['tpep_pickup_datetime'].dt.month)['tip_percentage'].mean().sort_values(ascending=False)"
   ]
  },
  {
   "cell_type": "code",
   "execution_count": 582,
   "id": "c2845754-b9fd-4717-bc40-6186c6eb2916",
   "metadata": {},
   "outputs": [],
   "source": [
    "# set index\n",
    "taxi_tips = taxi_tips.set_index('tpep_pickup_datetime')"
   ]
  },
  {
   "cell_type": "code",
   "execution_count": 583,
   "id": "642d5df3-90e7-4a78-ab72-6f8e52c984ca",
   "metadata": {},
   "outputs": [
    {
     "data": {
      "text/plain": [
       "tpep_pickup_datetime\n",
       "2019-02-13   0.36\n",
       "2019-02-25   0.25\n",
       "2019-08-20   0.24\n",
       "2019-11-27   0.20\n",
       "2019-08-15   0.20\n",
       "Name: tip_percentage, dtype: float64"
      ]
     },
     "execution_count": 583,
     "metadata": {},
     "output_type": "execute_result"
    }
   ],
   "source": [
    "# what was 1-day period when people tipped the greatest percentage on average?\n",
    "taxi_tips.resample('D')['tip_percentage'].mean().sort_values(ascending=False).head()"
   ]
  },
  {
   "cell_type": "markdown",
   "id": "2b1d28a3-f254-48df-b3d9-615020101ae7",
   "metadata": {},
   "source": [
    "### Exercise 42b"
   ]
  },
  {
   "cell_type": "code",
   "execution_count": 585,
   "id": "f8475b6a-5b0f-4aff-a82f-af926788d763",
   "metadata": {},
   "outputs": [
    {
     "data": {
      "text/plain": [
       "0.19146519965282618"
      ]
     },
     "execution_count": 585,
     "metadata": {},
     "output_type": "execute_result"
    }
   ],
   "source": [
    "# 32% of riders don't tip. of those who do, what % do they tip, on average\n",
    "taxi_tips.loc[taxi_tips['tip_amount'] > 0, 'tip_percentage'].mean()"
   ]
  },
  {
   "cell_type": "code",
   "execution_count": 586,
   "id": "ede6950f-f3bd-4fdd-b82f-683a85a03f76",
   "metadata": {},
   "outputs": [
    {
     "data": {
      "text/plain": [
       "816"
      ]
     },
     "execution_count": 586,
     "metadata": {},
     "output_type": "execute_result"
    }
   ],
   "source": [
    "# how many rides in the data set are from outside the correct dates?\n",
    "len(taxi_tips) - len(taxi_tips.loc['2019-01']) - len(taxi_tips.loc['2019-07'])"
   ]
  },
  {
   "cell_type": "code",
   "execution_count": 587,
   "id": "b9d8197a-eabf-4df1-b434-0e8efe7acb05",
   "metadata": {},
   "outputs": [
    {
     "name": "stdout",
     "output_type": "stream",
     "text": [
      "<class 'pandas.core.frame.DataFrame'>\n",
      "DatetimeIndex: 13977395 entries, 2019-01-01 00:46:40 to 2019-07-29 16:16:00\n",
      "Data columns (total 12 columns):\n",
      " #   Column                 Dtype  \n",
      "---  ------                 -----  \n",
      " 0   passenger_count        float64\n",
      " 1   trip_distance          float64\n",
      " 2   fare_amount            float64\n",
      " 3   extra                  float64\n",
      " 4   mta_tax                float64\n",
      " 5   tip_amount             float64\n",
      " 6   tolls_amount           float64\n",
      " 7   improvement_surcharge  float64\n",
      " 8   total_amount           float64\n",
      " 9   congestion_surcharge   float64\n",
      " 10  pre_tip_amount         float64\n",
      " 11  tip_percentage         float64\n",
      "dtypes: float64(12)\n",
      "memory usage: 1.4 GB\n"
     ]
    }
   ],
   "source": [
    "# looking at dates in jan and july, what week did passengers tip the greatest percentage?\n",
    "jan_correct = taxi_tips.loc['2019-01']\n",
    "jul_correct = taxi_tips.loc['2019-07']\n",
    "\n",
    "taxi_correct = pd.concat([jan_correct, jul_correct])\n",
    "taxi_correct.info()"
   ]
  },
  {
   "cell_type": "code",
   "execution_count": 588,
   "id": "2726c28b-0488-4f96-b5fd-2acd2c00805c",
   "metadata": {},
   "outputs": [
    {
     "data": {
      "text/plain": [
       "tpep_pickup_datetime\n",
       "2019-02-03   0.14\n",
       "2019-01-27   0.14\n",
       "2019-01-20   0.14\n",
       "2019-01-13   0.14\n",
       "2019-01-06   0.13\n",
       "Name: tip_percentage, dtype: float64"
      ]
     },
     "execution_count": 588,
     "metadata": {},
     "output_type": "execute_result"
    }
   ],
   "source": [
    "taxi_correct.resample('1W')['tip_percentage'].mean().sort_values(ascending=False).head()"
   ]
  },
  {
   "cell_type": "markdown",
   "id": "8204ffdd-d6e8-4e8a-ba01-b470631a04e3",
   "metadata": {},
   "source": [
    "## Chapter 10 notes\n",
    "- Setting Datetime index makes searching much easier, permits use of df.resample('1D').mean() and useful attributes such as df.index.is_quarter_end\n",
    "- NaN values can cause some errors in even basic addition, returning NaN as output\n",
    "- Remember dt accessor when extracting date parts from datetime, df['column'].dt.weekday"
   ]
  }
 ],
 "metadata": {
  "kernelspec": {
   "display_name": "Python 3 (ipykernel)",
   "language": "python",
   "name": "python3"
  },
  "language_info": {
   "codemirror_mode": {
    "name": "ipython",
    "version": 3
   },
   "file_extension": ".py",
   "mimetype": "text/x-python",
   "name": "python",
   "nbconvert_exporter": "python",
   "pygments_lexer": "ipython3",
   "version": "3.11.7"
  }
 },
 "nbformat": 4,
 "nbformat_minor": 5
}
