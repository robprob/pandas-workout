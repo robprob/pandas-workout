{
 "cells": [
  {
   "cell_type": "markdown",
   "id": "59abddd0-38d4-4b43-a513-24f4a9b7b0af",
   "metadata": {},
   "source": [
    "# Imports"
   ]
  },
  {
   "cell_type": "code",
   "execution_count": 2,
   "id": "1b53454d-989e-4614-8dfc-9e1a752df66e",
   "metadata": {},
   "outputs": [],
   "source": [
    "import pandas as pd\n",
    "import numpy as np\n",
    "import matplotlib.pyplot as plt\n",
    "import seaborn as sns\n",
    "from datetime import datetime\n",
    "from scipy.stats import zscore\n",
    "import requests\n",
    "from io import StringIO\n",
    "import string\n",
    "from operator import length_hint\n",
    "import time\n",
    "import glob\n",
    "import os\n",
    "\n",
    "root_path = 'D:/Documents/Data Analysis/Datasets/pandas-workout-data/data/'"
   ]
  },
  {
   "cell_type": "markdown",
   "id": "60de8672-5b1c-4cb8-becd-c4fb5288360f",
   "metadata": {},
   "source": [
    "# 1. Series"
   ]
  },
  {
   "cell_type": "markdown",
   "id": "a6ecff5a-f798-49c5-aba2-d73a2138764e",
   "metadata": {},
   "source": [
    "## Exercise 01 - Test scores"
   ]
  },
  {
   "cell_type": "code",
   "execution_count": 7,
   "id": "3418d64a-beca-44aa-9c77-aeb29b7b8e57",
   "metadata": {},
   "outputs": [],
   "source": [
    "# instantiate random number generator with seed 0\n",
    "g = np.random.default_rng(0)\n",
    "\n",
    "# generate reproducible random test scores\n",
    "month_scores = g.integers(70, 101, 10)"
   ]
  },
  {
   "cell_type": "code",
   "execution_count": 8,
   "id": "a3d4ea26-8707-49e5-a688-9b89d0aff49c",
   "metadata": {},
   "outputs": [
    {
     "data": {
      "text/plain": [
       "7"
      ]
     },
     "execution_count": 8,
     "metadata": {},
     "output_type": "execute_result"
    }
   ],
   "source": [
    "# datetime cannot return full written month name, must use index instead\n",
    "test_date = datetime(2024, 7, 14)\n",
    "test_date.month"
   ]
  },
  {
   "cell_type": "code",
   "execution_count": 9,
   "id": "176a95ac-d950-4e38-82bd-77582cf29733",
   "metadata": {},
   "outputs": [
    {
     "data": {
      "text/plain": [
       "Index(['September', 'October', 'November', 'December', 'January', 'February',\n",
       "       'March', 'April', 'May', 'June'],\n",
       "      dtype='object')"
      ]
     },
     "execution_count": 9,
     "metadata": {},
     "output_type": "execute_result"
    }
   ],
   "source": [
    "# date_range creates reusability, customizability\n",
    "months = pd.date_range(start='2023-09', end='2024-07', freq='M').month_name()\n",
    "months"
   ]
  },
  {
   "cell_type": "code",
   "execution_count": 10,
   "id": "d35ec85d-3215-4f7a-a95f-ee520a80c793",
   "metadata": {},
   "outputs": [
    {
     "data": {
      "text/plain": [
       "September    96\n",
       "October      89\n",
       "November     85\n",
       "December     78\n",
       "January      79\n",
       "February     71\n",
       "March        72\n",
       "April        70\n",
       "May          75\n",
       "June         95\n",
       "dtype: int64"
      ]
     },
     "execution_count": 10,
     "metadata": {},
     "output_type": "execute_result"
    }
   ],
   "source": [
    "# create \"grades\" series combining scores with month index\n",
    "grades = pd.Series(month_scores, index=months)\n",
    "grades"
   ]
  },
  {
   "cell_type": "code",
   "execution_count": 11,
   "id": "e776f350-02c2-4898-ae46-895fb7368e06",
   "metadata": {},
   "outputs": [
    {
     "data": {
      "text/plain": [
       "81.0"
      ]
     },
     "execution_count": 11,
     "metadata": {},
     "output_type": "execute_result"
    }
   ],
   "source": [
    "# avg test score whole school year\n",
    "grades.mean()"
   ]
  },
  {
   "cell_type": "code",
   "execution_count": 12,
   "id": "d4e38d40-978b-4407-ba54-008689a7f843",
   "metadata": {},
   "outputs": [
    {
     "data": {
      "text/plain": [
       "85.4"
      ]
     },
     "execution_count": 12,
     "metadata": {},
     "output_type": "execute_result"
    }
   ],
   "source": [
    "# avg score first 5 months\n",
    "first_half = grades.iloc[:5].mean()\n",
    "first_half"
   ]
  },
  {
   "cell_type": "code",
   "execution_count": 13,
   "id": "c7baebe2-b8ac-4640-bb20-f3dd90307dee",
   "metadata": {},
   "outputs": [
    {
     "data": {
      "text/plain": [
       "76.6"
      ]
     },
     "execution_count": 13,
     "metadata": {},
     "output_type": "execute_result"
    }
   ],
   "source": [
    "# avg score last 5 months\n",
    "second_half = grades.iloc[5:].mean()\n",
    "second_half"
   ]
  },
  {
   "cell_type": "code",
   "execution_count": 14,
   "id": "eed3906c-1c85-432f-b951-4bafd3432906",
   "metadata": {},
   "outputs": [
    {
     "name": "stdout",
     "output_type": "stream",
     "text": [
      "Student improved score by -8.800000000000011\n",
      "Study up!\n"
     ]
    }
   ],
   "source": [
    "# did student improve? by how much?\n",
    "print(f'Student improved score by {second_half - first_half}')\n",
    "if second_half < first_half:\n",
    "    print('Study up!')"
   ]
  },
  {
   "cell_type": "markdown",
   "id": "54efe70a-ae8d-4377-a2be-83067bd8491d",
   "metadata": {},
   "source": [
    "### Exercise 01b"
   ]
  },
  {
   "cell_type": "code",
   "execution_count": 16,
   "id": "d4e3be1d-126b-410b-bf72-50320ef236c7",
   "metadata": {},
   "outputs": [
    {
     "data": {
      "text/plain": [
       "'September'"
      ]
     },
     "execution_count": 16,
     "metadata": {},
     "output_type": "execute_result"
    }
   ],
   "source": [
    "# month highest score?\n",
    "month_high = grades.idxmax()\n",
    "month_high"
   ]
  },
  {
   "cell_type": "code",
   "execution_count": 17,
   "id": "06b14a44-1f45-41b5-9d42-9a94e6434208",
   "metadata": {},
   "outputs": [
    {
     "data": {
      "text/plain": [
       "[96, 95, 89, 85, 79]"
      ]
     },
     "execution_count": 17,
     "metadata": {},
     "output_type": "execute_result"
    }
   ],
   "source": [
    "# 5 highest scores\n",
    "grades.sort_values(ascending=False).head().to_list()"
   ]
  },
  {
   "cell_type": "code",
   "execution_count": 18,
   "id": "267443e9-2bd5-4fb9-a75a-35d9c07209d7",
   "metadata": {},
   "outputs": [
    {
     "data": {
      "text/plain": [
       "September    100.0\n",
       "October       90.0\n",
       "November      80.0\n",
       "December      80.0\n",
       "January       80.0\n",
       "February      70.0\n",
       "March         70.0\n",
       "April         70.0\n",
       "May           80.0\n",
       "June         100.0\n",
       "dtype: float64"
      ]
     },
     "execution_count": 18,
     "metadata": {},
     "output_type": "execute_result"
    }
   ],
   "source": [
    "# round scores to nearest 10\n",
    "(grades/10).round() * 10"
   ]
  },
  {
   "cell_type": "markdown",
   "id": "26c40e36-7e0e-4af4-8820-f27284276940",
   "metadata": {},
   "source": [
    "### Notes\n",
    "- could have used index method instead\n",
    "- .split() can make it easier to type out a list, but looks messy/unclear and can cause issues when there are spaces\n",
    "- iloc and loc both work here (loc takes twice as long to run)\n",
    "- could even also used head() and tail() to find first/last 5 values"
   ]
  },
  {
   "cell_type": "code",
   "execution_count": 20,
   "id": "b45507b7-7cdd-4ad9-bb3b-34d51569bc80",
   "metadata": {},
   "outputs": [
    {
     "data": {
      "text/plain": [
       "Sep    96\n",
       "Oct    89\n",
       "Nov    85\n",
       "Dec    78\n",
       "Jan    79\n",
       "Feb    71\n",
       "Mar    72\n",
       "Apr    70\n",
       "May    75\n",
       "Jun    95\n",
       "dtype: int64"
      ]
     },
     "execution_count": 20,
     "metadata": {},
     "output_type": "execute_result"
    }
   ],
   "source": [
    "grades.index='Sep Oct Nov Dec Jan Feb Mar Apr May Jun'.split()\n",
    "grades"
   ]
  },
  {
   "cell_type": "markdown",
   "id": "d880a1fc-1768-4d05-ba7b-20881ce16f51",
   "metadata": {},
   "source": [
    "## Exercise 02 - Scaling test scores"
   ]
  },
  {
   "cell_type": "code",
   "execution_count": 22,
   "id": "066dadc0-0b05-443b-bd96-6fa5c980e570",
   "metadata": {},
   "outputs": [
    {
     "data": {
      "text/plain": [
       "Sep    57\n",
       "Oct    53\n",
       "Nov    50\n",
       "Dec    45\n",
       "Jan    46\n",
       "Feb    40\n",
       "Mar    41\n",
       "Apr    40\n",
       "May    43\n",
       "Jun    57\n",
       "dtype: int64"
      ]
     },
     "execution_count": 22,
     "metadata": {},
     "output_type": "execute_result"
    }
   ],
   "source": [
    "# instantiate RNG, seed 0\n",
    "g = np.random.default_rng(0)\n",
    "\n",
    "# test scores for challenging test\n",
    "hard_test_scores = g.integers(40, 61, 10)\n",
    "\n",
    "# create abbreviated month index using split\n",
    "month_index = 'Sep Oct Nov Dec Jan Feb Mar Apr May Jun'.split()\n",
    "\n",
    "# combine into a series\n",
    "hard_test = pd.Series(hard_test_scores, index=month_index)\n",
    "hard_test"
   ]
  },
  {
   "cell_type": "code",
   "execution_count": 23,
   "id": "d06f00d1-1bf5-474d-b092-6a9ac5e8f509",
   "metadata": {},
   "outputs": [
    {
     "data": {
      "text/plain": [
       "Sep    89.8\n",
       "Oct    85.8\n",
       "Nov    82.8\n",
       "Dec    77.8\n",
       "Jan    78.8\n",
       "Feb    72.8\n",
       "Mar    73.8\n",
       "Apr    72.8\n",
       "May    75.8\n",
       "Jun    89.8\n",
       "dtype: float64"
      ]
     },
     "execution_count": 23,
     "metadata": {},
     "output_type": "execute_result"
    }
   ],
   "source": [
    "# scale the challenging test scores to a mean of 80\n",
    "hard_mean = hard_test.mean()\n",
    "scaler = 80 - hard_mean\n",
    "\n",
    "scaled_test = hard_test + scaler\n",
    "scaled_test"
   ]
  },
  {
   "cell_type": "markdown",
   "id": "fe733947-2e7c-4f68-b14c-4774a02a2cc9",
   "metadata": {},
   "source": [
    "### Exercise 02b"
   ]
  },
  {
   "cell_type": "code",
   "execution_count": 25,
   "id": "729b90b5-79b2-4a81-af0f-72252987d624",
   "metadata": {},
   "outputs": [
    {
     "name": "stdout",
     "output_type": "stream",
     "text": [
      "<class 'pandas.core.arrays.categorical.Categorical'>\n",
      "[3 2 2 1 1 0 1 0 1 3]\n",
      "Index(['D', 'C', 'B', 'A'], dtype='object')\n"
     ]
    },
    {
     "data": {
      "text/plain": [
       "Sep    A\n",
       "Oct    B\n",
       "Nov    B\n",
       "Dec    C\n",
       "Jan    C\n",
       "Feb    D\n",
       "Mar    C\n",
       "Apr    D\n",
       "May    C\n",
       "Jun    A\n",
       "dtype: category\n",
       "Categories (4, object): ['D' < 'C' < 'B' < 'A']"
      ]
     },
     "execution_count": 25,
     "metadata": {},
     "output_type": "execute_result"
    }
   ],
   "source": [
    "# scale into grade labels using the standard deviation\n",
    "\n",
    "# standard deviation\n",
    "stand = hard_test.std()\n",
    "\n",
    "# define grade cutoffs\n",
    "A = hard_mean + stand\n",
    "B = hard_mean\n",
    "C = hard_mean - stand\n",
    "\n",
    "# grab values so converts to categorical object\n",
    "hard_list = hard_test.values\n",
    "\n",
    "# cut into bins with grade labels\n",
    "grade_cat = pd.cut(hard_list, bins=[0, C, B, A, 100], labels='D C B A'.split())\n",
    "\n",
    "# ensure is categorical object\n",
    "print(type(grade_cat))\n",
    "\n",
    "# codes\n",
    "print(grade_cat.codes)\n",
    "\n",
    "# categories\n",
    "print(grade_cat.categories)\n",
    "\n",
    "# create series again (could've also used series originally but I wanted to test the methods)\n",
    "std_grades = pd.Series(grade_cat, index=month_index)\n",
    "std_grades"
   ]
  },
  {
   "cell_type": "code",
   "execution_count": 26,
   "id": "17be8fc0-7cd0-4c83-a850-32dfeb27369b",
   "metadata": {},
   "outputs": [
    {
     "name": "stdout",
     "output_type": "stream",
     "text": [
      "Sep    False\n",
      "Oct    False\n",
      "Nov    False\n",
      "Dec    False\n",
      "Jan    False\n",
      "Feb    False\n",
      "Mar    False\n",
      "Apr    False\n",
      "May    False\n",
      "Jun    False\n",
      "dtype: bool\n",
      "\n",
      "Any outliers?: False\n"
     ]
    }
   ],
   "source": [
    "# outliers (scores 2 std above or below mean)\n",
    "above = hard_mean + (stand * 2)\n",
    "below = hard_mean - (stand * 2)\n",
    "\n",
    "outliers = (hard_test > above) | (hard_test < below)\n",
    "print(outliers)\n",
    "print(f'\\nAny outliers?: {outliers.any()}')"
   ]
  },
  {
   "cell_type": "code",
   "execution_count": 27,
   "id": "8b72d792-5333-4f87-8161-534de4029390",
   "metadata": {},
   "outputs": [
    {
     "name": "stdout",
     "output_type": "stream",
     "text": [
      " Mean: 47.2\n",
      " Mean: 45.5\n"
     ]
    }
   ],
   "source": [
    "# compare difference between mean and median\n",
    "print(f' Mean: {hard_test.mean()}')\n",
    "print(f' Mean: {hard_test.median()}')\n",
    "\n",
    "# are fairly close, indicating relatively normal distribution"
   ]
  },
  {
   "cell_type": "markdown",
   "id": "dbe73b2d-57ab-45c9-91e6-6b499e411c49",
   "metadata": {},
   "source": [
    "## Exercise 03 - Counting tens digits "
   ]
  },
  {
   "cell_type": "code",
   "execution_count": 29,
   "id": "59a88c2c-9f3d-4bae-99e3-c54693fab9db",
   "metadata": {},
   "outputs": [
    {
     "data": {
      "text/plain": [
       "0    85\n",
       "1    63\n",
       "2    51\n",
       "3    26\n",
       "4    30\n",
       "5     4\n",
       "6     7\n",
       "7     1\n",
       "8    17\n",
       "9    81\n",
       "dtype: int64"
      ]
     },
     "execution_count": 29,
     "metadata": {},
     "output_type": "execute_result"
    }
   ],
   "source": [
    "# instantiate RNG, seed 0\n",
    "g = np.random.default_rng(0)\n",
    "\n",
    "# generate random integers\n",
    "counting = g.integers(0, 100, 10)\n",
    "\n",
    "# create into series\n",
    "counting = pd.Series(counting)\n",
    "counting"
   ]
  },
  {
   "cell_type": "code",
   "execution_count": 30,
   "id": "578a56dc-6ee0-491c-9181-0376dd997eda",
   "metadata": {},
   "outputs": [
    {
     "name": "stdout",
     "output_type": "stream",
     "text": [
      "8\n",
      "6\n",
      "5\n",
      "2\n",
      "3\n",
      "0\n",
      "0\n",
      "0\n",
      "1\n",
      "8\n"
     ]
    }
   ],
   "source": [
    "# display tens digits (data type conversion strategy)\n",
    "for x in counting:\n",
    "    if x >=10:\n",
    "        x = str(x)\n",
    "        x = x[0]\n",
    "        x = int(x)\n",
    "        print(x)\n",
    "    else:\n",
    "        print(0)"
   ]
  },
  {
   "cell_type": "markdown",
   "id": "b3ce493c-fc7b-4a2f-b902-5bd9749bb1cf",
   "metadata": {},
   "source": [
    "### Exercise 03b\n",
    "- Range 0 - 10,000:\n",
    "- just have to make sure using negative indexing\n",
    "- smallest data type: np.int16 (or np.uint16)"
   ]
  },
  {
   "cell_type": "code",
   "execution_count": 32,
   "id": "aac68e43-1979-468d-8510-7a766cc66484",
   "metadata": {},
   "outputs": [
    {
     "data": {
      "text/plain": [
       "0    636.961687\n",
       "1    269.786714\n",
       "2     40.973524\n",
       "3     16.527636\n",
       "4    813.270239\n",
       "5    912.755577\n",
       "6    606.635776\n",
       "7    729.496561\n",
       "8    543.624991\n",
       "9    935.072424\n",
       "dtype: float64"
      ]
     },
     "execution_count": 32,
     "metadata": {},
     "output_type": "execute_result"
    }
   ],
   "source": [
    "# 10 floating point values between 0 and 1000\n",
    "g = np.random.default_rng(0)\n",
    "\n",
    "even = pd.Series(g.random(10) * 1000)\n",
    "even"
   ]
  },
  {
   "cell_type": "code",
   "execution_count": 33,
   "id": "443432fe-0a89-468b-a1e6-73d99a3d91db",
   "metadata": {},
   "outputs": [
    {
     "name": "stdout",
     "output_type": "stream",
     "text": [
      "0     True\n",
      "1    False\n",
      "2     True\n",
      "3     True\n",
      "4    False\n",
      "5     True\n",
      "6     True\n",
      "7    False\n",
      "8    False\n",
      "9    False\n",
      "dtype: bool \n",
      "\n",
      "0    636.961687\n",
      "2     40.973524\n",
      "3     16.527636\n",
      "5    912.755577\n",
      "6    606.635776\n",
      "dtype: float64\n"
     ]
    }
   ],
   "source": [
    "# find numbers whose integer component is even\n",
    "mask = ((even//1)/2).astype('str').str.get(-1).astype('int')==0\n",
    "print(mask, '\\n')\n",
    "\n",
    "print(even.loc[mask])"
   ]
  },
  {
   "cell_type": "markdown",
   "id": "d100fcf4-3a0d-4b97-89fa-75cfb37e8d50",
   "metadata": {},
   "source": [
    "### Notes\n",
    "- other options are to manually convert to int to truncate or do floor division\n",
    "- with strings, can use get and fillna to get same result in one line (split for readability with open parentheses)\n",
    "- modulo makes the process of finding even numbers much easier"
   ]
  },
  {
   "cell_type": "code",
   "execution_count": 35,
   "id": "84fa0744-4cdf-4ec3-ba58-3217a80a241d",
   "metadata": {},
   "outputs": [
    {
     "data": {
      "text/plain": [
       "0    8\n",
       "1    6\n",
       "2    5\n",
       "3    2\n",
       "4    3\n",
       "5    0\n",
       "6    0\n",
       "7    0\n",
       "8    1\n",
       "9    8\n",
       "dtype: int64"
      ]
     },
     "execution_count": 35,
     "metadata": {},
     "output_type": "execute_result"
    }
   ],
   "source": [
    "# manual conversion\n",
    "(counting / 10).astype('int64')"
   ]
  },
  {
   "cell_type": "code",
   "execution_count": 36,
   "id": "0bbc1720-e63f-4c8c-a545-37051538ddec",
   "metadata": {},
   "outputs": [
    {
     "data": {
      "text/plain": [
       "0    8\n",
       "1    6\n",
       "2    5\n",
       "3    2\n",
       "4    3\n",
       "5    0\n",
       "6    0\n",
       "7    0\n",
       "8    1\n",
       "9    8\n",
       "dtype: int64"
      ]
     },
     "execution_count": 36,
     "metadata": {},
     "output_type": "execute_result"
    }
   ],
   "source": [
    "# floor division\n",
    "(counting // 10)"
   ]
  },
  {
   "cell_type": "code",
   "execution_count": 37,
   "id": "7fec6296-f0e7-40da-963b-c1ba109ab573",
   "metadata": {},
   "outputs": [
    {
     "data": {
      "text/plain": [
       "0    8\n",
       "1    6\n",
       "2    5\n",
       "3    2\n",
       "4    3\n",
       "5    0\n",
       "6    0\n",
       "7    0\n",
       "8    1\n",
       "9    8\n",
       "dtype: int8"
      ]
     },
     "execution_count": 37,
     "metadata": {},
     "output_type": "execute_result"
    }
   ],
   "source": [
    "# string conversion w/ get and fillna\n",
    "(\n",
    "counting\n",
    "    .astype('string')\n",
    "    .str.get(-2)\n",
    "    .fillna('0')\n",
    "    .astype('int8')\n",
    ")"
   ]
  },
  {
   "cell_type": "code",
   "execution_count": 38,
   "id": "f092f868-cc7c-43ba-b99f-8a853ffb57ea",
   "metadata": {},
   "outputs": [
    {
     "data": {
      "text/plain": [
       "0    0\n",
       "1    1\n",
       "2    0\n",
       "3    0\n",
       "4    1\n",
       "5    0\n",
       "6    0\n",
       "7    1\n",
       "8    1\n",
       "9    1\n",
       "dtype: int64"
      ]
     },
     "execution_count": 38,
     "metadata": {},
     "output_type": "execute_result"
    }
   ],
   "source": [
    "even.astype(np.int64) % 2"
   ]
  },
  {
   "cell_type": "markdown",
   "id": "5745d24b-c902-41ce-9d37-23d9c4f3aa7c",
   "metadata": {},
   "source": [
    "## Exercise 04 - Descriptive statistics"
   ]
  },
  {
   "cell_type": "code",
   "execution_count": 40,
   "id": "236cb7d6-2bea-447b-96b9-20041d7d5b1c",
   "metadata": {},
   "outputs": [
    {
     "data": {
      "text/plain": [
       "0         12.573022\n",
       "1        -13.210486\n",
       "2         64.042265\n",
       "3         10.490012\n",
       "4        -53.566937\n",
       "            ...    \n",
       "99995    -91.667135\n",
       "99996   -231.480500\n",
       "99997     -0.028179\n",
       "99998   -109.645051\n",
       "99999    -49.541294\n",
       "Length: 100000, dtype: float64"
      ]
     },
     "execution_count": 40,
     "metadata": {},
     "output_type": "execute_result"
    }
   ],
   "source": [
    "# instantiate RNG, seed 0\n",
    "g = np.random.default_rng(0)\n",
    "\n",
    "# create a large normal distribution\n",
    "normal_dist = pd.Series(g.normal(0, 100, 100000))\n",
    "normal_dist"
   ]
  },
  {
   "cell_type": "code",
   "execution_count": 41,
   "id": "dcb7faeb-0f46-4ba6-8027-94cd128fd1e8",
   "metadata": {},
   "outputs": [
    {
     "data": {
      "text/plain": [
       "count    100000.000000\n",
       "mean         -0.090825\n",
       "std         100.013350\n",
       "min        -449.411704\n",
       "25%         -67.292120\n",
       "50%          -0.414699\n",
       "75%          67.636542\n",
       "max         473.195769\n",
       "dtype: float64"
      ]
     },
     "execution_count": 41,
     "metadata": {},
     "output_type": "execute_result"
    }
   ],
   "source": [
    "# descriptive stats\n",
    "stats = normal_dist.describe()\n",
    "stats"
   ]
  },
  {
   "cell_type": "code",
   "execution_count": 42,
   "id": "1cb16a3c-26fa-481b-8eed-93a245fe2791",
   "metadata": {},
   "outputs": [],
   "source": [
    "# replace min with 5 * max\n",
    "new_min = stats.loc['max'] * 5\n",
    "\n",
    "normal_dist.iloc[normal_dist.idxmin()] = new_min"
   ]
  },
  {
   "cell_type": "code",
   "execution_count": 43,
   "id": "8813e2ec-9377-4eb7-a796-3a43a4a7d2e1",
   "metadata": {},
   "outputs": [
    {
     "data": {
      "text/plain": [
       "count    100000.000000\n",
       "mean         -0.062671\n",
       "std         100.282770\n",
       "min        -402.315865\n",
       "25%         -67.288054\n",
       "50%          -0.409289\n",
       "75%          67.640758\n",
       "max        2365.978844\n",
       "dtype: float64"
      ]
     },
     "execution_count": 43,
     "metadata": {},
     "output_type": "execute_result"
    }
   ],
   "source": [
    "# new descriptive stats\n",
    "new_stats =  normal_dist.describe()\n",
    "new_stats"
   ]
  },
  {
   "cell_type": "markdown",
   "id": "4aa64890-27ec-4b67-9383-6a2ec1401fb2",
   "metadata": {},
   "source": [
    "### Exercise 04b"
   ]
  },
  {
   "cell_type": "code",
   "execution_count": 45,
   "id": "c413b054-fa98-4d6f-a5da-f52c5c9d3b3c",
   "metadata": {},
   "outputs": [
    {
     "name": "stdout",
     "output_type": "stream",
     "text": [
      "Mean: -0.09082507731206121\n",
      "Standard Deviation: 100.01335047331727\n"
     ]
    }
   ],
   "source": [
    "# demonstrate 1, 2, 3 SD away from mean\n",
    "# 68, 95, 99.7 rule\n",
    "g = np.random.default_rng(0)\n",
    "normal_dist = pd.Series(g.normal(0, 100, 100000))\n",
    "\n",
    "mean = normal_dist.mean()\n",
    "std = normal_dist.std()\n",
    "\n",
    "print(f'Mean: {mean}')\n",
    "print(f'Standard Deviation: {std}')"
   ]
  },
  {
   "cell_type": "code",
   "execution_count": 46,
   "id": "687c664a-622b-4727-a5e0-e67d0743e971",
   "metadata": {},
   "outputs": [
    {
     "name": "stdout",
     "output_type": "stream",
     "text": [
      "Within one std: 0.68396\n",
      "Within two std: 0.95461\n",
      "Within three std: 0.99708\n"
     ]
    }
   ],
   "source": [
    "one_std = (normal_dist >= (mean-std)) & (normal_dist <= (mean+std))\n",
    "print(f'Within one std: {one_std.mean()}')\n",
    "\n",
    "two_std = (normal_dist >= (mean-std*2)) & (normal_dist <= (mean+std*2))\n",
    "print(f'Within two std: {two_std.mean()}')\n",
    "\n",
    "three_std = (normal_dist >= (mean-std*3)) & (normal_dist <= (mean+std*3))\n",
    "print(f'Within three std: {three_std.mean()}')"
   ]
  },
  {
   "cell_type": "code",
   "execution_count": 47,
   "id": "bdd2c26e-4a23-443f-9a4c-0b3f46a96a4b",
   "metadata": {},
   "outputs": [
    {
     "name": "stdout",
     "output_type": "stream",
     "text": [
      "Mean of greater than: 79.92646167808225\n",
      "Mean of less than: -79.66763213378562\n",
      "Averaged: 0.12941477214831565\n",
      "\n",
      "Entire dataset mean: -0.09082507731206121\n"
     ]
    }
   ],
   "source": [
    "# mean of numbers greater than and less than mean\n",
    "\n",
    "# greater than mean\n",
    "greater_mean = normal_dist[normal_dist > mean].mean()\n",
    "print(f'Mean of greater than: {greater_mean}')\n",
    "\n",
    "# less than mean\n",
    "less_mean = normal_dist[normal_dist < mean].mean()\n",
    "print(f'Mean of less than: {less_mean}')\n",
    "\n",
    "# they're relatively inverse in a normal dist\n",
    "\n",
    "# averaged\n",
    "print(f'Averaged: {(greater_mean + less_mean)/2}\\n')\n",
    "\n",
    "# compare to mean of entire dataset\n",
    "print(f'Entire dataset mean: {mean}')"
   ]
  },
  {
   "cell_type": "code",
   "execution_count": 48,
   "id": "33ddfe8e-3a1c-496f-92ba-dfbd01563d9e",
   "metadata": {},
   "outputs": [
    {
     "data": {
      "text/plain": [
       "-11.606040282602287"
      ]
     },
     "execution_count": 48,
     "metadata": {},
     "output_type": "execute_result"
    }
   ],
   "source": [
    "# mean beyond 3 stds\n",
    "mask = (normal_dist < (mean-std*3)) | (normal_dist > (mean+std*3))\n",
    "normal_dist[mask].mean()"
   ]
  },
  {
   "cell_type": "markdown",
   "id": "ff2bfdbc-87ff-4508-aa3d-0a61b35413bb",
   "metadata": {},
   "source": [
    "### Notes\n",
    "- remember '_' can be used to separate a number for clarification, e.g. 100_000\n",
    "- can instead find ALL matches to the minimum (rather than just the first) with a mask s==s.min()"
   ]
  },
  {
   "cell_type": "markdown",
   "id": "01caee32-faca-41ef-86ed-73fa23a5d4af",
   "metadata": {},
   "source": [
    "## Exercise 05 - Monday temperatures"
   ]
  },
  {
   "cell_type": "code",
   "execution_count": 51,
   "id": "2b79ca34-10a8-4be1-96c0-3124b88545c0",
   "metadata": {},
   "outputs": [
    {
     "data": {
      "text/plain": [
       "Sun    21\n",
       "Mon    19\n",
       "Tue    23\n",
       "Wed    21\n",
       "Thu    17\n",
       "Fri    22\n",
       "Sat    27\n",
       "Sun    25\n",
       "Mon    16\n",
       "Tue    14\n",
       "Wed    17\n",
       "Thu    20\n",
       "Fri     8\n",
       "Sat    19\n",
       "Sun    14\n",
       "Mon    16\n",
       "Tue    17\n",
       "Wed    18\n",
       "Thu    22\n",
       "Fri    25\n",
       "Sat    19\n",
       "Sun    27\n",
       "Mon    17\n",
       "Tue    22\n",
       "Wed    25\n",
       "Thu    20\n",
       "Fri    16\n",
       "Sat    15\n",
       "dtype: int8"
      ]
     },
     "execution_count": 51,
     "metadata": {},
     "output_type": "execute_result"
    }
   ],
   "source": [
    "# instantiate RNG, seed 0\n",
    "g = np.random.default_rng(0)\n",
    "\n",
    "# create random temperature values\n",
    "temp_values = g.normal(20, 5, 28).round().astype('int8')\n",
    "\n",
    "# define days of week\n",
    "dow = 'Sun Mon Tue Wed Thu Fri Sat'.split()\n",
    "\n",
    "# combine into a series\n",
    "# multiplying index by 4 to extend it fourfold\n",
    "temps = pd.Series(temp_values, index=dow*4)\n",
    "temps"
   ]
  },
  {
   "cell_type": "code",
   "execution_count": 52,
   "id": "e7266634-79e0-458c-b5e9-b74ade9edf8a",
   "metadata": {},
   "outputs": [
    {
     "data": {
      "text/plain": [
       "17.0"
      ]
     },
     "execution_count": 52,
     "metadata": {},
     "output_type": "execute_result"
    }
   ],
   "source": [
    "# Mondays mean\n",
    "temps.loc['Mon'].mean()"
   ]
  },
  {
   "cell_type": "markdown",
   "id": "1f7d469b-b6d3-48b9-99c4-ebe5fb072f37",
   "metadata": {},
   "source": [
    "### Exercise 05b"
   ]
  },
  {
   "cell_type": "code",
   "execution_count": 54,
   "id": "bfc161cc-d29d-44dd-a5fb-2cb4a4ec404f",
   "metadata": {},
   "outputs": [
    {
     "data": {
      "text/plain": [
       "20.875"
      ]
     },
     "execution_count": 54,
     "metadata": {},
     "output_type": "execute_result"
    }
   ],
   "source": [
    "# avg weekend temp\n",
    "temps.loc[['Sat', 'Sun']].mean()"
   ]
  },
  {
   "cell_type": "code",
   "execution_count": 55,
   "id": "f752c609-5cf5-4430-b1eb-25ef322d8d8d",
   "metadata": {},
   "outputs": [
    {
     "data": {
      "text/plain": [
       "24"
      ]
     },
     "execution_count": 55,
     "metadata": {},
     "output_type": "execute_result"
    }
   ],
   "source": [
    "# how many instances of 2-degree or greater difference in temp\n",
    "(abs(temps.diff()) >= 2).sum()"
   ]
  },
  {
   "cell_type": "code",
   "execution_count": 56,
   "id": "9b1f0849-986f-42a3-b1bb-1e9327ffc9b4",
   "metadata": {},
   "outputs": [
    {
     "data": {
      "text/plain": [
       "17    4\n",
       "19    3\n",
       "Name: count, dtype: int64"
      ]
     },
     "execution_count": 56,
     "metadata": {},
     "output_type": "execute_result"
    }
   ],
   "source": [
    "# 2 most common temps and how often each appears\n",
    "temps.value_counts().head(2)"
   ]
  },
  {
   "cell_type": "markdown",
   "id": "11fdbeb0-398a-486e-95f0-b3089510993a",
   "metadata": {},
   "source": [
    "## Exercise 06 - Passenger frequency"
   ]
  },
  {
   "cell_type": "code",
   "execution_count": 58,
   "id": "4db6fa93-9431-4671-b4b7-f3bc52a6956e",
   "metadata": {},
   "outputs": [
    {
     "data": {
      "text/plain": [
       "0       1\n",
       "1       1\n",
       "2       1\n",
       "3       1\n",
       "4       1\n",
       "       ..\n",
       "9994    1\n",
       "9995    1\n",
       "9996    1\n",
       "9997    6\n",
       "9998    1\n",
       "Name: 0, Length: 9999, dtype: int64"
      ]
     },
     "execution_count": 58,
     "metadata": {},
     "output_type": "execute_result"
    }
   ],
   "source": [
    "# load in CSV\n",
    "passengers = pd.read_csv(r'D:\\Documents\\Data Analysis\\Datasets\\pandas-workout-data\\data\\taxi-passenger-count.csv', header=None)\n",
    "\n",
    "# squeeze into a series\n",
    "passengers = passengers.squeeze()\n",
    "passengers"
   ]
  },
  {
   "cell_type": "code",
   "execution_count": 59,
   "id": "234d9038-a67b-457f-9154-4b6cb56deb8e",
   "metadata": {},
   "outputs": [
    {
     "name": "stdout",
     "output_type": "stream",
     "text": [
      "Single riders: 72.08%\n",
      "Max riders: 3.69%\n"
     ]
    }
   ],
   "source": [
    "# proportion of single riders and \"max\" riders\n",
    "prop = passengers.value_counts(normalize=True)\n",
    "\n",
    "# single riders\n",
    "solo = prop.loc[1]\n",
    "print(f'Single riders: {(solo*100).round(2)}%')\n",
    "\n",
    "# \"max\" riders, which is declared to be 6\n",
    "max_peeps = prop.loc[6]\n",
    "print(f'Max riders: {(max_peeps*100).round(2)}%')"
   ]
  },
  {
   "cell_type": "markdown",
   "id": "7fd29251-4180-4763-b308-673a64d2177e",
   "metadata": {},
   "source": [
    "### Exercise 06b"
   ]
  },
  {
   "cell_type": "code",
   "execution_count": 61,
   "id": "50a9d37d-2199-4222-81bb-2ab94ba5676d",
   "metadata": {},
   "outputs": [
    {
     "name": "stdout",
     "output_type": "stream",
     "text": [
      "Q1: 1.0\n",
      "Q2: 1.0\n",
      "Q3: 2.0\n"
     ]
    }
   ],
   "source": [
    "# 25, 50, 75 quantiles\n",
    "print(f'Q1: {passengers.quantile(.25)}')\n",
    "print(f'Q2: {passengers.quantile(.50)}')\n",
    "print(f'Q3: {passengers.quantile(.75)}')"
   ]
  },
  {
   "cell_type": "code",
   "execution_count": 62,
   "id": "043a5198-742a-4b40-9ca6-f82c421ed686",
   "metadata": {},
   "outputs": [
    {
     "data": {
      "text/plain": [
       "0.1477147714771477"
      ]
     },
     "execution_count": 62,
     "metadata": {},
     "output_type": "execute_result"
    }
   ],
   "source": [
    "# 3, 4, 5, or 6 passengers proportion\n",
    "prop[[3, 4, 5, 6]].sum()"
   ]
  },
  {
   "cell_type": "markdown",
   "id": "3dead895-ee03-43ad-82a3-94b51c46c161",
   "metadata": {},
   "source": [
    "## Exercise 07 - Long, medium, and short taxi rides"
   ]
  },
  {
   "cell_type": "code",
   "execution_count": 64,
   "id": "cad9677b-b284-4668-a9b4-1b4efbe45bb6",
   "metadata": {},
   "outputs": [
    {
     "data": {
      "text/plain": [
       "0       1.63\n",
       "1       0.46\n",
       "2       0.87\n",
       "3       2.13\n",
       "4       1.40\n",
       "        ... \n",
       "9994    2.70\n",
       "9995    4.50\n",
       "9996    5.59\n",
       "9997    1.54\n",
       "9998    5.80\n",
       "Name: 0, Length: 9999, dtype: float64"
      ]
     },
     "execution_count": 64,
     "metadata": {},
     "output_type": "execute_result"
    }
   ],
   "source": [
    "# load in CSV\n",
    "distance = pd.read_csv(r'D:\\Documents\\Data Analysis\\Datasets\\pandas-workout-data\\data\\taxi-distance.csv', header=None)\n",
    "\n",
    "# squeeze into a series\n",
    "distance = distance.squeeze()\n",
    "distance "
   ]
  },
  {
   "cell_type": "code",
   "execution_count": 65,
   "id": "7154e54f-5282-4bef-b786-c9beb92f468c",
   "metadata": {},
   "outputs": [
    {
     "data": {
      "text/plain": [
       "0        Short\n",
       "1        Short\n",
       "2        Short\n",
       "3       Medium\n",
       "4        Short\n",
       "         ...  \n",
       "9994    Medium\n",
       "9995    Medium\n",
       "9996    Medium\n",
       "9997     Short\n",
       "9998    Medium\n",
       "Name: 0, Length: 9999, dtype: object"
      ]
     },
     "execution_count": 65,
     "metadata": {},
     "output_type": "execute_result"
    }
   ],
   "source": [
    "# map to category names\n",
    "\n",
    "# Short <=2 miles\n",
    "# Medium >2 & <=10 miles\n",
    "# Long >10 miles\n",
    "\n",
    "def categorize(x):\n",
    "    if x <= 2:\n",
    "        return 'Short'\n",
    "    if x > 2 and x <= 10:\n",
    "        return 'Medium'\n",
    "    if x > 10:\n",
    "        return 'Long'\n",
    "\n",
    "# apply function to distance series\n",
    "distance_cat = distance.apply(categorize)\n",
    "distance_cat"
   ]
  },
  {
   "cell_type": "code",
   "execution_count": 66,
   "id": "8686418f-3d23-49c9-90b8-4cdd0e499287",
   "metadata": {},
   "outputs": [
    {
     "data": {
      "text/plain": [
       "0\n",
       "Short     5890\n",
       "Medium    3402\n",
       "Long       707\n",
       "Name: count, dtype: int64"
      ]
     },
     "execution_count": 66,
     "metadata": {},
     "output_type": "execute_result"
    }
   ],
   "source": [
    "# number of rides by category\n",
    "distance_cat.value_counts()"
   ]
  },
  {
   "cell_type": "markdown",
   "id": "22da015b-12a4-48f3-b640-df52f2bb903d",
   "metadata": {},
   "source": [
    "### Exercise 07b"
   ]
  },
  {
   "cell_type": "code",
   "execution_count": 68,
   "id": "aff8bfbe-e9e8-42d3-9ff7-873428f1ea55",
   "metadata": {},
   "outputs": [
    {
     "data": {
      "text/plain": [
       "mean    3.158511\n",
       "50%     1.700000\n",
       "Name: 0, dtype: float64"
      ]
     },
     "execution_count": 68,
     "metadata": {},
     "output_type": "execute_result"
    }
   ],
   "source": [
    "# compare mean and median\n",
    "distance.describe().loc[['mean', '50%']]"
   ]
  },
  {
   "cell_type": "code",
   "execution_count": 69,
   "id": "069a32cf-cd8d-4110-8fff-fe79073b9da7",
   "metadata": {},
   "outputs": [
    {
     "data": {
      "text/plain": [
       "distance\n",
       "Short     4333\n",
       "Medium    2387\n",
       "Long       487\n",
       "Name: count, dtype: int64"
      ]
     },
     "execution_count": 69,
     "metadata": {},
     "output_type": "execute_result"
    }
   ],
   "source": [
    "# combine passenger count and distance series\n",
    "df = pd.concat([passengers, distance_cat], axis=1)\n",
    "\n",
    "# rename columns\n",
    "df.columns = ['passengers', 'distance']\n",
    "\n",
    "# find counts of trip-length categories for single-passenger trips only\n",
    "df.loc[df['passengers']==1,'distance'].value_counts()"
   ]
  },
  {
   "cell_type": "markdown",
   "id": "60b6f601-6c20-46b9-b1ad-50f72621b345",
   "metadata": {},
   "source": [
    "### Notes\n",
    "- could also map using pd.cut, but it risks not properly categorizing some values in this instance"
   ]
  },
  {
   "cell_type": "code",
   "execution_count": 71,
   "id": "7ca2c995-99c2-4626-a877-048524e7aae9",
   "metadata": {},
   "outputs": [
    {
     "data": {
      "text/plain": [
       "0        Short\n",
       "1        Short\n",
       "2        Short\n",
       "3       Medium\n",
       "4        Short\n",
       "         ...  \n",
       "9994    Medium\n",
       "9995    Medium\n",
       "9996    Medium\n",
       "9997     Short\n",
       "9998    Medium\n",
       "Name: 0, Length: 9999, dtype: category\n",
       "Categories (3, object): ['Short' < 'Medium' < 'Long']"
      ]
     },
     "execution_count": 71,
     "metadata": {},
     "output_type": "execute_result"
    }
   ],
   "source": [
    "# map with pd.cut\n",
    "distance_cut = pd.cut(distance, bins=[0, 2, 10, np.inf], labels=['Short', 'Medium', 'Long'], include_lowest=True)\n",
    "distance_cut"
   ]
  }
 ],
 "metadata": {
  "kernelspec": {
   "display_name": "Python 3 (ipykernel)",
   "language": "python",
   "name": "python3"
  },
  "language_info": {
   "codemirror_mode": {
    "name": "ipython",
    "version": 3
   },
   "file_extension": ".py",
   "mimetype": "text/x-python",
   "name": "python",
   "nbconvert_exporter": "python",
   "pygments_lexer": "ipython3",
   "version": "3.11.7"
  }
 },
 "nbformat": 4,
 "nbformat_minor": 5
}
