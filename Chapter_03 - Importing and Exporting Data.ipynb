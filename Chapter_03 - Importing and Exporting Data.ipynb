{
 "cells": [
  {
   "cell_type": "markdown",
   "id": "a3d39fec-38d7-42e7-b80c-3554c96a916e",
   "metadata": {},
   "source": [
    "# 3. Importing and Exporting Data"
   ]
  },
  {
   "cell_type": "markdown",
   "id": "4de96d57-005a-43b1-ac25-73c9027b466c",
   "metadata": {},
   "source": [
    "## Exercise 15 - Weird taxi rides"
   ]
  },
  {
   "cell_type": "code",
   "execution_count": 130,
   "id": "589c4bff-3f44-493d-8ff3-2ef9c7c4c334",
   "metadata": {},
   "outputs": [
    {
     "data": {
      "text/html": [
       "<div>\n",
       "<style scoped>\n",
       "    .dataframe tbody tr th:only-of-type {\n",
       "        vertical-align: middle;\n",
       "    }\n",
       "\n",
       "    .dataframe tbody tr th {\n",
       "        vertical-align: top;\n",
       "    }\n",
       "\n",
       "    .dataframe thead th {\n",
       "        text-align: right;\n",
       "    }\n",
       "</style>\n",
       "<table border=\"1\" class=\"dataframe\">\n",
       "  <thead>\n",
       "    <tr style=\"text-align: right;\">\n",
       "      <th></th>\n",
       "      <th>passenger_count</th>\n",
       "      <th>trip_distance</th>\n",
       "      <th>payment_type</th>\n",
       "      <th>total_amount</th>\n",
       "    </tr>\n",
       "  </thead>\n",
       "  <tbody>\n",
       "    <tr>\n",
       "      <th>0</th>\n",
       "      <td>1</td>\n",
       "      <td>1.50</td>\n",
       "      <td>1</td>\n",
       "      <td>9.95</td>\n",
       "    </tr>\n",
       "    <tr>\n",
       "      <th>1</th>\n",
       "      <td>1</td>\n",
       "      <td>2.60</td>\n",
       "      <td>1</td>\n",
       "      <td>16.30</td>\n",
       "    </tr>\n",
       "    <tr>\n",
       "      <th>2</th>\n",
       "      <td>3</td>\n",
       "      <td>0.00</td>\n",
       "      <td>1</td>\n",
       "      <td>5.80</td>\n",
       "    </tr>\n",
       "    <tr>\n",
       "      <th>3</th>\n",
       "      <td>5</td>\n",
       "      <td>0.00</td>\n",
       "      <td>2</td>\n",
       "      <td>7.55</td>\n",
       "    </tr>\n",
       "    <tr>\n",
       "      <th>4</th>\n",
       "      <td>5</td>\n",
       "      <td>0.00</td>\n",
       "      <td>2</td>\n",
       "      <td>55.55</td>\n",
       "    </tr>\n",
       "  </tbody>\n",
       "</table>\n",
       "</div>"
      ],
      "text/plain": [
       "   passenger_count  trip_distance  payment_type  total_amount\n",
       "0                1           1.50             1          9.95\n",
       "1                1           2.60             1         16.30\n",
       "2                3           0.00             1          5.80\n",
       "3                5           0.00             2          7.55\n",
       "4                5           0.00             2         55.55"
      ]
     },
     "execution_count": 130,
     "metadata": {},
     "output_type": "execute_result"
    }
   ],
   "source": [
    "# load in CSV, specify select columns\n",
    "taxi = pd.read_csv(r'D:\\Documents\\Data Analysis\\Datasets\\pandas-workout-data\\data\\nyc_taxi_2019-01.csv',\n",
    "                  usecols=['passenger_count', 'trip_distance', 'total_amount', 'payment_type'])\n",
    "taxi.head()"
   ]
  },
  {
   "cell_type": "code",
   "execution_count": 131,
   "id": "0e665ea9-02e4-4d28-8207-02a04832665c",
   "metadata": {},
   "outputs": [
    {
     "data": {
      "text/plain": [
       "9"
      ]
     },
     "execution_count": 131,
     "metadata": {},
     "output_type": "execute_result"
    }
   ],
   "source": [
    "# how many rides > 8 passengers?\n",
    "taxi.loc[taxi['passenger_count'] > 8, 'passenger_count'].count()"
   ]
  },
  {
   "cell_type": "code",
   "execution_count": 132,
   "id": "7989bb4a-ba59-428e-ac9e-3b828380716e",
   "metadata": {},
   "outputs": [
    {
     "data": {
      "text/plain": [
       "117381"
      ]
     },
     "execution_count": 132,
     "metadata": {},
     "output_type": "execute_result"
    }
   ],
   "source": [
    "# how many rides w/ 0 passengers?\n",
    "taxi.loc[taxi['passenger_count']==0, 'passenger_count'].count()"
   ]
  },
  {
   "cell_type": "code",
   "execution_count": 133,
   "id": "9d2afc94-9a9e-4b4f-afb2-fb6f2f68eb37",
   "metadata": {},
   "outputs": [
    {
     "data": {
      "text/plain": [
       "5"
      ]
     },
     "execution_count": 133,
     "metadata": {},
     "output_type": "execute_result"
    }
   ],
   "source": [
    "#  how many paid in cash that cost over 1,000?\n",
    "taxi.loc[(taxi['payment_type']==2) & (taxi['total_amount'] > 1000), 'passenger_count'].count()"
   ]
  },
  {
   "cell_type": "code",
   "execution_count": 134,
   "id": "90096c40-57b1-4040-b403-155309d0ed9d",
   "metadata": {},
   "outputs": [
    {
     "data": {
      "text/plain": [
       "7131"
      ]
     },
     "execution_count": 134,
     "metadata": {},
     "output_type": "execute_result"
    }
   ],
   "source": [
    "# how many cost negative dollars (potential refunds)\n",
    "taxi.loc[taxi['total_amount'] < 0, 'passenger_count'].count()"
   ]
  },
  {
   "cell_type": "code",
   "execution_count": 135,
   "id": "d62efcb4-2f97-4796-a8eb-b2c8f6d624c7",
   "metadata": {},
   "outputs": [
    {
     "data": {
      "text/plain": [
       "411255"
      ]
     },
     "execution_count": 135,
     "metadata": {},
     "output_type": "execute_result"
    }
   ],
   "source": [
    "# how many below avg distance, but cost more than avg\n",
    "taxi.loc[(taxi['trip_distance'] < taxi['trip_distance'].mean()) & (taxi['total_amount'] > taxi['total_amount'].mean()), 'passenger_count'].count()"
   ]
  },
  {
   "cell_type": "markdown",
   "id": "69d57b95-0e23-4160-a24c-b94504ac5656",
   "metadata": {},
   "source": [
    "### Exercise 15b"
   ]
  },
  {
   "cell_type": "code",
   "execution_count": 137,
   "id": "9ec82f58-47de-4dc3-beb0-f6500a440b44",
   "metadata": {},
   "outputs": [
    {
     "name": "stdout",
     "output_type": "stream",
     "text": [
      "9\n",
      "117381\n",
      "5\n",
      "7131\n",
      "411255\n"
     ]
    }
   ],
   "source": [
    "# repeat exercises using query instead of loc\n",
    "print(taxi.query('passenger_count>8')['passenger_count'].count())\n",
    "\n",
    "print(taxi.query('passenger_count==0')['passenger_count'].count())\n",
    "\n",
    "print(taxi.query('payment_type==2 & total_amount > 1000')['passenger_count'].count())\n",
    "\n",
    "print(taxi.query('total_amount < 0')['passenger_count'].count())\n",
    "\n",
    "print(taxi.query('trip_distance < trip_distance.mean() & total_amount > total_amount.mean()')['passenger_count'].count())"
   ]
  },
  {
   "cell_type": "code",
   "execution_count": 138,
   "id": "4198e2f2-3e68-465b-adbe-65e5975c66ed",
   "metadata": {},
   "outputs": [
    {
     "data": {
      "text/plain": [
       "2666"
      ]
     },
     "execution_count": 138,
     "metadata": {},
     "output_type": "execute_result"
    }
   ],
   "source": [
    "# amount < 0 with payment type 4 or 6\n",
    "taxi.loc[(taxi['total_amount'] < 0) & (taxi['payment_type'].isin([4,6])), 'passenger_count'].count()"
   ]
  },
  {
   "cell_type": "code",
   "execution_count": 139,
   "id": "524ab09a-47b3-4f51-8c2b-11381dfeb9ca",
   "metadata": {},
   "outputs": [
    {
     "data": {
      "text/plain": [
       "payment_type\n",
       "1   0.72\n",
       "2   0.28\n",
       "Name: proportion, dtype: float64"
      ]
     },
     "execution_count": 139,
     "metadata": {},
     "output_type": "execute_result"
    }
   ],
   "source": [
    "# normalized percents for payment types 1 and 2 only\n",
    "taxi['payment_type'].value_counts(normalize=True)[[1,2]]"
   ]
  },
  {
   "cell_type": "markdown",
   "id": "7d6d0400-6c84-40b2-8b75-69828fb2da9e",
   "metadata": {},
   "source": [
    "## Exercise 16 - Pandemic taxis"
   ]
  },
  {
   "cell_type": "code",
   "execution_count": 141,
   "id": "3d77b241-3570-48f8-bac2-34d40dbbcd4f",
   "metadata": {},
   "outputs": [
    {
     "data": {
      "text/html": [
       "<div>\n",
       "<style scoped>\n",
       "    .dataframe tbody tr th:only-of-type {\n",
       "        vertical-align: middle;\n",
       "    }\n",
       "\n",
       "    .dataframe tbody tr th {\n",
       "        vertical-align: top;\n",
       "    }\n",
       "\n",
       "    .dataframe thead th {\n",
       "        text-align: right;\n",
       "    }\n",
       "</style>\n",
       "<table border=\"1\" class=\"dataframe\">\n",
       "  <thead>\n",
       "    <tr style=\"text-align: right;\">\n",
       "      <th></th>\n",
       "      <th>passenger_count</th>\n",
       "      <th>payment_type</th>\n",
       "      <th>total_amount</th>\n",
       "      <th>year</th>\n",
       "    </tr>\n",
       "  </thead>\n",
       "  <tbody>\n",
       "    <tr>\n",
       "      <th>0</th>\n",
       "      <td>1.00</td>\n",
       "      <td>1.00</td>\n",
       "      <td>4.94</td>\n",
       "      <td>2019</td>\n",
       "    </tr>\n",
       "    <tr>\n",
       "      <th>1</th>\n",
       "      <td>1.00</td>\n",
       "      <td>2.00</td>\n",
       "      <td>20.30</td>\n",
       "      <td>2019</td>\n",
       "    </tr>\n",
       "    <tr>\n",
       "      <th>2</th>\n",
       "      <td>1.00</td>\n",
       "      <td>1.00</td>\n",
       "      <td>70.67</td>\n",
       "      <td>2019</td>\n",
       "    </tr>\n",
       "    <tr>\n",
       "      <th>3</th>\n",
       "      <td>1.00</td>\n",
       "      <td>1.00</td>\n",
       "      <td>66.36</td>\n",
       "      <td>2019</td>\n",
       "    </tr>\n",
       "    <tr>\n",
       "      <th>4</th>\n",
       "      <td>0.00</td>\n",
       "      <td>1.00</td>\n",
       "      <td>15.30</td>\n",
       "      <td>2019</td>\n",
       "    </tr>\n",
       "  </tbody>\n",
       "</table>\n",
       "</div>"
      ],
      "text/plain": [
       "   passenger_count  payment_type  total_amount  year\n",
       "0             1.00          1.00          4.94  2019\n",
       "1             1.00          2.00         20.30  2019\n",
       "2             1.00          1.00         70.67  2019\n",
       "3             1.00          1.00         66.36  2019\n",
       "4             0.00          1.00         15.30  2019"
      ]
     },
     "execution_count": 141,
     "metadata": {},
     "output_type": "execute_result"
    }
   ],
   "source": [
    "# read in CSV, specific columns, specify datatypes that don't result in data loss\n",
    "july19 = pd.read_csv(r'D:\\Documents\\Data Analysis\\Datasets\\pandas-workout-data\\data\\nyc_taxi_2019-07.csv',\n",
    "                     usecols=['passenger_count', 'total_amount', 'payment_type'],\n",
    "                     dtype = {'passenger_count': np.float32,\n",
    "                              'total_amount': np.float32,\n",
    "                              'payment_type': np.float32})\n",
    "\n",
    "# add year column\n",
    "july19['year'] = 2019\n",
    "\n",
    "july19.head()"
   ]
  },
  {
   "cell_type": "code",
   "execution_count": 142,
   "id": "f201e04d-09c5-44c8-8552-27c7a3ead3c6",
   "metadata": {},
   "outputs": [
    {
     "data": {
      "text/html": [
       "<div>\n",
       "<style scoped>\n",
       "    .dataframe tbody tr th:only-of-type {\n",
       "        vertical-align: middle;\n",
       "    }\n",
       "\n",
       "    .dataframe tbody tr th {\n",
       "        vertical-align: top;\n",
       "    }\n",
       "\n",
       "    .dataframe thead th {\n",
       "        text-align: right;\n",
       "    }\n",
       "</style>\n",
       "<table border=\"1\" class=\"dataframe\">\n",
       "  <thead>\n",
       "    <tr style=\"text-align: right;\">\n",
       "      <th></th>\n",
       "      <th>passenger_count</th>\n",
       "      <th>payment_type</th>\n",
       "      <th>total_amount</th>\n",
       "      <th>year</th>\n",
       "    </tr>\n",
       "  </thead>\n",
       "  <tbody>\n",
       "    <tr>\n",
       "      <th>0</th>\n",
       "      <td>1.00</td>\n",
       "      <td>2.00</td>\n",
       "      <td>9.30</td>\n",
       "      <td>2020</td>\n",
       "    </tr>\n",
       "    <tr>\n",
       "      <th>1</th>\n",
       "      <td>1.00</td>\n",
       "      <td>1.00</td>\n",
       "      <td>27.80</td>\n",
       "      <td>2020</td>\n",
       "    </tr>\n",
       "    <tr>\n",
       "      <th>2</th>\n",
       "      <td>1.00</td>\n",
       "      <td>2.00</td>\n",
       "      <td>22.30</td>\n",
       "      <td>2020</td>\n",
       "    </tr>\n",
       "    <tr>\n",
       "      <th>3</th>\n",
       "      <td>1.00</td>\n",
       "      <td>1.00</td>\n",
       "      <td>14.16</td>\n",
       "      <td>2020</td>\n",
       "    </tr>\n",
       "    <tr>\n",
       "      <th>4</th>\n",
       "      <td>1.00</td>\n",
       "      <td>2.00</td>\n",
       "      <td>7.80</td>\n",
       "      <td>2020</td>\n",
       "    </tr>\n",
       "  </tbody>\n",
       "</table>\n",
       "</div>"
      ],
      "text/plain": [
       "   passenger_count  payment_type  total_amount  year\n",
       "0             1.00          2.00          9.30  2020\n",
       "1             1.00          1.00         27.80  2020\n",
       "2             1.00          2.00         22.30  2020\n",
       "3             1.00          1.00         14.16  2020\n",
       "4             1.00          2.00          7.80  2020"
      ]
     },
     "execution_count": 142,
     "metadata": {},
     "output_type": "execute_result"
    }
   ],
   "source": [
    "# Read in CSV, specify columns\n",
    "july20 = pd.read_csv(r'D:\\Documents\\Data Analysis\\Datasets\\pandas-workout-data\\data\\nyc_taxi_2020-07.csv',\n",
    "                  usecols=['passenger_count', 'total_amount', 'payment_type'])\n",
    "\n",
    "# add year column\n",
    "july20['year'] = 2020\n",
    "\n",
    "july20.head()"
   ]
  },
  {
   "cell_type": "code",
   "execution_count": 143,
   "id": "3602f34b-2ecc-4775-b274-cbf21d96d978",
   "metadata": {},
   "outputs": [
    {
     "name": "stdout",
     "output_type": "stream",
     "text": [
      "6310419\n",
      "800412\n"
     ]
    }
   ],
   "source": [
    "# compare total ride count\n",
    "# size captures too many values as it is rows * columns, must use len()\n",
    "print(len(july19))\n",
    "print(len(july20))"
   ]
  },
  {
   "cell_type": "code",
   "execution_count": 144,
   "id": "9b287390-9483-4705-90b1-6e86e4f4422a",
   "metadata": {},
   "outputs": [
    {
     "name": "stdout",
     "output_type": "stream",
     "text": [
      "7.883963508792972\n"
     ]
    }
   ],
   "source": [
    "# compare proportion\n",
    "print(len(july19)/len(july20))"
   ]
  },
  {
   "cell_type": "code",
   "execution_count": 145,
   "id": "fe2aa94d-090d-4dd6-a6a3-b4b45d5871d5",
   "metadata": {},
   "outputs": [
    {
     "data": {
      "text/plain": [
       "5510007"
      ]
     },
     "execution_count": 145,
     "metadata": {},
     "output_type": "execute_result"
    }
   ],
   "source": [
    "# compare absolute different\n",
    "len(july19) - len(july20)"
   ]
  },
  {
   "cell_type": "code",
   "execution_count": 146,
   "id": "bdf8c344-e4e0-4239-84e5-f64aa042ee4d",
   "metadata": {},
   "outputs": [
    {
     "name": "stdout",
     "output_type": "stream",
     "text": [
      "123761816.0\n",
      "14912844.090000005\n"
     ]
    },
    {
     "data": {
      "text/plain": [
       "108848971.91"
      ]
     },
     "execution_count": 146,
     "metadata": {},
     "output_type": "execute_result"
    }
   ],
   "source": [
    "# compare total money collected\n",
    "print(july19['total_amount'].sum())\n",
    "print(july20['total_amount'].sum())\n",
    "\n",
    "# compare difference between years\n",
    "july19['total_amount'].sum() - july20['total_amount'].sum()"
   ]
  },
  {
   "cell_type": "code",
   "execution_count": 147,
   "id": "e2a717ec-f85a-4a45-affc-c2cd11abbe8d",
   "metadata": {},
   "outputs": [
    {
     "name": "stdout",
     "output_type": "stream",
     "text": [
      "0.2833900000955953\n",
      "0.2061513222563435\n"
     ]
    }
   ],
   "source": [
    "# difference in proportion of rides with more than 1 passenger\n",
    "print(july19.loc[july19['passenger_count'] > 1, 'passenger_count'].count() / july19['passenger_count'].count())\n",
    "print(july20.loc[july20['passenger_count'] > 1, 'passenger_count'].count() / july20['passenger_count'].count())"
   ]
  },
  {
   "cell_type": "code",
   "execution_count": 148,
   "id": "d8afb27c-06d1-4b50-9d2f-65d324d7f9de",
   "metadata": {},
   "outputs": [
    {
     "name": "stdout",
     "output_type": "stream",
     "text": [
      "0.2870595845428793\n",
      "0.320558865998251\n"
     ]
    }
   ],
   "source": [
    "# did people use cash less? (payment type 2)\n",
    "print(july19['payment_type'].value_counts(normalize=True)[2])\n",
    "print(july20['payment_type'].value_counts(normalize=True)[2])"
   ]
  },
  {
   "cell_type": "markdown",
   "id": "3fd52ff6-4143-4b63-8961-2c34315f610b",
   "metadata": {},
   "source": [
    "### Exercise 16b"
   ]
  },
  {
   "cell_type": "code",
   "execution_count": 150,
   "id": "815e61b5-833b-4b0a-b9ea-dd41283d629e",
   "metadata": {},
   "outputs": [
    {
     "data": {
      "text/html": [
       "<div>\n",
       "<style scoped>\n",
       "    .dataframe tbody tr th:only-of-type {\n",
       "        vertical-align: middle;\n",
       "    }\n",
       "\n",
       "    .dataframe tbody tr th {\n",
       "        vertical-align: top;\n",
       "    }\n",
       "\n",
       "    .dataframe thead th {\n",
       "        text-align: right;\n",
       "    }\n",
       "</style>\n",
       "<table border=\"1\" class=\"dataframe\">\n",
       "  <thead>\n",
       "    <tr style=\"text-align: right;\">\n",
       "      <th></th>\n",
       "      <th>passenger_count</th>\n",
       "      <th>payment_type</th>\n",
       "      <th>total_amount</th>\n",
       "      <th>year</th>\n",
       "    </tr>\n",
       "  </thead>\n",
       "  <tbody>\n",
       "    <tr>\n",
       "      <th>passenger_count</th>\n",
       "      <td>1.00</td>\n",
       "      <td>0.02</td>\n",
       "      <td>0.01</td>\n",
       "      <td>-0.05</td>\n",
       "    </tr>\n",
       "    <tr>\n",
       "      <th>payment_type</th>\n",
       "      <td>0.02</td>\n",
       "      <td>1.00</td>\n",
       "      <td>-0.14</td>\n",
       "      <td>0.03</td>\n",
       "    </tr>\n",
       "    <tr>\n",
       "      <th>total_amount</th>\n",
       "      <td>0.01</td>\n",
       "      <td>-0.14</td>\n",
       "      <td>1.00</td>\n",
       "      <td>-0.02</td>\n",
       "    </tr>\n",
       "    <tr>\n",
       "      <th>year</th>\n",
       "      <td>-0.05</td>\n",
       "      <td>0.03</td>\n",
       "      <td>-0.02</td>\n",
       "      <td>1.00</td>\n",
       "    </tr>\n",
       "  </tbody>\n",
       "</table>\n",
       "</div>"
      ],
      "text/plain": [
       "                 passenger_count  payment_type  total_amount  year\n",
       "passenger_count             1.00          0.02          0.01 -0.05\n",
       "payment_type                0.02          1.00         -0.14  0.03\n",
       "total_amount                0.01         -0.14          1.00 -0.02\n",
       "year                       -0.05          0.03         -0.02  1.00"
      ]
     },
     "execution_count": 150,
     "metadata": {},
     "output_type": "execute_result"
    }
   ],
   "source": [
    "# numeric correlations\n",
    "joined = pd.concat([july19, july20])\n",
    "joined.corr()"
   ]
  },
  {
   "cell_type": "code",
   "execution_count": 151,
   "id": "16a6e03c-21eb-4a9f-9f30-4fd38ad09ae7",
   "metadata": {},
   "outputs": [
    {
     "data": {
      "text/plain": [
       "count   -5,510,007.00\n",
       "mean            -0.98\n",
       "std             -0.75\n",
       "min             53.20\n",
       "25%             -0.50\n",
       "50%             -0.60\n",
       "75%             -0.75\n",
       "max         -4,672.45\n",
       "Name: total_amount, dtype: float64"
      ]
     },
     "execution_count": 151,
     "metadata": {},
     "output_type": "execute_result"
    }
   ],
   "source": [
    "# difference in total amount descriptive stats, round to 2 decimals\n",
    "(joined.loc[joined['year']==2020, 'total_amount'].describe() - joined.loc[joined['year']==2019, 'total_amount'].describe()).round(2)"
   ]
  },
  {
   "cell_type": "code",
   "execution_count": 152,
   "id": "ffb5bc5d-76b1-4a62-bf97-c45f9e2d8495",
   "metadata": {},
   "outputs": [
    {
     "name": "stdout",
     "output_type": "stream",
     "text": [
      "0.018622599363335383\n",
      "0.026446482682882185\n"
     ]
    }
   ],
   "source": [
    "# difference in proportion of 0 passenger trips (likely deliveries)\n",
    "print(joined.loc[joined['year']==2019, 'passenger_count'].value_counts(normalize=True)[0])\n",
    "print(joined.loc[joined['year']==2020, 'passenger_count'].value_counts(normalize=True)[0])"
   ]
  },
  {
   "cell_type": "markdown",
   "id": "e22c5692-a773-4ec3-93b1-d0f7b0e99b45",
   "metadata": {},
   "source": [
    "## Exercise 17 - Setting column types"
   ]
  },
  {
   "cell_type": "code",
   "execution_count": 154,
   "id": "bc05ffec-b5c6-4671-a7c1-9f2df4c13baa",
   "metadata": {},
   "outputs": [],
   "source": [
    "# read large CSV, specific columns, chunk 1000 rows at a time\n",
    "jan20 = pd.read_csv(r'D:\\Documents\\Data Analysis\\Datasets\\pandas-workout-data\\data\\nyc_taxi_2020-01.csv',\n",
    "                    usecols=['passenger_count', 'total_amount', 'payment_type'],\n",
    "                    chunksize=1000)"
   ]
  },
  {
   "cell_type": "code",
   "execution_count": 155,
   "id": "9c6c53a8-3878-490f-a6fd-dd1c07d9fba2",
   "metadata": {},
   "outputs": [
    {
     "data": {
      "text/html": [
       "<div>\n",
       "<style scoped>\n",
       "    .dataframe tbody tr th:only-of-type {\n",
       "        vertical-align: middle;\n",
       "    }\n",
       "\n",
       "    .dataframe tbody tr th {\n",
       "        vertical-align: top;\n",
       "    }\n",
       "\n",
       "    .dataframe thead th {\n",
       "        text-align: right;\n",
       "    }\n",
       "</style>\n",
       "<table border=\"1\" class=\"dataframe\">\n",
       "  <thead>\n",
       "    <tr style=\"text-align: right;\">\n",
       "      <th></th>\n",
       "      <th>passenger_count</th>\n",
       "      <th>payment_type</th>\n",
       "      <th>total_amount</th>\n",
       "    </tr>\n",
       "  </thead>\n",
       "  <tbody>\n",
       "    <tr>\n",
       "      <th>0</th>\n",
       "      <td>1</td>\n",
       "      <td>1</td>\n",
       "      <td>11.27</td>\n",
       "    </tr>\n",
       "    <tr>\n",
       "      <th>1</th>\n",
       "      <td>1</td>\n",
       "      <td>1</td>\n",
       "      <td>12.30</td>\n",
       "    </tr>\n",
       "    <tr>\n",
       "      <th>2</th>\n",
       "      <td>1</td>\n",
       "      <td>1</td>\n",
       "      <td>10.80</td>\n",
       "    </tr>\n",
       "    <tr>\n",
       "      <th>3</th>\n",
       "      <td>1</td>\n",
       "      <td>1</td>\n",
       "      <td>8.16</td>\n",
       "    </tr>\n",
       "    <tr>\n",
       "      <th>4</th>\n",
       "      <td>1</td>\n",
       "      <td>2</td>\n",
       "      <td>4.80</td>\n",
       "    </tr>\n",
       "    <tr>\n",
       "      <th>...</th>\n",
       "      <td>...</td>\n",
       "      <td>...</td>\n",
       "      <td>...</td>\n",
       "    </tr>\n",
       "    <tr>\n",
       "      <th>995</th>\n",
       "      <td>2</td>\n",
       "      <td>1</td>\n",
       "      <td>11.00</td>\n",
       "    </tr>\n",
       "    <tr>\n",
       "      <th>996</th>\n",
       "      <td>2</td>\n",
       "      <td>2</td>\n",
       "      <td>29.30</td>\n",
       "    </tr>\n",
       "    <tr>\n",
       "      <th>997</th>\n",
       "      <td>2</td>\n",
       "      <td>1</td>\n",
       "      <td>13.80</td>\n",
       "    </tr>\n",
       "    <tr>\n",
       "      <th>998</th>\n",
       "      <td>1</td>\n",
       "      <td>1</td>\n",
       "      <td>12.35</td>\n",
       "    </tr>\n",
       "    <tr>\n",
       "      <th>999</th>\n",
       "      <td>2</td>\n",
       "      <td>2</td>\n",
       "      <td>24.80</td>\n",
       "    </tr>\n",
       "  </tbody>\n",
       "</table>\n",
       "<p>1000 rows × 3 columns</p>\n",
       "</div>"
      ],
      "text/plain": [
       "     passenger_count  payment_type  total_amount\n",
       "0                  1             1         11.27\n",
       "1                  1             1         12.30\n",
       "2                  1             1         10.80\n",
       "3                  1             1          8.16\n",
       "4                  1             2          4.80\n",
       "..               ...           ...           ...\n",
       "995                2             1         11.00\n",
       "996                2             2         29.30\n",
       "997                2             1         13.80\n",
       "998                1             1         12.35\n",
       "999                2             2         24.80\n",
       "\n",
       "[1000 rows x 3 columns]"
      ]
     },
     "execution_count": 155,
     "metadata": {},
     "output_type": "execute_result"
    }
   ],
   "source": [
    "# read chunk to get a general idea of the data\n",
    "chunk = jan20.get_chunk()\n",
    "chunk"
   ]
  },
  {
   "cell_type": "code",
   "execution_count": 156,
   "id": "8384150a-e36c-4731-8186-94b8bf1c691f",
   "metadata": {},
   "outputs": [
    {
     "data": {
      "text/html": [
       "<div>\n",
       "<style scoped>\n",
       "    .dataframe tbody tr th:only-of-type {\n",
       "        vertical-align: middle;\n",
       "    }\n",
       "\n",
       "    .dataframe tbody tr th {\n",
       "        vertical-align: top;\n",
       "    }\n",
       "\n",
       "    .dataframe thead th {\n",
       "        text-align: right;\n",
       "    }\n",
       "</style>\n",
       "<table border=\"1\" class=\"dataframe\">\n",
       "  <thead>\n",
       "    <tr style=\"text-align: right;\">\n",
       "      <th></th>\n",
       "      <th>passenger_count</th>\n",
       "      <th>payment_type</th>\n",
       "      <th>total_amount</th>\n",
       "    </tr>\n",
       "  </thead>\n",
       "  <tbody>\n",
       "    <tr>\n",
       "      <th>0</th>\n",
       "      <td>1.00</td>\n",
       "      <td>1.00</td>\n",
       "      <td>11.27</td>\n",
       "    </tr>\n",
       "    <tr>\n",
       "      <th>1</th>\n",
       "      <td>1.00</td>\n",
       "      <td>1.00</td>\n",
       "      <td>12.30</td>\n",
       "    </tr>\n",
       "    <tr>\n",
       "      <th>2</th>\n",
       "      <td>1.00</td>\n",
       "      <td>1.00</td>\n",
       "      <td>10.80</td>\n",
       "    </tr>\n",
       "    <tr>\n",
       "      <th>3</th>\n",
       "      <td>1.00</td>\n",
       "      <td>1.00</td>\n",
       "      <td>8.16</td>\n",
       "    </tr>\n",
       "    <tr>\n",
       "      <th>4</th>\n",
       "      <td>1.00</td>\n",
       "      <td>2.00</td>\n",
       "      <td>4.80</td>\n",
       "    </tr>\n",
       "    <tr>\n",
       "      <th>...</th>\n",
       "      <td>...</td>\n",
       "      <td>...</td>\n",
       "      <td>...</td>\n",
       "    </tr>\n",
       "    <tr>\n",
       "      <th>6405003</th>\n",
       "      <td>NaN</td>\n",
       "      <td>NaN</td>\n",
       "      <td>21.14</td>\n",
       "    </tr>\n",
       "    <tr>\n",
       "      <th>6405004</th>\n",
       "      <td>NaN</td>\n",
       "      <td>NaN</td>\n",
       "      <td>62.46</td>\n",
       "    </tr>\n",
       "    <tr>\n",
       "      <th>6405005</th>\n",
       "      <td>NaN</td>\n",
       "      <td>NaN</td>\n",
       "      <td>51.90</td>\n",
       "    </tr>\n",
       "    <tr>\n",
       "      <th>6405006</th>\n",
       "      <td>NaN</td>\n",
       "      <td>NaN</td>\n",
       "      <td>30.22</td>\n",
       "    </tr>\n",
       "    <tr>\n",
       "      <th>6405007</th>\n",
       "      <td>NaN</td>\n",
       "      <td>NaN</td>\n",
       "      <td>58.11</td>\n",
       "    </tr>\n",
       "  </tbody>\n",
       "</table>\n",
       "<p>6405008 rows × 3 columns</p>\n",
       "</div>"
      ],
      "text/plain": [
       "         passenger_count  payment_type  total_amount\n",
       "0                   1.00          1.00         11.27\n",
       "1                   1.00          1.00         12.30\n",
       "2                   1.00          1.00         10.80\n",
       "3                   1.00          1.00          8.16\n",
       "4                   1.00          2.00          4.80\n",
       "...                  ...           ...           ...\n",
       "6405003              NaN           NaN         21.14\n",
       "6405004              NaN           NaN         62.46\n",
       "6405005              NaN           NaN         51.90\n",
       "6405006              NaN           NaN         30.22\n",
       "6405007              NaN           NaN         58.11\n",
       "\n",
       "[6405008 rows x 3 columns]"
      ]
     },
     "execution_count": 156,
     "metadata": {},
     "output_type": "execute_result"
    }
   ],
   "source": [
    "# efficiently read in full CSV, specific columns, specify initial data types\n",
    "jan20 = pd.read_csv(r'D:\\Documents\\Data Analysis\\Datasets\\pandas-workout-data\\data\\nyc_taxi_2020-01.csv',\n",
    "                    usecols=['passenger_count', 'total_amount', 'payment_type'],\n",
    "                    dtype = {'passenger_count': np.float32,\n",
    "                             'payment_type': np.float32,\n",
    "                             'total_amount': np.float32})\n",
    "jan20"
   ]
  },
  {
   "cell_type": "code",
   "execution_count": 157,
   "id": "7853da55-fe5b-41b1-a670-bf8e6904788c",
   "metadata": {},
   "outputs": [
    {
     "name": "stdout",
     "output_type": "stream",
     "text": [
      "<class 'pandas.core.frame.DataFrame'>\n",
      "RangeIndex: 6405008 entries, 0 to 6405007\n",
      "Data columns (total 3 columns):\n",
      " #   Column           Dtype  \n",
      "---  ------           -----  \n",
      " 0   passenger_count  float32\n",
      " 1   payment_type     float32\n",
      " 2   total_amount     float32\n",
      "dtypes: float32(3)\n",
      "memory usage: 73.3 MB\n"
     ]
    }
   ],
   "source": [
    "# view info\n",
    "jan20.info()"
   ]
  },
  {
   "cell_type": "code",
   "execution_count": 158,
   "id": "8455d9da-a589-4a3b-8beb-4fae0eb4ebd1",
   "metadata": {},
   "outputs": [
    {
     "data": {
      "text/plain": [
       "passenger_count    65441\n",
       "payment_type       65441\n",
       "total_amount           0\n",
       "dtype: int64"
      ]
     },
     "execution_count": 158,
     "metadata": {},
     "output_type": "execute_result"
    }
   ],
   "source": [
    "# count of NA rows\n",
    "jan20.isna().sum()"
   ]
  },
  {
   "cell_type": "code",
   "execution_count": 159,
   "id": "7f63fc1b-d49e-46ed-96eb-6ec2f056bdea",
   "metadata": {},
   "outputs": [
    {
     "data": {
      "text/plain": [
       "passenger_count    0\n",
       "payment_type       0\n",
       "total_amount       0\n",
       "dtype: int64"
      ]
     },
     "execution_count": 159,
     "metadata": {},
     "output_type": "execute_result"
    }
   ],
   "source": [
    "# remove rows with missing values\n",
    "jan20 = jan20.dropna().copy()\n",
    "\n",
    "# new count of NA rows\n",
    "jan20.isna().sum()"
   ]
  },
  {
   "cell_type": "code",
   "execution_count": 160,
   "id": "f66c108d-ac7a-4502-8196-2ef4a7db24df",
   "metadata": {},
   "outputs": [
    {
     "name": "stdout",
     "output_type": "stream",
     "text": [
      "passenger_count    float32\n",
      "payment_type       float32\n",
      "total_amount       float32\n",
      "dtype: object\n"
     ]
    },
    {
     "data": {
      "text/html": [
       "<div>\n",
       "<style scoped>\n",
       "    .dataframe tbody tr th:only-of-type {\n",
       "        vertical-align: middle;\n",
       "    }\n",
       "\n",
       "    .dataframe tbody tr th {\n",
       "        vertical-align: top;\n",
       "    }\n",
       "\n",
       "    .dataframe thead th {\n",
       "        text-align: right;\n",
       "    }\n",
       "</style>\n",
       "<table border=\"1\" class=\"dataframe\">\n",
       "  <thead>\n",
       "    <tr style=\"text-align: right;\">\n",
       "      <th></th>\n",
       "      <th>passenger_count</th>\n",
       "      <th>payment_type</th>\n",
       "      <th>total_amount</th>\n",
       "    </tr>\n",
       "  </thead>\n",
       "  <tbody>\n",
       "    <tr>\n",
       "      <th>count</th>\n",
       "      <td>6,339,567.00</td>\n",
       "      <td>6,339,567.00</td>\n",
       "      <td>6,339,567.00</td>\n",
       "    </tr>\n",
       "    <tr>\n",
       "      <th>mean</th>\n",
       "      <td>1.52</td>\n",
       "      <td>1.27</td>\n",
       "      <td>18.47</td>\n",
       "    </tr>\n",
       "    <tr>\n",
       "      <th>std</th>\n",
       "      <td>1.17</td>\n",
       "      <td>0.48</td>\n",
       "      <td>14.53</td>\n",
       "    </tr>\n",
       "    <tr>\n",
       "      <th>min</th>\n",
       "      <td>0.00</td>\n",
       "      <td>1.00</td>\n",
       "      <td>-1,242.30</td>\n",
       "    </tr>\n",
       "    <tr>\n",
       "      <th>25%</th>\n",
       "      <td>1.00</td>\n",
       "      <td>1.00</td>\n",
       "      <td>11.16</td>\n",
       "    </tr>\n",
       "    <tr>\n",
       "      <th>50%</th>\n",
       "      <td>1.00</td>\n",
       "      <td>1.00</td>\n",
       "      <td>14.16</td>\n",
       "    </tr>\n",
       "    <tr>\n",
       "      <th>75%</th>\n",
       "      <td>2.00</td>\n",
       "      <td>2.00</td>\n",
       "      <td>19.56</td>\n",
       "    </tr>\n",
       "    <tr>\n",
       "      <th>max</th>\n",
       "      <td>9.00</td>\n",
       "      <td>5.00</td>\n",
       "      <td>4,268.30</td>\n",
       "    </tr>\n",
       "  </tbody>\n",
       "</table>\n",
       "</div>"
      ],
      "text/plain": [
       "       passenger_count  payment_type  total_amount\n",
       "count     6,339,567.00  6,339,567.00  6,339,567.00\n",
       "mean              1.52          1.27         18.47\n",
       "std               1.17          0.48         14.53\n",
       "min               0.00          1.00     -1,242.30\n",
       "25%               1.00          1.00         11.16\n",
       "50%               1.00          1.00         14.16\n",
       "75%               2.00          2.00         19.56\n",
       "max               9.00          5.00      4,268.30"
      ]
     },
     "execution_count": 160,
     "metadata": {},
     "output_type": "execute_result"
    }
   ],
   "source": [
    "# view dtypes and describe\n",
    "print(jan20.dtypes)\n",
    "jan20.describe()"
   ]
  },
  {
   "cell_type": "code",
   "execution_count": 161,
   "id": "28af7c0b-f819-4a09-bb97-8267ff8845e5",
   "metadata": {},
   "outputs": [],
   "source": [
    "# set to smallest dtype possible while ensuring data is not lost\n",
    "\n",
    "# assertions are one way to manually to ensure the new data matches the old\n",
    "assert (jan20['passenger_count'] == jan20['passenger_count'].astype(np.int8)).all()\n",
    "assert (jan20['payment_type'] == jan20['payment_type'].astype(np.int8)).all()\n",
    "assert (jan20['total_amount'] == jan20['total_amount'].astype(np.float32)).all()"
   ]
  },
  {
   "cell_type": "code",
   "execution_count": 162,
   "id": "06f3ef07-cdf6-43a8-a39b-24ba3eb2d891",
   "metadata": {},
   "outputs": [],
   "source": [
    "# instead, I will use to_numeric to automatically downcast to smallest dtype\n",
    "jan20['passenger_count'] = pd.to_numeric(jan20['passenger_count'], downcast='integer')\n",
    "jan20['payment_type'] = pd.to_numeric(jan20['payment_type'], downcast='integer')\n",
    "jan20['total_amount'] = pd.to_numeric(jan20['total_amount'], downcast='float')"
   ]
  },
  {
   "cell_type": "code",
   "execution_count": 163,
   "id": "51ec6771-4322-46c6-a37e-501ccf64f75e",
   "metadata": {},
   "outputs": [
    {
     "data": {
      "text/plain": [
       "passenger_count       int8\n",
       "payment_type          int8\n",
       "total_amount       float32\n",
       "dtype: object"
      ]
     },
     "execution_count": 163,
     "metadata": {},
     "output_type": "execute_result"
    }
   ],
   "source": [
    "# view updated dtypes\n",
    "jan20.dtypes"
   ]
  },
  {
   "cell_type": "code",
   "execution_count": 164,
   "id": "85db3e68-bd8b-403e-9d24-84ec34eb8301",
   "metadata": {},
   "outputs": [
    {
     "data": {
      "text/html": [
       "<div>\n",
       "<style scoped>\n",
       "    .dataframe tbody tr th:only-of-type {\n",
       "        vertical-align: middle;\n",
       "    }\n",
       "\n",
       "    .dataframe tbody tr th {\n",
       "        vertical-align: top;\n",
       "    }\n",
       "\n",
       "    .dataframe thead th {\n",
       "        text-align: right;\n",
       "    }\n",
       "</style>\n",
       "<table border=\"1\" class=\"dataframe\">\n",
       "  <thead>\n",
       "    <tr style=\"text-align: right;\">\n",
       "      <th></th>\n",
       "      <th>passenger_count</th>\n",
       "      <th>payment_type</th>\n",
       "      <th>total_amount</th>\n",
       "    </tr>\n",
       "  </thead>\n",
       "  <tbody>\n",
       "    <tr>\n",
       "      <th>0</th>\n",
       "      <td>1</td>\n",
       "      <td>1</td>\n",
       "      <td>11.27</td>\n",
       "    </tr>\n",
       "    <tr>\n",
       "      <th>1</th>\n",
       "      <td>1</td>\n",
       "      <td>1</td>\n",
       "      <td>12.30</td>\n",
       "    </tr>\n",
       "    <tr>\n",
       "      <th>2</th>\n",
       "      <td>1</td>\n",
       "      <td>1</td>\n",
       "      <td>10.80</td>\n",
       "    </tr>\n",
       "    <tr>\n",
       "      <th>3</th>\n",
       "      <td>1</td>\n",
       "      <td>1</td>\n",
       "      <td>8.16</td>\n",
       "    </tr>\n",
       "    <tr>\n",
       "      <th>4</th>\n",
       "      <td>1</td>\n",
       "      <td>2</td>\n",
       "      <td>4.80</td>\n",
       "    </tr>\n",
       "    <tr>\n",
       "      <th>...</th>\n",
       "      <td>...</td>\n",
       "      <td>...</td>\n",
       "      <td>...</td>\n",
       "    </tr>\n",
       "    <tr>\n",
       "      <th>6339562</th>\n",
       "      <td>1</td>\n",
       "      <td>1</td>\n",
       "      <td>17.76</td>\n",
       "    </tr>\n",
       "    <tr>\n",
       "      <th>6339563</th>\n",
       "      <td>1</td>\n",
       "      <td>1</td>\n",
       "      <td>20.16</td>\n",
       "    </tr>\n",
       "    <tr>\n",
       "      <th>6339564</th>\n",
       "      <td>1</td>\n",
       "      <td>1</td>\n",
       "      <td>19.56</td>\n",
       "    </tr>\n",
       "    <tr>\n",
       "      <th>6339565</th>\n",
       "      <td>1</td>\n",
       "      <td>2</td>\n",
       "      <td>12.30</td>\n",
       "    </tr>\n",
       "    <tr>\n",
       "      <th>6339566</th>\n",
       "      <td>1</td>\n",
       "      <td>1</td>\n",
       "      <td>0.00</td>\n",
       "    </tr>\n",
       "  </tbody>\n",
       "</table>\n",
       "<p>6339567 rows × 3 columns</p>\n",
       "</div>"
      ],
      "text/plain": [
       "         passenger_count  payment_type  total_amount\n",
       "0                      1             1         11.27\n",
       "1                      1             1         12.30\n",
       "2                      1             1         10.80\n",
       "3                      1             1          8.16\n",
       "4                      1             2          4.80\n",
       "...                  ...           ...           ...\n",
       "6339562                1             1         17.76\n",
       "6339563                1             1         20.16\n",
       "6339564                1             1         19.56\n",
       "6339565                1             2         12.30\n",
       "6339566                1             1          0.00\n",
       "\n",
       "[6339567 rows x 3 columns]"
      ]
     },
     "execution_count": 164,
     "metadata": {},
     "output_type": "execute_result"
    }
   ],
   "source": [
    "# final updated df\n",
    "jan20"
   ]
  },
  {
   "cell_type": "markdown",
   "id": "56de4353-b911-42a2-a140-a6e847121826",
   "metadata": {},
   "source": [
    "### Exercise 17b"
   ]
  },
  {
   "cell_type": "code",
   "execution_count": 166,
   "id": "3040ad77-8fba-44f5-bea6-f934b7ac1077",
   "metadata": {},
   "outputs": [],
   "source": [
    "# can we find appropriate dtypes for 4 more columns or more cleaning needs to be done?\n",
    "morecols = pd.read_csv(r'D:\\Documents\\Data Analysis\\Datasets\\pandas-workout-data\\data\\nyc_taxi_2020-01.csv',\n",
    "                    usecols=['VendorID', 'trip_distance', 'tip_amount', 'total_amount'],\n",
    "                    chunksize=1000)"
   ]
  },
  {
   "cell_type": "code",
   "execution_count": 167,
   "id": "8384661e-97b3-4341-8dea-fb7dcf206be7",
   "metadata": {},
   "outputs": [
    {
     "data": {
      "text/html": [
       "<div>\n",
       "<style scoped>\n",
       "    .dataframe tbody tr th:only-of-type {\n",
       "        vertical-align: middle;\n",
       "    }\n",
       "\n",
       "    .dataframe tbody tr th {\n",
       "        vertical-align: top;\n",
       "    }\n",
       "\n",
       "    .dataframe thead th {\n",
       "        text-align: right;\n",
       "    }\n",
       "</style>\n",
       "<table border=\"1\" class=\"dataframe\">\n",
       "  <thead>\n",
       "    <tr style=\"text-align: right;\">\n",
       "      <th></th>\n",
       "      <th>VendorID</th>\n",
       "      <th>trip_distance</th>\n",
       "      <th>tip_amount</th>\n",
       "      <th>total_amount</th>\n",
       "    </tr>\n",
       "  </thead>\n",
       "  <tbody>\n",
       "    <tr>\n",
       "      <th>0</th>\n",
       "      <td>1</td>\n",
       "      <td>1.20</td>\n",
       "      <td>1.47</td>\n",
       "      <td>11.27</td>\n",
       "    </tr>\n",
       "    <tr>\n",
       "      <th>1</th>\n",
       "      <td>1</td>\n",
       "      <td>1.20</td>\n",
       "      <td>1.50</td>\n",
       "      <td>12.30</td>\n",
       "    </tr>\n",
       "    <tr>\n",
       "      <th>2</th>\n",
       "      <td>1</td>\n",
       "      <td>0.60</td>\n",
       "      <td>1.00</td>\n",
       "      <td>10.80</td>\n",
       "    </tr>\n",
       "    <tr>\n",
       "      <th>3</th>\n",
       "      <td>1</td>\n",
       "      <td>0.80</td>\n",
       "      <td>1.36</td>\n",
       "      <td>8.16</td>\n",
       "    </tr>\n",
       "    <tr>\n",
       "      <th>4</th>\n",
       "      <td>2</td>\n",
       "      <td>0.00</td>\n",
       "      <td>0.00</td>\n",
       "      <td>4.80</td>\n",
       "    </tr>\n",
       "    <tr>\n",
       "      <th>...</th>\n",
       "      <td>...</td>\n",
       "      <td>...</td>\n",
       "      <td>...</td>\n",
       "      <td>...</td>\n",
       "    </tr>\n",
       "    <tr>\n",
       "      <th>995</th>\n",
       "      <td>2</td>\n",
       "      <td>0.62</td>\n",
       "      <td>2.20</td>\n",
       "      <td>11.00</td>\n",
       "    </tr>\n",
       "    <tr>\n",
       "      <th>996</th>\n",
       "      <td>2</td>\n",
       "      <td>7.09</td>\n",
       "      <td>0.00</td>\n",
       "      <td>29.30</td>\n",
       "    </tr>\n",
       "    <tr>\n",
       "      <th>997</th>\n",
       "      <td>2</td>\n",
       "      <td>2.59</td>\n",
       "      <td>0.00</td>\n",
       "      <td>13.80</td>\n",
       "    </tr>\n",
       "    <tr>\n",
       "      <th>998</th>\n",
       "      <td>1</td>\n",
       "      <td>0.80</td>\n",
       "      <td>2.05</td>\n",
       "      <td>12.35</td>\n",
       "    </tr>\n",
       "    <tr>\n",
       "      <th>999</th>\n",
       "      <td>1</td>\n",
       "      <td>4.00</td>\n",
       "      <td>0.00</td>\n",
       "      <td>24.80</td>\n",
       "    </tr>\n",
       "  </tbody>\n",
       "</table>\n",
       "<p>1000 rows × 4 columns</p>\n",
       "</div>"
      ],
      "text/plain": [
       "     VendorID  trip_distance  tip_amount  total_amount\n",
       "0           1           1.20        1.47         11.27\n",
       "1           1           1.20        1.50         12.30\n",
       "2           1           0.60        1.00         10.80\n",
       "3           1           0.80        1.36          8.16\n",
       "4           2           0.00        0.00          4.80\n",
       "..        ...            ...         ...           ...\n",
       "995         2           0.62        2.20         11.00\n",
       "996         2           7.09        0.00         29.30\n",
       "997         2           2.59        0.00         13.80\n",
       "998         1           0.80        2.05         12.35\n",
       "999         1           4.00        0.00         24.80\n",
       "\n",
       "[1000 rows x 4 columns]"
      ]
     },
     "execution_count": 167,
     "metadata": {},
     "output_type": "execute_result"
    }
   ],
   "source": [
    "chunk = morecols.get_chunk()\n",
    "chunk"
   ]
  },
  {
   "cell_type": "code",
   "execution_count": 168,
   "id": "88401b74-5f6f-4a1c-ab63-b44dd3516bae",
   "metadata": {},
   "outputs": [
    {
     "data": {
      "text/html": [
       "<div>\n",
       "<style scoped>\n",
       "    .dataframe tbody tr th:only-of-type {\n",
       "        vertical-align: middle;\n",
       "    }\n",
       "\n",
       "    .dataframe tbody tr th {\n",
       "        vertical-align: top;\n",
       "    }\n",
       "\n",
       "    .dataframe thead th {\n",
       "        text-align: right;\n",
       "    }\n",
       "</style>\n",
       "<table border=\"1\" class=\"dataframe\">\n",
       "  <thead>\n",
       "    <tr style=\"text-align: right;\">\n",
       "      <th></th>\n",
       "      <th>VendorID</th>\n",
       "      <th>trip_distance</th>\n",
       "      <th>tip_amount</th>\n",
       "      <th>total_amount</th>\n",
       "    </tr>\n",
       "  </thead>\n",
       "  <tbody>\n",
       "    <tr>\n",
       "      <th>0</th>\n",
       "      <td>1.00</td>\n",
       "      <td>1.20</td>\n",
       "      <td>1.47</td>\n",
       "      <td>11.27</td>\n",
       "    </tr>\n",
       "    <tr>\n",
       "      <th>1</th>\n",
       "      <td>1.00</td>\n",
       "      <td>1.20</td>\n",
       "      <td>1.50</td>\n",
       "      <td>12.30</td>\n",
       "    </tr>\n",
       "    <tr>\n",
       "      <th>2</th>\n",
       "      <td>1.00</td>\n",
       "      <td>0.60</td>\n",
       "      <td>1.00</td>\n",
       "      <td>10.80</td>\n",
       "    </tr>\n",
       "    <tr>\n",
       "      <th>3</th>\n",
       "      <td>1.00</td>\n",
       "      <td>0.80</td>\n",
       "      <td>1.36</td>\n",
       "      <td>8.16</td>\n",
       "    </tr>\n",
       "    <tr>\n",
       "      <th>4</th>\n",
       "      <td>2.00</td>\n",
       "      <td>0.00</td>\n",
       "      <td>0.00</td>\n",
       "      <td>4.80</td>\n",
       "    </tr>\n",
       "    <tr>\n",
       "      <th>...</th>\n",
       "      <td>...</td>\n",
       "      <td>...</td>\n",
       "      <td>...</td>\n",
       "      <td>...</td>\n",
       "    </tr>\n",
       "    <tr>\n",
       "      <th>6405003</th>\n",
       "      <td>NaN</td>\n",
       "      <td>3.24</td>\n",
       "      <td>0.00</td>\n",
       "      <td>21.14</td>\n",
       "    </tr>\n",
       "    <tr>\n",
       "      <th>6405004</th>\n",
       "      <td>NaN</td>\n",
       "      <td>22.13</td>\n",
       "      <td>0.00</td>\n",
       "      <td>62.46</td>\n",
       "    </tr>\n",
       "    <tr>\n",
       "      <th>6405005</th>\n",
       "      <td>NaN</td>\n",
       "      <td>10.51</td>\n",
       "      <td>0.00</td>\n",
       "      <td>51.90</td>\n",
       "    </tr>\n",
       "    <tr>\n",
       "      <th>6405006</th>\n",
       "      <td>NaN</td>\n",
       "      <td>5.49</td>\n",
       "      <td>0.00</td>\n",
       "      <td>30.22</td>\n",
       "    </tr>\n",
       "    <tr>\n",
       "      <th>6405007</th>\n",
       "      <td>NaN</td>\n",
       "      <td>11.60</td>\n",
       "      <td>0.00</td>\n",
       "      <td>58.11</td>\n",
       "    </tr>\n",
       "  </tbody>\n",
       "</table>\n",
       "<p>6405008 rows × 4 columns</p>\n",
       "</div>"
      ],
      "text/plain": [
       "         VendorID  trip_distance  tip_amount  total_amount\n",
       "0            1.00           1.20        1.47         11.27\n",
       "1            1.00           1.20        1.50         12.30\n",
       "2            1.00           0.60        1.00         10.80\n",
       "3            1.00           0.80        1.36          8.16\n",
       "4            2.00           0.00        0.00          4.80\n",
       "...           ...            ...         ...           ...\n",
       "6405003       NaN           3.24        0.00         21.14\n",
       "6405004       NaN          22.13        0.00         62.46\n",
       "6405005       NaN          10.51        0.00         51.90\n",
       "6405006       NaN           5.49        0.00         30.22\n",
       "6405007       NaN          11.60        0.00         58.11\n",
       "\n",
       "[6405008 rows x 4 columns]"
      ]
     },
     "execution_count": 168,
     "metadata": {},
     "output_type": "execute_result"
    }
   ],
   "source": [
    "morecols = pd.read_csv(r'D:\\Documents\\Data Analysis\\Datasets\\pandas-workout-data\\data\\nyc_taxi_2020-01.csv',\n",
    "                    usecols=['VendorID', 'trip_distance', 'tip_amount', 'total_amount'],\n",
    "                    dtype={'VendorID': np.float32,\n",
    "                           'trip_distance': np.float32,\n",
    "                           'tip_amount': np.float32,\n",
    "                           'total_amount': np.float32})\n",
    "morecols"
   ]
  },
  {
   "cell_type": "code",
   "execution_count": 169,
   "id": "ebd42c58-3982-4b68-aa3f-27b81b07c028",
   "metadata": {},
   "outputs": [
    {
     "data": {
      "text/plain": [
       "VendorID          True\n",
       "trip_distance    False\n",
       "tip_amount       False\n",
       "total_amount     False\n",
       "dtype: bool"
      ]
     },
     "execution_count": 169,
     "metadata": {},
     "output_type": "execute_result"
    }
   ],
   "source": [
    "morecols.isna().any()\n",
    "\n",
    "# VendorID contains NA values, must be of dtype float, other ones we can probably work with"
   ]
  },
  {
   "cell_type": "code",
   "execution_count": 170,
   "id": "80063c96-6fd3-4db4-a561-89101debb67b",
   "metadata": {},
   "outputs": [
    {
     "data": {
      "text/html": [
       "<div>\n",
       "<style scoped>\n",
       "    .dataframe tbody tr th:only-of-type {\n",
       "        vertical-align: middle;\n",
       "    }\n",
       "\n",
       "    .dataframe tbody tr th {\n",
       "        vertical-align: top;\n",
       "    }\n",
       "\n",
       "    .dataframe thead th {\n",
       "        text-align: right;\n",
       "    }\n",
       "</style>\n",
       "<table border=\"1\" class=\"dataframe\">\n",
       "  <thead>\n",
       "    <tr style=\"text-align: right;\">\n",
       "      <th></th>\n",
       "      <th>VendorID</th>\n",
       "      <th>trip_distance</th>\n",
       "      <th>tip_amount</th>\n",
       "      <th>total_amount</th>\n",
       "    </tr>\n",
       "  </thead>\n",
       "  <tbody>\n",
       "    <tr>\n",
       "      <th>count</th>\n",
       "      <td>6,339,567.00</td>\n",
       "      <td>6,405,008.00</td>\n",
       "      <td>6,405,008.00</td>\n",
       "      <td>6,405,008.00</td>\n",
       "    </tr>\n",
       "    <tr>\n",
       "      <th>mean</th>\n",
       "      <td>1.67</td>\n",
       "      <td>2.93</td>\n",
       "      <td>2.19</td>\n",
       "      <td>18.66</td>\n",
       "    </tr>\n",
       "    <tr>\n",
       "      <th>std</th>\n",
       "      <td>0.48</td>\n",
       "      <td>83.16</td>\n",
       "      <td>2.72</td>\n",
       "      <td>14.65</td>\n",
       "    </tr>\n",
       "    <tr>\n",
       "      <th>min</th>\n",
       "      <td>1.00</td>\n",
       "      <td>-30.62</td>\n",
       "      <td>-91.00</td>\n",
       "      <td>-1,242.30</td>\n",
       "    </tr>\n",
       "    <tr>\n",
       "      <th>25%</th>\n",
       "      <td>1.00</td>\n",
       "      <td>0.96</td>\n",
       "      <td>0.00</td>\n",
       "      <td>11.16</td>\n",
       "    </tr>\n",
       "    <tr>\n",
       "      <th>50%</th>\n",
       "      <td>2.00</td>\n",
       "      <td>1.60</td>\n",
       "      <td>1.95</td>\n",
       "      <td>14.30</td>\n",
       "    </tr>\n",
       "    <tr>\n",
       "      <th>75%</th>\n",
       "      <td>2.00</td>\n",
       "      <td>2.93</td>\n",
       "      <td>2.86</td>\n",
       "      <td>19.80</td>\n",
       "    </tr>\n",
       "    <tr>\n",
       "      <th>max</th>\n",
       "      <td>2.00</td>\n",
       "      <td>210,240.06</td>\n",
       "      <td>1,100.00</td>\n",
       "      <td>4,268.30</td>\n",
       "    </tr>\n",
       "  </tbody>\n",
       "</table>\n",
       "</div>"
      ],
      "text/plain": [
       "          VendorID  trip_distance   tip_amount  total_amount\n",
       "count 6,339,567.00   6,405,008.00 6,405,008.00  6,405,008.00\n",
       "mean          1.67           2.93         2.19         18.66\n",
       "std           0.48          83.16         2.72         14.65\n",
       "min           1.00         -30.62       -91.00     -1,242.30\n",
       "25%           1.00           0.96         0.00         11.16\n",
       "50%           2.00           1.60         1.95         14.30\n",
       "75%           2.00           2.93         2.86         19.80\n",
       "max           2.00     210,240.06     1,100.00      4,268.30"
      ]
     },
     "execution_count": 170,
     "metadata": {},
     "output_type": "execute_result"
    }
   ],
   "source": [
    "morecols.describe()"
   ]
  },
  {
   "cell_type": "code",
   "execution_count": 171,
   "id": "db4172e9-264e-488e-a806-bc37da49e0dd",
   "metadata": {},
   "outputs": [
    {
     "data": {
      "text/plain": [
       "VendorID\n",
       "2.00    4245128\n",
       "1.00    2094439\n",
       "3.00      65441\n",
       "Name: count, dtype: int64"
      ]
     },
     "execution_count": 171,
     "metadata": {},
     "output_type": "execute_result"
    }
   ],
   "source": [
    "# set NA values in VendorID to 3, allows to be converted to int now\n",
    "morecols.loc[morecols['VendorID'].isna(), 'VendorID'] = 3\n",
    "morecols['VendorID'].value_counts()"
   ]
  },
  {
   "cell_type": "code",
   "execution_count": 172,
   "id": "5f2fd627-35ba-4629-9a7c-c2592d6ced39",
   "metadata": {},
   "outputs": [
    {
     "name": "stdout",
     "output_type": "stream",
     "text": [
      "88753938\n",
      "202866144\n"
     ]
    }
   ],
   "source": [
    "# compare float16 vs float64 memory usage\n",
    "jan20[['passenger_count', 'payment_type', 'total_amount']] = jan20.loc[:,['passenger_count', 'payment_type', 'total_amount']].astype(np.float16)\n",
    "small_float = jan20.memory_usage()\n",
    "\n",
    "jan20[['passenger_count', 'payment_type', 'total_amount']] = jan20.loc[:,['passenger_count', 'payment_type', 'total_amount']].astype(np.float64)\n",
    "big_float = jan20.memory_usage()\n",
    "\n",
    "print(small_float.sum())\n",
    "print(big_float.sum())"
   ]
  },
  {
   "cell_type": "code",
   "execution_count": 173,
   "id": "d83ebfe8-a018-4bc5-8233-7c30133432d2",
   "metadata": {},
   "outputs": [
    {
     "data": {
      "text/plain": [
       "114112206"
      ]
     },
     "execution_count": 173,
     "metadata": {},
     "output_type": "execute_result"
    }
   ],
   "source": [
    "# memory saved\n",
    "big_float.sum() - small_float.sum()"
   ]
  },
  {
   "cell_type": "markdown",
   "id": "1d9045d7-ca97-4c1a-9161-e958ec3657cb",
   "metadata": {},
   "source": [
    "### Notes\n",
    "- use .copy() when calling dropna() to ensure changes stick\n",
    "- always use .loc when updating values, but cannot be used when changing data types"
   ]
  },
  {
   "cell_type": "markdown",
   "id": "3b057fa3-3d77-4c09-bbce-4536615d2835",
   "metadata": {},
   "source": [
    "## Exercise 18 - passwd to df"
   ]
  },
  {
   "cell_type": "code",
   "execution_count": 176,
   "id": "3e7cb68e-665b-4cf3-8041-9366cc1cd2d6",
   "metadata": {},
   "outputs": [
    {
     "data": {
      "text/html": [
       "<div>\n",
       "<style scoped>\n",
       "    .dataframe tbody tr th:only-of-type {\n",
       "        vertical-align: middle;\n",
       "    }\n",
       "\n",
       "    .dataframe tbody tr th {\n",
       "        vertical-align: top;\n",
       "    }\n",
       "\n",
       "    .dataframe thead th {\n",
       "        text-align: right;\n",
       "    }\n",
       "</style>\n",
       "<table border=\"1\" class=\"dataframe\">\n",
       "  <thead>\n",
       "    <tr style=\"text-align: right;\">\n",
       "      <th></th>\n",
       "      <th>password</th>\n",
       "      <th>userid</th>\n",
       "      <th>groupid</th>\n",
       "      <th>name</th>\n",
       "      <th>homedir</th>\n",
       "      <th>shell</th>\n",
       "    </tr>\n",
       "    <tr>\n",
       "      <th>username</th>\n",
       "      <th></th>\n",
       "      <th></th>\n",
       "      <th></th>\n",
       "      <th></th>\n",
       "      <th></th>\n",
       "      <th></th>\n",
       "    </tr>\n",
       "  </thead>\n",
       "  <tbody>\n",
       "    <tr>\n",
       "      <th>root</th>\n",
       "      <td>x</td>\n",
       "      <td>0</td>\n",
       "      <td>0</td>\n",
       "      <td>root</td>\n",
       "      <td>/root</td>\n",
       "      <td>/bin/bash</td>\n",
       "    </tr>\n",
       "    <tr>\n",
       "      <th>daemon</th>\n",
       "      <td>x</td>\n",
       "      <td>1</td>\n",
       "      <td>1</td>\n",
       "      <td>daemon</td>\n",
       "      <td>/usr/sbin</td>\n",
       "      <td>/usr/sbin/nologin</td>\n",
       "    </tr>\n",
       "    <tr>\n",
       "      <th>bin</th>\n",
       "      <td>x</td>\n",
       "      <td>2</td>\n",
       "      <td>2</td>\n",
       "      <td>bin</td>\n",
       "      <td>/bin</td>\n",
       "      <td>/usr/sbin/nologin</td>\n",
       "    </tr>\n",
       "    <tr>\n",
       "      <th>sys</th>\n",
       "      <td>x</td>\n",
       "      <td>3</td>\n",
       "      <td>3</td>\n",
       "      <td>sys</td>\n",
       "      <td>/dev</td>\n",
       "      <td>/usr/sbin/nologin</td>\n",
       "    </tr>\n",
       "    <tr>\n",
       "      <th>sync</th>\n",
       "      <td>x</td>\n",
       "      <td>4</td>\n",
       "      <td>65534</td>\n",
       "      <td>sync</td>\n",
       "      <td>/bin</td>\n",
       "      <td>/bin/sync</td>\n",
       "    </tr>\n",
       "  </tbody>\n",
       "</table>\n",
       "</div>"
      ],
      "text/plain": [
       "         password  userid  groupid    name    homedir              shell\n",
       "username                                                                \n",
       "root            x       0        0    root      /root          /bin/bash\n",
       "daemon          x       1        1  daemon  /usr/sbin  /usr/sbin/nologin\n",
       "bin             x       2        2     bin       /bin  /usr/sbin/nologin\n",
       "sys             x       3        3     sys       /dev  /usr/sbin/nologin\n",
       "sync            x       4    65534    sync       /bin          /bin/sync"
      ]
     },
     "execution_count": 176,
     "metadata": {},
     "output_type": "execute_result"
    }
   ],
   "source": [
    "# read in CSV, line separator ':', comment indicator '#', rename columns, set username column as index\n",
    "passwd = pd.read_csv(r'D:\\Documents\\Data Analysis\\Datasets\\pandas-workout-data\\data\\linux-etc-passwd.txt',\n",
    "                    sep=':',\n",
    "                    comment='#',\n",
    "                    names=['username', 'password', 'userid', 'groupid', 'name', 'homedir', 'shell'],\n",
    "                    index_col='username')\n",
    "passwd.head()"
   ]
  },
  {
   "cell_type": "markdown",
   "id": "ca2892ca-d171-426c-b3f0-bda685786fb0",
   "metadata": {},
   "source": [
    "### Exercise 18b"
   ]
  },
  {
   "cell_type": "code",
   "execution_count": 178,
   "id": "11ff0180-c08c-4b6e-9e60-63b418f0b9bc",
   "metadata": {},
   "outputs": [
    {
     "data": {
      "text/html": [
       "<div>\n",
       "<style scoped>\n",
       "    .dataframe tbody tr th:only-of-type {\n",
       "        vertical-align: middle;\n",
       "    }\n",
       "\n",
       "    .dataframe tbody tr th {\n",
       "        vertical-align: top;\n",
       "    }\n",
       "\n",
       "    .dataframe thead th {\n",
       "        text-align: right;\n",
       "    }\n",
       "</style>\n",
       "<table border=\"1\" class=\"dataframe\">\n",
       "  <thead>\n",
       "    <tr style=\"text-align: right;\">\n",
       "      <th></th>\n",
       "      <th>userid</th>\n",
       "      <th>name</th>\n",
       "      <th>homedir</th>\n",
       "      <th>shell</th>\n",
       "    </tr>\n",
       "    <tr>\n",
       "      <th>username</th>\n",
       "      <th></th>\n",
       "      <th></th>\n",
       "      <th></th>\n",
       "      <th></th>\n",
       "    </tr>\n",
       "  </thead>\n",
       "  <tbody>\n",
       "    <tr>\n",
       "      <th>root</th>\n",
       "      <td>0</td>\n",
       "      <td>root</td>\n",
       "      <td>/root</td>\n",
       "      <td>/bin/bash</td>\n",
       "    </tr>\n",
       "    <tr>\n",
       "      <th>daemon</th>\n",
       "      <td>1</td>\n",
       "      <td>daemon</td>\n",
       "      <td>/usr/sbin</td>\n",
       "      <td>/usr/sbin/nologin</td>\n",
       "    </tr>\n",
       "    <tr>\n",
       "      <th>bin</th>\n",
       "      <td>2</td>\n",
       "      <td>bin</td>\n",
       "      <td>/bin</td>\n",
       "      <td>/usr/sbin/nologin</td>\n",
       "    </tr>\n",
       "    <tr>\n",
       "      <th>sys</th>\n",
       "      <td>3</td>\n",
       "      <td>sys</td>\n",
       "      <td>/dev</td>\n",
       "      <td>/usr/sbin/nologin</td>\n",
       "    </tr>\n",
       "    <tr>\n",
       "      <th>sync</th>\n",
       "      <td>4</td>\n",
       "      <td>sync</td>\n",
       "      <td>/bin</td>\n",
       "      <td>/bin/sync</td>\n",
       "    </tr>\n",
       "  </tbody>\n",
       "</table>\n",
       "</div>"
      ],
      "text/plain": [
       "          userid    name    homedir              shell\n",
       "username                                              \n",
       "root           0    root      /root          /bin/bash\n",
       "daemon         1  daemon  /usr/sbin  /usr/sbin/nologin\n",
       "bin            2     bin       /bin  /usr/sbin/nologin\n",
       "sys            3     sys       /dev  /usr/sbin/nologin\n",
       "sync           4    sync       /bin          /bin/sync"
      ]
     },
     "execution_count": 178,
     "metadata": {},
     "output_type": "execute_result"
    }
   ],
   "source": [
    "# ignore password and groupid columns\n",
    "passwd = pd.read_csv(r'D:\\Documents\\Data Analysis\\Datasets\\pandas-workout-data\\data\\linux-etc-passwd.txt',\n",
    "                    sep=':',\n",
    "                    comment='#',\n",
    "                    names=['username', 'password', 'userid', 'groupid', 'name', 'homedir', 'shell'],\n",
    "                    usecols=['username', 'userid', 'name', 'homedir', 'shell'],\n",
    "                    index_col='username')\n",
    "passwd.head()"
   ]
  },
  {
   "cell_type": "code",
   "execution_count": 179,
   "id": "f4e876e6-6a13-4e11-959b-41ecdabe3934",
   "metadata": {},
   "outputs": [
    {
     "data": {
      "text/plain": [
       "Index(['nobody', 'user', 'reuven', 'genadi', 'shira', 'atara', 'shikma',\n",
       "       'amotz', 'git', 'deploy'],\n",
       "      dtype='object', name='username')"
      ]
     },
     "execution_count": 179,
     "metadata": {},
     "output_type": "execute_result"
    }
   ],
   "source": [
    "# show nonspecial usernames (userid >=1000)\n",
    "passwd.loc[passwd['userid']>=1000].index"
   ]
  },
  {
   "cell_type": "code",
   "execution_count": 180,
   "id": "6291c1b4-836f-4237-80e1-954be2d82319",
   "metadata": {},
   "outputs": [
    {
     "data": {
      "text/plain": [
       "array(['/bin/bash', '/usr/sbin/nologin', '/bin/sync', '/bin/false',\n",
       "       '/bin/sh', '/bin/nologin'], dtype=object)"
      ]
     },
     "execution_count": 180,
     "metadata": {},
     "output_type": "execute_result"
    }
   ],
   "source": [
    "# what are the verious command interpreters or shells?\n",
    "passwd['shell'].unique()"
   ]
  },
  {
   "cell_type": "markdown",
   "id": "6c66ace6-fd9d-4b5d-9b40-2f7bf1e8a620",
   "metadata": {},
   "source": [
    "### Notes\n",
    "- drop_duplicates can be used to find unique values while keeping in series format\n",
    "- with read_csv, 'names' requires the renaming of all columns. 'usecols' must thus always be a subset of 'names'. "
   ]
  },
  {
   "cell_type": "code",
   "execution_count": 182,
   "id": "473356fb-8857-405b-ab77-8ea92aee6b50",
   "metadata": {},
   "outputs": [
    {
     "data": {
      "text/plain": [
       "username\n",
       "root                    /bin/bash\n",
       "daemon          /usr/sbin/nologin\n",
       "sync                    /bin/sync\n",
       "syslog                 /bin/false\n",
       "debian-spamd              /bin/sh\n",
       "gitlab-redis         /bin/nologin\n",
       "Name: shell, dtype: object"
      ]
     },
     "execution_count": 182,
     "metadata": {},
     "output_type": "execute_result"
    }
   ],
   "source": [
    "# can also use drop_duplicates to keep as series\n",
    "passwd['shell'].drop_duplicates()"
   ]
  },
  {
   "cell_type": "markdown",
   "id": "caf48b57-d46c-447b-be15-1959719c835d",
   "metadata": {},
   "source": [
    "## Exercise 19 - Bitcoin values"
   ]
  },
  {
   "cell_type": "code",
   "execution_count": 184,
   "id": "a275bc8f-38ec-4f3e-bccb-471e912e47a9",
   "metadata": {},
   "outputs": [
    {
     "name": "stdout",
     "output_type": "stream",
     "text": [
      "<class 'pandas.core.frame.DataFrame'>\n",
      "RangeIndex: 366 entries, 0 to 365\n",
      "Data columns (total 2 columns):\n",
      " #   Column         Non-Null Count  Dtype         \n",
      "---  ------         --------------  -----         \n",
      " 0   date           366 non-null    datetime64[ns]\n",
      " 1   closing_price  366 non-null    float64       \n",
      "dtypes: datetime64[ns](1), float64(1)\n",
      "memory usage: 5.8 KB\n"
     ]
    }
   ],
   "source": [
    "# retrieve CSV from a webpage\n",
    "bitcoin = pd.read_csv('https://api.blockchain.info/charts/market-price?format=csv',\n",
    "                     header=None,\n",
    "                     names=['date', 'closing_price'],\n",
    "                     parse_dates=['date'])\n",
    "bitcoin.info()"
   ]
  },
  {
   "cell_type": "code",
   "execution_count": 185,
   "id": "6a29f210-7ed8-46af-82cf-3cf415a5e068",
   "metadata": {},
   "outputs": [
    {
     "data": {
      "text/plain": [
       "60565.91"
      ]
     },
     "execution_count": 185,
     "metadata": {},
     "output_type": "execute_result"
    }
   ],
   "source": [
    "# closing price for most recent trading day\n",
    "bitcoin.loc[bitcoin['date'].idxmax(), 'closing_price']"
   ]
  },
  {
   "cell_type": "code",
   "execution_count": 186,
   "id": "450db65a-2927-4cff-88ce-b15a1e14e750",
   "metadata": {},
   "outputs": [
    {
     "data": {
      "text/plain": [
       "date             2023-09-27 00:00:00\n",
       "closing_price              26,212.82\n",
       "Name: 12, dtype: object"
      ]
     },
     "execution_count": 186,
     "metadata": {},
     "output_type": "execute_result"
    }
   ],
   "source": [
    "# lowest historical price and the date\n",
    "bitcoin.loc[bitcoin['closing_price'].idxmin(), :]"
   ]
  },
  {
   "cell_type": "code",
   "execution_count": 187,
   "id": "2486a1b2-3b2c-4325-85e3-06c2fd371778",
   "metadata": {},
   "outputs": [
    {
     "data": {
      "text/plain": [
       "date             2024-03-14 00:00:00\n",
       "closing_price              73,094.37\n",
       "Name: 181, dtype: object"
      ]
     },
     "execution_count": 187,
     "metadata": {},
     "output_type": "execute_result"
    }
   ],
   "source": [
    "# highest historical price and date\n",
    "bitcoin.loc[bitcoin['closing_price'].idxmax(), :]"
   ]
  },
  {
   "cell_type": "markdown",
   "id": "0bc93fa3-1653-4ce1-b089-07ebcf9ad035",
   "metadata": {},
   "source": [
    "### Exercise 19b"
   ]
  },
  {
   "cell_type": "code",
   "execution_count": 189,
   "id": "6ca32558-eab2-4d3a-98fc-e2ccc1a94ceb",
   "metadata": {},
   "outputs": [
    {
     "data": {
      "text/plain": [
       "365   60,565.91\n",
       "Name: closing_price, dtype: float64"
      ]
     },
     "execution_count": 189,
     "metadata": {},
     "output_type": "execute_result"
    }
   ],
   "source": [
    "# retrieve current value with one line of code (without assigning to a variable)\n",
    "pd.read_csv('https://api.blockchain.info/charts/market-price?format=csv',\n",
    "                     header=None,\n",
    "                     names=['date', 'closing_price'],\n",
    "                     parse_dates=['date']).tail(1)['closing_price']"
   ]
  },
  {
   "cell_type": "code",
   "execution_count": 190,
   "id": "1b2023fb-66e0-414c-a61a-4aa9cae98fc0",
   "metadata": {},
   "outputs": [
    {
     "data": {
      "text/html": [
       "<div>\n",
       "<style scoped>\n",
       "    .dataframe tbody tr th:only-of-type {\n",
       "        vertical-align: middle;\n",
       "    }\n",
       "\n",
       "    .dataframe tbody tr th {\n",
       "        vertical-align: top;\n",
       "    }\n",
       "\n",
       "    .dataframe thead th {\n",
       "        text-align: right;\n",
       "    }\n",
       "</style>\n",
       "<table border=\"1\" class=\"dataframe\">\n",
       "  <thead>\n",
       "    <tr style=\"text-align: right;\">\n",
       "      <th></th>\n",
       "      <th>Open</th>\n",
       "      <th>High</th>\n",
       "      <th>Low</th>\n",
       "      <th>Close Close price adjusted for splits.</th>\n",
       "      <th>Adj Close Adjusted close price adjusted for splits and dividend and/or capital gain distributions.</th>\n",
       "      <th>Volume</th>\n",
       "    </tr>\n",
       "    <tr>\n",
       "      <th>Date</th>\n",
       "      <th></th>\n",
       "      <th></th>\n",
       "      <th></th>\n",
       "      <th></th>\n",
       "      <th></th>\n",
       "      <th></th>\n",
       "    </tr>\n",
       "  </thead>\n",
       "  <tbody>\n",
       "    <tr>\n",
       "      <th>Sep 13, 2024</th>\n",
       "      <td>5,603.34</td>\n",
       "      <td>5,636.27</td>\n",
       "      <td>5,601.65</td>\n",
       "      <td>5,626.02</td>\n",
       "      <td>5,626.02</td>\n",
       "      <td>3500790000</td>\n",
       "    </tr>\n",
       "    <tr>\n",
       "      <th>Sep 12, 2024</th>\n",
       "      <td>5,557.48</td>\n",
       "      <td>5,600.71</td>\n",
       "      <td>5,535.50</td>\n",
       "      <td>5,595.76</td>\n",
       "      <td>5,595.76</td>\n",
       "      <td>3655070000</td>\n",
       "    </tr>\n",
       "    <tr>\n",
       "      <th>Sep 11, 2024</th>\n",
       "      <td>5,496.42</td>\n",
       "      <td>5,560.41</td>\n",
       "      <td>5,406.96</td>\n",
       "      <td>5,554.13</td>\n",
       "      <td>5,554.13</td>\n",
       "      <td>3839450000</td>\n",
       "    </tr>\n",
       "    <tr>\n",
       "      <th>Sep 10, 2024</th>\n",
       "      <td>5,490.51</td>\n",
       "      <td>5,497.91</td>\n",
       "      <td>5,441.72</td>\n",
       "      <td>5,495.52</td>\n",
       "      <td>5,495.52</td>\n",
       "      <td>3848180000</td>\n",
       "    </tr>\n",
       "    <tr>\n",
       "      <th>Sep 9, 2024</th>\n",
       "      <td>5,442.07</td>\n",
       "      <td>5,484.20</td>\n",
       "      <td>5,434.49</td>\n",
       "      <td>5,471.05</td>\n",
       "      <td>5,471.05</td>\n",
       "      <td>3825940000</td>\n",
       "    </tr>\n",
       "  </tbody>\n",
       "</table>\n",
       "</div>"
      ],
      "text/plain": [
       "                 Open     High      Low  \\\n",
       "Date                                      \n",
       "Sep 13, 2024 5,603.34 5,636.27 5,601.65   \n",
       "Sep 12, 2024 5,557.48 5,600.71 5,535.50   \n",
       "Sep 11, 2024 5,496.42 5,560.41 5,406.96   \n",
       "Sep 10, 2024 5,490.51 5,497.91 5,441.72   \n",
       "Sep 9, 2024  5,442.07 5,484.20 5,434.49   \n",
       "\n",
       "              Close Close price adjusted for splits.  \\\n",
       "Date                                                   \n",
       "Sep 13, 2024                                5,626.02   \n",
       "Sep 12, 2024                                5,595.76   \n",
       "Sep 11, 2024                                5,554.13   \n",
       "Sep 10, 2024                                5,495.52   \n",
       "Sep 9, 2024                                 5,471.05   \n",
       "\n",
       "              Adj Close Adjusted close price adjusted for splits and dividend and/or capital gain distributions.  \\\n",
       "Date                                                                                                               \n",
       "Sep 13, 2024                                           5,626.02                                                    \n",
       "Sep 12, 2024                                           5,595.76                                                    \n",
       "Sep 11, 2024                                           5,554.13                                                    \n",
       "Sep 10, 2024                                           5,495.52                                                    \n",
       "Sep 9, 2024                                            5,471.05                                                    \n",
       "\n",
       "                  Volume  \n",
       "Date                      \n",
       "Sep 13, 2024  3500790000  \n",
       "Sep 12, 2024  3655070000  \n",
       "Sep 11, 2024  3839450000  \n",
       "Sep 10, 2024  3848180000  \n",
       "Sep 9, 2024   3825940000  "
      ]
     },
     "execution_count": 190,
     "metadata": {},
     "output_type": "execute_result"
    }
   ],
   "source": [
    "# retrieve raw HTML\n",
    "r = requests.get('https://finance.yahoo.com/quote/%5EGSPC/history?p=%5EGSPC',\n",
    "                headers={'User-Agent': 'Mozilla/5.0'})\n",
    "\n",
    "# access HTML in memory with StringIO\n",
    "s = StringIO(r.content.decode())\n",
    "\n",
    "# read in desired HTML from snp500\n",
    "snp500 = pd.read_html(s)[0]\n",
    "\n",
    "# set date as index\n",
    "snp500 = snp500.set_index('Date')\n",
    "snp500.head()"
   ]
  },
  {
   "cell_type": "code",
   "execution_count": 191,
   "id": "65d85df0-95a3-4ae8-93f5-9bd39c32aead",
   "metadata": {},
   "outputs": [
    {
     "data": {
      "text/html": [
       "<div>\n",
       "<style scoped>\n",
       "    .dataframe tbody tr th:only-of-type {\n",
       "        vertical-align: middle;\n",
       "    }\n",
       "\n",
       "    .dataframe tbody tr th {\n",
       "        vertical-align: top;\n",
       "    }\n",
       "\n",
       "    .dataframe thead th {\n",
       "        text-align: right;\n",
       "    }\n",
       "</style>\n",
       "<table border=\"1\" class=\"dataframe\">\n",
       "  <thead>\n",
       "    <tr style=\"text-align: right;\">\n",
       "      <th></th>\n",
       "      <th>Close</th>\n",
       "      <th>Volume</th>\n",
       "    </tr>\n",
       "    <tr>\n",
       "      <th>Date</th>\n",
       "      <th></th>\n",
       "      <th></th>\n",
       "    </tr>\n",
       "  </thead>\n",
       "  <tbody>\n",
       "    <tr>\n",
       "      <th>Sep 13, 2024</th>\n",
       "      <td>5,626.02</td>\n",
       "      <td>3500790000</td>\n",
       "    </tr>\n",
       "    <tr>\n",
       "      <th>Sep 12, 2024</th>\n",
       "      <td>5,595.76</td>\n",
       "      <td>3655070000</td>\n",
       "    </tr>\n",
       "    <tr>\n",
       "      <th>Sep 11, 2024</th>\n",
       "      <td>5,554.13</td>\n",
       "      <td>3839450000</td>\n",
       "    </tr>\n",
       "    <tr>\n",
       "      <th>Sep 10, 2024</th>\n",
       "      <td>5,495.52</td>\n",
       "      <td>3848180000</td>\n",
       "    </tr>\n",
       "    <tr>\n",
       "      <th>Sep 9, 2024</th>\n",
       "      <td>5,471.05</td>\n",
       "      <td>3825940000</td>\n",
       "    </tr>\n",
       "  </tbody>\n",
       "</table>\n",
       "</div>"
      ],
      "text/plain": [
       "                Close      Volume\n",
       "Date                             \n",
       "Sep 13, 2024 5,626.02  3500790000\n",
       "Sep 12, 2024 5,595.76  3655070000\n",
       "Sep 11, 2024 5,554.13  3839450000\n",
       "Sep 10, 2024 5,495.52  3848180000\n",
       "Sep 9, 2024  5,471.05  3825940000"
      ]
     },
     "execution_count": 191,
     "metadata": {},
     "output_type": "execute_result"
    }
   ],
   "source": [
    "# locate closing price and volume columns\n",
    "snp500 = snp500.loc[:, ['Close Close price adjusted for splits.', 'Volume']]\n",
    "\n",
    "# rename to make more manageable\n",
    "snp500 = snp500.rename(columns={'Close Close price adjusted for splits.': 'Close', 'Volume': 'Volume'})\n",
    "snp500.head()"
   ]
  },
  {
   "cell_type": "code",
   "execution_count": 192,
   "id": "6a484277-1d76-4657-bce6-bbe973421454",
   "metadata": {},
   "outputs": [
    {
     "data": {
      "text/html": [
       "<div>\n",
       "<style scoped>\n",
       "    .dataframe tbody tr th:only-of-type {\n",
       "        vertical-align: middle;\n",
       "    }\n",
       "\n",
       "    .dataframe tbody tr th {\n",
       "        vertical-align: top;\n",
       "    }\n",
       "\n",
       "    .dataframe thead th {\n",
       "        text-align: right;\n",
       "    }\n",
       "</style>\n",
       "<table border=\"1\" class=\"dataframe\">\n",
       "  <thead>\n",
       "    <tr style=\"text-align: right;\">\n",
       "      <th></th>\n",
       "      <th>Close</th>\n",
       "      <th>Volume</th>\n",
       "    </tr>\n",
       "    <tr>\n",
       "      <th>Date</th>\n",
       "      <th></th>\n",
       "      <th></th>\n",
       "    </tr>\n",
       "  </thead>\n",
       "  <tbody>\n",
       "    <tr>\n",
       "      <th>Oct 27, 2023</th>\n",
       "      <td>4,117.37</td>\n",
       "      <td>4019500000</td>\n",
       "    </tr>\n",
       "    <tr>\n",
       "      <th>Jul 16, 2024</th>\n",
       "      <td>5,667.20</td>\n",
       "      <td>4041760000</td>\n",
       "    </tr>\n",
       "  </tbody>\n",
       "</table>\n",
       "</div>"
      ],
      "text/plain": [
       "                Close      Volume\n",
       "Date                             \n",
       "Oct 27, 2023 4,117.37  4019500000\n",
       "Jul 16, 2024 5,667.20  4041760000"
      ]
     },
     "execution_count": 192,
     "metadata": {},
     "output_type": "execute_result"
    }
   ],
   "source": [
    "# date and volume of highest/lowest close values\n",
    "\n",
    "high_low = snp500.loc[[snp500['Close'].idxmin(), snp500['Close'].idxmax()], :]\n",
    "high_low"
   ]
  },
  {
   "cell_type": "code",
   "execution_count": 193,
   "id": "3cd029a8-042f-423b-ad01-c1ef21082482",
   "metadata": {},
   "outputs": [
    {
     "name": "stdout",
     "output_type": "stream",
     "text": [
      "Date,Close,Volume\n",
      "\"Oct 27, 2023\",4117.37,4019500000\n",
      "\"Jul 16, 2024\",5667.2,4041760000\n",
      "\n"
     ]
    }
   ],
   "source": [
    "# print values to CSV\n",
    "print(high_low.to_csv())"
   ]
  },
  {
   "cell_type": "markdown",
   "id": "c217b853-6dd1-44db-b818-c5d227ca6a9d",
   "metadata": {},
   "source": [
    "## Exercise 20 - Big cities"
   ]
  },
  {
   "cell_type": "code",
   "execution_count": 195,
   "id": "78700675-7040-47c9-9cb6-db1f79ee6326",
   "metadata": {},
   "outputs": [
    {
     "data": {
      "text/html": [
       "<div>\n",
       "<style scoped>\n",
       "    .dataframe tbody tr th:only-of-type {\n",
       "        vertical-align: middle;\n",
       "    }\n",
       "\n",
       "    .dataframe tbody tr th {\n",
       "        vertical-align: top;\n",
       "    }\n",
       "\n",
       "    .dataframe thead th {\n",
       "        text-align: right;\n",
       "    }\n",
       "</style>\n",
       "<table border=\"1\" class=\"dataframe\">\n",
       "  <thead>\n",
       "    <tr style=\"text-align: right;\">\n",
       "      <th></th>\n",
       "      <th>city</th>\n",
       "      <th>growth_from_2000_to_2013</th>\n",
       "      <th>latitude</th>\n",
       "      <th>longitude</th>\n",
       "      <th>population</th>\n",
       "      <th>rank</th>\n",
       "      <th>state</th>\n",
       "    </tr>\n",
       "  </thead>\n",
       "  <tbody>\n",
       "    <tr>\n",
       "      <th>0</th>\n",
       "      <td>New York</td>\n",
       "      <td>4.8%</td>\n",
       "      <td>40.71</td>\n",
       "      <td>-74.01</td>\n",
       "      <td>8405837</td>\n",
       "      <td>1</td>\n",
       "      <td>New York</td>\n",
       "    </tr>\n",
       "    <tr>\n",
       "      <th>1</th>\n",
       "      <td>Los Angeles</td>\n",
       "      <td>4.8%</td>\n",
       "      <td>34.05</td>\n",
       "      <td>-118.24</td>\n",
       "      <td>3884307</td>\n",
       "      <td>2</td>\n",
       "      <td>California</td>\n",
       "    </tr>\n",
       "    <tr>\n",
       "      <th>2</th>\n",
       "      <td>Chicago</td>\n",
       "      <td>-6.1%</td>\n",
       "      <td>41.88</td>\n",
       "      <td>-87.63</td>\n",
       "      <td>2718782</td>\n",
       "      <td>3</td>\n",
       "      <td>Illinois</td>\n",
       "    </tr>\n",
       "    <tr>\n",
       "      <th>3</th>\n",
       "      <td>Houston</td>\n",
       "      <td>11.0%</td>\n",
       "      <td>29.76</td>\n",
       "      <td>-95.37</td>\n",
       "      <td>2195914</td>\n",
       "      <td>4</td>\n",
       "      <td>Texas</td>\n",
       "    </tr>\n",
       "    <tr>\n",
       "      <th>4</th>\n",
       "      <td>Philadelphia</td>\n",
       "      <td>2.6%</td>\n",
       "      <td>39.95</td>\n",
       "      <td>-75.17</td>\n",
       "      <td>1553165</td>\n",
       "      <td>5</td>\n",
       "      <td>Pennsylvania</td>\n",
       "    </tr>\n",
       "  </tbody>\n",
       "</table>\n",
       "</div>"
      ],
      "text/plain": [
       "           city growth_from_2000_to_2013  latitude  longitude  population  \\\n",
       "0      New York                     4.8%     40.71     -74.01     8405837   \n",
       "1   Los Angeles                     4.8%     34.05    -118.24     3884307   \n",
       "2       Chicago                    -6.1%     41.88     -87.63     2718782   \n",
       "3       Houston                    11.0%     29.76     -95.37     2195914   \n",
       "4  Philadelphia                     2.6%     39.95     -75.17     1553165   \n",
       "\n",
       "   rank         state  \n",
       "0     1      New York  \n",
       "1     2    California  \n",
       "2     3      Illinois  \n",
       "3     4         Texas  \n",
       "4     5  Pennsylvania  "
      ]
     },
     "execution_count": 195,
     "metadata": {},
     "output_type": "execute_result"
    }
   ],
   "source": [
    "# read in JSON file\n",
    "cities = pd.read_json(r'D:\\Documents\\Data Analysis\\Datasets\\pandas-workout-data\\data\\cities.json')\n",
    "cities.head()"
   ]
  },
  {
   "cell_type": "code",
   "execution_count": 196,
   "id": "5bd9308f-0b7c-47e2-9a44-dce3e5001e20",
   "metadata": {},
   "outputs": [
    {
     "data": {
      "text/plain": [
       "mean   131,132.44\n",
       "50%     68,207.00\n",
       "Name: population, dtype: float64"
      ]
     },
     "execution_count": 196,
     "metadata": {},
     "output_type": "execute_result"
    }
   ],
   "source": [
    "# mean and median populations\n",
    "cities['population'].describe()[['mean', '50%']]"
   ]
  },
  {
   "cell_type": "code",
   "execution_count": 197,
   "id": "889ba200-4c20-4520-8b0b-13b52431f5e3",
   "metadata": {},
   "outputs": [
    {
     "data": {
      "text/plain": [
       "mean   86,720.02\n",
       "50%    65,690.00\n",
       "Name: population, dtype: float64"
      ]
     },
     "execution_count": 197,
     "metadata": {},
     "output_type": "execute_result"
    }
   ],
   "source": [
    "# how does this change without top 50?\n",
    "cities.loc[51:, 'population'].describe()[['mean', '50%']]\n",
    "\n",
    "# mean is much closer to the median now, but both decrease, as would be expected"
   ]
  },
  {
   "cell_type": "code",
   "execution_count": 198,
   "id": "eb105704-9933-49f5-8c34-1e54558d371a",
   "metadata": {},
   "outputs": [
    {
     "data": {
      "text/plain": [
       "city                        Anchorage\n",
       "growth_from_2000_to_2013        15.4%\n",
       "latitude                        61.22\n",
       "longitude                     -149.90\n",
       "population                     300950\n",
       "rank                               63\n",
       "state                          Alaska\n",
       "Name: 62, dtype: object"
      ]
     },
     "execution_count": 198,
     "metadata": {},
     "output_type": "execute_result"
    }
   ],
   "source": [
    "# northernmost city (max latitude)\n",
    "cities.loc[cities['latitude'].idxmax()]"
   ]
  },
  {
   "cell_type": "code",
   "execution_count": 199,
   "id": "aa4947c4-812a-4465-80f1-3b8651b57fef",
   "metadata": {},
   "outputs": [
    {
     "data": {
      "text/plain": [
       "state\n",
       "California       212\n",
       "Texas             83\n",
       "Florida           73\n",
       "Illinois          52\n",
       "Massachusetts     36\n",
       "Name: count, dtype: int64"
      ]
     },
     "execution_count": 199,
     "metadata": {},
     "output_type": "execute_result"
    }
   ],
   "source": [
    "# which state has most top cities?\n",
    "cities['state'].value_counts().head()"
   ]
  },
  {
   "cell_type": "code",
   "execution_count": 200,
   "id": "99c912f9-c442-4fb5-83ed-8635509b227a",
   "metadata": {},
   "outputs": [
    {
     "data": {
      "text/plain": [
       "state\n",
       "Vermont                 1\n",
       "Alaska                  1\n",
       "District of Columbia    1\n",
       "Hawaii                  1\n",
       "Maine                   1\n",
       "Wyoming                 2\n",
       "Delaware                2\n",
       "South Dakota            2\n",
       "West Virginia           2\n",
       "New Hampshire           3\n",
       "Name: count, dtype: int64"
      ]
     },
     "execution_count": 200,
     "metadata": {},
     "output_type": "execute_result"
    }
   ],
   "source": [
    "# which state has the least on this list?\n",
    "cities['state'].value_counts(ascending=True).head(10)"
   ]
  },
  {
   "cell_type": "markdown",
   "id": "a9ebfc75-7e07-4bdc-8450-b874e7071a46",
   "metadata": {},
   "source": [
    "### Exercise 20b"
   ]
  },
  {
   "cell_type": "code",
   "execution_count": 202,
   "id": "fc1f20a9-9d09-482e-a09c-b2b35a11634c",
   "metadata": {},
   "outputs": [
    {
     "data": {
      "text/plain": [
       "mean   22.94\n",
       "50%     9.65\n",
       "Name: growth_from_2000_to_2013, dtype: float64"
      ]
     },
     "execution_count": 202,
     "metadata": {},
     "output_type": "execute_result"
    }
   ],
   "source": [
    "# remove '%' from growth, replace with 0\n",
    "cities['growth_from_2000_to_2013'] = cities['growth_from_2000_to_2013'].str.replace('%', '0')\n",
    "\n",
    "# find additional empty strings, converting them to 0\n",
    "cities.loc[cities['growth_from_2000_to_2013'] == '', 'growth_from_2000_to_2013'] = '0'\n",
    "\n",
    "# convert to float and find mean/median\n",
    "cities['growth_from_2000_to_2013'].astype(np.float64).describe()[['mean', '50%']]"
   ]
  },
  {
   "cell_type": "code",
   "execution_count": 203,
   "id": "9c9e458b-1bb8-4b7d-9b2a-1f467ba1a13e",
   "metadata": {},
   "outputs": [
    {
     "data": {
      "text/plain": [
       "growth_from_2000_to_2013\n",
       "Pos Growth    852\n",
       "Neg Growth    148\n",
       "Name: count, dtype: int64"
      ]
     },
     "execution_count": 203,
     "metadata": {},
     "output_type": "execute_result"
    }
   ],
   "source": [
    "# compare count of negative vs positive growth\n",
    "\n",
    "# cut into bins and label\n",
    "growth = pd.cut(cities['growth_from_2000_to_2013'],\n",
    "                bins=[cities['growth_from_2000_to_2013'].min(), 0, cities['growth_from_2000_to_2013'].max()],\n",
    "                include_lowest=True,\n",
    "                labels=['Neg Growth', 'Pos Growth'])\n",
    "growth.value_counts()"
   ]
  },
  {
   "cell_type": "code",
   "execution_count": 204,
   "id": "da5c9365-4533-411f-8f09-8942843fe298",
   "metadata": {},
   "outputs": [
    {
     "data": {
      "text/plain": [
       "array(['Miami', 'Honolulu', 'Anchorage', 'Hialeah', 'Brownsville',\n",
       "       'Fort Lauderdale', 'Cape Coral', 'Pembroke Pines', 'Hollywood',\n",
       "       'McAllen', 'Miramar', 'Coral Springs', 'Miami Gardens', 'Everett',\n",
       "       'Pompano Beach', 'West Palm Beach', 'Davie', 'Miami Beach',\n",
       "       'Plantation', 'Sunrise', 'Boca Raton', 'Bellingham', 'Mission',\n",
       "       'Edinburg', 'Deerfield Beach', 'Pharr', 'Boynton Beach',\n",
       "       'Lauderhill', 'Weston', 'Fort Myers', 'Harlingen', 'Homestead',\n",
       "       'Delray Beach', 'Marysville', 'Tamarac', 'North Miami',\n",
       "       'Wellington', 'Coconut Creek', 'Margate', 'Grand Forks', 'Doral',\n",
       "       'Coral Gables', 'Bonita Springs', 'Minot', 'Cutler Bay',\n",
       "       'Oakland Park', 'North Miami Beach', 'North Lauderdale',\n",
       "       'Greenacres', 'Hallandale Beach', 'Aventura', 'Weslaco'],\n",
       "      dtype=object)"
      ]
     },
     "execution_count": 204,
     "metadata": {},
     "output_type": "execute_result"
    }
   ],
   "source": [
    "# find city/cities with latitudes more than 2 std away from mean\n",
    "\n",
    "upper_lim = cities['latitude'].mean() + 2 * cities['latitude'].std()\n",
    "lower_lim = cities['latitude'].mean() - 2 * cities['latitude'].std()\n",
    "\n",
    "cities.loc[(cities['latitude'] < lower_lim) | (cities['latitude'] > upper_lim),'city'].values"
   ]
  }
 ],
 "metadata": {
  "kernelspec": {
   "display_name": "Python 3 (ipykernel)",
   "language": "python",
   "name": "python3"
  },
  "language_info": {
   "codemirror_mode": {
    "name": "ipython",
    "version": 3
   },
   "file_extension": ".py",
   "mimetype": "text/x-python",
   "name": "python",
   "nbconvert_exporter": "python",
   "pygments_lexer": "ipython3",
   "version": "3.11.7"
  }
 },
 "nbformat": 4,
 "nbformat_minor": 5
}
