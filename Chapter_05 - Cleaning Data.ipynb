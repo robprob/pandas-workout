{
 "cells": [
  {
   "cell_type": "markdown",
   "id": "9582cfbf-bd7f-4000-85bb-982fa5836858",
   "metadata": {},
   "source": [
    "# 5. Cleaning data"
   ]
  },
  {
   "cell_type": "markdown",
   "id": "61878c84-df5b-4ee4-8340-d148f6cce006",
   "metadata": {},
   "source": [
    "## Exercise 25 - Parking cleanup"
   ]
  },
  {
   "cell_type": "code",
   "execution_count": 257,
   "id": "8e984265-f0a0-4fb6-9c00-8405700c8dfb",
   "metadata": {},
   "outputs": [
    {
     "data": {
      "text/html": [
       "<div>\n",
       "<style scoped>\n",
       "    .dataframe tbody tr th:only-of-type {\n",
       "        vertical-align: middle;\n",
       "    }\n",
       "\n",
       "    .dataframe tbody tr th {\n",
       "        vertical-align: top;\n",
       "    }\n",
       "\n",
       "    .dataframe thead th {\n",
       "        text-align: right;\n",
       "    }\n",
       "</style>\n",
       "<table border=\"1\" class=\"dataframe\">\n",
       "  <thead>\n",
       "    <tr style=\"text-align: right;\">\n",
       "      <th></th>\n",
       "      <th>Plate ID</th>\n",
       "      <th>Registration State</th>\n",
       "      <th>Vehicle Make</th>\n",
       "      <th>Violation Time</th>\n",
       "      <th>Street Name</th>\n",
       "      <th>Vehicle Color</th>\n",
       "    </tr>\n",
       "  </thead>\n",
       "  <tbody>\n",
       "    <tr>\n",
       "      <th>0</th>\n",
       "      <td>J58JKX</td>\n",
       "      <td>NJ</td>\n",
       "      <td>HONDA</td>\n",
       "      <td>0523P</td>\n",
       "      <td>43 ST</td>\n",
       "      <td>BK</td>\n",
       "    </tr>\n",
       "    <tr>\n",
       "      <th>1</th>\n",
       "      <td>KRE6058</td>\n",
       "      <td>PA</td>\n",
       "      <td>ME/BE</td>\n",
       "      <td>0428P</td>\n",
       "      <td>UNION ST</td>\n",
       "      <td>BLK</td>\n",
       "    </tr>\n",
       "    <tr>\n",
       "      <th>2</th>\n",
       "      <td>444326R</td>\n",
       "      <td>NJ</td>\n",
       "      <td>LEXUS</td>\n",
       "      <td>0625A</td>\n",
       "      <td>CLERMONT AVENUE</td>\n",
       "      <td>BLACK</td>\n",
       "    </tr>\n",
       "    <tr>\n",
       "      <th>3</th>\n",
       "      <td>F728330</td>\n",
       "      <td>OH</td>\n",
       "      <td>CHEVR</td>\n",
       "      <td>1106A</td>\n",
       "      <td>DIVISION AVE</td>\n",
       "      <td>NaN</td>\n",
       "    </tr>\n",
       "    <tr>\n",
       "      <th>4</th>\n",
       "      <td>FMY9090</td>\n",
       "      <td>NY</td>\n",
       "      <td>JEEP</td>\n",
       "      <td>1253A</td>\n",
       "      <td>GRAND ST</td>\n",
       "      <td>GREY</td>\n",
       "    </tr>\n",
       "  </tbody>\n",
       "</table>\n",
       "</div>"
      ],
      "text/plain": [
       "  Plate ID Registration State Vehicle Make Violation Time      Street Name  \\\n",
       "0   J58JKX                 NJ        HONDA          0523P            43 ST   \n",
       "1  KRE6058                 PA        ME/BE          0428P         UNION ST   \n",
       "2  444326R                 NJ        LEXUS          0625A  CLERMONT AVENUE   \n",
       "3  F728330                 OH        CHEVR          1106A     DIVISION AVE   \n",
       "4  FMY9090                 NY         JEEP          1253A         GRAND ST   \n",
       "\n",
       "  Vehicle Color  \n",
       "0            BK  \n",
       "1           BLK  \n",
       "2         BLACK  \n",
       "3           NaN  \n",
       "4          GREY  "
      ]
     },
     "execution_count": 257,
     "metadata": {},
     "output_type": "execute_result"
    }
   ],
   "source": [
    "# load in CSV, specify columns\n",
    "parking = pd.read_csv(r'D:\\Documents\\Data Analysis\\Datasets\\pandas-workout-data\\data\\nyc-parking-violations-2020.csv',\n",
    "                     usecols=['Plate ID', 'Registration State', 'Vehicle Make', 'Vehicle Color', 'Violation Time', 'Street Name'])\n",
    "parking.head()"
   ]
  },
  {
   "cell_type": "code",
   "execution_count": 258,
   "id": "48f829fe-c93e-405e-8f98-71dbed7bb840",
   "metadata": {},
   "outputs": [
    {
     "data": {
      "text/plain": [
       "12495734"
      ]
     },
     "execution_count": 258,
     "metadata": {},
     "output_type": "execute_result"
    }
   ],
   "source": [
    "# how many rows?\n",
    "num_rows = parking.shape[0]\n",
    "num_rows"
   ]
  },
  {
   "cell_type": "code",
   "execution_count": 259,
   "id": "0e597e27-a3cd-4b10-8d27-1c1bffc9fc8d",
   "metadata": {},
   "outputs": [
    {
     "data": {
      "text/plain": [
       "12048375"
      ]
     },
     "execution_count": 259,
     "metadata": {},
     "output_type": "execute_result"
    }
   ],
   "source": [
    "# drop NA and count rows remaining\n",
    "num_notna = parking.dropna().shape[0]\n",
    "num_notna"
   ]
  },
  {
   "cell_type": "code",
   "execution_count": 260,
   "id": "0fc181fd-9f21-4768-957c-996d210d78ff",
   "metadata": {},
   "outputs": [
    {
     "name": "stdout",
     "output_type": "stream",
     "text": [
      "$44,735,900\n"
     ]
    }
   ],
   "source": [
    "# how much money lost due to missing data if $100 per ticket?\n",
    "print(f'${(num_rows - num_notna) * 100:,}')"
   ]
  },
  {
   "cell_type": "code",
   "execution_count": 261,
   "id": "82904657-5659-4418-993c-4564b45e51ff",
   "metadata": {},
   "outputs": [
    {
     "data": {
      "text/plain": [
       "12431949"
      ]
     },
     "execution_count": 261,
     "metadata": {},
     "output_type": "execute_result"
    }
   ],
   "source": [
    "# only remove if license plate, state, car make, and/or street name missing\n",
    "num_selective_missing = parking.dropna(subset=['Plate ID', 'Registration State', 'Vehicle Make', 'Street Name']).shape[0]\n",
    "num_selective_missing"
   ]
  },
  {
   "cell_type": "code",
   "execution_count": 262,
   "id": "3d7c01d0-fcd0-44ba-a9ad-17e39f4d6fb2",
   "metadata": {},
   "outputs": [
    {
     "name": "stdout",
     "output_type": "stream",
     "text": [
      "$6,378,500\n"
     ]
    }
   ],
   "source": [
    "# how much money lost now?\n",
    "print(f'${(num_rows - num_selective_missing) * 100:,}')"
   ]
  },
  {
   "cell_type": "code",
   "execution_count": 263,
   "id": "30e10ecd-68a6-4d44-8e29-61cfe227ffaf",
   "metadata": {},
   "outputs": [
    {
     "data": {
      "text/plain": [
       "12494116"
      ]
     },
     "execution_count": 263,
     "metadata": {},
     "output_type": "execute_result"
    }
   ],
   "source": [
    "# find how many missing those columns but make is not required now\n",
    "num_missing_make_not_required = parking.dropna(subset=['Plate ID', 'Registration State', 'Street Name']).shape[0]\n",
    "num_missing_make_not_required"
   ]
  },
  {
   "cell_type": "code",
   "execution_count": 264,
   "id": "8f8be6a7-1140-42d8-a5c0-3e26b3714209",
   "metadata": {},
   "outputs": [
    {
     "name": "stdout",
     "output_type": "stream",
     "text": [
      "$161,800\n"
     ]
    }
   ],
   "source": [
    "# how much money lost now?\n",
    "print(f'${(num_rows - num_missing_make_not_required) * 100:,}')"
   ]
  },
  {
   "cell_type": "markdown",
   "id": "6894cb55-7a1b-440c-b1c9-7e4df5d8db1e",
   "metadata": {},
   "source": [
    "### Exercise 25b"
   ]
  },
  {
   "cell_type": "code",
   "execution_count": 266,
   "id": "3d36bd3e-236d-4f74-ba25-19829e7c76c2",
   "metadata": {},
   "outputs": [
    {
     "data": {
      "text/plain": [
       "253"
      ]
     },
     "execution_count": 266,
     "metadata": {},
     "output_type": "execute_result"
    }
   ],
   "source": [
    "# how many rows removed if requiring 3/4 columns\n",
    "num_missing_thresh = len(parking.dropna(subset=['Plate ID', 'Registration State', 'Vehicle Make', 'Street Name'], thresh=3).index)\n",
    "num_rows - num_missing_thresh"
   ]
  },
  {
   "cell_type": "code",
   "execution_count": 267,
   "id": "ba0d7db4-4855-4337-aee0-7a8f52ca2db0",
   "metadata": {},
   "outputs": [
    {
     "data": {
      "text/plain": [
       "Vehicle Color         391982\n",
       "Vehicle Make           62420\n",
       "Street Name             1417\n",
       "Violation Time           278\n",
       "Plate ID                 202\n",
       "Registration State         0\n",
       "dtype: int64"
      ]
     },
     "execution_count": 267,
     "metadata": {},
     "output_type": "execute_result"
    }
   ],
   "source": [
    "# which column has greatest NA values\n",
    "parking.isna().sum().sort_values(ascending=False)"
   ]
  },
  {
   "cell_type": "code",
   "execution_count": 268,
   "id": "6e07374d-a9af-4b60-a977-bd99d993c3d6",
   "metadata": {},
   "outputs": [],
   "source": [
    "# replace 'BLANKPLATE' with NA\n",
    "parking['Plate ID'] = parking['Plate ID'].replace('BLANKPLATE', pd.NA)"
   ]
  },
  {
   "cell_type": "code",
   "execution_count": 269,
   "id": "9e42c4f4-3f3e-48b7-87c1-85897babab81",
   "metadata": {},
   "outputs": [
    {
     "data": {
      "text/plain": [
       "Plate ID                9084\n",
       "Registration State         0\n",
       "Vehicle Make           62420\n",
       "Violation Time           278\n",
       "Street Name             1417\n",
       "Vehicle Color         391982\n",
       "dtype: int64"
      ]
     },
     "execution_count": 269,
     "metadata": {},
     "output_type": "execute_result"
    }
   ],
   "source": [
    "# rerun NA counts\n",
    "parking.isna().sum()"
   ]
  },
  {
   "cell_type": "markdown",
   "id": "e35436a9-0243-4e29-8c80-2ecb697b90a9",
   "metadata": {},
   "source": [
    "## Exercise 26 - Celebrity deaths"
   ]
  },
  {
   "cell_type": "code",
   "execution_count": 271,
   "id": "e74d2311-8b61-4c4d-9ae7-5db1681bfa90",
   "metadata": {},
   "outputs": [
    {
     "data": {
      "text/html": [
       "<div>\n",
       "<style scoped>\n",
       "    .dataframe tbody tr th:only-of-type {\n",
       "        vertical-align: middle;\n",
       "    }\n",
       "\n",
       "    .dataframe tbody tr th {\n",
       "        vertical-align: top;\n",
       "    }\n",
       "\n",
       "    .dataframe thead th {\n",
       "        text-align: right;\n",
       "    }\n",
       "</style>\n",
       "<table border=\"1\" class=\"dataframe\">\n",
       "  <thead>\n",
       "    <tr style=\"text-align: right;\">\n",
       "      <th></th>\n",
       "      <th>dateofdeath</th>\n",
       "      <th>age</th>\n",
       "    </tr>\n",
       "  </thead>\n",
       "  <tbody>\n",
       "    <tr>\n",
       "      <th>0</th>\n",
       "      <td>2016-01-01</td>\n",
       "      <td>71</td>\n",
       "    </tr>\n",
       "    <tr>\n",
       "      <th>1</th>\n",
       "      <td>2016-01-01</td>\n",
       "      <td>74</td>\n",
       "    </tr>\n",
       "    <tr>\n",
       "      <th>2</th>\n",
       "      <td>2016-01-01</td>\n",
       "      <td>79</td>\n",
       "    </tr>\n",
       "    <tr>\n",
       "      <th>3</th>\n",
       "      <td>2016-01-01</td>\n",
       "      <td>45</td>\n",
       "    </tr>\n",
       "    <tr>\n",
       "      <th>4</th>\n",
       "      <td>2016-01-01</td>\n",
       "      <td>83</td>\n",
       "    </tr>\n",
       "  </tbody>\n",
       "</table>\n",
       "</div>"
      ],
      "text/plain": [
       "  dateofdeath age\n",
       "0  2016-01-01  71\n",
       "1  2016-01-01  74\n",
       "2  2016-01-01  79\n",
       "3  2016-01-01  45\n",
       "4  2016-01-01  83"
      ]
     },
     "execution_count": 271,
     "metadata": {},
     "output_type": "execute_result"
    }
   ],
   "source": [
    "# load in CSV, specify columns, parse dates\n",
    "celebs = pd.read_csv(r'D:\\Documents\\Data Analysis\\Datasets\\pandas-workout-data\\data\\celebrity_deaths_2016.csv',\n",
    "                     usecols=['dateofdeath', 'age'],\n",
    "                     parse_dates=['dateofdeath'])\n",
    "celebs.head()"
   ]
  },
  {
   "cell_type": "code",
   "execution_count": 272,
   "id": "64ec1c00-017f-4bb1-98da-0d38f7a380e2",
   "metadata": {},
   "outputs": [
    {
     "data": {
      "text/html": [
       "<div>\n",
       "<style scoped>\n",
       "    .dataframe tbody tr th:only-of-type {\n",
       "        vertical-align: middle;\n",
       "    }\n",
       "\n",
       "    .dataframe tbody tr th {\n",
       "        vertical-align: top;\n",
       "    }\n",
       "\n",
       "    .dataframe thead th {\n",
       "        text-align: right;\n",
       "    }\n",
       "</style>\n",
       "<table border=\"1\" class=\"dataframe\">\n",
       "  <thead>\n",
       "    <tr style=\"text-align: right;\">\n",
       "      <th></th>\n",
       "      <th>dateofdeath</th>\n",
       "      <th>age</th>\n",
       "      <th>month</th>\n",
       "    </tr>\n",
       "  </thead>\n",
       "  <tbody>\n",
       "    <tr>\n",
       "      <th>0</th>\n",
       "      <td>2016-01-01</td>\n",
       "      <td>71</td>\n",
       "      <td>1</td>\n",
       "    </tr>\n",
       "    <tr>\n",
       "      <th>1</th>\n",
       "      <td>2016-01-01</td>\n",
       "      <td>74</td>\n",
       "      <td>1</td>\n",
       "    </tr>\n",
       "    <tr>\n",
       "      <th>2</th>\n",
       "      <td>2016-01-01</td>\n",
       "      <td>79</td>\n",
       "      <td>1</td>\n",
       "    </tr>\n",
       "    <tr>\n",
       "      <th>3</th>\n",
       "      <td>2016-01-01</td>\n",
       "      <td>45</td>\n",
       "      <td>1</td>\n",
       "    </tr>\n",
       "    <tr>\n",
       "      <th>4</th>\n",
       "      <td>2016-01-01</td>\n",
       "      <td>83</td>\n",
       "      <td>1</td>\n",
       "    </tr>\n",
       "  </tbody>\n",
       "</table>\n",
       "</div>"
      ],
      "text/plain": [
       "  dateofdeath age  month\n",
       "0  2016-01-01  71      1\n",
       "1  2016-01-01  74      1\n",
       "2  2016-01-01  79      1\n",
       "3  2016-01-01  45      1\n",
       "4  2016-01-01  83      1"
      ]
     },
     "execution_count": 272,
     "metadata": {},
     "output_type": "execute_result"
    }
   ],
   "source": [
    "# extract month and make a new column\n",
    "celebs['month'] = celebs['dateofdeath'].dt.month\n",
    "celebs.head()"
   ]
  },
  {
   "cell_type": "code",
   "execution_count": 273,
   "id": "91b79fe7-b04b-418f-ad0e-aa244a1bccf4",
   "metadata": {},
   "outputs": [
    {
     "data": {
      "text/html": [
       "<div>\n",
       "<style scoped>\n",
       "    .dataframe tbody tr th:only-of-type {\n",
       "        vertical-align: middle;\n",
       "    }\n",
       "\n",
       "    .dataframe tbody tr th {\n",
       "        vertical-align: top;\n",
       "    }\n",
       "\n",
       "    .dataframe thead th {\n",
       "        text-align: right;\n",
       "    }\n",
       "</style>\n",
       "<table border=\"1\" class=\"dataframe\">\n",
       "  <thead>\n",
       "    <tr style=\"text-align: right;\">\n",
       "      <th></th>\n",
       "      <th>dateofdeath</th>\n",
       "      <th>age</th>\n",
       "    </tr>\n",
       "    <tr>\n",
       "      <th>month</th>\n",
       "      <th></th>\n",
       "      <th></th>\n",
       "    </tr>\n",
       "  </thead>\n",
       "  <tbody>\n",
       "    <tr>\n",
       "      <th>1</th>\n",
       "      <td>2016-01-01</td>\n",
       "      <td>71</td>\n",
       "    </tr>\n",
       "    <tr>\n",
       "      <th>1</th>\n",
       "      <td>2016-01-01</td>\n",
       "      <td>74</td>\n",
       "    </tr>\n",
       "    <tr>\n",
       "      <th>1</th>\n",
       "      <td>2016-01-01</td>\n",
       "      <td>79</td>\n",
       "    </tr>\n",
       "    <tr>\n",
       "      <th>1</th>\n",
       "      <td>2016-01-01</td>\n",
       "      <td>45</td>\n",
       "    </tr>\n",
       "    <tr>\n",
       "      <th>1</th>\n",
       "      <td>2016-01-01</td>\n",
       "      <td>83</td>\n",
       "    </tr>\n",
       "  </tbody>\n",
       "</table>\n",
       "</div>"
      ],
      "text/plain": [
       "      dateofdeath age\n",
       "month                \n",
       "1      2016-01-01  71\n",
       "1      2016-01-01  74\n",
       "1      2016-01-01  79\n",
       "1      2016-01-01  45\n",
       "1      2016-01-01  83"
      ]
     },
     "execution_count": 273,
     "metadata": {},
     "output_type": "execute_result"
    }
   ],
   "source": [
    "# make month column the index\n",
    "celebs = celebs.set_index('month')\n",
    "celebs.head()"
   ]
  },
  {
   "cell_type": "code",
   "execution_count": 274,
   "id": "ce505dac-137d-4647-bef9-cc12cb0820f1",
   "metadata": {},
   "outputs": [
    {
     "data": {
      "text/html": [
       "<div>\n",
       "<style scoped>\n",
       "    .dataframe tbody tr th:only-of-type {\n",
       "        vertical-align: middle;\n",
       "    }\n",
       "\n",
       "    .dataframe tbody tr th {\n",
       "        vertical-align: top;\n",
       "    }\n",
       "\n",
       "    .dataframe thead th {\n",
       "        text-align: right;\n",
       "    }\n",
       "</style>\n",
       "<table border=\"1\" class=\"dataframe\">\n",
       "  <thead>\n",
       "    <tr style=\"text-align: right;\">\n",
       "      <th></th>\n",
       "      <th>dateofdeath</th>\n",
       "      <th>age</th>\n",
       "    </tr>\n",
       "    <tr>\n",
       "      <th>month</th>\n",
       "      <th></th>\n",
       "      <th></th>\n",
       "    </tr>\n",
       "  </thead>\n",
       "  <tbody>\n",
       "    <tr>\n",
       "      <th>1</th>\n",
       "      <td>2016-01-01</td>\n",
       "      <td>71</td>\n",
       "    </tr>\n",
       "    <tr>\n",
       "      <th>1</th>\n",
       "      <td>2016-01-21</td>\n",
       "      <td>47</td>\n",
       "    </tr>\n",
       "    <tr>\n",
       "      <th>1</th>\n",
       "      <td>2016-01-21</td>\n",
       "      <td>87</td>\n",
       "    </tr>\n",
       "    <tr>\n",
       "      <th>1</th>\n",
       "      <td>2016-01-21</td>\n",
       "      <td>90</td>\n",
       "    </tr>\n",
       "    <tr>\n",
       "      <th>1</th>\n",
       "      <td>2016-01-21</td>\n",
       "      <td>73</td>\n",
       "    </tr>\n",
       "    <tr>\n",
       "      <th>...</th>\n",
       "      <td>...</td>\n",
       "      <td>...</td>\n",
       "    </tr>\n",
       "    <tr>\n",
       "      <th>12</th>\n",
       "      <td>2016-12-10</td>\n",
       "      <td>63</td>\n",
       "    </tr>\n",
       "    <tr>\n",
       "      <th>12</th>\n",
       "      <td>2016-12-10</td>\n",
       "      <td>20</td>\n",
       "    </tr>\n",
       "    <tr>\n",
       "      <th>12</th>\n",
       "      <td>2016-12-10</td>\n",
       "      <td>57</td>\n",
       "    </tr>\n",
       "    <tr>\n",
       "      <th>12</th>\n",
       "      <td>2016-12-10</td>\n",
       "      <td>78</td>\n",
       "    </tr>\n",
       "    <tr>\n",
       "      <th>12</th>\n",
       "      <td>2016-12-27</td>\n",
       "      <td>84</td>\n",
       "    </tr>\n",
       "  </tbody>\n",
       "</table>\n",
       "<p>6543 rows × 2 columns</p>\n",
       "</div>"
      ],
      "text/plain": [
       "      dateofdeath age\n",
       "month                \n",
       "1      2016-01-01  71\n",
       "1      2016-01-21  47\n",
       "1      2016-01-21  87\n",
       "1      2016-01-21  90\n",
       "1      2016-01-21  73\n",
       "...           ...  ..\n",
       "12     2016-12-10  63\n",
       "12     2016-12-10  20\n",
       "12     2016-12-10  57\n",
       "12     2016-12-10  78\n",
       "12     2016-12-27  84\n",
       "\n",
       "[6543 rows x 2 columns]"
      ]
     },
     "execution_count": 274,
     "metadata": {},
     "output_type": "execute_result"
    }
   ],
   "source": [
    "# sort index\n",
    "celebs = celebs.sort_index()\n",
    "celebs"
   ]
  },
  {
   "cell_type": "code",
   "execution_count": 275,
   "id": "8308a9f4-e393-4b7d-9556-4354953e1ca3",
   "metadata": {},
   "outputs": [
    {
     "data": {
      "text/plain": [
       "False"
      ]
     },
     "execution_count": 275,
     "metadata": {},
     "output_type": "execute_result"
    }
   ],
   "source": [
    "# determine if all 'age' values can be interpreted as digits\n",
    "celebs['age'].str.isdigit().all()"
   ]
  },
  {
   "cell_type": "code",
   "execution_count": 276,
   "id": "dcd010dc-6559-40b2-a289-9c8556ed5d58",
   "metadata": {},
   "outputs": [
    {
     "data": {
      "text/html": [
       "<div>\n",
       "<style scoped>\n",
       "    .dataframe tbody tr th:only-of-type {\n",
       "        vertical-align: middle;\n",
       "    }\n",
       "\n",
       "    .dataframe tbody tr th {\n",
       "        vertical-align: top;\n",
       "    }\n",
       "\n",
       "    .dataframe thead th {\n",
       "        text-align: right;\n",
       "    }\n",
       "</style>\n",
       "<table border=\"1\" class=\"dataframe\">\n",
       "  <thead>\n",
       "    <tr style=\"text-align: right;\">\n",
       "      <th></th>\n",
       "      <th>dateofdeath</th>\n",
       "      <th>age</th>\n",
       "    </tr>\n",
       "    <tr>\n",
       "      <th>month</th>\n",
       "      <th></th>\n",
       "      <th></th>\n",
       "    </tr>\n",
       "  </thead>\n",
       "  <tbody>\n",
       "    <tr>\n",
       "      <th>1</th>\n",
       "      <td>2016-01-01</td>\n",
       "      <td>71</td>\n",
       "    </tr>\n",
       "    <tr>\n",
       "      <th>1</th>\n",
       "      <td>2016-01-21</td>\n",
       "      <td>47</td>\n",
       "    </tr>\n",
       "    <tr>\n",
       "      <th>1</th>\n",
       "      <td>2016-01-21</td>\n",
       "      <td>87</td>\n",
       "    </tr>\n",
       "    <tr>\n",
       "      <th>1</th>\n",
       "      <td>2016-01-21</td>\n",
       "      <td>90</td>\n",
       "    </tr>\n",
       "    <tr>\n",
       "      <th>1</th>\n",
       "      <td>2016-01-21</td>\n",
       "      <td>73</td>\n",
       "    </tr>\n",
       "    <tr>\n",
       "      <th>...</th>\n",
       "      <td>...</td>\n",
       "      <td>...</td>\n",
       "    </tr>\n",
       "    <tr>\n",
       "      <th>12</th>\n",
       "      <td>2016-12-10</td>\n",
       "      <td>63</td>\n",
       "    </tr>\n",
       "    <tr>\n",
       "      <th>12</th>\n",
       "      <td>2016-12-10</td>\n",
       "      <td>20</td>\n",
       "    </tr>\n",
       "    <tr>\n",
       "      <th>12</th>\n",
       "      <td>2016-12-10</td>\n",
       "      <td>57</td>\n",
       "    </tr>\n",
       "    <tr>\n",
       "      <th>12</th>\n",
       "      <td>2016-12-10</td>\n",
       "      <td>78</td>\n",
       "    </tr>\n",
       "    <tr>\n",
       "      <th>12</th>\n",
       "      <td>2016-12-27</td>\n",
       "      <td>84</td>\n",
       "    </tr>\n",
       "  </tbody>\n",
       "</table>\n",
       "<p>6481 rows × 2 columns</p>\n",
       "</div>"
      ],
      "text/plain": [
       "      dateofdeath age\n",
       "month                \n",
       "1      2016-01-01  71\n",
       "1      2016-01-21  47\n",
       "1      2016-01-21  87\n",
       "1      2016-01-21  90\n",
       "1      2016-01-21  73\n",
       "...           ...  ..\n",
       "12     2016-12-10  63\n",
       "12     2016-12-10  20\n",
       "12     2016-12-10  57\n",
       "12     2016-12-10  78\n",
       "12     2016-12-27  84\n",
       "\n",
       "[6481 rows x 2 columns]"
      ]
     },
     "execution_count": 276,
     "metadata": {},
     "output_type": "execute_result"
    }
   ],
   "source": [
    "# clean nonintegers from age column\n",
    "\n",
    "# fill missing values with placeholder, 'False'\n",
    "celebs['age'] = celebs['age'].fillna('False')\n",
    "\n",
    "# only select rows where age is digit\n",
    "celebs = celebs.loc[celebs['age'].str.isdigit(), :]\n",
    "celebs"
   ]
  },
  {
   "cell_type": "code",
   "execution_count": 277,
   "id": "4ebeceea-d15b-4a7c-a23e-ab48ab56083a",
   "metadata": {},
   "outputs": [
    {
     "name": "stderr",
     "output_type": "stream",
     "text": [
      "C:\\Users\\perti\\AppData\\Local\\Temp\\ipykernel_57444\\241229902.py:2: SettingWithCopyWarning: \n",
      "A value is trying to be set on a copy of a slice from a DataFrame.\n",
      "Try using .loc[row_indexer,col_indexer] = value instead\n",
      "\n",
      "See the caveats in the documentation: https://pandas.pydata.org/pandas-docs/stable/user_guide/indexing.html#returning-a-view-versus-a-copy\n",
      "  celebs['age'] = celebs['age'].astype(np.int64)\n"
     ]
    }
   ],
   "source": [
    "# convert age into integer dtype\n",
    "celebs['age'] = celebs['age'].astype(np.int64)\n",
    "\n",
    "# data types won't be properly changed with loc, even if this throws an error"
   ]
  },
  {
   "cell_type": "code",
   "execution_count": 278,
   "id": "5563b649-48cf-4ea9-bf18-744cba2dd9ad",
   "metadata": {},
   "outputs": [
    {
     "data": {
      "text/plain": [
       "dateofdeath    datetime64[ns]\n",
       "age                     int64\n",
       "dtype: object"
      ]
     },
     "execution_count": 278,
     "metadata": {},
     "output_type": "execute_result"
    }
   ],
   "source": [
    "celebs.dtypes"
   ]
  },
  {
   "cell_type": "code",
   "execution_count": 279,
   "id": "17607bd7-f5ab-43ef-b93b-f6e43c0a010e",
   "metadata": {},
   "outputs": [
    {
     "data": {
      "text/plain": [
       "77.17887409200968"
      ]
     },
     "execution_count": 279,
     "metadata": {},
     "output_type": "execute_result"
    }
   ],
   "source": [
    "# avg age of celebrities who died February to July 2016\n",
    "celebs.loc[range(2,8), 'age'].mean()"
   ]
  },
  {
   "cell_type": "markdown",
   "id": "7a8eb5b7-a43d-4973-b47f-cd3d344f7eec",
   "metadata": {},
   "source": [
    "### Exercise 26b"
   ]
  },
  {
   "cell_type": "code",
   "execution_count": 281,
   "id": "60653e9a-233b-427d-9776-772005417ae8",
   "metadata": {},
   "outputs": [
    {
     "data": {
      "text/html": [
       "<div>\n",
       "<style scoped>\n",
       "    .dataframe tbody tr th:only-of-type {\n",
       "        vertical-align: middle;\n",
       "    }\n",
       "\n",
       "    .dataframe tbody tr th {\n",
       "        vertical-align: top;\n",
       "    }\n",
       "\n",
       "    .dataframe thead th {\n",
       "        text-align: right;\n",
       "    }\n",
       "</style>\n",
       "<table border=\"1\" class=\"dataframe\">\n",
       "  <thead>\n",
       "    <tr style=\"text-align: right;\">\n",
       "      <th></th>\n",
       "      <th></th>\n",
       "      <th>dateofdeath</th>\n",
       "      <th>age</th>\n",
       "    </tr>\n",
       "    <tr>\n",
       "      <th>month</th>\n",
       "      <th>day</th>\n",
       "      <th></th>\n",
       "      <th></th>\n",
       "    </tr>\n",
       "  </thead>\n",
       "  <tbody>\n",
       "    <tr>\n",
       "      <th rowspan=\"5\" valign=\"top\">1</th>\n",
       "      <th>1</th>\n",
       "      <td>2016-01-01</td>\n",
       "      <td>71</td>\n",
       "    </tr>\n",
       "    <tr>\n",
       "      <th>21</th>\n",
       "      <td>2016-01-21</td>\n",
       "      <td>47</td>\n",
       "    </tr>\n",
       "    <tr>\n",
       "      <th>21</th>\n",
       "      <td>2016-01-21</td>\n",
       "      <td>87</td>\n",
       "    </tr>\n",
       "    <tr>\n",
       "      <th>21</th>\n",
       "      <td>2016-01-21</td>\n",
       "      <td>90</td>\n",
       "    </tr>\n",
       "    <tr>\n",
       "      <th>21</th>\n",
       "      <td>2016-01-21</td>\n",
       "      <td>73</td>\n",
       "    </tr>\n",
       "    <tr>\n",
       "      <th>...</th>\n",
       "      <th>...</th>\n",
       "      <td>...</td>\n",
       "      <td>...</td>\n",
       "    </tr>\n",
       "    <tr>\n",
       "      <th rowspan=\"5\" valign=\"top\">12</th>\n",
       "      <th>10</th>\n",
       "      <td>2016-12-10</td>\n",
       "      <td>63</td>\n",
       "    </tr>\n",
       "    <tr>\n",
       "      <th>10</th>\n",
       "      <td>2016-12-10</td>\n",
       "      <td>20</td>\n",
       "    </tr>\n",
       "    <tr>\n",
       "      <th>10</th>\n",
       "      <td>2016-12-10</td>\n",
       "      <td>57</td>\n",
       "    </tr>\n",
       "    <tr>\n",
       "      <th>10</th>\n",
       "      <td>2016-12-10</td>\n",
       "      <td>78</td>\n",
       "    </tr>\n",
       "    <tr>\n",
       "      <th>27</th>\n",
       "      <td>2016-12-27</td>\n",
       "      <td>84</td>\n",
       "    </tr>\n",
       "  </tbody>\n",
       "</table>\n",
       "<p>6481 rows × 2 columns</p>\n",
       "</div>"
      ],
      "text/plain": [
       "          dateofdeath  age\n",
       "month day                 \n",
       "1     1    2016-01-01   71\n",
       "      21   2016-01-21   47\n",
       "      21   2016-01-21   87\n",
       "      21   2016-01-21   90\n",
       "      21   2016-01-21   73\n",
       "...               ...  ...\n",
       "12    10   2016-12-10   63\n",
       "      10   2016-12-10   20\n",
       "      10   2016-12-10   57\n",
       "      10   2016-12-10   78\n",
       "      27   2016-12-27   84\n",
       "\n",
       "[6481 rows x 2 columns]"
      ]
     },
     "execution_count": 281,
     "metadata": {},
     "output_type": "execute_result"
    }
   ],
   "source": [
    "# create multi-index with day and month\n",
    "\n",
    "# reset index\n",
    "celebs = celebs.reset_index()\n",
    "\n",
    "# extract day\n",
    "celebs['day'] = celebs['dateofdeath'].dt.day\n",
    "\n",
    "# set multi-index\n",
    "celebs = celebs.set_index(['month', 'day'])\n",
    "celebs"
   ]
  },
  {
   "cell_type": "code",
   "execution_count": 282,
   "id": "47e8a7f2-7582-4154-86a8-b5e72b92cea1",
   "metadata": {},
   "outputs": [
    {
     "data": {
      "text/plain": [
       "77.05183037332367"
      ]
     },
     "execution_count": 282,
     "metadata": {},
     "output_type": "execute_result"
    }
   ],
   "source": [
    "# avg age Feb 15 to July 15\n",
    "celebs.loc[(celebs['dateofdeath'] >= '2016-02-15') & (celebs['dateofdeath'] <= '2016-07-15'), 'age'].mean()"
   ]
  },
  {
   "cell_type": "code",
   "execution_count": 283,
   "id": "5e924c46-1157-4ae6-9526-96797749e442",
   "metadata": {},
   "outputs": [
    {
     "data": {
      "text/html": [
       "<div>\n",
       "<style scoped>\n",
       "    .dataframe tbody tr th:only-of-type {\n",
       "        vertical-align: middle;\n",
       "    }\n",
       "\n",
       "    .dataframe tbody tr th {\n",
       "        vertical-align: top;\n",
       "    }\n",
       "\n",
       "    .dataframe thead th {\n",
       "        text-align: right;\n",
       "    }\n",
       "</style>\n",
       "<table border=\"1\" class=\"dataframe\">\n",
       "  <thead>\n",
       "    <tr style=\"text-align: right;\">\n",
       "      <th></th>\n",
       "      <th>causeofdeath</th>\n",
       "    </tr>\n",
       "  </thead>\n",
       "  <tbody>\n",
       "    <tr>\n",
       "      <th>0</th>\n",
       "      <td>brain cancer</td>\n",
       "    </tr>\n",
       "    <tr>\n",
       "      <th>1</th>\n",
       "      <td>cancer</td>\n",
       "    </tr>\n",
       "    <tr>\n",
       "      <th>2</th>\n",
       "      <td>cancer</td>\n",
       "    </tr>\n",
       "    <tr>\n",
       "      <th>3</th>\n",
       "      <td>complications of a stroke</td>\n",
       "    </tr>\n",
       "    <tr>\n",
       "      <th>4</th>\n",
       "      <td>heart failure</td>\n",
       "    </tr>\n",
       "  </tbody>\n",
       "</table>\n",
       "</div>"
      ],
      "text/plain": [
       "                 causeofdeath\n",
       "0                brain cancer\n",
       "1                      cancer\n",
       "2                      cancer\n",
       "3   complications of a stroke\n",
       "4               heart failure"
      ]
     },
     "execution_count": 283,
     "metadata": {},
     "output_type": "execute_result"
    }
   ],
   "source": [
    "# load in causeofdeath column\n",
    "cause = pd.read_csv(r'D:\\Documents\\Data Analysis\\Datasets\\pandas-workout-data\\data\\celebrity_deaths_2016.csv',\n",
    "                     usecols=['causeofdeath'])\n",
    "cause.head()"
   ]
  },
  {
   "cell_type": "code",
   "execution_count": 284,
   "id": "b963cd80-eda9-4e29-bca2-f7152504cbe4",
   "metadata": {},
   "outputs": [
    {
     "data": {
      "text/plain": [
       "causeofdeath      \n",
       " cancer               248\n",
       " heart attack         125\n",
       " traffic collision     56\n",
       " lung cancer           51\n",
       " pneumonia             50\n",
       "Name: count, dtype: int64"
      ]
     },
     "execution_count": 284,
     "metadata": {},
     "output_type": "execute_result"
    }
   ],
   "source": [
    "# top 5 causes of death\n",
    "cause.value_counts().head()"
   ]
  },
  {
   "cell_type": "code",
   "execution_count": 285,
   "id": "95bea7c1-9448-4b90-b197-c059f3dad4df",
   "metadata": {},
   "outputs": [
    {
     "data": {
      "text/plain": [
       "causeofdeath      \n",
       "unknown               5008\n",
       " cancer                248\n",
       " heart attack          125\n",
       " traffic collision      56\n",
       " lung cancer            51\n",
       "Name: count, dtype: int64"
      ]
     },
     "execution_count": 285,
     "metadata": {},
     "output_type": "execute_result"
    }
   ],
   "source": [
    "# will NA with 'unknown'\n",
    "cause = cause.fillna('unknown')\n",
    "cause.value_counts().head()"
   ]
  },
  {
   "cell_type": "markdown",
   "id": "3ebf3356-c9c9-4e7b-8ce0-142366a4c9ad",
   "metadata": {},
   "source": [
    "## Exercise 27 - Titanic interpolation"
   ]
  },
  {
   "cell_type": "code",
   "execution_count": 287,
   "id": "a07b2a20-29e9-4829-bae9-ad554533fe5d",
   "metadata": {},
   "outputs": [
    {
     "data": {
      "text/html": [
       "<div>\n",
       "<style scoped>\n",
       "    .dataframe tbody tr th:only-of-type {\n",
       "        vertical-align: middle;\n",
       "    }\n",
       "\n",
       "    .dataframe tbody tr th {\n",
       "        vertical-align: top;\n",
       "    }\n",
       "\n",
       "    .dataframe thead th {\n",
       "        text-align: right;\n",
       "    }\n",
       "</style>\n",
       "<table border=\"1\" class=\"dataframe\">\n",
       "  <thead>\n",
       "    <tr style=\"text-align: right;\">\n",
       "      <th></th>\n",
       "      <th>pclass</th>\n",
       "      <th>survived</th>\n",
       "      <th>name</th>\n",
       "      <th>sex</th>\n",
       "      <th>age</th>\n",
       "      <th>sibsp</th>\n",
       "      <th>parch</th>\n",
       "      <th>ticket</th>\n",
       "      <th>fare</th>\n",
       "      <th>cabin</th>\n",
       "      <th>embarked</th>\n",
       "      <th>boat</th>\n",
       "      <th>body</th>\n",
       "      <th>home.dest</th>\n",
       "    </tr>\n",
       "  </thead>\n",
       "  <tbody>\n",
       "    <tr>\n",
       "      <th>0</th>\n",
       "      <td>1</td>\n",
       "      <td>1</td>\n",
       "      <td>Allen, Miss. Elisabeth Walton</td>\n",
       "      <td>female</td>\n",
       "      <td>29.00</td>\n",
       "      <td>0</td>\n",
       "      <td>0</td>\n",
       "      <td>24160</td>\n",
       "      <td>211.34</td>\n",
       "      <td>B5</td>\n",
       "      <td>S</td>\n",
       "      <td>2</td>\n",
       "      <td>NaN</td>\n",
       "      <td>St Louis, MO</td>\n",
       "    </tr>\n",
       "    <tr>\n",
       "      <th>1</th>\n",
       "      <td>1</td>\n",
       "      <td>1</td>\n",
       "      <td>Allison, Master. Hudson Trevor</td>\n",
       "      <td>male</td>\n",
       "      <td>0.92</td>\n",
       "      <td>1</td>\n",
       "      <td>2</td>\n",
       "      <td>113781</td>\n",
       "      <td>151.55</td>\n",
       "      <td>C22 C26</td>\n",
       "      <td>S</td>\n",
       "      <td>11</td>\n",
       "      <td>NaN</td>\n",
       "      <td>Montreal, PQ / Chesterville, ON</td>\n",
       "    </tr>\n",
       "    <tr>\n",
       "      <th>2</th>\n",
       "      <td>1</td>\n",
       "      <td>0</td>\n",
       "      <td>Allison, Miss. Helen Loraine</td>\n",
       "      <td>female</td>\n",
       "      <td>2.00</td>\n",
       "      <td>1</td>\n",
       "      <td>2</td>\n",
       "      <td>113781</td>\n",
       "      <td>151.55</td>\n",
       "      <td>C22 C26</td>\n",
       "      <td>S</td>\n",
       "      <td>NaN</td>\n",
       "      <td>NaN</td>\n",
       "      <td>Montreal, PQ / Chesterville, ON</td>\n",
       "    </tr>\n",
       "    <tr>\n",
       "      <th>3</th>\n",
       "      <td>1</td>\n",
       "      <td>0</td>\n",
       "      <td>Allison, Mr. Hudson Joshua Creighton</td>\n",
       "      <td>male</td>\n",
       "      <td>30.00</td>\n",
       "      <td>1</td>\n",
       "      <td>2</td>\n",
       "      <td>113781</td>\n",
       "      <td>151.55</td>\n",
       "      <td>C22 C26</td>\n",
       "      <td>S</td>\n",
       "      <td>NaN</td>\n",
       "      <td>135.00</td>\n",
       "      <td>Montreal, PQ / Chesterville, ON</td>\n",
       "    </tr>\n",
       "    <tr>\n",
       "      <th>4</th>\n",
       "      <td>1</td>\n",
       "      <td>0</td>\n",
       "      <td>Allison, Mrs. Hudson J C (Bessie Waldo Daniels)</td>\n",
       "      <td>female</td>\n",
       "      <td>25.00</td>\n",
       "      <td>1</td>\n",
       "      <td>2</td>\n",
       "      <td>113781</td>\n",
       "      <td>151.55</td>\n",
       "      <td>C22 C26</td>\n",
       "      <td>S</td>\n",
       "      <td>NaN</td>\n",
       "      <td>NaN</td>\n",
       "      <td>Montreal, PQ / Chesterville, ON</td>\n",
       "    </tr>\n",
       "  </tbody>\n",
       "</table>\n",
       "</div>"
      ],
      "text/plain": [
       "   pclass  survived                                             name     sex  \\\n",
       "0       1         1                    Allen, Miss. Elisabeth Walton  female   \n",
       "1       1         1                   Allison, Master. Hudson Trevor    male   \n",
       "2       1         0                     Allison, Miss. Helen Loraine  female   \n",
       "3       1         0             Allison, Mr. Hudson Joshua Creighton    male   \n",
       "4       1         0  Allison, Mrs. Hudson J C (Bessie Waldo Daniels)  female   \n",
       "\n",
       "    age  sibsp  parch  ticket   fare    cabin embarked boat   body  \\\n",
       "0 29.00      0      0   24160 211.34       B5        S    2    NaN   \n",
       "1  0.92      1      2  113781 151.55  C22 C26        S   11    NaN   \n",
       "2  2.00      1      2  113781 151.55  C22 C26        S  NaN    NaN   \n",
       "3 30.00      1      2  113781 151.55  C22 C26        S  NaN 135.00   \n",
       "4 25.00      1      2  113781 151.55  C22 C26        S  NaN    NaN   \n",
       "\n",
       "                         home.dest  \n",
       "0                     St Louis, MO  \n",
       "1  Montreal, PQ / Chesterville, ON  \n",
       "2  Montreal, PQ / Chesterville, ON  \n",
       "3  Montreal, PQ / Chesterville, ON  \n",
       "4  Montreal, PQ / Chesterville, ON  "
      ]
     },
     "execution_count": 287,
     "metadata": {},
     "output_type": "execute_result"
    }
   ],
   "source": [
    "# read in Excel file\n",
    "titanic = pd.read_excel(r'D:\\Documents\\Data Analysis\\Datasets\\pandas-workout-data\\data\\titanic3.xls')\n",
    "titanic.head()"
   ]
  },
  {
   "cell_type": "code",
   "execution_count": 288,
   "id": "e6eaa690-8ec9-44ff-a9d8-4cf13bdf1e50",
   "metadata": {},
   "outputs": [
    {
     "data": {
      "text/plain": [
       "pclass          0\n",
       "survived        0\n",
       "name            0\n",
       "sex             0\n",
       "age           263\n",
       "sibsp           0\n",
       "parch           0\n",
       "ticket          0\n",
       "fare            1\n",
       "cabin        1014\n",
       "embarked        2\n",
       "boat          823\n",
       "body         1188\n",
       "home.dest     564\n",
       "dtype: int64"
      ]
     },
     "execution_count": 288,
     "metadata": {},
     "output_type": "execute_result"
    }
   ],
   "source": [
    "# which columns have NA values, how many?\n",
    "titanic.isna().sum()"
   ]
  },
  {
   "cell_type": "code",
   "execution_count": 289,
   "id": "738cef91-11be-4418-ab52-8f54cf734ef4",
   "metadata": {},
   "outputs": [
    {
     "data": {
      "text/html": [
       "<div>\n",
       "<style scoped>\n",
       "    .dataframe tbody tr th:only-of-type {\n",
       "        vertical-align: middle;\n",
       "    }\n",
       "\n",
       "    .dataframe tbody tr th {\n",
       "        vertical-align: top;\n",
       "    }\n",
       "\n",
       "    .dataframe thead th {\n",
       "        text-align: right;\n",
       "    }\n",
       "</style>\n",
       "<table border=\"1\" class=\"dataframe\">\n",
       "  <thead>\n",
       "    <tr style=\"text-align: right;\">\n",
       "      <th></th>\n",
       "      <th>pclass</th>\n",
       "      <th>survived</th>\n",
       "      <th>name</th>\n",
       "      <th>sex</th>\n",
       "      <th>age</th>\n",
       "      <th>sibsp</th>\n",
       "      <th>parch</th>\n",
       "      <th>ticket</th>\n",
       "      <th>fare</th>\n",
       "      <th>cabin</th>\n",
       "      <th>embarked</th>\n",
       "      <th>boat</th>\n",
       "      <th>body</th>\n",
       "      <th>home.dest</th>\n",
       "    </tr>\n",
       "  </thead>\n",
       "  <tbody>\n",
       "    <tr>\n",
       "      <th>15</th>\n",
       "      <td>1</td>\n",
       "      <td>0</td>\n",
       "      <td>Baumann, Mr. John D</td>\n",
       "      <td>male</td>\n",
       "      <td>NaN</td>\n",
       "      <td>0</td>\n",
       "      <td>0</td>\n",
       "      <td>PC 17318</td>\n",
       "      <td>25.93</td>\n",
       "      <td>NaN</td>\n",
       "      <td>S</td>\n",
       "      <td>NaN</td>\n",
       "      <td>NaN</td>\n",
       "      <td>New York, NY</td>\n",
       "    </tr>\n",
       "    <tr>\n",
       "      <th>37</th>\n",
       "      <td>1</td>\n",
       "      <td>1</td>\n",
       "      <td>Bradley, Mr. George (\"George Arthur Brayton\")</td>\n",
       "      <td>male</td>\n",
       "      <td>NaN</td>\n",
       "      <td>0</td>\n",
       "      <td>0</td>\n",
       "      <td>111427</td>\n",
       "      <td>26.55</td>\n",
       "      <td>NaN</td>\n",
       "      <td>S</td>\n",
       "      <td>9</td>\n",
       "      <td>NaN</td>\n",
       "      <td>Los Angeles, CA</td>\n",
       "    </tr>\n",
       "    <tr>\n",
       "      <th>40</th>\n",
       "      <td>1</td>\n",
       "      <td>0</td>\n",
       "      <td>Brewe, Dr. Arthur Jackson</td>\n",
       "      <td>male</td>\n",
       "      <td>NaN</td>\n",
       "      <td>0</td>\n",
       "      <td>0</td>\n",
       "      <td>112379</td>\n",
       "      <td>39.60</td>\n",
       "      <td>NaN</td>\n",
       "      <td>C</td>\n",
       "      <td>NaN</td>\n",
       "      <td>NaN</td>\n",
       "      <td>Philadelphia, PA</td>\n",
       "    </tr>\n",
       "    <tr>\n",
       "      <th>46</th>\n",
       "      <td>1</td>\n",
       "      <td>0</td>\n",
       "      <td>Cairns, Mr. Alexander</td>\n",
       "      <td>male</td>\n",
       "      <td>NaN</td>\n",
       "      <td>0</td>\n",
       "      <td>0</td>\n",
       "      <td>113798</td>\n",
       "      <td>31.00</td>\n",
       "      <td>NaN</td>\n",
       "      <td>S</td>\n",
       "      <td>NaN</td>\n",
       "      <td>NaN</td>\n",
       "      <td>NaN</td>\n",
       "    </tr>\n",
       "    <tr>\n",
       "      <th>59</th>\n",
       "      <td>1</td>\n",
       "      <td>1</td>\n",
       "      <td>Cassebeer, Mrs. Henry Arthur Jr (Eleanor Genev...</td>\n",
       "      <td>female</td>\n",
       "      <td>NaN</td>\n",
       "      <td>0</td>\n",
       "      <td>0</td>\n",
       "      <td>17770</td>\n",
       "      <td>27.72</td>\n",
       "      <td>NaN</td>\n",
       "      <td>C</td>\n",
       "      <td>5</td>\n",
       "      <td>NaN</td>\n",
       "      <td>New York, NY</td>\n",
       "    </tr>\n",
       "    <tr>\n",
       "      <th>...</th>\n",
       "      <td>...</td>\n",
       "      <td>...</td>\n",
       "      <td>...</td>\n",
       "      <td>...</td>\n",
       "      <td>...</td>\n",
       "      <td>...</td>\n",
       "      <td>...</td>\n",
       "      <td>...</td>\n",
       "      <td>...</td>\n",
       "      <td>...</td>\n",
       "      <td>...</td>\n",
       "      <td>...</td>\n",
       "      <td>...</td>\n",
       "      <td>...</td>\n",
       "    </tr>\n",
       "    <tr>\n",
       "      <th>1293</th>\n",
       "      <td>3</td>\n",
       "      <td>0</td>\n",
       "      <td>Williams, Mr. Howard Hugh \"Harry\"</td>\n",
       "      <td>male</td>\n",
       "      <td>NaN</td>\n",
       "      <td>0</td>\n",
       "      <td>0</td>\n",
       "      <td>A/5 2466</td>\n",
       "      <td>8.05</td>\n",
       "      <td>NaN</td>\n",
       "      <td>S</td>\n",
       "      <td>NaN</td>\n",
       "      <td>NaN</td>\n",
       "      <td>NaN</td>\n",
       "    </tr>\n",
       "    <tr>\n",
       "      <th>1297</th>\n",
       "      <td>3</td>\n",
       "      <td>0</td>\n",
       "      <td>Wiseman, Mr. Phillippe</td>\n",
       "      <td>male</td>\n",
       "      <td>NaN</td>\n",
       "      <td>0</td>\n",
       "      <td>0</td>\n",
       "      <td>A/4. 34244</td>\n",
       "      <td>7.25</td>\n",
       "      <td>NaN</td>\n",
       "      <td>S</td>\n",
       "      <td>NaN</td>\n",
       "      <td>NaN</td>\n",
       "      <td>NaN</td>\n",
       "    </tr>\n",
       "    <tr>\n",
       "      <th>1302</th>\n",
       "      <td>3</td>\n",
       "      <td>0</td>\n",
       "      <td>Yousif, Mr. Wazli</td>\n",
       "      <td>male</td>\n",
       "      <td>NaN</td>\n",
       "      <td>0</td>\n",
       "      <td>0</td>\n",
       "      <td>2647</td>\n",
       "      <td>7.22</td>\n",
       "      <td>NaN</td>\n",
       "      <td>C</td>\n",
       "      <td>NaN</td>\n",
       "      <td>NaN</td>\n",
       "      <td>NaN</td>\n",
       "    </tr>\n",
       "    <tr>\n",
       "      <th>1303</th>\n",
       "      <td>3</td>\n",
       "      <td>0</td>\n",
       "      <td>Yousseff, Mr. Gerious</td>\n",
       "      <td>male</td>\n",
       "      <td>NaN</td>\n",
       "      <td>0</td>\n",
       "      <td>0</td>\n",
       "      <td>2627</td>\n",
       "      <td>14.46</td>\n",
       "      <td>NaN</td>\n",
       "      <td>C</td>\n",
       "      <td>NaN</td>\n",
       "      <td>NaN</td>\n",
       "      <td>NaN</td>\n",
       "    </tr>\n",
       "    <tr>\n",
       "      <th>1305</th>\n",
       "      <td>3</td>\n",
       "      <td>0</td>\n",
       "      <td>Zabour, Miss. Thamine</td>\n",
       "      <td>female</td>\n",
       "      <td>NaN</td>\n",
       "      <td>1</td>\n",
       "      <td>0</td>\n",
       "      <td>2665</td>\n",
       "      <td>14.45</td>\n",
       "      <td>NaN</td>\n",
       "      <td>C</td>\n",
       "      <td>NaN</td>\n",
       "      <td>NaN</td>\n",
       "      <td>NaN</td>\n",
       "    </tr>\n",
       "  </tbody>\n",
       "</table>\n",
       "<p>263 rows × 14 columns</p>\n",
       "</div>"
      ],
      "text/plain": [
       "      pclass  survived                                               name  \\\n",
       "15         1         0                                Baumann, Mr. John D   \n",
       "37         1         1      Bradley, Mr. George (\"George Arthur Brayton\")   \n",
       "40         1         0                          Brewe, Dr. Arthur Jackson   \n",
       "46         1         0                              Cairns, Mr. Alexander   \n",
       "59         1         1  Cassebeer, Mrs. Henry Arthur Jr (Eleanor Genev...   \n",
       "...      ...       ...                                                ...   \n",
       "1293       3         0                  Williams, Mr. Howard Hugh \"Harry\"   \n",
       "1297       3         0                             Wiseman, Mr. Phillippe   \n",
       "1302       3         0                                  Yousif, Mr. Wazli   \n",
       "1303       3         0                              Yousseff, Mr. Gerious   \n",
       "1305       3         0                              Zabour, Miss. Thamine   \n",
       "\n",
       "         sex  age  sibsp  parch      ticket  fare cabin embarked boat  body  \\\n",
       "15      male  NaN      0      0    PC 17318 25.93   NaN        S  NaN   NaN   \n",
       "37      male  NaN      0      0      111427 26.55   NaN        S    9   NaN   \n",
       "40      male  NaN      0      0      112379 39.60   NaN        C  NaN   NaN   \n",
       "46      male  NaN      0      0      113798 31.00   NaN        S  NaN   NaN   \n",
       "59    female  NaN      0      0       17770 27.72   NaN        C    5   NaN   \n",
       "...      ...  ...    ...    ...         ...   ...   ...      ...  ...   ...   \n",
       "1293    male  NaN      0      0    A/5 2466  8.05   NaN        S  NaN   NaN   \n",
       "1297    male  NaN      0      0  A/4. 34244  7.25   NaN        S  NaN   NaN   \n",
       "1302    male  NaN      0      0        2647  7.22   NaN        C  NaN   NaN   \n",
       "1303    male  NaN      0      0        2627 14.46   NaN        C  NaN   NaN   \n",
       "1305  female  NaN      1      0        2665 14.45   NaN        C  NaN   NaN   \n",
       "\n",
       "             home.dest  \n",
       "15        New York, NY  \n",
       "37     Los Angeles, CA  \n",
       "40    Philadelphia, PA  \n",
       "46                 NaN  \n",
       "59        New York, NY  \n",
       "...                ...  \n",
       "1293               NaN  \n",
       "1297               NaN  \n",
       "1302               NaN  \n",
       "1303               NaN  \n",
       "1305               NaN  \n",
       "\n",
       "[263 rows x 14 columns]"
      ]
     },
     "execution_count": 289,
     "metadata": {},
     "output_type": "execute_result"
    }
   ],
   "source": [
    "# determine what to do for columns with missing values\n",
    "titanic.loc[titanic['age'].isna(),:]"
   ]
  },
  {
   "cell_type": "markdown",
   "id": "529891d6-ca73-4679-be1c-372a4acf60c1",
   "metadata": {},
   "source": [
    "### Exercise 27b"
   ]
  },
  {
   "cell_type": "code",
   "execution_count": 291,
   "id": "f3aee056-a977-40e9-befa-a61190a0c1b3",
   "metadata": {},
   "outputs": [
    {
     "data": {
      "text/plain": [
       "S           New York, NY\n",
       "C           New York, NY\n",
       "Q    Ireland Chicago, IL\n",
       "dtype: object"
      ]
     },
     "execution_count": 291,
     "metadata": {},
     "output_type": "execute_result"
    }
   ],
   "source": [
    "# create series with index as unique embarked values and values as most common destination for that embarked value\n",
    "destinations = pd.Series([])\n",
    "\n",
    "for embarked_from in titanic['embarked'].dropna().unique():\n",
    "    destinations.loc[embarked_from] = titanic.loc[titanic['embarked']==embarked_from, 'home.dest'].value_counts().index[0]\n",
    "\n",
    "destinations"
   ]
  },
  {
   "cell_type": "code",
   "execution_count": 292,
   "id": "44407120-ee5a-4f24-a750-08bbca064e6f",
   "metadata": {},
   "outputs": [],
   "source": [
    "# replace NA values in home.dest with values from embarked\n",
    "titanic.loc['home.dest'] = titanic['home.dest'].fillna(titanic['embarked'])"
   ]
  },
  {
   "cell_type": "code",
   "execution_count": 293,
   "id": "2405a566-8862-4fd0-bf04-8c96eb4d422b",
   "metadata": {},
   "outputs": [],
   "source": [
    "# use most common destinations to replace values\n",
    "titanic.loc['home.dest'] = titanic['home.dest'].replace(destinations)"
   ]
  },
  {
   "cell_type": "markdown",
   "id": "50ef7e90-b49a-4b70-a758-80c11974dcd6",
   "metadata": {},
   "source": [
    "## Exercise 28 - Inconsistent data"
   ]
  },
  {
   "cell_type": "code",
   "execution_count": 295,
   "id": "ec36ef67-c29c-4cf5-88a8-dd6bc45a782c",
   "metadata": {},
   "outputs": [
    {
     "data": {
      "text/html": [
       "<div>\n",
       "<style scoped>\n",
       "    .dataframe tbody tr th:only-of-type {\n",
       "        vertical-align: middle;\n",
       "    }\n",
       "\n",
       "    .dataframe tbody tr th {\n",
       "        vertical-align: top;\n",
       "    }\n",
       "\n",
       "    .dataframe thead th {\n",
       "        text-align: right;\n",
       "    }\n",
       "</style>\n",
       "<table border=\"1\" class=\"dataframe\">\n",
       "  <thead>\n",
       "    <tr style=\"text-align: right;\">\n",
       "      <th></th>\n",
       "      <th>Plate ID</th>\n",
       "      <th>Registration State</th>\n",
       "      <th>Vehicle Make</th>\n",
       "      <th>Street Name</th>\n",
       "      <th>Vehicle Color</th>\n",
       "    </tr>\n",
       "  </thead>\n",
       "  <tbody>\n",
       "    <tr>\n",
       "      <th>0</th>\n",
       "      <td>J58JKX</td>\n",
       "      <td>NJ</td>\n",
       "      <td>HONDA</td>\n",
       "      <td>43 ST</td>\n",
       "      <td>BK</td>\n",
       "    </tr>\n",
       "    <tr>\n",
       "      <th>1</th>\n",
       "      <td>KRE6058</td>\n",
       "      <td>PA</td>\n",
       "      <td>ME/BE</td>\n",
       "      <td>UNION ST</td>\n",
       "      <td>BLK</td>\n",
       "    </tr>\n",
       "    <tr>\n",
       "      <th>2</th>\n",
       "      <td>444326R</td>\n",
       "      <td>NJ</td>\n",
       "      <td>LEXUS</td>\n",
       "      <td>CLERMONT AVENUE</td>\n",
       "      <td>BLACK</td>\n",
       "    </tr>\n",
       "    <tr>\n",
       "      <th>3</th>\n",
       "      <td>F728330</td>\n",
       "      <td>OH</td>\n",
       "      <td>CHEVR</td>\n",
       "      <td>DIVISION AVE</td>\n",
       "      <td>NaN</td>\n",
       "    </tr>\n",
       "    <tr>\n",
       "      <th>4</th>\n",
       "      <td>FMY9090</td>\n",
       "      <td>NY</td>\n",
       "      <td>JEEP</td>\n",
       "      <td>GRAND ST</td>\n",
       "      <td>GREY</td>\n",
       "    </tr>\n",
       "  </tbody>\n",
       "</table>\n",
       "</div>"
      ],
      "text/plain": [
       "  Plate ID Registration State Vehicle Make      Street Name Vehicle Color\n",
       "0   J58JKX                 NJ        HONDA            43 ST            BK\n",
       "1  KRE6058                 PA        ME/BE         UNION ST           BLK\n",
       "2  444326R                 NJ        LEXUS  CLERMONT AVENUE         BLACK\n",
       "3  F728330                 OH        CHEVR     DIVISION AVE           NaN\n",
       "4  FMY9090                 NY         JEEP         GRAND ST          GREY"
      ]
     },
     "execution_count": 295,
     "metadata": {},
     "output_type": "execute_result"
    }
   ],
   "source": [
    "# read in CSV, specify columns\n",
    "violations = pd.read_csv(r'D:\\Documents\\Data Analysis\\Datasets\\pandas-workout-data\\data\\nyc-parking-violations-2020.csv',\n",
    "                        usecols=['Plate ID', 'Registration State', 'Vehicle Make', 'Vehicle Color', 'Street Name'])\n",
    "violations.head()"
   ]
  },
  {
   "cell_type": "code",
   "execution_count": 296,
   "id": "560685a0-c8d1-4e8b-8dd4-be9ce05b8c05",
   "metadata": {},
   "outputs": [
    {
     "data": {
      "text/plain": [
       "1897"
      ]
     },
     "execution_count": 296,
     "metadata": {},
     "output_type": "execute_result"
    }
   ],
   "source": [
    "# how many unique vehicle colors\n",
    "len(violations['Vehicle Color'].value_counts(dropna=False))"
   ]
  },
  {
   "cell_type": "code",
   "execution_count": 297,
   "id": "2276c798-4826-436a-a470-c9896f13c780",
   "metadata": {},
   "outputs": [
    {
     "data": {
      "text/plain": [
       "Index([   'WH',    'GY',    'BK', 'WHITE',    'BL',    'RD', 'BLACK',     nan,\n",
       "        'GREY', 'BROWN', 'SILVE',    'GR',  'BLUE',   'RED',    'TN',    'BR',\n",
       "          'YW',   'BLK', 'OTHER', 'GREEN',    'GL',   'GRY',    'MR',  'GRAY',\n",
       "         'WHT', 'YELLO',   'WHI',    'OR',   'BK.',    'WT'],\n",
       "      dtype='object', name='Vehicle Color')"
      ]
     },
     "execution_count": 297,
     "metadata": {},
     "output_type": "execute_result"
    }
   ],
   "source": [
    "# 30 most common colors\n",
    "violations['Vehicle Color'].value_counts(dropna=False).index[:30]"
   ]
  },
  {
   "cell_type": "code",
   "execution_count": 298,
   "id": "8534deb2-bd34-4f6e-8358-23a2907f6252",
   "metadata": {},
   "outputs": [],
   "source": [
    "# create color lists\n",
    "white_vals = ['WH', 'WHT', 'WHI', 'WT', 'WHITE', 'WT.', 'W', 'WH.', 'WHT.']\n",
    "gray_vals = ['GY', 'GREY', 'GRY', 'GRAY', 'GY.', 'LTGY', 'LTG', 'DKGY', 'GYGY', 'DKG']\n",
    "black_vals = ['BK', 'BLACK', 'BLK', 'BK.', 'BL.', 'BLK.']\n",
    "blue_vals = ['BL', 'BLUE', 'BLU']\n",
    "red_vals = ['RD', 'RED', 'RD.']\n",
    "brown_vals = ['BROWN', 'BR', 'BRN']\n",
    "yellow_vals = ['YW', 'YELLOW', 'YELLO']\n",
    "silver_vals = ['SILVER', 'SILVE', 'SL', 'SIL', 'SL.']\n",
    "orange_vals = ['ORANGE', 'OR', 'ORANG']\n",
    "purple_vals = ['PURPLE', 'PR', 'PURPL']\n",
    "green_vals = ['GREEN', 'GR', 'GRN', 'GN']"
   ]
  },
  {
   "cell_type": "code",
   "execution_count": 299,
   "id": "b52da22a-43bd-4ff3-9c0d-08aa98cc5cfd",
   "metadata": {},
   "outputs": [],
   "source": [
    "# consolidate colors\n",
    "violations.loc[violations['Vehicle Color'].isin(white_vals), 'Vehicle Color'] = 'WHITE'\n",
    "violations.loc[violations['Vehicle Color'].isin(gray_vals), 'Vehicle Color'] = 'GRAY'\n",
    "violations.loc[violations['Vehicle Color'].isin(black_vals), 'Vehicle Color'] = 'BLACK'\n",
    "violations.loc[violations['Vehicle Color'].isin(blue_vals), 'Vehicle Color'] = 'BLUE'\n",
    "violations.loc[violations['Vehicle Color'].isin(red_vals), 'Vehicle Color'] = 'RED'\n",
    "violations.loc[violations['Vehicle Color'].isin(brown_vals), 'Vehicle Color'] = 'BROWN'\n",
    "violations.loc[violations['Vehicle Color'].isin(yellow_vals), 'Vehicle Color'] = 'YELLOW'\n",
    "violations.loc[violations['Vehicle Color'].isin(silver_vals), 'Vehicle Color'] = 'SILVER'\n",
    "violations.loc[violations['Vehicle Color'].isin(orange_vals), 'Vehicle Color'] = 'ORANGE'\n",
    "violations.loc[violations['Vehicle Color'].isin(purple_vals), 'Vehicle Color'] = 'PURPLE'\n",
    "violations.loc[violations['Vehicle Color'].isin(green_vals), 'Vehicle Color'] = 'GREEN'"
   ]
  },
  {
   "cell_type": "code",
   "execution_count": 300,
   "id": "ef1e3ebc-8a73-4d4a-b21d-35f81c9d2794",
   "metadata": {},
   "outputs": [
    {
     "data": {
      "text/plain": [
       "Index([ 'WHITE',   'GRAY',  'BLACK',   'BLUE',    'RED',  'BROWN',      nan,\n",
       "        'GREEN', 'SILVER', 'YELLOW',     'TN',  'OTHER',     'GL',     'MR',\n",
       "       'ORANGE',   'GOLD',    'TAN', 'PURPLE',    'LT/',    'DK/',      'B',\n",
       "          'BRO',   'BKGY',   'WHBL',   'DKBL',     'BN',  'BLUE.',   'WHGY',\n",
       "        'UNKNO',   'RED.'],\n",
       "      dtype='object', name='Vehicle Color')"
      ]
     },
     "execution_count": 300,
     "metadata": {},
     "output_type": "execute_result"
    }
   ],
   "source": [
    "# updated common colors\n",
    "violations['Vehicle Color'].value_counts(dropna=False).index[:30]"
   ]
  },
  {
   "cell_type": "code",
   "execution_count": 301,
   "id": "c8bf3dec-7971-45ad-ad1b-3c363c96fb5c",
   "metadata": {},
   "outputs": [
    {
     "data": {
      "text/plain": [
       "1860"
      ]
     },
     "execution_count": 301,
     "metadata": {},
     "output_type": "execute_result"
    }
   ],
   "source": [
    "# how many total colors now?\n",
    "len(violations['Vehicle Color'].value_counts(dropna=False))"
   ]
  },
  {
   "cell_type": "code",
   "execution_count": 302,
   "id": "b5907855-8840-4247-be72-5aea2819336b",
   "metadata": {},
   "outputs": [],
   "source": [
    "# can rinse and repeat to further reduce"
   ]
  },
  {
   "cell_type": "markdown",
   "id": "513f55d0-c370-47f7-889f-68ea636e4a7e",
   "metadata": {},
   "source": [
    "### Exercise 28b"
   ]
  },
  {
   "cell_type": "code",
   "execution_count": 304,
   "id": "2123c638-9732-40eb-919b-e9264ccbc393",
   "metadata": {},
   "outputs": [
    {
     "data": {
      "text/plain": [
       "Vehicle Make\n",
       "TOYOT    1395273\n",
       "HONDA    1343265\n",
       "FORD     1328063\n",
       "NISSA    1119587\n",
       "CHEVR     711464\n",
       "          ...   \n",
       "BEAVE          1\n",
       "NELSO          1\n",
       "HOWBY          1\n",
       "BONEE          1\n",
       "KIA (          1\n",
       "Name: count, Length: 5210, dtype: int64"
      ]
     },
     "execution_count": 304,
     "metadata": {},
     "output_type": "execute_result"
    }
   ],
   "source": [
    "# total count of unique vehicle makes\n",
    "violations['Vehicle Make'].value_counts()"
   ]
  },
  {
   "cell_type": "code",
   "execution_count": 305,
   "id": "91779473-78fb-402e-ac71-beadf6859d2a",
   "metadata": {},
   "outputs": [],
   "source": [
    "# function to clean strings\n",
    "def fix_this(x):\n",
    "    # returns true if not a string\n",
    "    if not isinstance(x, str):\n",
    "        return x\n",
    "    # instantiate empty output string\n",
    "    output = ''\n",
    "    # loop through each char in string, adding if in ascii_uppercase library\n",
    "    for char in x.strip().upper():\n",
    "        if char in string.ascii_uppercase:\n",
    "            output += char\n",
    "    # return cleaned string\n",
    "    return output"
   ]
  },
  {
   "cell_type": "code",
   "execution_count": 306,
   "id": "ab895c60-7bbd-49ef-a9eb-dd16679a65ac",
   "metadata": {},
   "outputs": [
    {
     "data": {
      "text/plain": [
       "Vehicle Make\n",
       "TOYOT    1395273\n",
       "HONDA    1343265\n",
       "FORD     1328063\n",
       "NISSA    1119587\n",
       "CHEVR     711464\n",
       "          ...   \n",
       "BEAVE          1\n",
       "NELSO          1\n",
       "HOWBY          1\n",
       "BONEE          1\n",
       "KIA (          1\n",
       "Name: count, Length: 5210, dtype: int64"
      ]
     },
     "execution_count": 306,
     "metadata": {},
     "output_type": "execute_result"
    }
   ],
   "source": [
    "# apply string-cleaning function\n",
    "violations.loc['Vehicle Make'] = violations['Vehicle Make'].apply(fix_this)\n",
    "\n",
    "# return updated value counts\n",
    "violations['Vehicle Make'].value_counts()"
   ]
  },
  {
   "cell_type": "code",
   "execution_count": 307,
   "id": "55826774-c3c8-4af8-bb36-e5880845dcff",
   "metadata": {},
   "outputs": [
    {
     "data": {
      "text/plain": [
       "Street Name\n",
       "Broadway                180225\n",
       "3rd Ave                 133003\n",
       "5th Ave                  78211\n",
       "2nd Ave                  75533\n",
       "Madison Ave              75419\n",
       "                         ...  \n",
       "I/O W 164 ST                 1\n",
       "HUTINSON RIVER PARKW         1\n",
       "BEACH 58                     1\n",
       "HUTINSON RIVER PARK          1\n",
       "W/S/O 182 STREET             1\n",
       "Name: count, Length: 57757, dtype: int64"
      ]
     },
     "execution_count": 307,
     "metadata": {},
     "output_type": "execute_result"
    }
   ],
   "source": [
    "# how standardized are the street names?\n",
    "violations['Street Name'].value_counts()\n",
    "\n",
    "# need to standardize capitalization, whether 'th, rd' etc. is used after numbers, abbreviations for streets and street types"
   ]
  },
  {
   "cell_type": "code",
   "execution_count": 308,
   "id": "8ba09443-cfd7-4d4d-93d6-9f5e2e34594d",
   "metadata": {},
   "outputs": [
    {
     "data": {
      "text/plain": [
       "array(['NJ', 'PA', 'OH', 'NY', 'NC', '99', 'ME', 'GV', 'IN', 'CT', 'TX',\n",
       "       'SC', 'MA', 'FL', 'IL', 'MN', 'OK', 'VA', 'ID', 'CA', 'MS', 'NE',\n",
       "       'HI', 'NB', 'AL', 'WA', 'VT', 'WY', 'WI', 'NH', 'MD', 'KY', 'GA',\n",
       "       'RI', 'AR', 'TN', 'AZ', 'NV', 'QB', 'DE', 'MO', 'OR', 'MI', 'NM',\n",
       "       'UT', 'ON', 'DP', 'LA', 'WV', 'CO', 'SD', 'DC', 'IA', 'MT', 'AK',\n",
       "       'KS', 'MX', 'ND', 'AB', 'PR', 'PE', 'BC', 'SK', 'NS', 'FO', 'NT',\n",
       "       'MB', 'YT', nan], dtype=object)"
      ]
     },
     "execution_count": 308,
     "metadata": {},
     "output_type": "execute_result"
    }
   ],
   "source": [
    "# need to clean registration state column?\n",
    "violations['Registration State'].unique()\n",
    "\n",
    "# 68 'states' include Canadian provinces, also \"99\"?"
   ]
  }
 ],
 "metadata": {
  "kernelspec": {
   "display_name": "Python 3 (ipykernel)",
   "language": "python",
   "name": "python3"
  },
  "language_info": {
   "codemirror_mode": {
    "name": "ipython",
    "version": 3
   },
   "file_extension": ".py",
   "mimetype": "text/x-python",
   "name": "python",
   "nbconvert_exporter": "python",
   "pygments_lexer": "ipython3",
   "version": "3.11.7"
  }
 },
 "nbformat": 4,
 "nbformat_minor": 5
}
