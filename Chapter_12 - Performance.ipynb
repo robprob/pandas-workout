{
 "cells": [
  {
   "cell_type": "markdown",
   "id": "bcd90f35-a84c-4070-8cde-d0e09f690ecf",
   "metadata": {},
   "source": [
    "# 12. Performance"
   ]
  },
  {
   "cell_type": "markdown",
   "id": "6c193221-be62-4ead-a230-b543a078a572",
   "metadata": {},
   "source": [
    "## Exercise 48 - Categories"
   ]
  },
  {
   "cell_type": "code",
   "execution_count": 4,
   "id": "4cce64ea-ad2e-4ef6-9f1c-276a41f3613c",
   "metadata": {},
   "outputs": [
    {
     "data": {
      "text/html": [
       "<div>\n",
       "<style scoped>\n",
       "    .dataframe tbody tr th:only-of-type {\n",
       "        vertical-align: middle;\n",
       "    }\n",
       "\n",
       "    .dataframe tbody tr th {\n",
       "        vertical-align: top;\n",
       "    }\n",
       "\n",
       "    .dataframe thead th {\n",
       "        text-align: right;\n",
       "    }\n",
       "</style>\n",
       "<table border=\"1\" class=\"dataframe\">\n",
       "  <thead>\n",
       "    <tr style=\"text-align: right;\">\n",
       "      <th></th>\n",
       "      <th>Plate ID</th>\n",
       "      <th>Registration State</th>\n",
       "      <th>Vehicle Body Type</th>\n",
       "      <th>Vehicle Make</th>\n",
       "      <th>Vehicle Color</th>\n",
       "    </tr>\n",
       "  </thead>\n",
       "  <tbody>\n",
       "    <tr>\n",
       "      <th>0</th>\n",
       "      <td>J58JKX</td>\n",
       "      <td>NJ</td>\n",
       "      <td>SDN</td>\n",
       "      <td>HONDA</td>\n",
       "      <td>BK</td>\n",
       "    </tr>\n",
       "    <tr>\n",
       "      <th>1</th>\n",
       "      <td>KRE6058</td>\n",
       "      <td>PA</td>\n",
       "      <td>SUBN</td>\n",
       "      <td>ME/BE</td>\n",
       "      <td>BLK</td>\n",
       "    </tr>\n",
       "    <tr>\n",
       "      <th>2</th>\n",
       "      <td>444326R</td>\n",
       "      <td>NJ</td>\n",
       "      <td>SDN</td>\n",
       "      <td>LEXUS</td>\n",
       "      <td>BLACK</td>\n",
       "    </tr>\n",
       "    <tr>\n",
       "      <th>3</th>\n",
       "      <td>F728330</td>\n",
       "      <td>OH</td>\n",
       "      <td>SDN</td>\n",
       "      <td>CHEVR</td>\n",
       "      <td>NaN</td>\n",
       "    </tr>\n",
       "    <tr>\n",
       "      <th>4</th>\n",
       "      <td>FMY9090</td>\n",
       "      <td>NY</td>\n",
       "      <td>SUBN</td>\n",
       "      <td>JEEP</td>\n",
       "      <td>GREY</td>\n",
       "    </tr>\n",
       "  </tbody>\n",
       "</table>\n",
       "</div>"
      ],
      "text/plain": [
       "  Plate ID Registration State Vehicle Body Type Vehicle Make Vehicle Color\n",
       "0   J58JKX                 NJ               SDN        HONDA            BK\n",
       "1  KRE6058                 PA              SUBN        ME/BE           BLK\n",
       "2  444326R                 NJ               SDN        LEXUS         BLACK\n",
       "3  F728330                 OH               SDN        CHEVR           NaN\n",
       "4  FMY9090                 NY              SUBN         JEEP          GREY"
      ]
     },
     "execution_count": 4,
     "metadata": {},
     "output_type": "execute_result"
    }
   ],
   "source": [
    "# load in data\n",
    "parking = pd.read_csv(root_path + 'nyc-parking-violations-2020.csv',\n",
    "                      usecols=['Plate ID',\n",
    "                               'Registration State',\n",
    "                               'Vehicle Make',\n",
    "                               'Vehicle Color',\n",
    "                               'Vehicle Body Type'],\n",
    "                     low_memory=False)\n",
    "\n",
    "parking.head()"
   ]
  },
  {
   "cell_type": "code",
   "execution_count": 5,
   "id": "475ecf84-08d6-4aaf-b9dc-b48feb74c566",
   "metadata": {},
   "outputs": [
    {
     "data": {
      "text/plain": [
       "3797397954"
      ]
     },
     "execution_count": 5,
     "metadata": {},
     "output_type": "execute_result"
    }
   ],
   "source": [
    "# determine amount of memory currently used\n",
    "parking.memory_usage(deep=True).sum()"
   ]
  },
  {
   "cell_type": "code",
   "execution_count": 6,
   "id": "6bf913e0-30b0-4eb4-87f0-a70b650f740a",
   "metadata": {},
   "outputs": [],
   "source": [
    "# turn each column into a category\n",
    "for column in ['Plate ID', 'Registration State', 'Vehicle Make', 'Vehicle Color', 'Vehicle Body Type']:\n",
    "    parking[column] = parking[column].astype('category')"
   ]
  },
  {
   "cell_type": "code",
   "execution_count": 7,
   "id": "6763a99e-9d82-4ff4-99c7-297bdb14ce39",
   "metadata": {},
   "outputs": [
    {
     "data": {
      "text/plain": [
       "480673817"
      ]
     },
     "execution_count": 7,
     "metadata": {},
     "output_type": "execute_result"
    }
   ],
   "source": [
    "# new memory usage\n",
    "parking.memory_usage(deep=True).sum()"
   ]
  },
  {
   "cell_type": "code",
   "execution_count": 8,
   "id": "3f654a0e-feb3-4341-9f88-7d9e31bd3510",
   "metadata": {},
   "outputs": [
    {
     "data": {
      "text/plain": [
       "3316724137"
      ]
     },
     "execution_count": 8,
     "metadata": {},
     "output_type": "execute_result"
    }
   ],
   "source": [
    "# amount of memory saved?\n",
    "3797397954-480673817"
   ]
  },
  {
   "cell_type": "code",
   "execution_count": 9,
   "id": "cb8f9207-2619-4ee7-9078-391c50badb7d",
   "metadata": {},
   "outputs": [
    {
     "data": {
      "text/plain": [
       "0.1265797851114553"
      ]
     },
     "execution_count": 9,
     "metadata": {},
     "output_type": "execute_result"
    }
   ],
   "source": [
    "# new data usage / old data usage\n",
    "480673817/3797397954"
   ]
  },
  {
   "cell_type": "code",
   "execution_count": 10,
   "id": "304a2b26-4d9f-42db-bcb2-7566776c9fa0",
   "metadata": {},
   "outputs": [
    {
     "data": {
      "text/plain": [
       "Plate ID              category\n",
       "Registration State    category\n",
       "Vehicle Body Type     category\n",
       "Vehicle Make          category\n",
       "Vehicle Color         category\n",
       "dtype: object"
      ]
     },
     "execution_count": 10,
     "metadata": {},
     "output_type": "execute_result"
    }
   ],
   "source": [
    "# what types are columns now?\n",
    "parking.dtypes"
   ]
  },
  {
   "cell_type": "code",
   "execution_count": 11,
   "id": "6eceeda5-754a-4096-af0e-682d85f74240",
   "metadata": {},
   "outputs": [
    {
     "name": "stdout",
     "output_type": "stream",
     "text": [
      "<class 'pandas.core.frame.DataFrame'>\n",
      "RangeIndex: 12495734 entries, 0 to 12495733\n",
      "Data columns (total 5 columns):\n",
      " #   Column              Dtype   \n",
      "---  ------              -----   \n",
      " 0   Plate ID            category\n",
      " 1   Registration State  category\n",
      " 2   Vehicle Body Type   category\n",
      " 3   Vehicle Make        category\n",
      " 4   Vehicle Color       category\n",
      "dtypes: category(5)\n",
      "memory usage: 458.4 MB\n"
     ]
    }
   ],
   "source": [
    "# .info provides deep memory_usage in a higher number (megabytes here)\n",
    "parking.info(memory_usage='deep')"
   ]
  },
  {
   "cell_type": "markdown",
   "id": "48dd73bc-9a05-49b5-b0de-954e23afac66",
   "metadata": {},
   "source": [
    "### Exercise 48b"
   ]
  },
  {
   "cell_type": "code",
   "execution_count": 13,
   "id": "e62d02ba-6257-4594-a068-fb8e2188653c",
   "metadata": {},
   "outputs": [],
   "source": [
    "# which made less sense to convert to category?\n",
    "# 'Plate ID', as there are many unique values"
   ]
  },
  {
   "cell_type": "code",
   "execution_count": 14,
   "id": "55055209-820a-4f9e-b0ee-a9a7d7983898",
   "metadata": {},
   "outputs": [
    {
     "data": {
      "text/plain": [
       "Registration State    183760.794118\n",
       "Vehicle Body Type       7619.200734\n",
       "Vehicle Color           6383.835443\n",
       "Vehicle Make            2386.432630\n",
       "Plate ID                   3.850149\n",
       "dtype: float64"
      ]
     },
     "execution_count": 14,
     "metadata": {},
     "output_type": "execute_result"
    }
   ],
   "source": [
    "# which made the most sense to turn into a category?\n",
    "\n",
    "# load in data\n",
    "parking = pd.read_csv(root_path + 'nyc-parking-violations-2020.csv',\n",
    "                      usecols=['Plate ID',\n",
    "                               'Registration State',\n",
    "                               'Vehicle Make',\n",
    "                               'Vehicle Color',\n",
    "                               'Vehicle Body Type'],\n",
    "                     low_memory=False)\n",
    "\n",
    "parking.head()\n",
    "\n",
    "(parking.count() / parking.nunique()).sort_values(ascending=False)"
   ]
  },
  {
   "cell_type": "code",
   "execution_count": 15,
   "id": "d1fb0ba7-25d6-4df2-bdb2-e7ef9fd63d67",
   "metadata": {},
   "outputs": [],
   "source": [
    "# yes, standardizing the spellings would result in fewer categories, resulting in less memory usage"
   ]
  },
  {
   "cell_type": "code",
   "execution_count": 16,
   "id": "7f5a2c59-b495-437e-9abe-58e4eec4391a",
   "metadata": {},
   "outputs": [
    {
     "data": {
      "text/html": [
       "<div>\n",
       "<style scoped>\n",
       "    .dataframe tbody tr th:only-of-type {\n",
       "        vertical-align: middle;\n",
       "    }\n",
       "\n",
       "    .dataframe tbody tr th {\n",
       "        vertical-align: top;\n",
       "    }\n",
       "\n",
       "    .dataframe thead th {\n",
       "        text-align: right;\n",
       "    }\n",
       "</style>\n",
       "<table border=\"1\" class=\"dataframe\">\n",
       "  <thead>\n",
       "    <tr style=\"text-align: right;\">\n",
       "      <th></th>\n",
       "      <th>Summons Number</th>\n",
       "      <th>Plate ID</th>\n",
       "      <th>Registration State</th>\n",
       "      <th>Plate Type</th>\n",
       "      <th>Issue Date</th>\n",
       "      <th>Violation Code</th>\n",
       "      <th>Vehicle Body Type</th>\n",
       "      <th>Vehicle Make</th>\n",
       "      <th>Issuing Agency</th>\n",
       "      <th>Street Code1</th>\n",
       "      <th>...</th>\n",
       "      <th>Vehicle Color</th>\n",
       "      <th>Unregistered Vehicle?</th>\n",
       "      <th>Vehicle Year</th>\n",
       "      <th>Meter Number</th>\n",
       "      <th>Feet From Curb</th>\n",
       "      <th>Violation Post Code</th>\n",
       "      <th>Violation Description</th>\n",
       "      <th>No Standing or Stopping Violation</th>\n",
       "      <th>Hydrant Violation</th>\n",
       "      <th>Double Parking Violation</th>\n",
       "    </tr>\n",
       "  </thead>\n",
       "  <tbody>\n",
       "    <tr>\n",
       "      <th>0</th>\n",
       "      <td>1477633194</td>\n",
       "      <td>J58JKX</td>\n",
       "      <td>NJ</td>\n",
       "      <td>PAS</td>\n",
       "      <td>05/08/1972 12:00:00 AM</td>\n",
       "      <td>16</td>\n",
       "      <td>SDN</td>\n",
       "      <td>HONDA</td>\n",
       "      <td>P</td>\n",
       "      <td>8730</td>\n",
       "      <td>...</td>\n",
       "      <td>BK</td>\n",
       "      <td>0.0</td>\n",
       "      <td>0</td>\n",
       "      <td>-</td>\n",
       "      <td>0</td>\n",
       "      <td>NaN</td>\n",
       "      <td>NaN</td>\n",
       "      <td>NaN</td>\n",
       "      <td>NaN</td>\n",
       "      <td>NaN</td>\n",
       "    </tr>\n",
       "    <tr>\n",
       "      <th>1</th>\n",
       "      <td>1449715424</td>\n",
       "      <td>KRE6058</td>\n",
       "      <td>PA</td>\n",
       "      <td>PAS</td>\n",
       "      <td>08/29/1977 12:00:00 AM</td>\n",
       "      <td>98</td>\n",
       "      <td>SUBN</td>\n",
       "      <td>ME/BE</td>\n",
       "      <td>P</td>\n",
       "      <td>86530</td>\n",
       "      <td>...</td>\n",
       "      <td>BLK</td>\n",
       "      <td>0.0</td>\n",
       "      <td>0</td>\n",
       "      <td>-</td>\n",
       "      <td>0</td>\n",
       "      <td>NaN</td>\n",
       "      <td>NaN</td>\n",
       "      <td>NaN</td>\n",
       "      <td>NaN</td>\n",
       "      <td>NaN</td>\n",
       "    </tr>\n",
       "    <tr>\n",
       "      <th>2</th>\n",
       "      <td>1455779155</td>\n",
       "      <td>444326R</td>\n",
       "      <td>NJ</td>\n",
       "      <td>PAS</td>\n",
       "      <td>10/03/1988 12:00:00 AM</td>\n",
       "      <td>20</td>\n",
       "      <td>SDN</td>\n",
       "      <td>LEXUS</td>\n",
       "      <td>P</td>\n",
       "      <td>27030</td>\n",
       "      <td>...</td>\n",
       "      <td>BLACK</td>\n",
       "      <td>0.0</td>\n",
       "      <td>0</td>\n",
       "      <td>-</td>\n",
       "      <td>0</td>\n",
       "      <td>NaN</td>\n",
       "      <td>NaN</td>\n",
       "      <td>NaN</td>\n",
       "      <td>NaN</td>\n",
       "      <td>NaN</td>\n",
       "    </tr>\n",
       "    <tr>\n",
       "      <th>3</th>\n",
       "      <td>1458800908</td>\n",
       "      <td>F728330</td>\n",
       "      <td>OH</td>\n",
       "      <td>PAS</td>\n",
       "      <td>01/03/1990 12:00:00 AM</td>\n",
       "      <td>21</td>\n",
       "      <td>SDN</td>\n",
       "      <td>CHEVR</td>\n",
       "      <td>P</td>\n",
       "      <td>33030</td>\n",
       "      <td>...</td>\n",
       "      <td>NaN</td>\n",
       "      <td>0.0</td>\n",
       "      <td>0</td>\n",
       "      <td>-</td>\n",
       "      <td>0</td>\n",
       "      <td>NaN</td>\n",
       "      <td>NaN</td>\n",
       "      <td>NaN</td>\n",
       "      <td>NaN</td>\n",
       "      <td>NaN</td>\n",
       "    </tr>\n",
       "    <tr>\n",
       "      <th>4</th>\n",
       "      <td>1466038676</td>\n",
       "      <td>FMY9090</td>\n",
       "      <td>NY</td>\n",
       "      <td>PAS</td>\n",
       "      <td>02/14/1990 12:00:00 AM</td>\n",
       "      <td>21</td>\n",
       "      <td>SUBN</td>\n",
       "      <td>JEEP</td>\n",
       "      <td>S</td>\n",
       "      <td>45130</td>\n",
       "      <td>...</td>\n",
       "      <td>GREY</td>\n",
       "      <td>0.0</td>\n",
       "      <td>2015</td>\n",
       "      <td>-</td>\n",
       "      <td>0</td>\n",
       "      <td>NaN</td>\n",
       "      <td>NaN</td>\n",
       "      <td>NaN</td>\n",
       "      <td>NaN</td>\n",
       "      <td>NaN</td>\n",
       "    </tr>\n",
       "  </tbody>\n",
       "</table>\n",
       "<p>5 rows × 43 columns</p>\n",
       "</div>"
      ],
      "text/plain": [
       "   Summons Number Plate ID Registration State Plate Type  \\\n",
       "0      1477633194   J58JKX                 NJ        PAS   \n",
       "1      1449715424  KRE6058                 PA        PAS   \n",
       "2      1455779155  444326R                 NJ        PAS   \n",
       "3      1458800908  F728330                 OH        PAS   \n",
       "4      1466038676  FMY9090                 NY        PAS   \n",
       "\n",
       "               Issue Date  Violation Code Vehicle Body Type Vehicle Make  \\\n",
       "0  05/08/1972 12:00:00 AM              16               SDN        HONDA   \n",
       "1  08/29/1977 12:00:00 AM              98              SUBN        ME/BE   \n",
       "2  10/03/1988 12:00:00 AM              20               SDN        LEXUS   \n",
       "3  01/03/1990 12:00:00 AM              21               SDN        CHEVR   \n",
       "4  02/14/1990 12:00:00 AM              21              SUBN         JEEP   \n",
       "\n",
       "  Issuing Agency  Street Code1  ...  Vehicle Color  Unregistered Vehicle?  \\\n",
       "0              P          8730  ...             BK                    0.0   \n",
       "1              P         86530  ...            BLK                    0.0   \n",
       "2              P         27030  ...          BLACK                    0.0   \n",
       "3              P         33030  ...            NaN                    0.0   \n",
       "4              S         45130  ...           GREY                    0.0   \n",
       "\n",
       "   Vehicle Year  Meter Number  Feet From Curb  Violation Post Code  \\\n",
       "0             0             -               0                  NaN   \n",
       "1             0             -               0                  NaN   \n",
       "2             0             -               0                  NaN   \n",
       "3             0             -               0                  NaN   \n",
       "4          2015             -               0                  NaN   \n",
       "\n",
       "   Violation Description No Standing or Stopping Violation Hydrant Violation  \\\n",
       "0                    NaN                               NaN               NaN   \n",
       "1                    NaN                               NaN               NaN   \n",
       "2                    NaN                               NaN               NaN   \n",
       "3                    NaN                               NaN               NaN   \n",
       "4                    NaN                               NaN               NaN   \n",
       "\n",
       "  Double Parking Violation  \n",
       "0                      NaN  \n",
       "1                      NaN  \n",
       "2                      NaN  \n",
       "3                      NaN  \n",
       "4                      NaN  \n",
       "\n",
       "[5 rows x 43 columns]"
      ]
     },
     "execution_count": 16,
     "metadata": {},
     "output_type": "execute_result"
    }
   ],
   "source": [
    "# read first 10,000 lines from the csv, but all columns\n",
    "ten_thousand = pd.read_csv(root_path + 'nyc-parking-violations-2020.csv',\n",
    "                           nrows=10_000)\n",
    "ten_thousand.head()            "
   ]
  },
  {
   "cell_type": "code",
   "execution_count": 17,
   "id": "928698b0-a505-4dfb-be26-479f631f7501",
   "metadata": {},
   "outputs": [
    {
     "data": {
      "text/plain": [
       "Violation Description                5615.000000\n",
       "Violation Legal Code                 5615.000000\n",
       "Law Section                          3333.333333\n",
       "Unregistered Vehicle?                2169.000000\n",
       "Violation County                     1086.333333\n",
       "Issuing Agency                        909.090909\n",
       "Feet From Curb                        833.333333\n",
       "Violation In Front Of Or Opposite     796.800000\n",
       "Date First Observed                   400.000000\n",
       "Plate Type                            344.827586\n",
       "dtype: float64"
      ]
     },
     "execution_count": 17,
     "metadata": {},
     "output_type": "execute_result"
    }
   ],
   "source": [
    "# show 10 columns that would benefit most from conversion to category\n",
    "(ten_thousand.count() / ten_thousand.nunique()).sort_values(ascending=False).head(10)"
   ]
  },
  {
   "cell_type": "markdown",
   "id": "fec84b88-0843-4b56-9f96-0a9e05f07a8f",
   "metadata": {},
   "source": [
    "## Exercise 49 - Faster reading and writing"
   ]
  },
  {
   "cell_type": "code",
   "execution_count": 19,
   "id": "f3d0486b-d516-4303-a022-92fbb1886878",
   "metadata": {},
   "outputs": [],
   "source": [
    "# load in data\n",
    "parking = pd.read_csv(root_path + 'nyc-parking-violations-2020.csv',\n",
    "                      usecols=['Plate ID',\n",
    "                               'Registration State',\n",
    "                               'Vehicle Make',\n",
    "                               'Vehicle Color',\n",
    "                               'Vehicle Body Type'],\n",
    "                     low_memory=False)"
   ]
  },
  {
   "cell_type": "code",
   "execution_count": 20,
   "id": "3902ce50-06cf-4239-a352-68cd802775d2",
   "metadata": {},
   "outputs": [],
   "source": [
    "# time writing to 3 different file formats\n",
    "\n",
    "file_names = ['parking.csv', 'parking.json', 'parking.feather']\n",
    "convert_methods = [parking.to_csv, parking.to_json, parking.to_feather]"
   ]
  },
  {
   "cell_type": "code",
   "execution_count": 21,
   "id": "ef2f88c7-ee98-435f-810a-e991e65e3541",
   "metadata": {},
   "outputs": [
    {
     "data": {
      "text/plain": [
       "2.2299995180219412e-05"
      ]
     },
     "execution_count": 21,
     "metadata": {},
     "output_type": "execute_result"
    }
   ],
   "source": [
    "# test timing\n",
    "t0 = time.perf_counter()\n",
    "t1 = time.perf_counter()\n",
    "\n",
    "duration = t1 - t0\n",
    "duration"
   ]
  },
  {
   "cell_type": "code",
   "execution_count": 22,
   "id": "c58c4bba-d5dc-41c3-8e9d-86695217cb43",
   "metadata": {},
   "outputs": [
    {
     "name": "stdout",
     "output_type": "stream",
     "text": [
      "parking.csv: 20.741107499983627 seconds\n",
      "parking.json: 10.354889100010041 seconds\n",
      "parking.feather: 5.399322999990545 seconds\n"
     ]
    }
   ],
   "source": [
    "# function to time all 3\n",
    "for file, method in zip(file_names, convert_methods):\n",
    "    t0 = time.perf_counter()\n",
    "    method(file)\n",
    "    t1 = time.perf_counter()\n",
    "    duration = t1 - t0\n",
    "    print(f'{file}: {duration} seconds')"
   ]
  },
  {
   "cell_type": "code",
   "execution_count": 23,
   "id": "671f3c2f-3c9b-434d-a470-752090ef280a",
   "metadata": {},
   "outputs": [
    {
     "name": "stdout",
     "output_type": "stream",
     "text": [
      "parking.csv                : 424,952,751\n",
      "parking.feather            : 403,367,042\n",
      "parking.json               : 1,069,427,589\n"
     ]
    }
   ],
   "source": [
    "# view the size of the created files\n",
    "root = 'parking'\n",
    "for file in glob.glob(f'{root}*'):\n",
    "    print(f'{file:27}: {os.stat(file).st_size:,}')"
   ]
  },
  {
   "cell_type": "code",
   "execution_count": 24,
   "id": "82948aee-b11a-48e7-b6e8-44086680b2b4",
   "metadata": {},
   "outputs": [
    {
     "name": "stdout",
     "output_type": "stream",
     "text": [
      "parking.csv: 7.324452900036704 seconds\n",
      "parking.json: 75.53041779994965 seconds\n",
      "parking.feather: 6.40810679999413 seconds\n"
     ]
    }
   ],
   "source": [
    "# read files into a df, time how long it takes\n",
    "read_methods = [pd.read_csv, pd.read_json, pd.read_feather]\n",
    "\n",
    "for file, method in zip(file_names, read_methods):\n",
    "    t0 = time.perf_counter()\n",
    "    method(file)\n",
    "    t1 = time.perf_counter()\n",
    "    duration = t1 - t0\n",
    "    print(f'{file}: {duration} seconds')"
   ]
  },
  {
   "cell_type": "markdown",
   "id": "a4a4bb1a-1255-4ca7-8679-6619b84dc5c0",
   "metadata": {},
   "source": [
    "### Exercise 49b"
   ]
  },
  {
   "cell_type": "code",
   "execution_count": 26,
   "id": "57322f62-88ff-45f3-98fd-1ec064e38c9d",
   "metadata": {},
   "outputs": [
    {
     "data": {
      "text/plain": [
       "7.549705000012182"
      ]
     },
     "execution_count": 26,
     "metadata": {},
     "output_type": "execute_result"
    }
   ],
   "source": [
    "# compare read_csv speed using pyarrow engine\n",
    "t0 = time.perf_counter()\n",
    "\n",
    "pd.read_csv('parking.csv', engine='pyarrow')\n",
    "\n",
    "t1 = time.perf_counter()\n",
    "duration = t1 - t0\n",
    "duration"
   ]
  },
  {
   "cell_type": "code",
   "execution_count": 27,
   "id": "46a76c9c-df60-4916-a265-dc4dcdb44360",
   "metadata": {},
   "outputs": [
    {
     "data": {
      "text/plain": [
       "7.723472299985588"
      ]
     },
     "execution_count": 27,
     "metadata": {},
     "output_type": "execute_result"
    }
   ],
   "source": [
    "# does specifying dtypes take more or less time to read?\n",
    "t0 = time.perf_counter()\n",
    "\n",
    "pd.read_csv('parking.csv',\n",
    "            dtype={'Plate ID': str,\n",
    "                   'Registration State': str,\n",
    "                   'Vehicle Make': str,\n",
    "                   'Vehicle Color': str,\n",
    "                   'Vehicle Body Type': str})\n",
    "t1 = time.perf_counter()\n",
    "duration = t1 - t0\n",
    "duration\n",
    "\n",
    "# doing it like this in this case slows it down"
   ]
  },
  {
   "cell_type": "code",
   "execution_count": 28,
   "id": "f35f0caf-69fc-4b55-9f7e-339109da0519",
   "metadata": {},
   "outputs": [],
   "source": [
    "# data usage with NumPy vs PyArrow backend?\n",
    "\n",
    "# NumPy\n",
    "np_mem = pd.read_csv('parking.csv').memory_usage(deep=True).sum()\n",
    "\n",
    "# PyArrow\n",
    "pa_mem = pd.read_csv('parking.csv', dtype_backend='pyarrow').memory_usage(deep=True).sum()"
   ]
  },
  {
   "cell_type": "code",
   "execution_count": 29,
   "id": "0c6b2df2-71c4-4683-a446-4452c468e769",
   "metadata": {},
   "outputs": [
    {
     "data": {
      "text/plain": [
       "3293170241"
      ]
     },
     "execution_count": 29,
     "metadata": {},
     "output_type": "execute_result"
    }
   ],
   "source": [
    "# bytes saved using PyArrow\n",
    "np_mem - pa_mem"
   ]
  },
  {
   "cell_type": "code",
   "execution_count": 30,
   "id": "d40a68e6-262d-40b5-87df-edc11400815b",
   "metadata": {},
   "outputs": [
    {
     "data": {
      "text/plain": [
       "0.15502622079296735"
      ]
     },
     "execution_count": 30,
     "metadata": {},
     "output_type": "execute_result"
    }
   ],
   "source": [
    "# proportion\n",
    "pa_mem / np_mem"
   ]
  },
  {
   "cell_type": "markdown",
   "id": "6d84dbef-df63-4190-a1e2-f3b0bea6d1c0",
   "metadata": {},
   "source": [
    "## Exercise 50 - \"query\" and \"eval\""
   ]
  },
  {
   "cell_type": "code",
   "execution_count": 32,
   "id": "44fb395c-0001-46d8-9fae-58f988802193",
   "metadata": {},
   "outputs": [
    {
     "data": {
      "text/html": [
       "<div>\n",
       "<style scoped>\n",
       "    .dataframe tbody tr th:only-of-type {\n",
       "        vertical-align: middle;\n",
       "    }\n",
       "\n",
       "    .dataframe tbody tr th {\n",
       "        vertical-align: top;\n",
       "    }\n",
       "\n",
       "    .dataframe thead th {\n",
       "        text-align: right;\n",
       "    }\n",
       "</style>\n",
       "<table border=\"1\" class=\"dataframe\">\n",
       "  <thead>\n",
       "    <tr style=\"text-align: right;\">\n",
       "      <th></th>\n",
       "      <th>Plate ID</th>\n",
       "      <th>Registration State</th>\n",
       "      <th>Plate Type</th>\n",
       "      <th>Feet From Curb</th>\n",
       "      <th>Vehicle Make</th>\n",
       "      <th>Vehicle Color</th>\n",
       "    </tr>\n",
       "  </thead>\n",
       "  <tbody>\n",
       "    <tr>\n",
       "      <th>0</th>\n",
       "      <td>J58JKX</td>\n",
       "      <td>NJ</td>\n",
       "      <td>PAS</td>\n",
       "      <td>0</td>\n",
       "      <td>HONDA</td>\n",
       "      <td>BK</td>\n",
       "    </tr>\n",
       "    <tr>\n",
       "      <th>1</th>\n",
       "      <td>KRE6058</td>\n",
       "      <td>PA</td>\n",
       "      <td>PAS</td>\n",
       "      <td>0</td>\n",
       "      <td>ME/BE</td>\n",
       "      <td>BLK</td>\n",
       "    </tr>\n",
       "    <tr>\n",
       "      <th>2</th>\n",
       "      <td>444326R</td>\n",
       "      <td>NJ</td>\n",
       "      <td>PAS</td>\n",
       "      <td>0</td>\n",
       "      <td>LEXUS</td>\n",
       "      <td>BLACK</td>\n",
       "    </tr>\n",
       "    <tr>\n",
       "      <th>3</th>\n",
       "      <td>F728330</td>\n",
       "      <td>OH</td>\n",
       "      <td>PAS</td>\n",
       "      <td>0</td>\n",
       "      <td>CHEVR</td>\n",
       "      <td>None</td>\n",
       "    </tr>\n",
       "    <tr>\n",
       "      <th>4</th>\n",
       "      <td>FMY9090</td>\n",
       "      <td>NY</td>\n",
       "      <td>PAS</td>\n",
       "      <td>0</td>\n",
       "      <td>JEEP</td>\n",
       "      <td>GREY</td>\n",
       "    </tr>\n",
       "  </tbody>\n",
       "</table>\n",
       "</div>"
      ],
      "text/plain": [
       "  Plate ID Registration State Plate Type  Feet From Curb Vehicle Make  \\\n",
       "0   J58JKX                 NJ        PAS               0        HONDA   \n",
       "1  KRE6058                 PA        PAS               0        ME/BE   \n",
       "2  444326R                 NJ        PAS               0        LEXUS   \n",
       "3  F728330                 OH        PAS               0        CHEVR   \n",
       "4  FMY9090                 NY        PAS               0         JEEP   \n",
       "\n",
       "  Vehicle Color  \n",
       "0            BK  \n",
       "1           BLK  \n",
       "2         BLACK  \n",
       "3          None  \n",
       "4          GREY  "
      ]
     },
     "execution_count": 32,
     "metadata": {},
     "output_type": "execute_result"
    }
   ],
   "source": [
    "# load in data\n",
    "parking = pd.read_csv(root_path + 'nyc-parking-violations-2020.csv',\n",
    "                      usecols=['Plate ID',\n",
    "                               'Registration State',\n",
    "                               'Plate Type',\n",
    "                               'Feet From Curb',\n",
    "                               'Vehicle Make',\n",
    "                               'Vehicle Color'],\n",
    "                      engine='pyarrow')\n",
    "parking.head()"
   ]
  },
  {
   "cell_type": "code",
   "execution_count": 33,
   "id": "a33ae87d-cdae-48df-81a5-c1163046edd6",
   "metadata": {},
   "outputs": [
    {
     "data": {
      "text/html": [
       "<div>\n",
       "<style scoped>\n",
       "    .dataframe tbody tr th:only-of-type {\n",
       "        vertical-align: middle;\n",
       "    }\n",
       "\n",
       "    .dataframe tbody tr th {\n",
       "        vertical-align: top;\n",
       "    }\n",
       "\n",
       "    .dataframe thead th {\n",
       "        text-align: right;\n",
       "    }\n",
       "</style>\n",
       "<table border=\"1\" class=\"dataframe\">\n",
       "  <thead>\n",
       "    <tr style=\"text-align: right;\">\n",
       "      <th></th>\n",
       "      <th>pid</th>\n",
       "      <th>state</th>\n",
       "      <th>ptype</th>\n",
       "      <th>feet</th>\n",
       "      <th>make</th>\n",
       "      <th>color</th>\n",
       "    </tr>\n",
       "  </thead>\n",
       "  <tbody>\n",
       "    <tr>\n",
       "      <th>0</th>\n",
       "      <td>J58JKX</td>\n",
       "      <td>NJ</td>\n",
       "      <td>PAS</td>\n",
       "      <td>0</td>\n",
       "      <td>HONDA</td>\n",
       "      <td>BK</td>\n",
       "    </tr>\n",
       "    <tr>\n",
       "      <th>1</th>\n",
       "      <td>KRE6058</td>\n",
       "      <td>PA</td>\n",
       "      <td>PAS</td>\n",
       "      <td>0</td>\n",
       "      <td>ME/BE</td>\n",
       "      <td>BLK</td>\n",
       "    </tr>\n",
       "    <tr>\n",
       "      <th>2</th>\n",
       "      <td>444326R</td>\n",
       "      <td>NJ</td>\n",
       "      <td>PAS</td>\n",
       "      <td>0</td>\n",
       "      <td>LEXUS</td>\n",
       "      <td>BLACK</td>\n",
       "    </tr>\n",
       "    <tr>\n",
       "      <th>3</th>\n",
       "      <td>F728330</td>\n",
       "      <td>OH</td>\n",
       "      <td>PAS</td>\n",
       "      <td>0</td>\n",
       "      <td>CHEVR</td>\n",
       "      <td>None</td>\n",
       "    </tr>\n",
       "    <tr>\n",
       "      <th>4</th>\n",
       "      <td>FMY9090</td>\n",
       "      <td>NY</td>\n",
       "      <td>PAS</td>\n",
       "      <td>0</td>\n",
       "      <td>JEEP</td>\n",
       "      <td>GREY</td>\n",
       "    </tr>\n",
       "  </tbody>\n",
       "</table>\n",
       "</div>"
      ],
      "text/plain": [
       "       pid state ptype  feet   make  color\n",
       "0   J58JKX    NJ   PAS     0  HONDA     BK\n",
       "1  KRE6058    PA   PAS     0  ME/BE    BLK\n",
       "2  444326R    NJ   PAS     0  LEXUS  BLACK\n",
       "3  F728330    OH   PAS     0  CHEVR   None\n",
       "4  FMY9090    NY   PAS     0   JEEP   GREY"
      ]
     },
     "execution_count": 33,
     "metadata": {},
     "output_type": "execute_result"
    }
   ],
   "source": [
    "parking = parking.rename(columns={'Plate ID': 'pid',\n",
    "                                  'Registration State': 'state',\n",
    "                                  'Plate Type': 'ptype',\n",
    "                                  'Feet From Curb': 'feet',\n",
    "                                  'Vehicle Make': 'make',\n",
    "                                  'Vehicle Color': 'color'})\n",
    "parking.head()"
   ]
  },
  {
   "cell_type": "code",
   "execution_count": 34,
   "id": "f6dfb685-f8c7-49fd-8ccb-cef8412b6465",
   "metadata": {},
   "outputs": [
    {
     "name": "stdout",
     "output_type": "stream",
     "text": [
      "1.54 s ± 27.9 ms per loop (mean ± std. dev. of 7 runs, 1 loop each)\n"
     ]
    }
   ],
   "source": [
    "# find all cars with registration state NY, NJ, CT using df.loc\n",
    "%timeit parking.loc[parking['state'].isin(['NY', 'NJ', 'CT'])]"
   ]
  },
  {
   "cell_type": "code",
   "execution_count": 35,
   "id": "fcc4def5-a418-4ee5-bcd6-709efab120df",
   "metadata": {},
   "outputs": [
    {
     "name": "stdout",
     "output_type": "stream",
     "text": [
      "2.19 s ± 59.1 ms per loop (mean ± std. dev. of 7 runs, 1 loop each)\n"
     ]
    }
   ],
   "source": [
    "# using df.query\n",
    "%timeit parking.query(\"state == 'NY' | state == 'NJ' | state == 'CT'\")"
   ]
  },
  {
   "cell_type": "code",
   "execution_count": 36,
   "id": "d14246cd-b20b-49e4-8361-dce7d3367bac",
   "metadata": {},
   "outputs": [
    {
     "name": "stdout",
     "output_type": "stream",
     "text": [
      "3.46 s ± 103 ms per loop (mean ± std. dev. of 7 runs, 1 loop each)\n"
     ]
    }
   ],
   "source": [
    "# compare to boolean index with .loc?\n",
    "%timeit parking.loc[(parking['state'] == 'NY') | (parking['state'] == 'NJ') | (parking['state'] == 'CT')]"
   ]
  },
  {
   "cell_type": "code",
   "execution_count": 37,
   "id": "cde03106-346e-4876-b7f3-2a8d5f6ed0ac",
   "metadata": {},
   "outputs": [],
   "source": [
    "# I was efficient in my original syntax, so no speed was gained by utilizing query"
   ]
  },
  {
   "cell_type": "code",
   "execution_count": 38,
   "id": "661d0314-85f2-4c7b-9c85-aabfd8d19a8d",
   "metadata": {},
   "outputs": [],
   "source": [
    "# perform many queries using df.loc, df.query, df.eval and compare times\n",
    "\n",
    "# cars from NY\n",
    "# cars from NY with passenger (PAS) plates\n",
    "# white cars from NY with PAS plates\n",
    "# white cars from NY with PAS plates parked > 1 foot from curb\n",
    "# white Toyota make cars from NY with PAS plates parked > 1 foot from curb"
   ]
  },
  {
   "cell_type": "code",
   "execution_count": 39,
   "id": "18ede68d-f2ac-4d75-84ad-41cfc7aa4efb",
   "metadata": {},
   "outputs": [
    {
     "name": "stdout",
     "output_type": "stream",
     "text": [
      "1.75 s ± 84.3 ms per loop (mean ± std. dev. of 7 runs, 1 loop each)\n",
      "2.28 s ± 36.1 ms per loop (mean ± std. dev. of 7 runs, 1 loop each)\n",
      "2.41 s ± 83.6 ms per loop (mean ± std. dev. of 7 runs, 1 loop each)\n",
      "2.33 s ± 9.37 ms per loop (mean ± std. dev. of 7 runs, 1 loop each)\n",
      "3.12 s ± 29.4 ms per loop (mean ± std. dev. of 7 runs, 1 loop each)\n"
     ]
    }
   ],
   "source": [
    "# using df.loc\n",
    "\n",
    "# cars from NY\n",
    "%timeit parking.loc[parking['state'] == 'NY']\n",
    "\n",
    "# cars from NY with passenger (PAS) plates\n",
    "%timeit parking.loc[(parking['state'] == 'NY') & (parking['ptype'] == 'PAS')]\n",
    "\n",
    "# white cars from NY with PAS plates\n",
    "%timeit parking.loc[(parking['state'] == 'NY') & (parking['ptype'] == 'PAS') & (parking['color'] == 'WHITE')]\n",
    "\n",
    "# white cars from NY with PAS plates parked > 1 foot from curb\n",
    "%timeit parking.loc[(parking['state'] == 'NY') & (parking['ptype'] == 'PAS') & (parking['color'] == 'WHITE') & (parking['feet'] > 1)]\n",
    "\n",
    "# white Toyota make cars from NY with PAS plates parked > 1 foot from curb\n",
    "%timeit parking.loc[(parking['state'] == 'NY') & (parking['ptype'] == 'PAS') & (parking['color'] == 'WHITE') & (parking['feet'] > 1) & (parking['make'] == 'TOYOT')]"
   ]
  },
  {
   "cell_type": "code",
   "execution_count": 40,
   "id": "58bd5527-8ac4-4307-9013-4d70e16229f6",
   "metadata": {},
   "outputs": [
    {
     "name": "stdout",
     "output_type": "stream",
     "text": [
      "1.4 s ± 28.3 ms per loop (mean ± std. dev. of 7 runs, 1 loop each)\n",
      "1.57 s ± 33 ms per loop (mean ± std. dev. of 7 runs, 1 loop each)\n",
      "1.18 s ± 19 ms per loop (mean ± std. dev. of 7 runs, 1 loop each)\n",
      "1.17 s ± 15.6 ms per loop (mean ± std. dev. of 7 runs, 1 loop each)\n",
      "1.45 s ± 16.4 ms per loop (mean ± std. dev. of 7 runs, 1 loop each)\n"
     ]
    }
   ],
   "source": [
    "# using df.query\n",
    "\n",
    "# cars from NY\n",
    "%timeit parking.query(\"state == 'NY'\")\n",
    "\n",
    "# cars from NY with passenger (PAS) plates\n",
    "%timeit parking.query(\"state == 'NY' & ptype == 'PAS'\")\n",
    "\n",
    "# white cars from NY with PAS plates\n",
    "%timeit parking.query(\"state == 'NY' & ptype == 'PAS' & color == 'WHITE'\")\n",
    "\n",
    "# white cars from NY with PAS plates parked > 1 foot from curb\n",
    "%timeit parking.query(\"state == 'NY' & ptype == 'PAS' & color == 'WHITE' & feet > 1\")\n",
    "\n",
    "# white Toyota make cars from NY with PAS plates parked > 1 foot from curb\n",
    "%timeit parking.query(\"state == 'NY' & ptype == 'PAS' & color == 'WHITE' & feet > 1 & make == 'TOYOT'\")"
   ]
  },
  {
   "cell_type": "code",
   "execution_count": 41,
   "id": "2eec538f-d400-4005-9d9e-876271b774e5",
   "metadata": {},
   "outputs": [
    {
     "name": "stdout",
     "output_type": "stream",
     "text": [
      "1.4 s ± 24.5 ms per loop (mean ± std. dev. of 7 runs, 1 loop each)\n",
      "1.59 s ± 25.5 ms per loop (mean ± std. dev. of 7 runs, 1 loop each)\n",
      "1.19 s ± 25.6 ms per loop (mean ± std. dev. of 7 runs, 1 loop each)\n",
      "1.18 s ± 20.1 ms per loop (mean ± std. dev. of 7 runs, 1 loop each)\n",
      "1.46 s ± 33.4 ms per loop (mean ± std. dev. of 7 runs, 1 loop each)\n"
     ]
    }
   ],
   "source": [
    "# using df.eval\n",
    "\n",
    "# cars from NY\n",
    "%timeit parking[parking.eval(\"state == 'NY'\")]\n",
    "\n",
    "# cars from NY with passenger (PAS) plates\n",
    "%timeit parking[parking.eval(\"state == 'NY' & ptype == 'PAS'\")]\n",
    "\n",
    "# white cars from NY with PAS plates\n",
    "%timeit parking[parking.eval(\"state == 'NY' & ptype == 'PAS' & color == 'WHITE'\")]\n",
    "\n",
    "# white cars from NY with PAS plates parked > 1 foot from curb\n",
    "%timeit parking[parking.eval(\"state == 'NY' & ptype == 'PAS' & color == 'WHITE' & feet > 1\")]\n",
    "\n",
    "# white Toyota make cars from NY with PAS plates parked > 1 foot from curb\n",
    "%timeit parking[parking.eval(\"state == 'NY' & ptype == 'PAS' & color == 'WHITE' & feet > 1 & make == 'TOYOT'\")]"
   ]
  },
  {
   "cell_type": "markdown",
   "id": "01fad984-20d6-42ac-86c2-570668de4606",
   "metadata": {},
   "source": [
    "### Exercise 50b"
   ]
  },
  {
   "cell_type": "code",
   "execution_count": 43,
   "id": "78ada5cb-23e5-4374-bf5e-cfaad7a33c4e",
   "metadata": {},
   "outputs": [],
   "source": [
    "# testing various syntax and engines"
   ]
  },
  {
   "cell_type": "code",
   "execution_count": 44,
   "id": "e3c171a4-94e8-4d81-8719-dcf67cd86ca7",
   "metadata": {},
   "outputs": [
    {
     "name": "stdout",
     "output_type": "stream",
     "text": [
      "1.46 s ± 27.1 ms per loop (mean ± std. dev. of 7 runs, 1 loop each)\n"
     ]
    }
   ],
   "source": [
    "%timeit parking.query(\"state == 'NY' and ptype == 'PAS' and color == 'WHITE' and feet > 1 and make == 'TOYOT'\")"
   ]
  },
  {
   "cell_type": "code",
   "execution_count": 45,
   "id": "7a0c4c2a-105e-404d-af5a-77228e23fc1a",
   "metadata": {},
   "outputs": [
    {
     "name": "stdout",
     "output_type": "stream",
     "text": [
      "1.42 s ± 8.35 ms per loop (mean ± std. dev. of 7 runs, 1 loop each)\n"
     ]
    }
   ],
   "source": [
    "%timeit parking.query(\"state == 'NY' & ptype == 'PAS' & color == 'WHITE' & feet > 1 & make == 'TOYOT'\")"
   ]
  },
  {
   "cell_type": "code",
   "execution_count": 46,
   "id": "86389f6c-c64d-4a35-98cb-2fd61982ec19",
   "metadata": {},
   "outputs": [
    {
     "name": "stdout",
     "output_type": "stream",
     "text": [
      "1.49 s ± 34.4 ms per loop (mean ± std. dev. of 7 runs, 1 loop each)\n"
     ]
    }
   ],
   "source": [
    "%timeit parking.query(\"state == 'NY' and ptype == 'PAS' and color == 'WHITE' and feet > 1 and make == 'TOYOT'\", engine='python')"
   ]
  },
  {
   "cell_type": "code",
   "execution_count": 47,
   "id": "0fb4dc1d-701b-4566-89e5-94d7abcb1468",
   "metadata": {},
   "outputs": [
    {
     "name": "stdout",
     "output_type": "stream",
     "text": [
      "1.46 s ± 14.9 ms per loop (mean ± std. dev. of 7 runs, 1 loop each)\n"
     ]
    }
   ],
   "source": [
    "%timeit parking.query(\"state == 'NY' & ptype == 'PAS' & color == 'WHITE' & feet > 1 & make == 'TOYOT'\", engine='python')"
   ]
  },
  {
   "cell_type": "code",
   "execution_count": 48,
   "id": "40c8c677-6088-41b3-aa28-3782d0d64f66",
   "metadata": {},
   "outputs": [
    {
     "name": "stdout",
     "output_type": "stream",
     "text": [
      "58.5 ms ± 1.25 ms per loop (mean ± std. dev. of 7 runs, 10 loops each)\n",
      "97.9 ms ± 1.09 ms per loop (mean ± std. dev. of 7 runs, 10 loops each)\n"
     ]
    }
   ],
   "source": [
    "# query cars ticketed more than 1 meter from the curb using df.loc and df.query\n",
    "%timeit parking.loc[parking['feet'] > 3.28]\n",
    "%timeit parking.query(\"feet > 3.28\")"
   ]
  },
  {
   "cell_type": "code",
   "execution_count": 49,
   "id": "74c797b7-04fd-473b-823e-348f4334dd53",
   "metadata": {},
   "outputs": [
    {
     "name": "stdout",
     "output_type": "stream",
     "text": [
      "486 ms ± 6.45 ms per loop (mean ± std. dev. of 7 runs, 1 loop each)\n",
      "841 ms ± 19.6 ms per loop (mean ± std. dev. of 7 runs, 1 loop each)\n",
      "511 ms ± 3 ms per loop (mean ± std. dev. of 7 runs, 1 loop each)\n"
     ]
    }
   ],
   "source": [
    "# more than 1 meter from curb and from NY (also tested .isin() to show how powerful it is)\n",
    "%timeit parking.loc[(parking['feet'] > 3.28) & (parking['state'].isin(['NY']))]\n",
    "%timeit parking.loc[(parking['feet'] > 3.28) & (parking['state'] == 'NY')]\n",
    "%timeit parking.query(\"feet > 3.28 & state == 'NY'\")"
   ]
  },
  {
   "cell_type": "markdown",
   "id": "a19069d4-9827-44ad-98ce-b2c0afaeaab0",
   "metadata": {},
   "source": [
    "## Chapter 12 Notes\n",
    "- df.memory_usage(deep=True) includes memory of object data types that normally is not included in the calculation\n",
    "- (df.count() / df.nunique()).sort_values(ascending=False) is helpful in determining which columns could benefit most from being converted to categorical dtype\n",
    "- df.info(memory_usage='deep') provides usage in a higher number (e.g. mb, gb)\n",
    "- pd.read_csv(filename, engine='pyarrow') can be up to 20x faster, can also use pd.from_feather('myfile.feather')\n",
    "- Using pd.read_csv(filename, dtype_backend='pyarrow') can take advantage of Apache Arrow dtypes in the backend. Simple comparisons currently faster with PyArrow, but more complex groupings and joins are still currently faster with NumPy backend.\n",
    "- df.to_feather('myfile.feather') reads to feather file\n",
    "- From my testing, using engine='python' vs. 'numexpr' didn't make any computational difference with df.query. Using query on smaller dfs can end up being slower but it's a great option to be comfortable with when working with larger datasets. Bottleneck is often at assignment/retrieval of elements, not calculations, which could be the case here.\n",
    "- .isin() is extremely efficient, even when using only one value in the list"
   ]
  }
 ],
 "metadata": {
  "kernelspec": {
   "display_name": "Python 3 (ipykernel)",
   "language": "python",
   "name": "python3"
  },
  "language_info": {
   "codemirror_mode": {
    "name": "ipython",
    "version": 3
   },
   "file_extension": ".py",
   "mimetype": "text/x-python",
   "name": "python",
   "nbconvert_exporter": "python",
   "pygments_lexer": "ipython3",
   "version": "3.11.7"
  }
 },
 "nbformat": 4,
 "nbformat_minor": 5
}
