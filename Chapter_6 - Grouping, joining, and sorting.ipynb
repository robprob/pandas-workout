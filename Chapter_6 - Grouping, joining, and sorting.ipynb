{
 "cells": [
  {
   "cell_type": "markdown",
   "id": "ccf4f3e5-59cd-4ebe-a063-8f80993ea12d",
   "metadata": {},
   "source": [
    "# 6. Grouping, joining, and sorting"
   ]
  },
  {
   "cell_type": "markdown",
   "id": "6c090e90-d402-4909-ba06-e742f791ce2f",
   "metadata": {},
   "source": [
    "## Exercise 29 - Longest taxi rides"
   ]
  },
  {
   "cell_type": "code",
   "execution_count": 311,
   "id": "fe72269d-154d-4861-9285-d2613b3e8f34",
   "metadata": {},
   "outputs": [
    {
     "data": {
      "text/html": [
       "<div>\n",
       "<style scoped>\n",
       "    .dataframe tbody tr th:only-of-type {\n",
       "        vertical-align: middle;\n",
       "    }\n",
       "\n",
       "    .dataframe tbody tr th {\n",
       "        vertical-align: top;\n",
       "    }\n",
       "\n",
       "    .dataframe thead th {\n",
       "        text-align: right;\n",
       "    }\n",
       "</style>\n",
       "<table border=\"1\" class=\"dataframe\">\n",
       "  <thead>\n",
       "    <tr style=\"text-align: right;\">\n",
       "      <th></th>\n",
       "      <th>passenger_count</th>\n",
       "      <th>trip_distance</th>\n",
       "      <th>total_amount</th>\n",
       "    </tr>\n",
       "  </thead>\n",
       "  <tbody>\n",
       "    <tr>\n",
       "      <th>0</th>\n",
       "      <td>1</td>\n",
       "      <td>1.50</td>\n",
       "      <td>9.95</td>\n",
       "    </tr>\n",
       "    <tr>\n",
       "      <th>1</th>\n",
       "      <td>1</td>\n",
       "      <td>2.60</td>\n",
       "      <td>16.30</td>\n",
       "    </tr>\n",
       "    <tr>\n",
       "      <th>2</th>\n",
       "      <td>3</td>\n",
       "      <td>0.00</td>\n",
       "      <td>5.80</td>\n",
       "    </tr>\n",
       "    <tr>\n",
       "      <th>3</th>\n",
       "      <td>5</td>\n",
       "      <td>0.00</td>\n",
       "      <td>7.55</td>\n",
       "    </tr>\n",
       "    <tr>\n",
       "      <th>4</th>\n",
       "      <td>5</td>\n",
       "      <td>0.00</td>\n",
       "      <td>55.55</td>\n",
       "    </tr>\n",
       "    <tr>\n",
       "      <th>...</th>\n",
       "      <td>...</td>\n",
       "      <td>...</td>\n",
       "      <td>...</td>\n",
       "    </tr>\n",
       "    <tr>\n",
       "      <th>7667787</th>\n",
       "      <td>1</td>\n",
       "      <td>4.79</td>\n",
       "      <td>23.16</td>\n",
       "    </tr>\n",
       "    <tr>\n",
       "      <th>7667788</th>\n",
       "      <td>1</td>\n",
       "      <td>0.00</td>\n",
       "      <td>0.00</td>\n",
       "    </tr>\n",
       "    <tr>\n",
       "      <th>7667789</th>\n",
       "      <td>1</td>\n",
       "      <td>0.00</td>\n",
       "      <td>0.00</td>\n",
       "    </tr>\n",
       "    <tr>\n",
       "      <th>7667790</th>\n",
       "      <td>1</td>\n",
       "      <td>0.00</td>\n",
       "      <td>0.00</td>\n",
       "    </tr>\n",
       "    <tr>\n",
       "      <th>7667791</th>\n",
       "      <td>1</td>\n",
       "      <td>0.00</td>\n",
       "      <td>0.00</td>\n",
       "    </tr>\n",
       "  </tbody>\n",
       "</table>\n",
       "<p>7667792 rows × 3 columns</p>\n",
       "</div>"
      ],
      "text/plain": [
       "         passenger_count  trip_distance  total_amount\n",
       "0                      1           1.50          9.95\n",
       "1                      1           2.60         16.30\n",
       "2                      3           0.00          5.80\n",
       "3                      5           0.00          7.55\n",
       "4                      5           0.00         55.55\n",
       "...                  ...            ...           ...\n",
       "7667787                1           4.79         23.16\n",
       "7667788                1           0.00          0.00\n",
       "7667789                1           0.00          0.00\n",
       "7667790                1           0.00          0.00\n",
       "7667791                1           0.00          0.00\n",
       "\n",
       "[7667792 rows x 3 columns]"
      ]
     },
     "execution_count": 311,
     "metadata": {},
     "output_type": "execute_result"
    }
   ],
   "source": [
    "# read in CSV, specify columns\n",
    "jan_19 = pd.read_csv(root_path + 'nyc_taxi_2019-01.csv',\n",
    "                     usecols=['passenger_count', 'trip_distance', 'total_amount'])\n",
    "jan_19"
   ]
  },
  {
   "cell_type": "code",
   "execution_count": 312,
   "id": "c6f749cb-94f9-4591-8dae-7aac21e30e75",
   "metadata": {},
   "outputs": [
    {
     "data": {
      "text/plain": [
       "290.00999999999993"
      ]
     },
     "execution_count": 312,
     "metadata": {},
     "output_type": "execute_result"
    }
   ],
   "source": [
    "# descending avg cost of 20 longest (distance) taxi rides\n",
    "jan_19.sort_values('trip_distance', ascending=False).head(20).loc[:,'total_amount'].mean()"
   ]
  },
  {
   "cell_type": "code",
   "execution_count": 313,
   "id": "cfc3550a-c9f7-443b-93a6-de40ebbfa6ef",
   "metadata": {},
   "outputs": [
    {
     "data": {
      "text/plain": [
       "290.01000000000005"
      ]
     },
     "execution_count": 313,
     "metadata": {},
     "output_type": "execute_result"
    }
   ],
   "source": [
    "# ascending avg cost of 20 longest (distance) taxi rides\n",
    "jan_19.sort_values('trip_distance').tail(20)['total_amount'].mean()"
   ]
  },
  {
   "cell_type": "code",
   "execution_count": 314,
   "id": "724bbdf8-36c2-42ef-a5cf-1be383f796a2",
   "metadata": {},
   "outputs": [
    {
     "data": {
      "text/plain": [
       "135.49739999999997"
      ]
     },
     "execution_count": 314,
     "metadata": {},
     "output_type": "execute_result"
    }
   ],
   "source": [
    "# sort by ascending passenger count and descending trip distance, find avg price top 50 rides\n",
    "jan_19.sort_values(['passenger_count', 'trip_distance'], ascending=[True, False]).head(50)['total_amount'].mean()"
   ]
  },
  {
   "cell_type": "markdown",
   "id": "cd380c73-16bb-419d-840d-5f5b0d8bc30c",
   "metadata": {},
   "source": [
    "### Exercise 29b"
   ]
  },
  {
   "cell_type": "code",
   "execution_count": 316,
   "id": "b8f8fcb4-d05f-4709-af7e-caa970d8e02c",
   "metadata": {},
   "outputs": [
    {
     "data": {
      "text/html": [
       "<div>\n",
       "<style scoped>\n",
       "    .dataframe tbody tr th:only-of-type {\n",
       "        vertical-align: middle;\n",
       "    }\n",
       "\n",
       "    .dataframe tbody tr th {\n",
       "        vertical-align: top;\n",
       "    }\n",
       "\n",
       "    .dataframe thead th {\n",
       "        text-align: right;\n",
       "    }\n",
       "</style>\n",
       "<table border=\"1\" class=\"dataframe\">\n",
       "  <thead>\n",
       "    <tr style=\"text-align: right;\">\n",
       "      <th></th>\n",
       "      <th>passenger_count</th>\n",
       "      <th>trip_distance</th>\n",
       "      <th>total_amount</th>\n",
       "      <th>ppm</th>\n",
       "    </tr>\n",
       "  </thead>\n",
       "  <tbody>\n",
       "    <tr>\n",
       "      <th>2499600</th>\n",
       "      <td>1</td>\n",
       "      <td>2.40</td>\n",
       "      <td>623,261.66</td>\n",
       "      <td>259,692.36</td>\n",
       "    </tr>\n",
       "    <tr>\n",
       "      <th>478791</th>\n",
       "      <td>1</td>\n",
       "      <td>0.10</td>\n",
       "      <td>6,667.45</td>\n",
       "      <td>66,674.50</td>\n",
       "    </tr>\n",
       "    <tr>\n",
       "      <th>7099014</th>\n",
       "      <td>4</td>\n",
       "      <td>0.01</td>\n",
       "      <td>415.30</td>\n",
       "      <td>41,530.00</td>\n",
       "    </tr>\n",
       "    <tr>\n",
       "      <th>6403254</th>\n",
       "      <td>1</td>\n",
       "      <td>0.01</td>\n",
       "      <td>322.30</td>\n",
       "      <td>32,230.00</td>\n",
       "    </tr>\n",
       "    <tr>\n",
       "      <th>4136499</th>\n",
       "      <td>1</td>\n",
       "      <td>0.01</td>\n",
       "      <td>273.96</td>\n",
       "      <td>27,396.00</td>\n",
       "    </tr>\n",
       "  </tbody>\n",
       "</table>\n",
       "</div>"
      ],
      "text/plain": [
       "         passenger_count  trip_distance  total_amount        ppm\n",
       "2499600                1           2.40    623,261.66 259,692.36\n",
       "478791                 1           0.10      6,667.45  66,674.50\n",
       "7099014                4           0.01        415.30  41,530.00\n",
       "6403254                1           0.01        322.30  32,230.00\n",
       "4136499                1           0.01        273.96  27,396.00"
      ]
     },
     "execution_count": 316,
     "metadata": {},
     "output_type": "execute_result"
    }
   ],
   "source": [
    "# which 5 rides did passengers pay the most per mile? how far did they go?\n",
    "jan_19['ppm'] = jan_19['total_amount'] / jan_19['trip_distance']\n",
    "jan_19[jan_19['trip_distance'] != 0.00].sort_values('ppm', ascending=False).head()"
   ]
  },
  {
   "cell_type": "code",
   "execution_count": 317,
   "id": "b5828f6a-3a4f-4cae-8e8c-46d0776c9a14",
   "metadata": {},
   "outputs": [
    {
     "data": {
      "text/html": [
       "<div>\n",
       "<style scoped>\n",
       "    .dataframe tbody tr th:only-of-type {\n",
       "        vertical-align: middle;\n",
       "    }\n",
       "\n",
       "    .dataframe tbody tr th {\n",
       "        vertical-align: top;\n",
       "    }\n",
       "\n",
       "    .dataframe thead th {\n",
       "        text-align: right;\n",
       "    }\n",
       "</style>\n",
       "<table border=\"1\" class=\"dataframe\">\n",
       "  <thead>\n",
       "    <tr style=\"text-align: right;\">\n",
       "      <th></th>\n",
       "      <th>passenger_count</th>\n",
       "      <th>trip_distance</th>\n",
       "      <th>total_amount</th>\n",
       "      <th>ppm</th>\n",
       "      <th>ppp</th>\n",
       "    </tr>\n",
       "  </thead>\n",
       "  <tbody>\n",
       "    <tr>\n",
       "      <th>2972145</th>\n",
       "      <td>2</td>\n",
       "      <td>19.90</td>\n",
       "      <td>589.96</td>\n",
       "      <td>29.65</td>\n",
       "      <td>294.98</td>\n",
       "    </tr>\n",
       "    <tr>\n",
       "      <th>3014027</th>\n",
       "      <td>2</td>\n",
       "      <td>16.60</td>\n",
       "      <td>560.76</td>\n",
       "      <td>33.78</td>\n",
       "      <td>280.38</td>\n",
       "    </tr>\n",
       "    <tr>\n",
       "      <th>3842620</th>\n",
       "      <td>2</td>\n",
       "      <td>110.04</td>\n",
       "      <td>515.82</td>\n",
       "      <td>4.69</td>\n",
       "      <td>257.91</td>\n",
       "    </tr>\n",
       "    <tr>\n",
       "      <th>7593395</th>\n",
       "      <td>2</td>\n",
       "      <td>83.61</td>\n",
       "      <td>449.32</td>\n",
       "      <td>5.37</td>\n",
       "      <td>224.66</td>\n",
       "    </tr>\n",
       "    <tr>\n",
       "      <th>149362</th>\n",
       "      <td>2</td>\n",
       "      <td>17.20</td>\n",
       "      <td>426.80</td>\n",
       "      <td>24.81</td>\n",
       "      <td>213.40</td>\n",
       "    </tr>\n",
       "    <tr>\n",
       "      <th>5726185</th>\n",
       "      <td>2</td>\n",
       "      <td>65.05</td>\n",
       "      <td>416.82</td>\n",
       "      <td>6.41</td>\n",
       "      <td>208.41</td>\n",
       "    </tr>\n",
       "    <tr>\n",
       "      <th>6857368</th>\n",
       "      <td>2</td>\n",
       "      <td>0.00</td>\n",
       "      <td>411.36</td>\n",
       "      <td>inf</td>\n",
       "      <td>205.68</td>\n",
       "    </tr>\n",
       "    <tr>\n",
       "      <th>6496403</th>\n",
       "      <td>2</td>\n",
       "      <td>0.00</td>\n",
       "      <td>410.95</td>\n",
       "      <td>inf</td>\n",
       "      <td>205.47</td>\n",
       "    </tr>\n",
       "    <tr>\n",
       "      <th>4751745</th>\n",
       "      <td>2</td>\n",
       "      <td>100.78</td>\n",
       "      <td>403.50</td>\n",
       "      <td>4.00</td>\n",
       "      <td>201.75</td>\n",
       "    </tr>\n",
       "    <tr>\n",
       "      <th>1154626</th>\n",
       "      <td>2</td>\n",
       "      <td>0.00</td>\n",
       "      <td>400.80</td>\n",
       "      <td>inf</td>\n",
       "      <td>200.40</td>\n",
       "    </tr>\n",
       "  </tbody>\n",
       "</table>\n",
       "</div>"
      ],
      "text/plain": [
       "         passenger_count  trip_distance  total_amount   ppm    ppp\n",
       "2972145                2          19.90        589.96 29.65 294.98\n",
       "3014027                2          16.60        560.76 33.78 280.38\n",
       "3842620                2         110.04        515.82  4.69 257.91\n",
       "7593395                2          83.61        449.32  5.37 224.66\n",
       "149362                 2          17.20        426.80 24.81 213.40\n",
       "5726185                2          65.05        416.82  6.41 208.41\n",
       "6857368                2           0.00        411.36   inf 205.68\n",
       "6496403                2           0.00        410.95   inf 205.47\n",
       "4751745                2         100.78        403.50  4.00 201.75\n",
       "1154626                2           0.00        400.80   inf 200.40"
      ]
     },
     "execution_count": 317,
     "metadata": {},
     "output_type": "execute_result"
    }
   ],
   "source": [
    "# which 10 multipassenger rides did each individual pay the greatest amount?\n",
    "jan_19['ppp'] = jan_19['total_amount'] / jan_19['passenger_count']\n",
    "jan_19[jan_19['passenger_count'] > 1].sort_values('ppp', ascending=False).head(10)"
   ]
  },
  {
   "cell_type": "code",
   "execution_count": 318,
   "id": "3c52db70-7dd5-437b-a4e2-bff0bfed954d",
   "metadata": {},
   "outputs": [
    {
     "data": {
      "text/plain": [
       "300.76285714285706"
      ]
     },
     "execution_count": 318,
     "metadata": {},
     "output_type": "execute_result"
    }
   ],
   "source": [
    "# use ignore_index with loc to get mean total_amount for 20 longest trips\n",
    "jan_19.sort_values('trip_distance', ascending=False, ignore_index=True).loc[:20]['total_amount'].mean()"
   ]
  },
  {
   "cell_type": "markdown",
   "id": "3a7381cc-48f9-4765-a360-73c06b28cc07",
   "metadata": {},
   "source": [
    "## Exercise 30 - Taxi ride comparison"
   ]
  },
  {
   "cell_type": "code",
   "execution_count": 320,
   "id": "d9c394cc-2c24-41d8-835a-b240534ebb29",
   "metadata": {},
   "outputs": [
    {
     "data": {
      "text/html": [
       "<div>\n",
       "<style scoped>\n",
       "    .dataframe tbody tr th:only-of-type {\n",
       "        vertical-align: middle;\n",
       "    }\n",
       "\n",
       "    .dataframe tbody tr th {\n",
       "        vertical-align: top;\n",
       "    }\n",
       "\n",
       "    .dataframe thead th {\n",
       "        text-align: right;\n",
       "    }\n",
       "</style>\n",
       "<table border=\"1\" class=\"dataframe\">\n",
       "  <thead>\n",
       "    <tr style=\"text-align: right;\">\n",
       "      <th></th>\n",
       "      <th>passenger_count</th>\n",
       "      <th>trip_distance</th>\n",
       "      <th>total_amount</th>\n",
       "    </tr>\n",
       "  </thead>\n",
       "  <tbody>\n",
       "    <tr>\n",
       "      <th>0</th>\n",
       "      <td>1</td>\n",
       "      <td>1.50</td>\n",
       "      <td>9.95</td>\n",
       "    </tr>\n",
       "    <tr>\n",
       "      <th>1</th>\n",
       "      <td>1</td>\n",
       "      <td>2.60</td>\n",
       "      <td>16.30</td>\n",
       "    </tr>\n",
       "    <tr>\n",
       "      <th>2</th>\n",
       "      <td>3</td>\n",
       "      <td>0.00</td>\n",
       "      <td>5.80</td>\n",
       "    </tr>\n",
       "    <tr>\n",
       "      <th>3</th>\n",
       "      <td>5</td>\n",
       "      <td>0.00</td>\n",
       "      <td>7.55</td>\n",
       "    </tr>\n",
       "    <tr>\n",
       "      <th>4</th>\n",
       "      <td>5</td>\n",
       "      <td>0.00</td>\n",
       "      <td>55.55</td>\n",
       "    </tr>\n",
       "    <tr>\n",
       "      <th>...</th>\n",
       "      <td>...</td>\n",
       "      <td>...</td>\n",
       "      <td>...</td>\n",
       "    </tr>\n",
       "    <tr>\n",
       "      <th>7667787</th>\n",
       "      <td>1</td>\n",
       "      <td>4.79</td>\n",
       "      <td>23.16</td>\n",
       "    </tr>\n",
       "    <tr>\n",
       "      <th>7667788</th>\n",
       "      <td>1</td>\n",
       "      <td>0.00</td>\n",
       "      <td>0.00</td>\n",
       "    </tr>\n",
       "    <tr>\n",
       "      <th>7667789</th>\n",
       "      <td>1</td>\n",
       "      <td>0.00</td>\n",
       "      <td>0.00</td>\n",
       "    </tr>\n",
       "    <tr>\n",
       "      <th>7667790</th>\n",
       "      <td>1</td>\n",
       "      <td>0.00</td>\n",
       "      <td>0.00</td>\n",
       "    </tr>\n",
       "    <tr>\n",
       "      <th>7667791</th>\n",
       "      <td>1</td>\n",
       "      <td>0.00</td>\n",
       "      <td>0.00</td>\n",
       "    </tr>\n",
       "  </tbody>\n",
       "</table>\n",
       "<p>7667792 rows × 3 columns</p>\n",
       "</div>"
      ],
      "text/plain": [
       "         passenger_count  trip_distance  total_amount\n",
       "0                      1           1.50          9.95\n",
       "1                      1           2.60         16.30\n",
       "2                      3           0.00          5.80\n",
       "3                      5           0.00          7.55\n",
       "4                      5           0.00         55.55\n",
       "...                  ...            ...           ...\n",
       "7667787                1           4.79         23.16\n",
       "7667788                1           0.00          0.00\n",
       "7667789                1           0.00          0.00\n",
       "7667790                1           0.00          0.00\n",
       "7667791                1           0.00          0.00\n",
       "\n",
       "[7667792 rows x 3 columns]"
      ]
     },
     "execution_count": 320,
     "metadata": {},
     "output_type": "execute_result"
    }
   ],
   "source": [
    "# load CSV again\n",
    "jan_19 = pd.read_csv(root_path + 'nyc_taxi_2019-01.csv',\n",
    "                     usecols=['passenger_count', 'trip_distance', 'total_amount'])\n",
    "jan_19"
   ]
  },
  {
   "cell_type": "code",
   "execution_count": 321,
   "id": "445fbd24-cd2f-419b-905e-360ac6889fc5",
   "metadata": {},
   "outputs": [
    {
     "data": {
      "text/plain": [
       "passenger_count\n",
       "6   15.44\n",
       "5   15.55\n",
       "3   15.60\n",
       "1   15.61\n",
       "4   15.65\n",
       "2   15.83\n",
       "0   18.66\n",
       "9   31.09\n",
       "7   48.28\n",
       "8   64.11\n",
       "Name: total_amount, dtype: float64"
      ]
     },
     "execution_count": 321,
     "metadata": {},
     "output_type": "execute_result"
    }
   ],
   "source": [
    "# find mean cost for each passenger count, sort by lowest to highest\n",
    "jan_19.groupby('passenger_count')['total_amount'].mean().sort_values()"
   ]
  },
  {
   "cell_type": "code",
   "execution_count": 322,
   "id": "3b02b768-efc2-4927-8aca-cdaa7907013a",
   "metadata": {},
   "outputs": [
    {
     "data": {
      "text/plain": [
       "passenger_count\n",
       "0   18.66\n",
       "1   15.61\n",
       "2   15.83\n",
       "3   15.60\n",
       "4   15.65\n",
       "5   15.55\n",
       "6   15.44\n",
       "7   48.28\n",
       "8   64.11\n",
       "9   31.09\n",
       "Name: total_amount, dtype: float64"
      ]
     },
     "execution_count": 322,
     "metadata": {},
     "output_type": "execute_result"
    }
   ],
   "source": [
    "# sort again by increasing number of passengers\n",
    "jan_19.groupby('passenger_count')['total_amount'].mean().sort_index()"
   ]
  },
  {
   "cell_type": "code",
   "execution_count": 323,
   "id": "4bdee567-2d27-49fe-8823-73fb63b058ea",
   "metadata": {},
   "outputs": [
    {
     "data": {
      "text/plain": [
       "trip_distance_group\n",
       "short     4749484\n",
       "medium    2494589\n",
       "long       423719\n",
       "Name: count, dtype: int64"
      ]
     },
     "execution_count": 323,
     "metadata": {},
     "output_type": "execute_result"
    }
   ],
   "source": [
    "# create new column, 'trip_distance_group'\n",
    "# once again can't use cut because of irregular bin specifications\n",
    "\n",
    "# categorize trip distances into 3 lengths\n",
    "def categorize(x):\n",
    "    if x < 2:\n",
    "        return 'short'\n",
    "    if x >= 2 and x <=10:\n",
    "        return 'medium'\n",
    "    if x > 10:\n",
    "        return 'long'\n",
    "\n",
    "# apply to trip_distance column\n",
    "jan_19['trip_distance_group'] = jan_19['trip_distance'].apply(categorize)\n",
    "\n",
    "# view counts of each category\n",
    "jan_19['trip_distance_group'].value_counts(dropna=False)"
   ]
  },
  {
   "cell_type": "code",
   "execution_count": 324,
   "id": "0b4731bb-e593-4d8a-8ac9-ec8ed40a51db",
   "metadata": {},
   "outputs": [
    {
     "data": {
      "text/plain": [
       "trip_distance_group\n",
       "long     1.59\n",
       "medium   1.58\n",
       "short    1.56\n",
       "Name: passenger_count, dtype: float64"
      ]
     },
     "execution_count": 324,
     "metadata": {},
     "output_type": "execute_result"
    }
   ],
   "source": [
    "# average passengers per trip length category sorted highest to lowest\n",
    "jan_19.groupby('trip_distance_group')['passenger_count'].mean().sort_values(ascending=False)"
   ]
  },
  {
   "cell_type": "markdown",
   "id": "fa91e48e-bbb6-4f2d-b8f2-5684ca468488",
   "metadata": {},
   "source": [
    "### Exercise 30b"
   ]
  },
  {
   "cell_type": "code",
   "execution_count": 326,
   "id": "deb322f7-dd48-4d30-8c1e-b84b3693152d",
   "metadata": {},
   "outputs": [
    {
     "data": {
      "text/html": [
       "<div>\n",
       "<style scoped>\n",
       "    .dataframe tbody tr th:only-of-type {\n",
       "        vertical-align: middle;\n",
       "    }\n",
       "\n",
       "    .dataframe tbody tr th {\n",
       "        vertical-align: top;\n",
       "    }\n",
       "\n",
       "    .dataframe thead th {\n",
       "        text-align: right;\n",
       "    }\n",
       "</style>\n",
       "<table border=\"1\" class=\"dataframe\">\n",
       "  <thead>\n",
       "    <tr style=\"text-align: right;\">\n",
       "      <th></th>\n",
       "      <th>passenger_count</th>\n",
       "      <th>trip_distance</th>\n",
       "      <th>total_amount</th>\n",
       "      <th>year</th>\n",
       "    </tr>\n",
       "  </thead>\n",
       "  <tbody>\n",
       "    <tr>\n",
       "      <th>0</th>\n",
       "      <td>1.00</td>\n",
       "      <td>1.50</td>\n",
       "      <td>9.95</td>\n",
       "      <td>2019</td>\n",
       "    </tr>\n",
       "    <tr>\n",
       "      <th>1</th>\n",
       "      <td>1.00</td>\n",
       "      <td>2.60</td>\n",
       "      <td>16.30</td>\n",
       "      <td>2019</td>\n",
       "    </tr>\n",
       "    <tr>\n",
       "      <th>2</th>\n",
       "      <td>3.00</td>\n",
       "      <td>0.00</td>\n",
       "      <td>5.80</td>\n",
       "      <td>2019</td>\n",
       "    </tr>\n",
       "    <tr>\n",
       "      <th>3</th>\n",
       "      <td>5.00</td>\n",
       "      <td>0.00</td>\n",
       "      <td>7.55</td>\n",
       "      <td>2019</td>\n",
       "    </tr>\n",
       "    <tr>\n",
       "      <th>4</th>\n",
       "      <td>5.00</td>\n",
       "      <td>0.00</td>\n",
       "      <td>55.55</td>\n",
       "      <td>2019</td>\n",
       "    </tr>\n",
       "    <tr>\n",
       "      <th>...</th>\n",
       "      <td>...</td>\n",
       "      <td>...</td>\n",
       "      <td>...</td>\n",
       "      <td>...</td>\n",
       "    </tr>\n",
       "    <tr>\n",
       "      <th>6405003</th>\n",
       "      <td>NaN</td>\n",
       "      <td>3.24</td>\n",
       "      <td>21.14</td>\n",
       "      <td>2020</td>\n",
       "    </tr>\n",
       "    <tr>\n",
       "      <th>6405004</th>\n",
       "      <td>NaN</td>\n",
       "      <td>22.13</td>\n",
       "      <td>62.46</td>\n",
       "      <td>2020</td>\n",
       "    </tr>\n",
       "    <tr>\n",
       "      <th>6405005</th>\n",
       "      <td>NaN</td>\n",
       "      <td>10.51</td>\n",
       "      <td>51.90</td>\n",
       "      <td>2020</td>\n",
       "    </tr>\n",
       "    <tr>\n",
       "      <th>6405006</th>\n",
       "      <td>NaN</td>\n",
       "      <td>5.49</td>\n",
       "      <td>30.22</td>\n",
       "      <td>2020</td>\n",
       "    </tr>\n",
       "    <tr>\n",
       "      <th>6405007</th>\n",
       "      <td>NaN</td>\n",
       "      <td>11.60</td>\n",
       "      <td>58.11</td>\n",
       "      <td>2020</td>\n",
       "    </tr>\n",
       "  </tbody>\n",
       "</table>\n",
       "<p>14072800 rows × 4 columns</p>\n",
       "</div>"
      ],
      "text/plain": [
       "         passenger_count  trip_distance  total_amount  year\n",
       "0                   1.00           1.50          9.95  2019\n",
       "1                   1.00           2.60         16.30  2019\n",
       "2                   3.00           0.00          5.80  2019\n",
       "3                   5.00           0.00          7.55  2019\n",
       "4                   5.00           0.00         55.55  2019\n",
       "...                  ...            ...           ...   ...\n",
       "6405003              NaN           3.24         21.14  2020\n",
       "6405004              NaN          22.13         62.46  2020\n",
       "6405005              NaN          10.51         51.90  2020\n",
       "6405006              NaN           5.49         30.22  2020\n",
       "6405007              NaN          11.60         58.11  2020\n",
       "\n",
       "[14072800 rows x 4 columns]"
      ]
     },
     "execution_count": 326,
     "metadata": {},
     "output_type": "execute_result"
    }
   ],
   "source": [
    "# create single df rides from Jan '19 and Jan '20 w/ column year indicating which year ride comes from\n",
    "\n",
    "jan_19 = pd.read_csv(root_path + 'nyc_taxi_2019-01.csv',\n",
    "                     usecols=['passenger_count', 'trip_distance', 'total_amount'])\n",
    "jan_19['year'] = 2019\n",
    "\n",
    "jan_20 = pd.read_csv(root_path + 'nyc_taxi_2020-01.csv',\n",
    "                     usecols=['passenger_count', 'trip_distance', 'total_amount'])\n",
    "jan_20['year'] = 2020\n",
    "\n",
    "jan_rides = pd.concat([jan_19, jan_20])\n",
    "jan_rides"
   ]
  },
  {
   "cell_type": "code",
   "execution_count": 327,
   "id": "8951da00-a75e-440b-a82a-f28d6591b17c",
   "metadata": {},
   "outputs": [
    {
     "data": {
      "text/plain": [
       "year\n",
       "2019   15.68\n",
       "2020   18.66\n",
       "Name: total_amount, dtype: float64"
      ]
     },
     "execution_count": 327,
     "metadata": {},
     "output_type": "execute_result"
    }
   ],
   "source": [
    "# use groupby to compare average cost of taxi in January of each year\n",
    "jan_rides.groupby('year')['total_amount'].mean()"
   ]
  },
  {
   "cell_type": "code",
   "execution_count": 328,
   "id": "b43acf9d-0183-467c-8180-f241e124879e",
   "metadata": {},
   "outputs": [
    {
     "data": {
      "text/plain": [
       "year  passenger_count\n",
       "2019  0.00              18.66\n",
       "      1.00              15.61\n",
       "      2.00              15.83\n",
       "      3.00              15.60\n",
       "      4.00              15.65\n",
       "      5.00              15.55\n",
       "      6.00              15.44\n",
       "      7.00              48.28\n",
       "      8.00              64.11\n",
       "      9.00              31.09\n",
       "2020  0.00              18.06\n",
       "      1.00              18.34\n",
       "      2.00              19.05\n",
       "      3.00              18.74\n",
       "      4.00              19.13\n",
       "      5.00              18.23\n",
       "      6.00              18.37\n",
       "      7.00              71.14\n",
       "      8.00              58.20\n",
       "      9.00              81.24\n",
       "Name: total_amount, dtype: float64"
      ]
     },
     "execution_count": 328,
     "metadata": {},
     "output_type": "execute_result"
    }
   ],
   "source": [
    "# create a two-level grouping, by year then passenger_count\n",
    "jan_rides.groupby(['year', 'passenger_count'])['total_amount'].mean()"
   ]
  },
  {
   "cell_type": "code",
   "execution_count": 329,
   "id": "5003b232-3738-4683-a131-a1693a7c5d85",
   "metadata": {},
   "outputs": [
    {
     "data": {
      "text/html": [
       "<div>\n",
       "<style scoped>\n",
       "    .dataframe tbody tr th:only-of-type {\n",
       "        vertical-align: middle;\n",
       "    }\n",
       "\n",
       "    .dataframe tbody tr th {\n",
       "        vertical-align: top;\n",
       "    }\n",
       "\n",
       "    .dataframe thead th {\n",
       "        text-align: right;\n",
       "    }\n",
       "</style>\n",
       "<table border=\"1\" class=\"dataframe\">\n",
       "  <thead>\n",
       "    <tr style=\"text-align: right;\">\n",
       "      <th></th>\n",
       "      <th>passenger_count</th>\n",
       "      <th>trip_distance</th>\n",
       "      <th>total_amount</th>\n",
       "      <th>year</th>\n",
       "    </tr>\n",
       "  </thead>\n",
       "  <tbody>\n",
       "    <tr>\n",
       "      <th>year</th>\n",
       "      <td>-0.02</td>\n",
       "      <td>0.00</td>\n",
       "      <td>0.01</td>\n",
       "      <td>1.00</td>\n",
       "    </tr>\n",
       "    <tr>\n",
       "      <th>total_amount</th>\n",
       "      <td>-0.00</td>\n",
       "      <td>0.00</td>\n",
       "      <td>1.00</td>\n",
       "      <td>0.01</td>\n",
       "    </tr>\n",
       "    <tr>\n",
       "      <th>trip_distance</th>\n",
       "      <td>0.01</td>\n",
       "      <td>1.00</td>\n",
       "      <td>0.00</td>\n",
       "      <td>0.00</td>\n",
       "    </tr>\n",
       "    <tr>\n",
       "      <th>passenger_count</th>\n",
       "      <td>1.00</td>\n",
       "      <td>0.01</td>\n",
       "      <td>-0.00</td>\n",
       "      <td>-0.02</td>\n",
       "    </tr>\n",
       "  </tbody>\n",
       "</table>\n",
       "</div>"
      ],
      "text/plain": [
       "                 passenger_count  trip_distance  total_amount  year\n",
       "year                       -0.02           0.00          0.01  1.00\n",
       "total_amount               -0.00           0.00          1.00  0.01\n",
       "trip_distance               0.01           1.00          0.00  0.00\n",
       "passenger_count             1.00           0.01         -0.00 -0.02"
      ]
     },
     "execution_count": 329,
     "metadata": {},
     "output_type": "execute_result"
    }
   ],
   "source": [
    "# use corr and sort_values to find highest correlation\n",
    "jan_rides.corr().sort_values('passenger_count')"
   ]
  },
  {
   "cell_type": "markdown",
   "id": "4e552cf6-b853-45af-a31a-3dd6471804ea",
   "metadata": {},
   "source": [
    "## Exercise 31 - Tourist spending per country"
   ]
  },
  {
   "cell_type": "code",
   "execution_count": 331,
   "id": "ed1f42cb-9ed6-4612-a1a3-7fa610cf28ca",
   "metadata": {},
   "outputs": [
    {
     "data": {
      "text/html": [
       "<div>\n",
       "<style scoped>\n",
       "    .dataframe tbody tr th:only-of-type {\n",
       "        vertical-align: middle;\n",
       "    }\n",
       "\n",
       "    .dataframe tbody tr th {\n",
       "        vertical-align: top;\n",
       "    }\n",
       "\n",
       "    .dataframe thead th {\n",
       "        text-align: right;\n",
       "    }\n",
       "</style>\n",
       "<table border=\"1\" class=\"dataframe\">\n",
       "  <thead>\n",
       "    <tr style=\"text-align: right;\">\n",
       "      <th></th>\n",
       "      <th>LOCATION</th>\n",
       "      <th>SUBJECT</th>\n",
       "      <th>TIME</th>\n",
       "      <th>Value</th>\n",
       "    </tr>\n",
       "  </thead>\n",
       "  <tbody>\n",
       "    <tr>\n",
       "      <th>0</th>\n",
       "      <td>AUS</td>\n",
       "      <td>INT_REC</td>\n",
       "      <td>2008</td>\n",
       "      <td>31,159.80</td>\n",
       "    </tr>\n",
       "    <tr>\n",
       "      <th>1</th>\n",
       "      <td>AUS</td>\n",
       "      <td>INT_REC</td>\n",
       "      <td>2009</td>\n",
       "      <td>29,980.70</td>\n",
       "    </tr>\n",
       "    <tr>\n",
       "      <th>2</th>\n",
       "      <td>AUS</td>\n",
       "      <td>INT_REC</td>\n",
       "      <td>2010</td>\n",
       "      <td>35,165.50</td>\n",
       "    </tr>\n",
       "    <tr>\n",
       "      <th>3</th>\n",
       "      <td>AUS</td>\n",
       "      <td>INT_REC</td>\n",
       "      <td>2011</td>\n",
       "      <td>38,710.10</td>\n",
       "    </tr>\n",
       "    <tr>\n",
       "      <th>4</th>\n",
       "      <td>AUS</td>\n",
       "      <td>INT_REC</td>\n",
       "      <td>2012</td>\n",
       "      <td>38,003.70</td>\n",
       "    </tr>\n",
       "    <tr>\n",
       "      <th>...</th>\n",
       "      <td>...</td>\n",
       "      <td>...</td>\n",
       "      <td>...</td>\n",
       "      <td>...</td>\n",
       "    </tr>\n",
       "    <tr>\n",
       "      <th>1229</th>\n",
       "      <td>SRB</td>\n",
       "      <td>INT-EXP</td>\n",
       "      <td>2015</td>\n",
       "      <td>1,253.64</td>\n",
       "    </tr>\n",
       "    <tr>\n",
       "      <th>1230</th>\n",
       "      <td>SRB</td>\n",
       "      <td>INT-EXP</td>\n",
       "      <td>2016</td>\n",
       "      <td>1,351.10</td>\n",
       "    </tr>\n",
       "    <tr>\n",
       "      <th>1231</th>\n",
       "      <td>SRB</td>\n",
       "      <td>INT-EXP</td>\n",
       "      <td>2017</td>\n",
       "      <td>1,549.18</td>\n",
       "    </tr>\n",
       "    <tr>\n",
       "      <th>1232</th>\n",
       "      <td>SRB</td>\n",
       "      <td>INT-EXP</td>\n",
       "      <td>2018</td>\n",
       "      <td>1,837.32</td>\n",
       "    </tr>\n",
       "    <tr>\n",
       "      <th>1233</th>\n",
       "      <td>SRB</td>\n",
       "      <td>INT-EXP</td>\n",
       "      <td>2019</td>\n",
       "      <td>1,999.31</td>\n",
       "    </tr>\n",
       "  </tbody>\n",
       "</table>\n",
       "<p>1234 rows × 4 columns</p>\n",
       "</div>"
      ],
      "text/plain": [
       "     LOCATION  SUBJECT  TIME     Value\n",
       "0         AUS  INT_REC  2008 31,159.80\n",
       "1         AUS  INT_REC  2009 29,980.70\n",
       "2         AUS  INT_REC  2010 35,165.50\n",
       "3         AUS  INT_REC  2011 38,710.10\n",
       "4         AUS  INT_REC  2012 38,003.70\n",
       "...       ...      ...   ...       ...\n",
       "1229      SRB  INT-EXP  2015  1,253.64\n",
       "1230      SRB  INT-EXP  2016  1,351.10\n",
       "1231      SRB  INT-EXP  2017  1,549.18\n",
       "1232      SRB  INT-EXP  2018  1,837.32\n",
       "1233      SRB  INT-EXP  2019  1,999.31\n",
       "\n",
       "[1234 rows x 4 columns]"
      ]
     },
     "execution_count": 331,
     "metadata": {},
     "output_type": "execute_result"
    }
   ],
   "source": [
    "# load in CSV, specify columns\n",
    "tourism = pd.read_csv(root_path + 'oecd_tourism.csv',\n",
    "                      usecols='LOCATION SUBJECT TIME Value'.split())\n",
    "tourism"
   ]
  },
  {
   "cell_type": "code",
   "execution_count": 332,
   "id": "466bde51-9dc0-4073-84fa-abe4c2e6e066",
   "metadata": {},
   "outputs": [
    {
     "data": {
      "text/plain": [
       "LOCATION\n",
       "USA   201,613.50\n",
       "ESP    69,655.82\n",
       "FRA    65,063.34\n",
       "DEU    53,408.57\n",
       "GBR    51,752.09\n",
       "Name: Value, dtype: float64"
      ]
     },
     "execution_count": 332,
     "metadata": {},
     "output_type": "execute_result"
    }
   ],
   "source": [
    "# 5 countries receiving most tourism dollars, on average, across years in dataset\n",
    "tourism[tourism['SUBJECT'] == 'INT_REC'].groupby('LOCATION')['Value'].mean().sort_values(ascending=False).head()"
   ]
  },
  {
   "cell_type": "code",
   "execution_count": 333,
   "id": "3df1b227-c030-4eee-99aa-a4ed8c4fc965",
   "metadata": {},
   "outputs": [
    {
     "data": {
      "text/plain": [
       "LOCATION\n",
       "MLT     387.80\n",
       "CRI     867.07\n",
       "LVA     919.55\n",
       "ISL   1,072.82\n",
       "HRV   1,115.63\n",
       "Name: Value, dtype: float64"
      ]
     },
     "execution_count": 333,
     "metadata": {},
     "output_type": "execute_result"
    }
   ],
   "source": [
    "# 5 countries whose citizens spent the least amount of tourist dollars, on average, across years\n",
    "tourism[tourism['SUBJECT'] == 'INT-EXP'].groupby('LOCATION')['Value'].mean().sort_values(ascending=True).head()"
   ]
  },
  {
   "cell_type": "code",
   "execution_count": 334,
   "id": "b46e7f7e-f959-426f-8710-121354c2bbb4",
   "metadata": {},
   "outputs": [
    {
     "data": {
      "text/html": [
       "<div>\n",
       "<style scoped>\n",
       "    .dataframe tbody tr th:only-of-type {\n",
       "        vertical-align: middle;\n",
       "    }\n",
       "\n",
       "    .dataframe tbody tr th {\n",
       "        vertical-align: top;\n",
       "    }\n",
       "\n",
       "    .dataframe thead th {\n",
       "        text-align: right;\n",
       "    }\n",
       "</style>\n",
       "<table border=\"1\" class=\"dataframe\">\n",
       "  <thead>\n",
       "    <tr style=\"text-align: right;\">\n",
       "      <th></th>\n",
       "      <th>full</th>\n",
       "    </tr>\n",
       "    <tr>\n",
       "      <th>abbreviated</th>\n",
       "      <th></th>\n",
       "    </tr>\n",
       "  </thead>\n",
       "  <tbody>\n",
       "    <tr>\n",
       "      <th>AUS</th>\n",
       "      <td>Australia</td>\n",
       "    </tr>\n",
       "    <tr>\n",
       "      <th>AUT</th>\n",
       "      <td>Austria</td>\n",
       "    </tr>\n",
       "    <tr>\n",
       "      <th>BEL</th>\n",
       "      <td>Belgium</td>\n",
       "    </tr>\n",
       "    <tr>\n",
       "      <th>CAN</th>\n",
       "      <td>Canada</td>\n",
       "    </tr>\n",
       "    <tr>\n",
       "      <th>DNK</th>\n",
       "      <td>Denmark</td>\n",
       "    </tr>\n",
       "  </tbody>\n",
       "</table>\n",
       "</div>"
      ],
      "text/plain": [
       "                  full\n",
       "abbreviated           \n",
       "AUS          Australia\n",
       "AUT            Austria\n",
       "BEL            Belgium\n",
       "CAN             Canada\n",
       "DNK            Denmark"
      ]
     },
     "execution_count": 334,
     "metadata": {},
     "output_type": "execute_result"
    }
   ],
   "source": [
    "# load in oecd_locations, using abbreviated location name as index\n",
    "locations = pd.read_csv(root_path + 'oecd_locations.csv',\n",
    "                       names=['abbreviated', 'full'],\n",
    "                       index_col='abbreviated')\n",
    "locations.head()"
   ]
  },
  {
   "cell_type": "code",
   "execution_count": 335,
   "id": "9801dc7b-5363-4ccc-940c-aff574136607",
   "metadata": {},
   "outputs": [
    {
     "data": {
      "text/html": [
       "<div>\n",
       "<style scoped>\n",
       "    .dataframe tbody tr th:only-of-type {\n",
       "        vertical-align: middle;\n",
       "    }\n",
       "\n",
       "    .dataframe tbody tr th {\n",
       "        vertical-align: top;\n",
       "    }\n",
       "\n",
       "    .dataframe thead th {\n",
       "        text-align: right;\n",
       "    }\n",
       "</style>\n",
       "<table border=\"1\" class=\"dataframe\">\n",
       "  <thead>\n",
       "    <tr style=\"text-align: right;\">\n",
       "      <th></th>\n",
       "      <th>SUBJECT</th>\n",
       "      <th>TIME</th>\n",
       "      <th>Value</th>\n",
       "      <th>full</th>\n",
       "    </tr>\n",
       "    <tr>\n",
       "      <th>LOCATION</th>\n",
       "      <th></th>\n",
       "      <th></th>\n",
       "      <th></th>\n",
       "      <th></th>\n",
       "    </tr>\n",
       "  </thead>\n",
       "  <tbody>\n",
       "    <tr>\n",
       "      <th>AUS</th>\n",
       "      <td>INT_REC</td>\n",
       "      <td>2008</td>\n",
       "      <td>31,159.80</td>\n",
       "      <td>Australia</td>\n",
       "    </tr>\n",
       "    <tr>\n",
       "      <th>AUS</th>\n",
       "      <td>INT_REC</td>\n",
       "      <td>2009</td>\n",
       "      <td>29,980.70</td>\n",
       "      <td>Australia</td>\n",
       "    </tr>\n",
       "    <tr>\n",
       "      <th>AUS</th>\n",
       "      <td>INT_REC</td>\n",
       "      <td>2010</td>\n",
       "      <td>35,165.50</td>\n",
       "      <td>Australia</td>\n",
       "    </tr>\n",
       "    <tr>\n",
       "      <th>AUS</th>\n",
       "      <td>INT_REC</td>\n",
       "      <td>2011</td>\n",
       "      <td>38,710.10</td>\n",
       "      <td>Australia</td>\n",
       "    </tr>\n",
       "    <tr>\n",
       "      <th>AUS</th>\n",
       "      <td>INT_REC</td>\n",
       "      <td>2012</td>\n",
       "      <td>38,003.70</td>\n",
       "      <td>Australia</td>\n",
       "    </tr>\n",
       "  </tbody>\n",
       "</table>\n",
       "</div>"
      ],
      "text/plain": [
       "          SUBJECT  TIME     Value       full\n",
       "LOCATION                                    \n",
       "AUS       INT_REC  2008 31,159.80  Australia\n",
       "AUS       INT_REC  2009 29,980.70  Australia\n",
       "AUS       INT_REC  2010 35,165.50  Australia\n",
       "AUS       INT_REC  2011 38,710.10  Australia\n",
       "AUS       INT_REC  2012 38,003.70  Australia"
      ]
     },
     "execution_count": 335,
     "metadata": {},
     "output_type": "execute_result"
    }
   ],
   "source": [
    "# join both dataframes, without a 'LOCATION' column but a 'name' column with full name of country\n",
    "\n",
    "# set LOCATION as index\n",
    "tourism = tourism.set_index('LOCATION')\n",
    "\n",
    "# join together\n",
    "tourism_name = tourism.join(locations)\n",
    "tourism_name.head()"
   ]
  },
  {
   "cell_type": "code",
   "execution_count": 336,
   "id": "851d3076-c9d5-48fe-92ed-f35caa1e3897",
   "metadata": {},
   "outputs": [],
   "source": [
    "# finalize by dropping index and renaming country column\n",
    "tourism_name.reset_index(inplace=True, drop=True)\n",
    "tourism_name = tourism_name.rename(columns={'full': 'name'})"
   ]
  },
  {
   "cell_type": "code",
   "execution_count": 337,
   "id": "47720e1b-b8aa-4019-8c04-215f476d16c5",
   "metadata": {},
   "outputs": [
    {
     "data": {
      "text/plain": [
       "name\n",
       "United States    201,613.50\n",
       "France            65,063.34\n",
       "Germany           53,408.57\n",
       "United Kingdom    51,752.09\n",
       "Italy             44,930.21\n",
       "Name: Value, dtype: float64"
      ]
     },
     "execution_count": 337,
     "metadata": {},
     "output_type": "execute_result"
    }
   ],
   "source": [
    "# rerun queries from steps 2 and 3, returning full country name rather than abbreviation\n",
    "\n",
    "# 5 countries receiving most tourism dollars, on average, across years in dataset\n",
    "tourism_name[tourism_name['SUBJECT'] == 'INT_REC'].groupby('name')['Value'].mean().sort_values(ascending=False).head()"
   ]
  },
  {
   "cell_type": "code",
   "execution_count": 338,
   "id": "665dc89d-62c6-485e-b2f2-4a3ab7e696ed",
   "metadata": {},
   "outputs": [
    {
     "data": {
      "text/plain": [
       "name\n",
       "Hungary    2,918.39\n",
       "Finland    5,877.08\n",
       "Israel     6,726.52\n",
       "Denmark   11,326.17\n",
       "Austria   11,934.56\n",
       "Name: Value, dtype: float64"
      ]
     },
     "execution_count": 338,
     "metadata": {},
     "output_type": "execute_result"
    }
   ],
   "source": [
    "# 5 countries whose citizens spent the least amount of tourist dollars, on average, across years\n",
    "tourism_name[tourism_name['SUBJECT'] == 'INT-EXP'].groupby('name')['Value'].mean().sort_values(ascending=True).head()"
   ]
  },
  {
   "cell_type": "code",
   "execution_count": 339,
   "id": "7bebddfb-e88d-4c38-a340-c9827680c775",
   "metadata": {},
   "outputs": [],
   "source": [
    "# output is not the same, as not every abbreviated country had a \"full name\" in the locations df\n",
    "# resulted in many null values for \"name\""
   ]
  },
  {
   "cell_type": "markdown",
   "id": "7ccc29a1-2141-4393-a5cf-0c36ca85dd35",
   "metadata": {},
   "source": [
    "### Exercise 31b"
   ]
  },
  {
   "cell_type": "code",
   "execution_count": 341,
   "id": "51f386e8-2390-4e85-8d5b-592e1852688e",
   "metadata": {},
   "outputs": [],
   "source": [
    "# join order does not matter"
   ]
  },
  {
   "cell_type": "code",
   "execution_count": 342,
   "id": "8afd29e0-1799-4abf-b644-4481f31151e8",
   "metadata": {},
   "outputs": [
    {
     "data": {
      "text/plain": [
       "TIME\n",
       "2008   16,841.15\n",
       "2009   15,081.29\n",
       "2010   16,003.94\n",
       "2011   17,788.74\n",
       "2012   18,216.11\n",
       "2013   19,296.54\n",
       "2014   20,198.82\n",
       "2015   19,301.87\n",
       "2016   19,574.94\n",
       "2017   20,763.39\n",
       "2018   22,436.34\n",
       "2019   23,005.94\n",
       "Name: Value, dtype: float64"
      ]
     },
     "execution_count": 342,
     "metadata": {},
     "output_type": "execute_result"
    }
   ],
   "source": [
    "# mean tourism income per year rather than country, inspect Great Recession starting in 2008\n",
    "tourism[tourism['SUBJECT'] == 'INT_REC'].groupby('TIME')['Value'].mean()"
   ]
  },
  {
   "cell_type": "code",
   "execution_count": 343,
   "id": "b62bcae5-743e-4613-9b0c-b4f8b01e632b",
   "metadata": {},
   "outputs": [],
   "source": [
    "# reset index on locations_df\n",
    "locations = locations.reset_index()"
   ]
  },
  {
   "cell_type": "code",
   "execution_count": 344,
   "id": "3c4192c4-4456-479b-98eb-598cadc609e0",
   "metadata": {},
   "outputs": [],
   "source": [
    "# rename columns to match\n",
    "locations = locations.rename(columns={'abbreviated': 'LOCATION', 'full': 'name'})"
   ]
  },
  {
   "cell_type": "code",
   "execution_count": 345,
   "id": "064992d8-00fc-41b2-ac07-9351d0d8a585",
   "metadata": {},
   "outputs": [
    {
     "data": {
      "text/html": [
       "<div>\n",
       "<style scoped>\n",
       "    .dataframe tbody tr th:only-of-type {\n",
       "        vertical-align: middle;\n",
       "    }\n",
       "\n",
       "    .dataframe tbody tr th {\n",
       "        vertical-align: top;\n",
       "    }\n",
       "\n",
       "    .dataframe thead th {\n",
       "        text-align: right;\n",
       "    }\n",
       "</style>\n",
       "<table border=\"1\" class=\"dataframe\">\n",
       "  <thead>\n",
       "    <tr style=\"text-align: right;\">\n",
       "      <th></th>\n",
       "      <th>name</th>\n",
       "      <th>SUBJECT</th>\n",
       "      <th>TIME</th>\n",
       "      <th>Value</th>\n",
       "    </tr>\n",
       "    <tr>\n",
       "      <th>LOCATION</th>\n",
       "      <th></th>\n",
       "      <th></th>\n",
       "      <th></th>\n",
       "      <th></th>\n",
       "    </tr>\n",
       "  </thead>\n",
       "  <tbody>\n",
       "    <tr>\n",
       "      <th>AUS</th>\n",
       "      <td>Australia</td>\n",
       "      <td>INT_REC</td>\n",
       "      <td>2008</td>\n",
       "      <td>31,159.80</td>\n",
       "    </tr>\n",
       "    <tr>\n",
       "      <th>AUS</th>\n",
       "      <td>Australia</td>\n",
       "      <td>INT_REC</td>\n",
       "      <td>2009</td>\n",
       "      <td>29,980.70</td>\n",
       "    </tr>\n",
       "    <tr>\n",
       "      <th>AUS</th>\n",
       "      <td>Australia</td>\n",
       "      <td>INT_REC</td>\n",
       "      <td>2010</td>\n",
       "      <td>35,165.50</td>\n",
       "    </tr>\n",
       "    <tr>\n",
       "      <th>AUS</th>\n",
       "      <td>Australia</td>\n",
       "      <td>INT_REC</td>\n",
       "      <td>2011</td>\n",
       "      <td>38,710.10</td>\n",
       "    </tr>\n",
       "    <tr>\n",
       "      <th>AUS</th>\n",
       "      <td>Australia</td>\n",
       "      <td>INT_REC</td>\n",
       "      <td>2012</td>\n",
       "      <td>38,003.70</td>\n",
       "    </tr>\n",
       "    <tr>\n",
       "      <th>...</th>\n",
       "      <td>...</td>\n",
       "      <td>...</td>\n",
       "      <td>...</td>\n",
       "      <td>...</td>\n",
       "    </tr>\n",
       "    <tr>\n",
       "      <th>ISR</th>\n",
       "      <td>Israel</td>\n",
       "      <td>INT-EXP</td>\n",
       "      <td>2015</td>\n",
       "      <td>7,507.00</td>\n",
       "    </tr>\n",
       "    <tr>\n",
       "      <th>ISR</th>\n",
       "      <td>Israel</td>\n",
       "      <td>INT-EXP</td>\n",
       "      <td>2016</td>\n",
       "      <td>8,210.30</td>\n",
       "    </tr>\n",
       "    <tr>\n",
       "      <th>ISR</th>\n",
       "      <td>Israel</td>\n",
       "      <td>INT-EXP</td>\n",
       "      <td>2017</td>\n",
       "      <td>8,986.00</td>\n",
       "    </tr>\n",
       "    <tr>\n",
       "      <th>ISR</th>\n",
       "      <td>Israel</td>\n",
       "      <td>INT-EXP</td>\n",
       "      <td>2018</td>\n",
       "      <td>9,974.70</td>\n",
       "    </tr>\n",
       "    <tr>\n",
       "      <th>ISR</th>\n",
       "      <td>Israel</td>\n",
       "      <td>INT-EXP</td>\n",
       "      <td>2019</td>\n",
       "      <td>10,389.50</td>\n",
       "    </tr>\n",
       "  </tbody>\n",
       "</table>\n",
       "<p>364 rows × 4 columns</p>\n",
       "</div>"
      ],
      "text/plain": [
       "               name  SUBJECT  TIME     Value\n",
       "LOCATION                                    \n",
       "AUS       Australia  INT_REC  2008 31,159.80\n",
       "AUS       Australia  INT_REC  2009 29,980.70\n",
       "AUS       Australia  INT_REC  2010 35,165.50\n",
       "AUS       Australia  INT_REC  2011 38,710.10\n",
       "AUS       Australia  INT_REC  2012 38,003.70\n",
       "...             ...      ...   ...       ...\n",
       "ISR          Israel  INT-EXP  2015  7,507.00\n",
       "ISR          Israel  INT-EXP  2016  8,210.30\n",
       "ISR          Israel  INT-EXP  2017  8,986.00\n",
       "ISR          Israel  INT-EXP  2018  9,974.70\n",
       "ISR          Israel  INT-EXP  2019 10,389.50\n",
       "\n",
       "[364 rows x 4 columns]"
      ]
     },
     "execution_count": 345,
     "metadata": {},
     "output_type": "execute_result"
    }
   ],
   "source": [
    "# run the join, specify location column to be used on the caller instead of index (argument df will always join on index)\n",
    "locations.join(tourism, on='LOCATION').set_index('LOCATION')"
   ]
  },
  {
   "cell_type": "markdown",
   "id": "692006d1-da00-41d1-a4de-d7b59a152015",
   "metadata": {},
   "source": [
    "## Chapter 6 Notes\n",
    "- When using join method, argument df always joins on index, even when specifying a different joining criteria for initial df (on='col_name')\n",
    "- sort_values(ignore_index=True) resets the index after sorting"
   ]
  }
 ],
 "metadata": {
  "kernelspec": {
   "display_name": "Python 3 (ipykernel)",
   "language": "python",
   "name": "python3"
  },
  "language_info": {
   "codemirror_mode": {
    "name": "ipython",
    "version": 3
   },
   "file_extension": ".py",
   "mimetype": "text/x-python",
   "name": "python",
   "nbconvert_exporter": "python",
   "pygments_lexer": "ipython3",
   "version": "3.11.7"
  }
 },
 "nbformat": 4,
 "nbformat_minor": 5
}
